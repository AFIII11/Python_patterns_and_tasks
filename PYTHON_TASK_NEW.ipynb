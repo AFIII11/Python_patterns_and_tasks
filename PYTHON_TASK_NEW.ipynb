{
  "nbformat": 4,
  "nbformat_minor": 0,
  "metadata": {
    "colab": {
      "provenance": [],
      "authorship_tag": "ABX9TyPqfM+5uWePr8WBwbcdWtLn",
      "include_colab_link": true
    },
    "kernelspec": {
      "name": "python3",
      "display_name": "Python 3"
    },
    "language_info": {
      "name": "python"
    }
  },
  "cells": [
    {
      "cell_type": "markdown",
      "metadata": {
        "id": "view-in-github",
        "colab_type": "text"
      },
      "source": [
        "<a href=\"https://colab.research.google.com/github/AFIII11/Python_patterns_and_tasks/blob/main/PYTHON_TASK_NEW.ipynb\" target=\"_parent\"><img src=\"https://colab.research.google.com/assets/colab-badge.svg\" alt=\"Open In Colab\"/></a>"
      ]
    },
    {
      "cell_type": "code",
      "execution_count": null,
      "metadata": {
        "id": "VwLVEVyEOS_Z"
      },
      "outputs": [],
      "source": [
        "Write a program that makes the user guess a particular number between 1 and 100. Save the number to be guessed in a variable called magic_number.\n",
        "If the user guesses a number higher than the secret number, you should say Too high!. Similarly, you should say Too low! if they guess a number lower than the secret number. Once they guess the number, say Correct!\n",
        "Expected Output:#Write a Python program to create a set."
      ]
    },
    {
      "cell_type": "code",
      "source": [
        "s1={\"burger\",\"pizza\",\"broasted\",\"shawarma\",\"alfahm\"}"
      ],
      "metadata": {
        "id": "lRRpUqIlQRbv"
      },
      "execution_count": null,
      "outputs": []
    },
    {
      "cell_type": "code",
      "source": [
        "s1"
      ],
      "metadata": {
        "colab": {
          "base_uri": "https://localhost:8080/"
        },
        "id": "aD5LYD81QmcV",
        "outputId": "d98aca5f-ee19-4a1d-caa5-ef454bb330da"
      },
      "execution_count": null,
      "outputs": [
        {
          "output_type": "execute_result",
          "data": {
            "text/plain": [
              "{'alfahm', 'broasted', 'burger', 'pizza', 'shawarma'}"
            ]
          },
          "metadata": {},
          "execution_count": 2
        }
      ]
    },
    {
      "cell_type": "code",
      "source": [
        "#Write a Python program to remove item(s) from a given set.\n",
        "\n"
      ],
      "metadata": {
        "id": "r186ZeGYQnHk"
      },
      "execution_count": null,
      "outputs": []
    },
    {
      "cell_type": "code",
      "source": [
        "s1.remove(\"shawarma\")"
      ],
      "metadata": {
        "id": "1GuAKopYTKKC"
      },
      "execution_count": null,
      "outputs": []
    },
    {
      "cell_type": "code",
      "source": [
        "s1"
      ],
      "metadata": {
        "colab": {
          "base_uri": "https://localhost:8080/"
        },
        "id": "R4Lf4Mo6TRM4",
        "outputId": "01614392-a332-47f2-bbbd-bb8131daaa04"
      },
      "execution_count": null,
      "outputs": [
        {
          "output_type": "execute_result",
          "data": {
            "text/plain": [
              "{'alfahm', 'broasted', 'burger', 'donut', 'pizza'}"
            ]
          },
          "metadata": {},
          "execution_count": 10
        }
      ]
    },
    {
      "cell_type": "code",
      "source": [
        "#Write a Python program to add member(s) in a set."
      ],
      "metadata": {
        "id": "tX1rssBgRUJr"
      },
      "execution_count": null,
      "outputs": []
    },
    {
      "cell_type": "code",
      "source": [
        "s1.add(\"donut\")"
      ],
      "metadata": {
        "id": "vQ4MCLZKSUPM"
      },
      "execution_count": null,
      "outputs": []
    },
    {
      "cell_type": "code",
      "source": [
        "s1"
      ],
      "metadata": {
        "colab": {
          "base_uri": "https://localhost:8080/"
        },
        "id": "0HgTBciyS6cp",
        "outputId": "c11a57c3-2036-4167-9b0b-dd35c5df5b30"
      },
      "execution_count": null,
      "outputs": [
        {
          "output_type": "execute_result",
          "data": {
            "text/plain": [
              "{'alfahm', 'broasted', 'burger', 'donut', 'pizza'}"
            ]
          },
          "metadata": {},
          "execution_count": 12
        }
      ]
    },
    {
      "cell_type": "code",
      "source": [
        "#Write a Python program to create an intersection, union, set difference, symmetric difference of sets."
      ],
      "metadata": {
        "id": "8QkjcjP6S7UW"
      },
      "execution_count": null,
      "outputs": []
    },
    {
      "cell_type": "code",
      "source": [
        "s1={\"burger\",\"pizza\",\"broasted\",\"shawarma\",\"alfahm\"}"
      ],
      "metadata": {
        "id": "p1DfVSTXTisj"
      },
      "execution_count": null,
      "outputs": []
    },
    {
      "cell_type": "code",
      "source": [
        "s2={\"shawaya\",\"barbeque\",\"tacos\",\"momos\",\"alfahm\"}"
      ],
      "metadata": {
        "id": "Np-iGZE4TqO1"
      },
      "execution_count": null,
      "outputs": []
    },
    {
      "cell_type": "code",
      "source": [
        "s3=s1.intersection(s2)"
      ],
      "metadata": {
        "id": "0F6GrVVlUEtX"
      },
      "execution_count": null,
      "outputs": []
    },
    {
      "cell_type": "code",
      "source": [
        "s3"
      ],
      "metadata": {
        "colab": {
          "base_uri": "https://localhost:8080/"
        },
        "id": "UAQrC6snUcT7",
        "outputId": "188ec881-b68c-42c2-a022-c0b942570fc6"
      },
      "execution_count": null,
      "outputs": [
        {
          "output_type": "execute_result",
          "data": {
            "text/plain": [
              "{'alfahm'}"
            ]
          },
          "metadata": {},
          "execution_count": 16
        }
      ]
    },
    {
      "cell_type": "code",
      "source": [
        "s3=s1.union(s2)"
      ],
      "metadata": {
        "id": "M42v4-AgUdcN"
      },
      "execution_count": null,
      "outputs": []
    },
    {
      "cell_type": "code",
      "source": [
        "s3"
      ],
      "metadata": {
        "colab": {
          "base_uri": "https://localhost:8080/"
        },
        "id": "IFT6Tf5jUjnD",
        "outputId": "e7d5eb0d-6fca-448a-a344-0eb2b23b0ca6"
      },
      "execution_count": null,
      "outputs": [
        {
          "output_type": "execute_result",
          "data": {
            "text/plain": [
              "{'alfahm',\n",
              " 'barbeque',\n",
              " 'broasted',\n",
              " 'burger',\n",
              " 'momos',\n",
              " 'pizza',\n",
              " 'shawarma',\n",
              " 'shawaya',\n",
              " 'tacos'}"
            ]
          },
          "metadata": {},
          "execution_count": 18
        }
      ]
    },
    {
      "cell_type": "code",
      "source": [
        "s3=s1.difference(s2)"
      ],
      "metadata": {
        "id": "If_Y38qlUkg7"
      },
      "execution_count": null,
      "outputs": []
    },
    {
      "cell_type": "code",
      "source": [
        "s3"
      ],
      "metadata": {
        "colab": {
          "base_uri": "https://localhost:8080/"
        },
        "id": "PFrtvSrhUsBY",
        "outputId": "e14256e2-feea-4c5c-fde2-9908fa36c7f3"
      },
      "execution_count": null,
      "outputs": [
        {
          "output_type": "execute_result",
          "data": {
            "text/plain": [
              "{'broasted', 'burger', 'pizza', 'shawarma'}"
            ]
          },
          "metadata": {},
          "execution_count": 20
        }
      ]
    },
    {
      "cell_type": "code",
      "source": [
        "s3=s1.symmetric_difference(s2)"
      ],
      "metadata": {
        "id": "F7-j0KsxUs_k"
      },
      "execution_count": null,
      "outputs": []
    },
    {
      "cell_type": "code",
      "source": [
        "s3"
      ],
      "metadata": {
        "colab": {
          "base_uri": "https://localhost:8080/"
        },
        "id": "mPIf1KWjUzI7",
        "outputId": "3ba230ba-fe76-48f3-beb1-8259de24d17b"
      },
      "execution_count": null,
      "outputs": [
        {
          "output_type": "execute_result",
          "data": {
            "text/plain": [
              "{'barbeque',\n",
              " 'broasted',\n",
              " 'burger',\n",
              " 'momos',\n",
              " 'pizza',\n",
              " 'shawarma',\n",
              " 'shawaya',\n",
              " 'tacos'}"
            ]
          },
          "metadata": {},
          "execution_count": 22
        }
      ]
    },
    {
      "cell_type": "code",
      "source": [
        "#Write a Python program to create a shallow copy of sets."
      ],
      "metadata": {
        "id": "Ma9U9k5UUz8Z"
      },
      "execution_count": null,
      "outputs": []
    },
    {
      "cell_type": "code",
      "source": [
        "s1={1,2}\n",
        "s2={3,4}\n",
        "s1=s2.copy()"
      ],
      "metadata": {
        "id": "2qNem98aVK3-"
      },
      "execution_count": null,
      "outputs": []
    },
    {
      "cell_type": "code",
      "source": [
        "s1"
      ],
      "metadata": {
        "colab": {
          "base_uri": "https://localhost:8080/"
        },
        "id": "h2HWvn89VoaB",
        "outputId": "dc54165b-eb92-44ab-9d1f-a73062aeaf0c"
      },
      "execution_count": null,
      "outputs": [
        {
          "output_type": "execute_result",
          "data": {
            "text/plain": [
              "{3, 4}"
            ]
          },
          "metadata": {},
          "execution_count": 26
        }
      ]
    },
    {
      "cell_type": "code",
      "source": [
        "#Write a Python program to remove all elements from a given set.\n"
      ],
      "metadata": {
        "id": "6e57GQ0JV6_7"
      },
      "execution_count": null,
      "outputs": []
    },
    {
      "cell_type": "code",
      "source": [
        "x={\"afnan\",\"ashif\",\"abhinand\",\"rahul\"}"
      ],
      "metadata": {
        "id": "koiYriwuWlbK"
      },
      "execution_count": null,
      "outputs": []
    },
    {
      "cell_type": "code",
      "source": [
        "x.clear()"
      ],
      "metadata": {
        "id": "PwGnz403Wv-g"
      },
      "execution_count": null,
      "outputs": []
    },
    {
      "cell_type": "code",
      "source": [
        "x"
      ],
      "metadata": {
        "colab": {
          "base_uri": "https://localhost:8080/"
        },
        "id": "myyovxrGW2c7",
        "outputId": "bfd06636-b346-4d90-e8c4-64e995387c22"
      },
      "execution_count": null,
      "outputs": [
        {
          "output_type": "execute_result",
          "data": {
            "text/plain": [
              "set()"
            ]
          },
          "metadata": {},
          "execution_count": 49
        }
      ]
    },
    {
      "cell_type": "code",
      "source": [
        "#Write a Python program to find the length of a set."
      ],
      "metadata": {
        "id": "NaYNbvVcXApM"
      },
      "execution_count": null,
      "outputs": []
    },
    {
      "cell_type": "code",
      "source": [
        "len(x)"
      ],
      "metadata": {
        "colab": {
          "base_uri": "https://localhost:8080/"
        },
        "id": "TJGjh_DXXLw2",
        "outputId": "529b9e42-3a56-4376-ca62-7d9154f7d37a"
      },
      "execution_count": null,
      "outputs": [
        {
          "output_type": "execute_result",
          "data": {
            "text/plain": [
              "3"
            ]
          },
          "metadata": {},
          "execution_count": 33
        }
      ]
    },
    {
      "cell_type": "code",
      "source": [
        "#Write a Python program to check if a set is a subset of another set."
      ],
      "metadata": {
        "id": "t8QXuZTaXQkd"
      },
      "execution_count": null,
      "outputs": []
    },
    {
      "cell_type": "code",
      "source": [
        "x1={1,2,3,4,5}\n",
        "x2={2,3}"
      ],
      "metadata": {
        "id": "60p65ucwXc22"
      },
      "execution_count": null,
      "outputs": []
    },
    {
      "cell_type": "code",
      "source": [
        "z=x2.issubset(x1)"
      ],
      "metadata": {
        "id": "4IC3OQGJXpI-"
      },
      "execution_count": null,
      "outputs": []
    },
    {
      "cell_type": "code",
      "source": [
        "z"
      ],
      "metadata": {
        "colab": {
          "base_uri": "https://localhost:8080/"
        },
        "id": "kHEfdfyRYNCW",
        "outputId": "515f379c-145b-4a75-884e-f6b08fa0b7f2"
      },
      "execution_count": null,
      "outputs": [
        {
          "output_type": "execute_result",
          "data": {
            "text/plain": [
              "True"
            ]
          },
          "metadata": {},
          "execution_count": 41
        }
      ]
    },
    {
      "cell_type": "code",
      "source": [
        "#Python Program to Add a Key-Value Pair to the Dictionary"
      ],
      "metadata": {
        "id": "7E3GWU9JYPP9"
      },
      "execution_count": null,
      "outputs": []
    },
    {
      "cell_type": "code",
      "source": [
        "X={\"name\":\"afnan\",\"age\":21,\"class\":12}"
      ],
      "metadata": {
        "id": "O1Dhp60pYopF"
      },
      "execution_count": null,
      "outputs": []
    },
    {
      "cell_type": "code",
      "source": [
        "X[\"passion\"]=\"football\""
      ],
      "metadata": {
        "id": "V3-KrgfNZLkq"
      },
      "execution_count": null,
      "outputs": []
    },
    {
      "cell_type": "code",
      "source": [
        "X"
      ],
      "metadata": {
        "colab": {
          "base_uri": "https://localhost:8080/"
        },
        "id": "K8THIwaMaEPZ",
        "outputId": "b64d4dff-f5b7-40ac-c533-19a5095ebdf5"
      },
      "execution_count": null,
      "outputs": [
        {
          "output_type": "execute_result",
          "data": {
            "text/plain": [
              "{'name': 'afnan', 'age': 21, 'class': 12, 'passion': 'football'}"
            ]
          },
          "metadata": {},
          "execution_count": 46
        }
      ]
    },
    {
      "cell_type": "code",
      "source": [
        "#Write a Python program to iteration over sets."
      ],
      "metadata": {
        "id": "CUFeNGSqabN-"
      },
      "execution_count": null,
      "outputs": []
    },
    {
      "cell_type": "code",
      "source": [
        "x={1,2,3,4,5,6}\n",
        "for i in x:\n",
        " print(i)"
      ],
      "metadata": {
        "colab": {
          "base_uri": "https://localhost:8080/"
        },
        "id": "S-yrkWoSa4iJ",
        "outputId": "80c3c18e-0084-459f-a730-ef00fe4e6103"
      },
      "execution_count": null,
      "outputs": [
        {
          "output_type": "stream",
          "name": "stdout",
          "text": [
            "1\n",
            "2\n",
            "3\n",
            "4\n",
            "5\n",
            "6\n"
          ]
        }
      ]
    },
    {
      "cell_type": "code",
      "source": [
        "#Write a Python script to add a key to a dictionary."
      ],
      "metadata": {
        "id": "bTzkQwXEbOb0"
      },
      "execution_count": null,
      "outputs": []
    },
    {
      "cell_type": "code",
      "source": [
        "X={\"name\":\"afnan\",\"age\":21,\"class\":12}"
      ],
      "metadata": {
        "id": "KVMtzJOodG1X"
      },
      "execution_count": null,
      "outputs": []
    },
    {
      "cell_type": "code",
      "source": [
        "X[\"passion\"]=\"\""
      ],
      "metadata": {
        "id": "l98DfsQtdZqm"
      },
      "execution_count": null,
      "outputs": []
    },
    {
      "cell_type": "code",
      "source": [
        "X"
      ],
      "metadata": {
        "colab": {
          "base_uri": "https://localhost:8080/"
        },
        "id": "gL7o6kesdia0",
        "outputId": "88649298-0cf5-4ed3-b22d-1b38f9a4f9e6"
      },
      "execution_count": null,
      "outputs": [
        {
          "output_type": "execute_result",
          "data": {
            "text/plain": [
              "{'name': 'afnan', 'age': 21, 'class': 12, 'passion': ''}"
            ]
          },
          "metadata": {},
          "execution_count": 59
        }
      ]
    },
    {
      "cell_type": "code",
      "source": [
        "#Python Program to Remove the Given Key from a Dictionary"
      ],
      "metadata": {
        "id": "wJLFepW_dpt3"
      },
      "execution_count": null,
      "outputs": []
    },
    {
      "cell_type": "code",
      "source": [
        "del X[\"passion\"]"
      ],
      "metadata": {
        "id": "zxU9mfvKd4XC"
      },
      "execution_count": null,
      "outputs": []
    },
    {
      "cell_type": "code",
      "source": [
        "X"
      ],
      "metadata": {
        "colab": {
          "base_uri": "https://localhost:8080/"
        },
        "id": "G8BmXYuTeCe-",
        "outputId": "79143b16-c132-4e8e-f9c8-7488513c8969"
      },
      "execution_count": null,
      "outputs": [
        {
          "output_type": "execute_result",
          "data": {
            "text/plain": [
              "{'name': 'afnan', 'age': 21, 'class': 12}"
            ]
          },
          "metadata": {},
          "execution_count": 65
        }
      ]
    },
    {
      "cell_type": "code",
      "source": [
        "#Write a Python program to check if two given sets have no elements in common."
      ],
      "metadata": {
        "id": "wYISYs1eeXxs"
      },
      "execution_count": null,
      "outputs": []
    },
    {
      "cell_type": "code",
      "source": [
        "x={1,2,3,4,5,6}\n",
        "y={3,4,5,6,7,8}\n",
        "for i in x:\n",
        "  if (i in y):\n",
        "    print(i)\n"
      ],
      "metadata": {
        "colab": {
          "base_uri": "https://localhost:8080/"
        },
        "id": "MNvjELhPedWn",
        "outputId": "efbcfc81-f1a3-442d-e6b7-396c2c100575"
      },
      "execution_count": null,
      "outputs": [
        {
          "output_type": "stream",
          "name": "stdout",
          "text": [
            "3\n",
            "4\n",
            "5\n",
            "6\n"
          ]
        }
      ]
    },
    {
      "cell_type": "code",
      "source": [
        "#Python Program to Sum All the Items in a Dictionary"
      ],
      "metadata": {
        "id": "1pjzQ6hOl-EO"
      },
      "execution_count": null,
      "outputs": []
    },
    {
      "cell_type": "code",
      "source": [
        "X4={\"age\":21,\"class\":12}\n"
      ],
      "metadata": {
        "id": "-88aujTxo2lf"
      },
      "execution_count": null,
      "outputs": []
    },
    {
      "cell_type": "code",
      "source": [
        "print(sum(X4.values()))"
      ],
      "metadata": {
        "colab": {
          "base_uri": "https://localhost:8080/"
        },
        "id": "2t7naPJTrsFV",
        "outputId": "1dc2fb97-6288-42f0-9a16-2a574906c95f"
      },
      "execution_count": null,
      "outputs": [
        {
          "output_type": "stream",
          "name": "stdout",
          "text": [
            "33\n"
          ]
        }
      ]
    },
    {
      "cell_type": "code",
      "source": [
        "#Python Program to Multiply All the Items in a Dictionary"
      ],
      "metadata": {
        "id": "lIPw2CvVspZt"
      },
      "execution_count": null,
      "outputs": []
    },
    {
      "cell_type": "code",
      "source": [
        "X4={\"age\":21,\"class\":12}\n"
      ],
      "metadata": {
        "id": "JwBI0FhvtUtj"
      },
      "execution_count": null,
      "outputs": []
    },
    {
      "cell_type": "code",
      "source": [
        "mul=1\n",
        "X4={\"age\":52,\"class\":44}\n",
        "for i in X4:\n",
        "  mul=mul*X4[i]\n",
        "print(mul)\n",
        "\n"
      ],
      "metadata": {
        "colab": {
          "base_uri": "https://localhost:8080/"
        },
        "id": "S_JS85hhtXYW",
        "outputId": "1d83d734-d75e-4815-e7c2-b52888b9b3fa"
      },
      "execution_count": null,
      "outputs": [
        {
          "output_type": "stream",
          "name": "stdout",
          "text": [
            "2288\n"
          ]
        }
      ]
    },
    {
      "cell_type": "code",
      "source": [
        "#Write a program to find Greatest among three numbers?"
      ],
      "metadata": {
        "id": "X8TAmA7LNZ71"
      },
      "execution_count": null,
      "outputs": []
    },
    {
      "cell_type": "code",
      "source": [
        "n1=int(input(\"enter a number\"))\n",
        "n2=int(input(\"enter the second number\"))\n",
        "n3=int(input(\"enter the third number\"))\n",
        "if(n1>n2 and n1>n3):\n",
        " print(n1, \"is greater\")\n",
        "elif(n2>n1 and n2>n3):\n",
        " print(n2, \"is greater\")\n",
        "else:\n",
        " print(n3, \"is greater\")\n"
      ],
      "metadata": {
        "colab": {
          "base_uri": "https://localhost:8080/"
        },
        "id": "IUNsbF-8Pbvq",
        "outputId": "08be1a40-2e92-401f-ae39-aa2d2cb58433"
      },
      "execution_count": null,
      "outputs": [
        {
          "output_type": "stream",
          "name": "stdout",
          "text": [
            "enter a number1\n",
            "enter the second number4\n",
            "enter the third number8\n",
            "8 is greater\n"
          ]
        }
      ]
    },
    {
      "cell_type": "code",
      "source": [
        "#Write a program to print first 10 numbers?\n",
        "for i in range (0,11):\n",
        "\n",
        "  print(i)"
      ],
      "metadata": {
        "colab": {
          "base_uri": "https://localhost:8080/"
        },
        "id": "dUPygd_yQ3um",
        "outputId": "9ce47dbe-b55d-4083-f3db-a3495f5dd2e3"
      },
      "execution_count": null,
      "outputs": [
        {
          "output_type": "stream",
          "name": "stdout",
          "text": [
            "0\n",
            "1\n",
            "2\n",
            "3\n",
            "4\n",
            "5\n",
            "6\n",
            "7\n",
            "8\n",
            "9\n",
            "10\n"
          ]
        }
      ]
    },
    {
      "cell_type": "code",
      "source": [
        "n1=int(input(\"enter a number\"))\n",
        "n2=int(input(\"enter the second number\"))\n",
        "n3=int(input(\"enter the third number\"))\n",
        "if(n1<n2 and n1<n3):\n",
        " print(n1, \"is smaller\")\n",
        "elif(n2<n1 and n2<n3):\n",
        " print(n2, \"is smaller\")\n",
        "else:\n",
        " print(n3, \"is smaller\")"
      ],
      "metadata": {
        "colab": {
          "base_uri": "https://localhost:8080/"
        },
        "id": "6KffKa2fTMVz",
        "outputId": "5c9e148a-e9f5-4b6d-fb29-94b38ef102eb"
      },
      "execution_count": null,
      "outputs": [
        {
          "output_type": "stream",
          "name": "stdout",
          "text": [
            "enter a number1\n",
            "enter the second number4\n",
            "enter the third number5\n",
            "1 is smaller\n"
          ]
        }
      ]
    },
    {
      "cell_type": "code",
      "source": [
        "#Write a program to print even Numbers from 1-50\n",
        "for i in range(0,51,2):\n",
        "  print(i)"
      ],
      "metadata": {
        "colab": {
          "base_uri": "https://localhost:8080/"
        },
        "id": "5SO5027qTr_6",
        "outputId": "c982f1c7-d561-4a3e-8656-46565169c78b"
      },
      "execution_count": null,
      "outputs": [
        {
          "output_type": "stream",
          "name": "stdout",
          "text": [
            "0\n",
            "2\n",
            "4\n",
            "6\n",
            "8\n",
            "10\n",
            "12\n",
            "14\n",
            "16\n",
            "18\n",
            "20\n",
            "22\n",
            "24\n",
            "26\n",
            "28\n",
            "30\n",
            "32\n",
            "34\n",
            "36\n",
            "38\n",
            "40\n",
            "42\n",
            "44\n",
            "46\n",
            "48\n",
            "50\n"
          ]
        }
      ]
    },
    {
      "cell_type": "code",
      "source": [
        "#Write a program to print odd Numbers from 1-50\n",
        "for i in range(1,51,2):\n",
        "  print(i)"
      ],
      "metadata": {
        "colab": {
          "base_uri": "https://localhost:8080/"
        },
        "id": "kzwJ0XTIU88H",
        "outputId": "8184f758-3935-43ea-c558-bd8b259c1d4f"
      },
      "execution_count": null,
      "outputs": [
        {
          "output_type": "stream",
          "name": "stdout",
          "text": [
            "1\n",
            "3\n",
            "5\n",
            "7\n",
            "9\n",
            "11\n",
            "13\n",
            "15\n",
            "17\n",
            "19\n",
            "21\n",
            "23\n",
            "25\n",
            "27\n",
            "29\n",
            "31\n",
            "33\n",
            "35\n",
            "37\n",
            "39\n",
            "41\n",
            "43\n",
            "45\n",
            "47\n",
            "49\n"
          ]
        }
      ]
    },
    {
      "cell_type": "code",
      "source": [
        "#Write a program in Python to display the Factorial of a number.\n"
      ],
      "metadata": {
        "id": "c5wnPa3ZJesE"
      },
      "execution_count": null,
      "outputs": []
    },
    {
      "cell_type": "code",
      "source": [
        "num=int(input(\"enter a number\"))\n",
        "f=1\n",
        "if num < 0:\n",
        "  print(\"not a factorial number\")\n",
        "elif num==0:\n",
        "  print(\"the factorial is 1\")\n",
        "else:\n",
        " for i in range(1,num + 1):\n",
        "  f = f*i\n",
        "print(\"The factorial of\",num,\"is\",f)"
      ],
      "metadata": {
        "colab": {
          "base_uri": "https://localhost:8080/"
        },
        "id": "Dm8CLPswUEws",
        "outputId": "405231db-27c6-4112-b26e-2fe2a355570b"
      },
      "execution_count": null,
      "outputs": [
        {
          "output_type": "stream",
          "name": "stdout",
          "text": [
            "enter a number5\n",
            "The factorial of 5 is 120\n"
          ]
        }
      ]
    },
    {
      "cell_type": "code",
      "source": [
        "#Write a program to print anay of elements ?\n",
        "l=[1,2,3,4,5]\n",
        "for i in l:\n",
        " print(i)\n"
      ],
      "metadata": {
        "colab": {
          "base_uri": "https://localhost:8080/"
        },
        "id": "Xk3xueUxUfeK",
        "outputId": "1f4d5d6b-b223-4333-d215-7865f5deba54"
      },
      "execution_count": null,
      "outputs": [
        {
          "output_type": "stream",
          "name": "stdout",
          "text": [
            "1\n",
            "2\n",
            "3\n",
            "4\n",
            "5\n"
          ]
        }
      ]
    },
    {
      "cell_type": "code",
      "source": [
        "#write a program to find sum of two arrays\n",
        "l1=[1,2,3,4]\n",
        "l2=[2,3,4]\n",
        "l3=l1+l2"
      ],
      "metadata": {
        "id": "XX4aOC06fwT7"
      },
      "execution_count": null,
      "outputs": []
    },
    {
      "cell_type": "code",
      "source": [
        "l3"
      ],
      "metadata": {
        "colab": {
          "base_uri": "https://localhost:8080/"
        },
        "id": "hEiy7kKCgP3Y",
        "outputId": "ebfef4a4-8d57-4554-c8b9-22f0e819b26e"
      },
      "execution_count": null,
      "outputs": [
        {
          "output_type": "execute_result",
          "data": {
            "text/plain": [
              "[1, 2, 3, 4, 2, 3, 4]"
            ]
          },
          "metadata": {},
          "execution_count": 10
        }
      ]
    },
    {
      "cell_type": "code",
      "source": [
        "#write a program to find character of given integer\n",
        "num=int(input(\"enter an integer\"))\n",
        "char=chr(num)\n",
        "print(f\"the character for the integer{num}is {char}\")"
      ],
      "metadata": {
        "colab": {
          "base_uri": "https://localhost:8080/"
        },
        "id": "yXlWZyLxgdLO",
        "outputId": "47c1b360-fbd1-4b69-bd82-17458cd47e0e"
      },
      "execution_count": null,
      "outputs": [
        {
          "output_type": "stream",
          "name": "stdout",
          "text": [
            "enter an integer49\n",
            "the character for the integer49is 1\n"
          ]
        }
      ]
    },
    {
      "cell_type": "code",
      "source": [
        "#sum of even numbers using array\n",
        "s=0\n",
        "l=[1,2,3,4,5,6,7]\n",
        "for i in l:\n",
        "  if(i%2==0):\n",
        "    s=s+i\n",
        "print(s)"
      ],
      "metadata": {
        "colab": {
          "base_uri": "https://localhost:8080/"
        },
        "id": "dpjhFaQUhN49",
        "outputId": "54b4690d-705d-4f87-dbe2-2c1e85e0e088"
      },
      "execution_count": null,
      "outputs": [
        {
          "output_type": "stream",
          "name": "stdout",
          "text": [
            "12\n"
          ]
        }
      ]
    },
    {
      "cell_type": "code",
      "source": [
        "#write a python program to reverse a word\n"
      ],
      "metadata": {
        "id": "5TIAQMR_h4N5"
      },
      "execution_count": null,
      "outputs": []
    },
    {
      "cell_type": "code",
      "source": [
        "s=\"afnan\"\n",
        "len(s)\n",
        "for i in range(4,-1,-1):\n",
        "  print (s[i])\n"
      ],
      "metadata": {
        "colab": {
          "base_uri": "https://localhost:8080/"
        },
        "id": "_CMnq50Qsrbn",
        "outputId": "d37e9935-6d8d-4b27-f329-8ccf7f8ee590"
      },
      "execution_count": null,
      "outputs": [
        {
          "output_type": "stream",
          "name": "stdout",
          "text": [
            "n\n",
            "a\n",
            "n\n",
            "f\n",
            "a\n"
          ]
        }
      ]
    },
    {
      "cell_type": "code",
      "source": [
        "txt=(input(\"enter a string\"))\n",
        "n= txt[::-1]\n",
        "print(n)"
      ],
      "metadata": {
        "colab": {
          "base_uri": "https://localhost:8080/"
        },
        "id": "zI0kkv6TtFj0",
        "outputId": "28e36c51-43bd-48de-bd23-339b7f25f825"
      },
      "execution_count": null,
      "outputs": [
        {
          "output_type": "stream",
          "name": "stdout",
          "text": [
            "enter a stringafnan\n",
            "nanfa\n"
          ]
        }
      ]
    },
    {
      "cell_type": "code",
      "source": [
        "#Write a program that appends the type of elements from a list.\n",
        "li=[1,\"afnan\",-1,3.13]\n",
        "a=[]\n",
        "for i in li:\n",
        "  a.append(type(i))\n",
        "print(a)"
      ],
      "metadata": {
        "id": "-FGj4jagu99n",
        "colab": {
          "base_uri": "https://localhost:8080/"
        },
        "outputId": "63efd821-dbf8-4201-84f4-e8359028167a"
      },
      "execution_count": null,
      "outputs": [
        {
          "output_type": "stream",
          "name": "stdout",
          "text": [
            "[<class 'int'>, <class 'str'>, <class 'int'>, <class 'float'>]\n"
          ]
        }
      ]
    },
    {
      "cell_type": "code",
      "source": [
        "#Write a program to print n natural number in descending order using a while loop\n",
        "num=int(input(\"enter a number\"))\n",
        "while num!=0:\n",
        "  print(num)\n",
        "  num=num-1"
      ],
      "metadata": {
        "colab": {
          "base_uri": "https://localhost:8080/"
        },
        "id": "t5JnoMb4Dmub",
        "outputId": "fd00c59d-9902-45a4-c1e0-09accf5a609f"
      },
      "execution_count": null,
      "outputs": [
        {
          "output_type": "stream",
          "name": "stdout",
          "text": [
            "enter a number10\n",
            "10\n",
            "9\n",
            "8\n",
            "7\n",
            "6\n",
            "5\n",
            "4\n",
            "3\n",
            "2\n",
            "1\n"
          ]
        }
      ]
    },
    {
      "cell_type": "code",
      "source": [
        "#Write a program to display the first 7 multiples of 7.\n",
        "n=1\n",
        "for i in range(1,8):\n",
        "  print(7*n)\n",
        "  n=n+1"
      ],
      "metadata": {
        "colab": {
          "base_uri": "https://localhost:8080/"
        },
        "id": "ilNAqDr9ECq_",
        "outputId": "031216f4-39af-41bf-d4db-4147ce5e5b2e"
      },
      "execution_count": null,
      "outputs": [
        {
          "output_type": "stream",
          "name": "stdout",
          "text": [
            "7\n",
            "14\n",
            "21\n",
            "28\n",
            "35\n",
            "42\n",
            "49\n"
          ]
        }
      ]
    },
    {
      "cell_type": "code",
      "source": [
        "#Write a program that the square of each to a new list.\n",
        "l=[1,2,3,4]\n",
        "a=[]\n",
        "for i in l:\n",
        "  s=i*i\n",
        "  a.append(s)\n",
        "print(a)"
      ],
      "metadata": {
        "colab": {
          "base_uri": "https://localhost:8080/"
        },
        "id": "FcBc6mvwFfTv",
        "outputId": "8a4668fb-d5d9-4918-b5f8-e940218fdeb7"
      },
      "execution_count": null,
      "outputs": [
        {
          "output_type": "stream",
          "name": "stdout",
          "text": [
            "[1, 4, 9, 16]\n"
          ]
        }
      ]
    },
    {
      "cell_type": "code",
      "source": [
        "#Write a program that appends the square of each numbers to a new list.\n",
        "li=[]\n",
        "a=int(input(\"enter how many numbers\"))\n",
        "for i in range (0,a):\n",
        "  b=int(input(\"enter a number\"))\n",
        "  c=b**2\n",
        "  li.append(c)\n",
        "print(li)\n",
        "\n",
        "\n",
        "\n"
      ],
      "metadata": {
        "colab": {
          "base_uri": "https://localhost:8080/"
        },
        "id": "OjySJIf5IN_t",
        "outputId": "f92dd25d-2637-49e2-ee11-40b7158a8049"
      },
      "execution_count": null,
      "outputs": [
        {
          "output_type": "stream",
          "name": "stdout",
          "text": [
            "enter how many numbers3\n",
            "enter a number1\n",
            "enter a number2\n",
            "enter a number3\n",
            "[1, 4, 9]\n"
          ]
        }
      ]
    },
    {
      "cell_type": "code",
      "source": [
        "#Write a program to filter even and odd number from a list.\n",
        "n=[]\n",
        "m=[]\n",
        "li=[1,2,3,4,5,6,7,8]\n",
        "l=len(li)\n",
        "for i in li:\n",
        "  if(i%2==0):\n",
        "    m.append(i)\n",
        "  elif(i!=0):\n",
        "    n.append(i)\n",
        "print(n,\"are odd numbers\")\n",
        "print(m,\"are even numbers\")"
      ],
      "metadata": {
        "colab": {
          "base_uri": "https://localhost:8080/"
        },
        "id": "RIt9qHCfJciP",
        "outputId": "a6e82e18-9e09-4f11-fef7-0b3a3daa7330"
      },
      "execution_count": null,
      "outputs": [
        {
          "output_type": "stream",
          "name": "stdout",
          "text": [
            "[1, 3, 5, 7] are odd numbers\n",
            "[2, 4, 6, 8] are even numbers\n"
          ]
        }
      ]
    },
    {
      "cell_type": "markdown",
      "source": [
        "\n",
        "Write a program that makes the user guess a particular number between 1 and 100. Save the number to be guessed in a variable called magic_number.\n",
        "If the user guesses a number higher than the secret number, you should say Too high!. Similarly, you should say Too low! if they guess a number lower than the secret number. Once they guess the number, say Correct!\n"
      ],
      "metadata": {
        "id": "3eT-eLnNSC0I"
      }
    },
    {
      "cell_type": "code",
      "source": [
        "secret_number=45\n",
        "count=0\n",
        "while (count==0):\n",
        "  magic_number=int(input(\"enter the number 1-100\"))\n",
        "  if(secret_number==magic_number):\n",
        "    print(\"correct\")\n",
        "    count=1\n",
        "  elif(secret_number<magic_number):\n",
        "    print(\"too high\")\n",
        "  elif(secret_number>magic_number):\n",
        "    print(\"too low\")\n",
        "  else:\n",
        "    print(\"invalid\")"
      ],
      "metadata": {
        "colab": {
          "base_uri": "https://localhost:8080/"
        },
        "id": "3aU67YpqVHYQ",
        "outputId": "145a0de5-a3a0-4952-bce2-a8a765aee831"
      },
      "execution_count": null,
      "outputs": [
        {
          "output_type": "stream",
          "name": "stdout",
          "text": [
            "enter the number 1-10043\n",
            "too low\n",
            "enter the number 1-10055\n",
            "too high\n",
            "enter the number 1-10045\n",
            "correct\n"
          ]
        }
      ]
    },
    {
      "cell_type": "code",
      "source": [
        "secret_number=45\n",
        "count=0\n",
        "while (count==0):\n",
        "  magic_number=int(input(\"enter the number 1-100\"))\n",
        "  if(secret_number==magic_number):\n",
        "    print(\"correct\")\n",
        "    count=1\n",
        "  else:\n",
        "    print(\"wrong\")"
      ],
      "metadata": {
        "colab": {
          "base_uri": "https://localhost:8080/"
        },
        "id": "lZzsCDFTVajw",
        "outputId": "d2e3e6a0-179d-49b4-8228-2354702e698a"
      },
      "execution_count": null,
      "outputs": [
        {
          "output_type": "stream",
          "name": "stdout",
          "text": [
            "enter the number 1-10050\n",
            "wrong\n",
            "enter the number 1-10045\n",
            "correct\n"
          ]
        }
      ]
    },
    {
      "cell_type": "code",
      "source": [
        "def cal(a,b):\n",
        "  add=a+b\n",
        "  sub=a-b\n",
        "  mul=a*b\n",
        "  return(add,sub,mul)\n",
        "  cal(20,5)"
      ],
      "metadata": {
        "id": "g-W6WJOPXNxf"
      },
      "execution_count": null,
      "outputs": []
    },
    {
      "cell_type": "code",
      "source": [
        "x=cal(20,5)"
      ],
      "metadata": {
        "id": "jJw0XkVeafHy"
      },
      "execution_count": null,
      "outputs": []
    },
    {
      "cell_type": "code",
      "source": [
        "x\n"
      ],
      "metadata": {
        "id": "VeUZmE2Ualqw",
        "outputId": "528dc641-f27a-4e4c-bae3-c8d427371e34",
        "colab": {
          "base_uri": "https://localhost:8080/"
        }
      },
      "execution_count": null,
      "outputs": [
        {
          "output_type": "execute_result",
          "data": {
            "text/plain": [
              "(25, 15, 100)"
            ]
          },
          "metadata": {},
          "execution_count": 32
        }
      ]
    },
    {
      "cell_type": "code",
      "source": [],
      "metadata": {
        "id": "mucgEUhnLtnD"
      },
      "execution_count": null,
      "outputs": []
    },
    {
      "cell_type": "code",
      "source": [],
      "metadata": {
        "id": "01dPx_OtMApY"
      },
      "execution_count": null,
      "outputs": []
    },
    {
      "cell_type": "markdown",
      "source": [
        "![image.png](data:image/png;base64,iVBORw0KGgoAAAANSUhEUgAAAnwAAAIKCAIAAAA29AXdAAAgAElEQVR4nOw9d2DVRdIz+15eek+AEHqvSlNUEKVbsACCBbvYve/kRM9Tz+7Ze+8dKzbsiEFFQEVAejN0SEjvr+58f+zO7r4QFLyg3t2bO+Hx3q/szk6f2VncsWMHxCAGMYhBDGIQg/0P4o8eQAxiEIMYxCAG/yvgVX9t2rTpjx1HDGIQgxjEIAb/9eA1n46+4iYiAAQEMB80IBKR+icBICIQqe8BAPWX6jv9O18KQPorIlIXQ9Rf+lXuI+2z9b3OeBEQkIjMA80IESD6GzMOZzBRjwGSZP7NzwD18EZoMqMCAhSN8KNuBpKEAoEcVCAqdAIiY4Oi56Oxx2NSiNKXNJomESBGD03NWv1mnq1vBkBAgSAJzHLwM1EgLxYAoEA9IzLzaYQuNQxGKUlCREACMouFKJCi38XrCiiAIjwrZPwYTJLFfxTyiUCjDQ22iQnDxQAoSkFEAtJYIL5Lj9yhAX2/RoIkFCAlIDoDcF6BiPxRsQBKkgLRIfTGS6momS/QCyg0zp2RRCGZEAUBIaAmS+TVJAKHfVBo+nOxD+ZCy4waVZIIAYRHEOmRoJ47uSM1Y9KsQQSkVs+Mknj5HTQyqhXa9XVklp8p1BAWqf+hnh0A0wxjiq9XFCUjxEIiasHVZEkzFiEgAbOkWS2+Sy2ouhgBCQmkMx4jgIBcVCABiCgRYaiQiN9IJIQgIMURliqZfjWlqQFIAGTyJoslRALUi65IWOOdiEiRDcsBRrCSEhotZNcIEUgatlJINCzGd0URKbiUw4O0BIqIJI0A0mRjlkuJDALJy8evVmuiaA8NQjWpOVLGYYQmRCMAkJT6IoFAu10jhB6eEkZaJIFdNb2szoqgkojEQV7iPxiZWmi4RGuVIrCY0ayiVoOFv9D6ShCSYmgkLX0UijTOnfCypQZAVxkAAJGmZzLUpOmUhT4vrRqYBJJgqELREI8f7UcgBBS7qUszFveDEU8ELENdFaSEBPM5c6ZzgX2gIxrUBBCEsHgwytQVqXZ4AgAQBQp1p6IpJX9YReinGPZC1h8OyWhsOrNTAp01I7gmCk8lWsQjIoCURpTqSYM2jwxDaqzp8QomEQAhBJrFQTMqAAQQ4L6fLG1ao4SNhKiBIWtWK1VdqnfVP7DUR60G3AlHz9IuAJov0a6MonWSRtEAoCMfhVkSMCuipAkQoUcpMkSPQARUlKBISSAKxczMX6SmL3iFwZ28QbWULjmj+dLaV4rchL3Emk9AIAAFr4tmKEICgajmQgBEEpkLGMuMU4hiYWG0l4NArcKFMh2EszaaitXXdtrqRWQRa1aRKReVlrBWlCJxKV0hS1oJKfVAlu15PEyBiAJdjClaM5/VXHmpmUIkGcNAkyUTvNExkiTIKDrTWkGSvsUwnnq4QPMKcsQuryMa7lPj4kVRM2XjwghT50+HcNDQrZSakgGjrlGaGA0DSbIiCVF4jAKxroArUNl6U1gUVkejlVTSCHLH8iA1IEVFCJLFjVpoJUKV8LQyxPAfqmUURq6wRmtEZ4i73ahpgkAIEEII9gcEWi2j0MUYJfMnP0Qzr+EI4kGi1joOHbv2GQAIY16axzdaM/aAzOCFEYhsi0RpNGQSUo9nIEkOGUTdEyVCHDluuMnRkXp9WdIZI4YdCHsxEqPKErEjScHIa+dB/K3zlSOGtRltLrXmpJlW1Aj4AWhw61xkPjdWKka2NOIlJbuQ9YB5Aph15fkgaNIGJho0NEtKcLAsNb4JUSPjhBhjmnPMC5U1qriExaZjSFilqBjH/kqsKQnAsQdczDhLrkZqb9dWLBGrYnZnFfWidW74ASzmHZOTyYaY0bXpLTweNSNtLxvuMTciCEUCyA4Ns4mxFJVdBgYriOZXIgJJHClAsM6E4dRGZrjmZ1ITdmgYXPoiACDFDkKgZQpDeIxeZaQimOE7RAxGcwCRNv4BWVI7TEhA6DE3G2JXkhb1wBDY30Jle4FWFWRXTSq5ylaVsISkfAjjixtC1ppS8aHxSkBjmABIEkk23ohARVwIhNASkgyZAYBSP9pgIrTTRFYJ2hBS4QojAg0dAnsGjAFD0m4Yg9kOlYumg0D6LqHeYrW4ersWMcQcHcUUrqGkF1YYl0NYBOpF9mhJgLw0hp2VBamI3dG2Vmu5fKu8WyGEXkqXldDeZWwiFdoi9julJDVOMmRslJAQGqsaB0Z1kMa1lNpHZ9FHym5gN5dIKuNDo8Ygzc5UkqFwo6sMgyojOFrBsNHfiCWZtOz1vJTMKVqekDY3jeiwsgXtGrmKWY+JAAQaOier9aP5Xy2dMAsmlWQC5jLHw0MHr3YAaHgLDGXYUUDjfxvy4HC0niewNFcspOU68rVs/PJaN7YUXCmGhjKUiI9iNjNwZLEI/H90JhKlbBAIKeoteo3IqG1GDmhhYaiHVw6iIrRaXIEeDH/iSRrlbm0lI41JUwx7u8rCVKQC6OH1MihgHc+Lz6E5q+x2UwauoaCukry4USZKlOmgEYsW/eYbc4FmG7BYarR+xuoE7YJgo7ewT6wHDwja8ySpHCNXFbGZYASHRYXjCIL7ge1vG0wQit8EOiTBqCSy89Jahb0xrRjJGTm7StFodH05xzlx5QUhKhsetOAiq5/AEIexHiAaaTw5khKZalmICKXzUJjFxcbMxVoQ0URdKZpQwAgvXhiOzGvmY9VlY/vRY3NQovS/EAK1e4SGGXj1NIaZWQA4neQ8lxBBeDTpCoHCgyzHUXgEelgyCZeVdPzA0alk50jAr+VJmSwP04MmFUBAEB5EYYnDIMzofn6FY6MTIKLHI1gqAUg2T/VLrJpXVpoTjtXjJCKp/UsENG4SGWFspgkKh5b8zBOsMGc5YQwpK+vU0zRTqUwcml8Nk1j9Z3SdEDrYJtwMIPK41MidMQCLU1SmodWlqNU4WG9QRWu1C2eUjcMLVqRq8QeAqJgL2V9GNTAj2Nlo0yY0IoD26UFoQmRJ44gdYXEcxSigLH9gvlDhDyR9mQDhKF2rjdAKP8X9TEj6LUbO8gj4X+QQiMkTGGms4+zsggAKYVjFiiRD61HMa36KHi1yHiVKBDnLYZaPRQ2BQ39s2LBOsRSisn36H1oIMmE1Jk0XDcaaBkfcAoCwhoW92CCQdatRlWwPohUWLH3Ne8k1QAyfay0PHCYCJydn8ea8Xd+lMOkG0yB6fvwoRbKuTtIIVGNWjEVqudGwjX2GY2HofB4vIrlKnN0VpgejrTU1qtySpRshlOZiNDqmmFWH/E8zZTUGx1IBcjhQCDNQNhyFMINHFbdFK/H4XXaNUCfSeNXJ+B/abVKMpsQaWqrWkW1+ipbrNgyszREtebTUhijC1DMlVoeaSAgR0IM6fG0tR/MeFlmohT5jR5Oonb4RvFp5sYGi7uFVJCYk5egr38dVwsRKCS0SXVJR4pK1pTYkbAbUzo5fqOwV/RLHuDBhBmD5S0RCCCMspLpZGhIlIkBhUkloyEYLFYMQZzqG9TVfCoMsPeCIJGTE2hXjHK3Bn7WJ0aFVbTUa+Y8sp+2yAOukaNK0RCWEWUsdphYegSgIdG5FXQmkgw/a4wfD6+wXGvw7r9eS0klvG7xpEhYiSv1HrOS0IVR2/RmvSATCI/ilfBlw8oKvY4a12pRpQkW42DgDJlHWTwrtRmgAz9EhbHAXwhA6IoEkYHKy/hRn4gF1CAEIUAgVULGFVLoQRqslTfRo7U2eDLCnwjNHMqE8u/L6n6w2jDnIKEICIsm2ZJQ9pO8lct4MFqdGUjCCyD5ZKw9j3QFg1AdLakwrSI09dzBc7HxvtYH5wVEoKKzhx0yLRGS+BkOI1NQDkVWUfb4tgpAERtQTGIIxRUb8ZARrgFj0kTsrh0Nwd7Q4QFHXg6PsiSSHmtRPUpo6GptTMBpOCJf9tFmmSFdK7b6ocKkSwOBQF2MUgK1E9dnkt3gUuqbJtQl0qD+qDI3MRVJahcqSnQAwiq5MpoJlvbYzHKIiIJBR1SVGk7koYv2EOthm6IbFHJEKxZkCB7uOduaWobWukhE9cLJEFbWECjfaggTW7qrWBomVq0GUrtmx85OMTKNWzZIQGynuKrCboNCsiYEsMRgykJLQzs+Sh7AkTOxe6NC3ldNamZnKMgQArhZUN9lF0QMQSFqUcyQAFV4QjHmAgIhSSqsVsNGK89qZVTB0RVr9WCfSIMGQpX611d3AhobGj476GvmrZb5iLk3trIk1yemLQY3ZJRCWYI7rI4TRbFbQCARJuhYJkSISOICvZZqx5pQjaIUHswzZgDZpzx0AkCRJFVpn2tCokKDMRwSUUroCSi8g6Rg+CmHYyrK/LnUEs0ZGqZDOiFsFxhM3QUuzmmxfs+2OTtYUGOeK8dmCFEKLCNDsB0x9SpoRMxQhCEVYQq+PJRs1NNnY01UfrC7klWfJrqobAOwQFQ+ANhxczcEGgtLg5h5+jWUmdZlmUrI0b/50xUkjDcHkrpWnJKkZyXmZzaWpxJKr7TReKPqp/Luxd4TFmvpbJV3YDGF0OZEQYA50zG0wwjDqK07eUNQPRKSKZ6wS5JCI5kjk69D8hS6nsYRilaPYSRgd7tiCUpUJSrusqO1Y/aelV/dOxj+7Zcwb+uU6S8Q2I7A6JSm1VHICANoBMt6XXSU0HKlFsRanRMT5Gn60wjbZIh0H0ahlq84jGuSTdO0RqyERlYtlBg/asDAUjKbyWy+Ryk+h4FyUOwFEMraOmQKQkuWIupLLHS46M7XuDhO1spoBAYWt7zPEpq0KZ88BgCmFVR6hNYkNwYFVGLqcBKMMfC1i9KwV6qyoN9h32IRIRjR1mS+BFxOMbtaDJY9XmNdZTmde5sgz6wM1BF4Ai1xj6jsI1UJfWCOJ6x7UMIS9ngWqmbs7JGVXqMiHkb1aBDWWIU7NOVgzG13PiQsADZsLYcel9KsqlSeDJcWtZoLKAmPdzxF1INK2COPXYSvUyR21lMoPMzUHjodpgvDIZQKG0zWuWDjwaCHK8rBLQizYFQlLUnkBU+SoH2pr63QwwzzNBDBYlzK/68u0L4YsB6wJSoTsYaOxSJToIGOHuPIYOHzNSNe8ze8Wdrl1QYKaAJFgFgEuFGcy40wHEu5etctPMBYGGYSh1cdomAwZp8CYZZnCmOLURrRRy5SIdoXchSJjv3OGEhyqsVIAWAhxXlb96KoONQwOOtrJCoEgGblsuzuYZ2lricmIZjD1pWZYbBDpIRsOZAVppu8SAzMxI96ZEjIBWdp1PmgDyFq3XBrEqDcI0BTpSpMo6WBFOI/PiS5YmWKIQKFJ2KeZlTDo0tTvFA2RlGCEiF4HAkPZTHXax9VaXrMYMQ1GLYxgzGoS0kauqx3BWRSDJi2zUVG/xZl9uLM21m5DK2JcE4qkNpWMOrQVT+6ItU/DktN9IzEKTQUCyxDkLUaGcHhgBMAZcYN8Y52aeAHH/w3dWP9AaSA0g0E2fZgXXHJCZ6HVNK3zZ7gYtUHmhHDJVTgmkQQArEXU9C0DACKhlCRJAmjRpAnDfTuQLqFF4HQ8otA6VXstpEwr4dIhKENE8vSBiEBZ6ASqdgxQG0xmnga52vdQLCAEF7DznIxwQJPhALbtLPWyO0VaIoElUUJE9LjGTbR4RF58MyIbSuVIpirW5S0hmo+I5bg03EQEXP/srLtSWcYaIKnwrMhDM5WOGUjS2lGVmhApy8BShUNXjnrQXMEhfSZ+gfaC6OkbK0SjjS1mYGGuUY2GiVgUm4cAsLPB7oFjGaDLjIb+HUXA3gzbAeqzVHgymSaWWwIJgVBZ/Op3w9oGMwLdLUOug8li2ug/U6Gp6Yl1pCvS2OA3yCc7JjCukkG//Q2d+y0IU1Hm0L99iHFStdELRkZEiUVrAFMUQhm97qh2c0nZdLD6MYoqLA+Y1TPLzTrGkKu1AwCAq2iBSEqre8BillCgMVN5arrIIioSYrjR8Yl19o/UfI0iJVNhEUXkrpwEdpL512ia1HRt0KJRxMWQTDwsLNCIPC0ZQQeT0X0xS2wzT7b8ALUtaUwHMMkeKyh4he0ygWuTGclotYpSSDxCozLtViurjwlspBrNbnXkNebbyQTZqLHdzFIWrG5mAjZJWZWGIw6RKrOCIsou4edEJNkcpGZLbSFrnnT2AYOy87SAMQ/RDGUYHdl2RD0LjStHerIhxZ4KS3nGo0YoMYcJK8lUBhyFqtx21o2IhH2yNYzUY4QQynczPKZpQ3venExnWxW1BaF3yhIn45X3ZwxF/UHYwhmtlUzkE3hjrhJKTpbdlrMixyoBVIjaSHy9FMZOMiyAWpEDWBNfxySsMkAAtWvH7sczH8AZraI9IpKSy6A19bPRYIxXu9xWwBmdyl9ItUNdKzZ+opV3bBXqtxLwSuolBl5YgkaVSlaxIgskjXBJPAuDJdTkYkjOmRuBUxRBIKW0VozxMxttOFQ6y5G5msyMGaUFrdEm+kXGaFYgEDwelQbncBQIUNSCBIDSSi5NNGq51TsR2boSlt4BneYYZvFMxAxcOkE0uk2vXLR+i9Ic9qH8nxYCRrxqT86ZsjU6olS583xW7uCgD1xx5rxUf0ATnVf2Blqy1mvt5nSNrHGETpQKZ3GpNaUZBtlJqhEhWwBoVRkKRN5K6mhoRCnJwa4puQR0p8kGkFH4Ss9aWuexOYSl5QV6UMv0KAaEqBUza611F3Nu1Cwd+8DGDTjy5Eh2/UlqbkGh6JtVA9nbUfOyXgn9Cva8jFwXHiEjKvVENsUrDO8abW2MU4sDFl76a2178lBVWSZx3Y3wcG8KldNSUkty/I5fbnUhixKwMiqKhJCdOXfvLg/DELNmDZP+QSAQhjgtddgvyH0HkKrmkMQVUsCWEGpeY01tJDowdq0uVV9K05LFWlGGCJjvVe5Ky0d7r1HnypQgZ+cVMN0SU58V/UwORvsqW87s9WDFb1SzsYpUeljh0MgHY5UiOuagMa2UjmVjF10TjaKMTkshrFCN7CYwTzBBSzCGiXqUM0Fy6FA9yWQHkO0Xu55EQEgo9dVkanzQuEOWnRz0ARFx2ROYIYF5l4kdWdXLzSXYXOBZM/Oo5Y6YuAs5YoRte2NoRulpMOtMnOwy8RM0spR3GAKALr9XVpl0pLLpZKIlgjUkWPqx4nZmp+fBZTVG0ysQKuHKDgPoyLPjklqSAxQIEdSbfoSesEChjGCz4ir1wbO27KrjCYBcQESupwugd+ixTtZLZGUMm1tA5MS4rUzQosAadIDu6BnPDo4MYewZ0Hm7MmpJi5NoLe0gy1wfRaPMY/oyIwjsDfw6vVTkGIV65ADMP/x6Nlj55awtAIj3JpJS/pI4gKOpnnGkvANTEwgW5WSHBcBbdc23xBdrerJ0ajfpO1IjSiY41wILWOS1Q+dXjoAYvcqPUFNhG86KDstv/Bqz7sa0j1LmjABQIUEXrVpnI/fAMrpTO6O6Y42ZlOmuAEy89tVRg1GqyLhZKsMlPIKILW61n08rascAAZ1AhSh5bWxTtXiaGlw0GoFugvNqXWxzGG7fw6tr1RggqOQeLxPxcjjLSU55Ef8iPKi31hBEETM6LIzOsrJ5pUx+HXI0u6SEYVmt41S80dAaB6d0uNEQKBltafStNkAd8jJD05uKoiI6Cns6T2QSKyzNuNlL9DYeVV4EttoWjHZh03Z3MOXMRp6iQOFRMlqPDQDQdotjA5vtFQMutRkcgVo9IhZNZMehuFWzAqp6XTVaIuLULwK5W0iJEITgvWEYRReIWg9KGV3Bpx00NPWbTjGHsVj1X0IIvcp6B5Q13dhgQyAAtWEamewVCjzsgaLzZK5OQuZ6E47QrIbCFGBqthJs0zK1GQvG8Yo4NMiBAbtdi2yMgYWAax6ypidrsKFlC711RfcA0Trf1Syg0htSSXsjSflGJS+IuPsIoPV0Aaz3g05WEuza2FJfVg7ARKRLc5nRTIRR2ZimhFJ9jY5+ZK1tzCf1UF3sYMPx5FK5461aDWGUqPMBHdY1j5IkLUs0wXpGQCMYFtb130YKKltUEwRPmrvG2GAyxxWNb2UUJKsBZCtMFYvaMWgWdFQHk5pZb/7WuUSod2n+tBYUskXgiF1Aa+8b/KgFj0IOAqiaDF5xZDWrBugarcBUZGKlYMRc1DpZNa0Qi4xydmTZStWmPBDHYDgSQJvff2v3xYvB/zJ0P+10HcmUOl5ijAIUSBHt7mimRrB6Q3CEwxEvSrfxBXYvghDIHUoMSyDolBAQ14Grn4h79mgPhIBAav+BmmBtI7WkJCGE1CVbwBJVs60RXNZOQwAWd4q30OS5jQ5RzzDbl8EIfS2d0QQPQM9ERqQQIqLSQoYZQUl7lKZ4RT9cDZYAHAddDcZtnWomyxZStKfKosqxIMnU4rIdYtx3A9wg1Ug9cN7CSsSsYrTw169mjatWDW31sqOJzL4eo6iRBEZlcQBIgNABbt00yYgziFK6yC1X+KF6eNrE5ruAoGLeJxCDGDQ3tDvuJPUBDbMYdxOM3avZ+A8aYwz+1KD9IcE9gIg1K7K9K21TZdcltWIUABx5iohrXn35j5tQDP6M0GHCKY63zD68QFbrCABCCMnF1ai8TwCM7kgFoNWt+sJIOgIi7mStvvl95hWD/zmw1b+sWMmYmrZjEAceYhCD3cEWkHG6FwCMV+rGZk0xpg19k8ktI/vEFDPvYrAbmDgvJ10ATCUEkc6wqb2I6swGdr4JnZyuAjIuBLJ/z1F7E1WIEWEM9hNIacLhnJcR3CVLZ/JixBeDPYKTTkKTA0NOHBoFzGFaTVTOxlg3D2J//f0nEoP/ANDpNIm8/R04K6FTk7blonDpygkvc4EGR7dNQRT3ylCvaFT1GoMYNB8gZ40ISIVhuLaAM0QAfNZYTPvGoAkwvinnItD82YTFxrlEVeoBjnyzlRO/kdBksLy81h/0a7dbJiRnJKUkJ3h+29P+04Eg3FDZAOCJS0+K212ByGB1IBQOejNTff8xRg7v+wIAQOB1FTrpC7wbxVR/maqmKE/XFMWYXDfo5LwtAAKMSbsY7C9AYycCUkSq2m+mbC5+tjv/YxCDKOCSFKMuVWESAHAprz4bkav4AIBrYFXWzW6D4Vui2mntLdQFaz969cSxE/I7duvbp0+fPl07tpt6x4y5pc0zzf88iARgzWOTrnr85EeWhJv6vWT2/71y5/BzZtVX+H/vof1WUNFfFIK35ao9BSqpoRuWcUWsKblDILf3sk7cSh2VIXcrqsmBmGK+GMRgfwJygCXK2zD1m7FgSwyaAl2EbHK5ekMB1/M7RcVGuGmKIp2TU4fSc+WqfuY+jiJSs2X+jHMmzJs86+LXjjo5v+mLQtXlVduKSlFvx/UlJme1apuWAJ5IfV2df2eDr21OcrwHAaQM+6s3V0NuZmJafDwAADWUbCytaqgOoPB4ILV1fnZyWoJyn2RD2fagJ1EkZ8TXbNhWFqkLJqWkZea1yYjXMjwcDlRt2lwaDIeJ4uMTM1p3zEncKwM2Ul9aQYk+9GJD4dYyoiBkpGdk5bdO5A65wWBdReG2CiklEcQnp7Ro0y7FCwKC/pqakk1boLC0thqxbPOqjZk+f1hG0jJbZufmerG6aFulZ9PWyqJyv3/7qvVrUyoTyR+XEp/ZqlOGT+FeBuqqN20tkTIgyZeUlp7XNicePAgA4Yi/vmQbpbdJxEBV1bbicuGltFatstKyEgVQuLakXKQnUyhYv2VHGYoIZWXlZLRoEd8s4Ybdg76ctgBlsCmKIgkoTGE8AFBUcwzSm8gV8dkWObw/hGJObgz2KyDv8TVnGqBQfW4t7aFwi/piEIMoEB5DHnpvtQr3qaI8s/8CeGuJTgMLBAChimL0NZz43eeYSlHDtp+/nT8sZyS08IYJvE3cH1m46Llnn7xi5letU8Jeqt22Lb3dgWe9vPSywZBbXvDlO/PHf9pnwdMnHJSTBFBds+Orh3s8kfj4zSOnHtQfwqGK1V8/cdlTs1Z+vTkuIcG7s83EG645/9Jje2cBANR8d/cJX5Z3qR168WEbpzz4fuSHJYmdDzr6nFcevqCzN80DtHXJsreeHPdwQUNDbWIgO7P18In33HjesNz2yb88IwIo+/rG/1uR07o+v7O89vZ3fKF127sNOPrUK2dedEyiiAeAkhU/zXr1lNveqQuERV1Rerv+w67+7JoTM9snbS385OV/Xfb4dyKwuR49nvhxr8chyZqKiWfeePGVV+T45tx0zu3zlqzZ6BHSHzf+pHuEJ1BT2/fYrufc9OUpHZO8Amhd4dxXHjvp6U+TRClWZ7TtN2DynbeeM6hLjg9ge8XiDy88YvmgJw7Lr1j6003PvZvp2Zo88W9XX3zTWf2Tgltn/+2SdQcPCTVA3Z0PvZUChVsPHDf1wuuePumg5qgGVlugCEi3E9ZHrXByQmlTASg5SYvamXCaYwCa2gFNoGqXqOknYoLUMYjBfgImXONnELcc0oekAm9AjOndGOwOUp9EAtEZXIrSteyFAEeQnWNwTChFEaHgiPS+QH56ryPOv7bqp8f/fsOlt9/3xY/zF3y3pqShOmKGuPntG657ca2//eLytZu3bN24ddHr0288ssrnUeP0ki8eEuNMRBLBGw9J8ejxAEBNZeW3CxIuevue70tLinduXr9mybA313z7zr++UlFbTMlOWzH7rUduvvGrQza+tajYv/iU6cfOvfrJb3fUAIS+mvPGuzc8kf/q4hXbiop3VHzw7sNdXxz/9zcX/rzjV2aEACI1Z0XBC++8PlMM27Ft0bZi/7e9Jw1+9rTbF5XVSYBNy4rFSt+0desLi7Zv3VG55KWbJr93+r8+X1tcBp17Tb7xlaLN6+f/a9iFd4648bOtm7du2bK9ouahB6/o2QZyW4x/uuD71RtnnvzINX3Hv7R12YYtm3dVlM15ZeHpnZO8AqB66YwnZzw/W8zZ+cWW7buKar65a+roB0fd+mHhvAoASBDeQLrv2RTBHvMAACAASURBVLunPj+rauz5NZVbtvz4XvIs+OztFwpBeCgle/G7t8/8bG3X8eW71m/Zte6hQI/k1+58p6YZhIcumzKuAPDea6l7CSifgZh+7C5eiAovA5+zpjfpctsuMqXzTp+s/yqgQPWO0tqkrFaZiY3ruX9XiDTsKqmAxKzs1ARP8w2EZLC2tKgigB5vfGZuiyTvr9/yB4Gz65+rDlQ/FN19AFkqxrYMxaApUEzj9kZQVMP1KLpvi4ktq0vUqYKqGw86TQ0F7zvaR4jP6Hn4dYu+PP3FZ56a+a9zn34+3p885JqTTj7+pCM6dUwIwbLXnqo8UXQZ9sSBeoyhSEND+NffQwCQmpM77qxuPy7ZunTxek+8CAVkWr/l5QnVpUUAbQAgUl8VP+LEwce/8uCYeIEAnU/rM6TvoV+Fwl7wLy7YKdfVTr0w+MO3i70YjvfUlsLUwc8XbZm6blfn1i1+5e0NNXUjLpqQd/bFI5T86HZS/pJ2kXfXbg0e0Cq5wwE9i7vmrPpm7ppQRPgyKou21k2EnwMlwQqCbKWb6gLoDwQjwQBA/G4PD4SxriEUrq8BSov6oWreku3ZX9VNmub/cvUCWk1JotyfNPWgGctXDe3fbmimIOkJBVr/31P/nDB1RB8AgA4H3zq0uDInXEtAGKhrmHDz+T0nnHwwAAB0GTRCBP0Lt28l6NlMesz2+tD/juohxF1KgJ1XBARoXL1s7nOq+PQNWgDSvodb/uxA4cD3D3Qf99DpLxc+cXzar1+//2DnJyeNuSA88dXXrxrbLrXZnhqoWPr0yYf9fZ7I6dTvnk+/n9Kx2Z7c7MDbJLXylRxmAZT69G9Nh/9FSjdUPP+lm85/3X/tw8+d1uOPG8bWd4869YZW57zx8Bk9U33N9dDQd3eMuPjpwjJMv+iJb/82PLN5sml7BC3DEECdToMgI054DrkKFEGfLum4KsidnpB1s9OV7zdBh7Om/uusqf8KSv+Pzx47+Zablsy64Mavz20DHh96IxERDAHEAQCgR/jihON8IYDHvNmDkOA10rxu/cb3n7zl7q+XltdBi2SU5K1au3zQQT2OjFNX+8ORg1ulj+2TrO9PO+CgUQd8MwoAYGdZ4aYfZ/64eMu1aRFEiEgAwPjk4SfmZuf/SnhZjyoUAH8d/zNOQk29XFFRKVFC7br3n3jhyTtnlveIlyI5PtRQ7q0VnTt6PbZSmSQIr/CIJp0JFV/weHYjj8rqXdu++/LrlVW7MiCiu+qKtNyBJ+V2zE0AKCdIkXRZ11ad2vKL8o566wIAAIgEiACC9RCoB8gGAIBwWEqJTQ9hH8FRrXxSClcp20kRIAkUgNxWXQLBbp6u7iXG29hAFa9E6+99cs3ri7974YrzHl/uS0hMwkClp02/825/eWqfP5nEpPqyuuqy4rpIMz5zxzcP3HXrM1/siEtOicNIsK4+3Paov95w5fmDW+75nnDNlk1l4dK68G8omNwz+NK6T7z7ky7rfpz7/MNVgeZ88n4A5YVwxTypDrFkyJL3geyt0g3s/OLdl2d8sqS2Pkzg6Tju4mlTjsj7c7n6MlC2cdGqufWbq5vtkYGyJe/f+6+3NghfQkKiN1xTE0zrMeLMiy4+fA9VPQAA9du++nZ5hyOrm5X2PPlDz7kwsXjBC9eUVgfCTfk4zQs6PsIRkegjNW2WVn2lekpL/dk9gFJFUwC4sPTfAp+IH3zmJYM+/iRpS3FVANrFJyWmFxXVxZVWAuQAYEXBmjU/fL/T10GLX4m1IdgYkmECAKrbvPmHTxfLcC/hS4Jg+frPnpxyb/ixH+44ddCYDJDByg33nzZlZ0JdMMLzhLCEhqZKhFOSUrO7j+3f5773p3fPSNx364fAGwdxvILBhSt2FRXlnndMt5R47483z3ht7dM7X1/y47HtfB6AJT/PevOWEzYkRKSVqImJaUXFgQSedfSzE+NTIzLx5+0V4UgiuHtq0lISs3v1H3HkozOn9RO7k48EIISGMESaU3TvDThtfIFUC3UiUH0bERDMkeH6PBsQpoVtU54uGYVr+0KTo5JxXyLinvisToNGDsG1i+Z+Xj/osuMO6tThD/UlmwL0Jg4+8777u/QYmNiMT03I7nzAkJG0Y/Pn766vadFz3Mj8Nn07ZP2y1Okw8q5HH/Z36peT0IwDARGX3n7Q6Pbd0yo/fbSmOR/c7KBbm0qOBiq9q7ufk25NTuqXvSPCYNG3sz6f8VnJ4H65cVC1dcYz7VrlnTGyW/qfSO/Gt+w1/Iyz/A0H/YI1to9AMuSvqagordux5ufVu7KHHplPNXXBX9amrQ+5/K/npR3aqlmdUdFm6LkXDoWeG+6au7/1rQLteBAfzqO8VTdAp6v0EEGfQGJPtwVNgbqTBnfX2EcIVdZsW/POV6uDYekRQohIJFKx6OvSYKcjTxrbNR4EtBt6Vsajny169eoHSw9NjXhr3/1y7sJVpT07qCLqtE4tU5cfuv3lF2eULWyVkLbrx40/fPuNzG0liMCXlNK276DszUs//iK8oTS5vn5HydK3Fq7r2LftkboyNhKEYAhDTS116iGXH7h51qyHb7iIRg3MS2jlDQYjSYC9hxzfvVNu4q8GN7y++B2rlvz00pvhvBpv/KaVry6qEn1vvfOQvHiAVr3aHFDUYvvnb724KzMhxVP3+aoFBQXYt6tBqycO2h9+TsYjn//w6tUP7jo0JSiDXbof1GvgoNwUAADI6DOx3SZf7VvXPUaD2yR5KaNdWq9DJnZL92YOn3jgqtRv37zrrMiQgzNz0kUwGPbGxfc8YmKPdsnpQgKF/RAMNVVaSUCRAARDEObfKBKkYADiZLNkSU1ABHg3rv6aOMUr0DHa+Bzd6C1DnLjVXfi59MA0RgNuCb0vtl98RtejLn/wqJI5D125sfTyh27up76O1JdU1ewK+1pVr1u6uS4xO79bz+45mi0jVVvWrtqws54AMvK7dOvaPlWWr90eSstN9GzdsHZ7ZaR1176d22T7EACoYtni1aWVDYQZ3Q86ID9VRzOCxQt+WFvvDwF6ugw6vH0ay5HqtV//uD0kCQA6DRrRMR0ByF+0/NtVlcmjx4xp20HrOooEq3curs8cBOu+WlXhTUzp2O/gdkk88MLvl2+JAHo8Xo8vMSW/R/+mI8FZvY479/rjAJb8o/Sdbf1OfeK6XvqH2u3Lq+PbpYnin9dtLWvI7NinZ7vcRA9Ub1q0cmtDlwHDW3dok+xKqMDO+T+sawiEAT1dDzqiXSoCQO22+TU5h/kKC34qkuhp239otww9x/ptcxeujRCgJ84XJyC756E9sj0AALXVtf5w9NJFaos3/LBimwRfem7nvge0/n3k4i+AcjBQ2HNNtZY1+8f3lVuQiAYdfd5J79w5CKH49TOOu//RN3v1unp4Wy8CNRTtLPUHI4BJufktkg0vUEPpluJaAkCPN6tVm9S4SLC+rizsa+HzFxdVhnxJKTm5ivwgVFVWWlETAPCl5eRmpmjyi9TvKCoLhiKAmNmqbXq8ttxlQ+nW4loCEMKTmdc2NQ5AhuurS0rje53yyCEpSRzjk4FKvxQQidRWVtVH4tOzc9JT4tTRRw1FO0v9oQig8AiQ8Vmtc1OaaDUACbkHn/nwF2fCri/ufGTal0M//2yMNidDdWV+SvB5Q9XllXWhhPTcnPQkr4BA5Y6SmvzpN9ybmpbuc5VuoHLTzkoAEJ64nNb5SR6gSCDQUBn2pocriiqD3sTkrJycJA8AAIWqykorawOkToGPS83OSU9Ww66vCTQWiqHqzdvLCdDjTW3ZJqvZwtmgsrh8aACR2UTEuhZAH+Woj15Rzq+U0hxdj+q8KclNWPa16iZSU7/jpw8++LTeH4zzekBGwOMLnvjQX8f2O7o1AgDE9T32tkkJsz6857VX3vOIPhffPGZSl2OXvLMBIBIGSOh+0IlHvZo1/8YZn76zvf7A444ae9P1Q3xv+zqlJAAkdBg28fnblj721bKPvlouuianHDPtidtb+runpije9bUefPyASIeEzKYGltB1yFlnvjYk/6/Xv/Xlgvq4OJKRLEBP/uEd2u6F0vXE+cq3rPlh6xvV6aGQ39/5pCuOHz/26FwAAMifOP7wuPRFL7wxa0tdQ33Hccf3n3LJc2KhLy8pie8GX99xt01KmPXRvW/M+MAn6mtGHJ3cqicrXWh55PCxqc9V3vTQ3I+/q2yIdB/SJqn3iV3TvJCcf+KVk/oNbzn91jc+CxcLjycUjE9OC3U7pk3r5HRfakJurzFn5vVqk5a024CFJ63D8NM8bXvk6XcAth48qH84HJ/ZPMkp5AQEP47Mhu/GnqmK3un9P66nq88/NfEYAD7kwNQhqJLmfS/9qqysqQ9G/NWSQwd1m7+Y/dkjWzIv3HbvOY8szx44+ZanXrugn0CgSOjnuQ9fdfm9n2xBgKEX3PnAvdP713574/1ruo3o0uat+2947ZudY6+b8eDVp3RNRhneOPvy86fP/Wk7Ur8r3nz96gldsgSCDG/86KxTrvx5RyVIedHrm++Y2C7VC0CR4o9vOfqcN/3BCADc9HXg2iFeJCr54oYxZ31AQsTd9l3gqgEAABH/rh+eH/H1wG+z7x3zt4L4nPZTX1r14NhEBGooWvrKdcOveFuAlASQ0mfULS/Nvrz/L0y9qtof9AcbqqsBlItPq1/9yyfx5w3MLXj41hc/X9196rMv33LOwJa45rX/O/eu79ZUyimP/XDfeYNaaC6Q4Z9nnT75qs3FNSDlxW8V3XViyyQvrHl5yPsHr+3+1DHnvRMMho9+bssH57QVABSsKbh/+LgHhCA1vtyL3t74+NgmMzZE9TsWvHT9mKvfFpDee9jfn/po+uAkT3MQ478B+sAl4gpTXTZvmUTV9DmnrPwqIEbCwboagDRoMemua14at2DOgk2Hte2SAEUfjh992fdrSgFHPbL03fP7cIVZ6buXdj7jbQJIym1zz9ebL+xUvurDZ89Y0fedwxaceuztS3uNnvLYay8engkA9csfvOqSm1/4gaDH+Y+8ctvF/VXqaOdHx438y9INJYDi6o923Dg6V+meog8u6XzaTAJIzmp17zfbz+8BUL/jy/smnXDbj54uh01+6K1XxrYEAChbfMfn25JkWe0bt9/7yY6+Fz/y0s0XHpAFALBj1oThf/musBSEJ84LkdGPr3z7nG6+PaaoArX1gYAM19cAaKVb+M6Vn1Qe3LvTtueuvf3Nlf0ve/HFG0/rnRlZ9MBRU+5buT3gu+z1Tbcd3zJJ610ZWfRA52G3AEByTucH5q87tzP4S76b+/Y/fu58fdH1x9y+pOXQSXc/89qUrgAAtT/dc9nFt7+1mNDj9QL1/utLr113Srf0pkcWWvRwl6HXS4jLzD//7XUPH9lckR102kihPrFenxNHgABSEvcVBUB7th04qThd9sJR6n2WzwltWw65cOaQC3/pmuyRI88eOfJs/a81b75Y0MCvBsD0A9od995zxznXP3eZ/uDNTOhz4d2PRT18iP2Y2H3Crd1/6cU5GV1OfnHGyXszj0YQqKvpe+ypY86+77QmIjIJucMnnzx8ctRzxwza7eWjRp0zatQ5TT8/oc3Ag6/44JUmfsGUDgcd8/b7xzTxU3ZKl2GXPN/0A4U3t9+5T/Rzv+o28eRu8Fsmv/uYhDmAqAknVO0K1xsxdCkeqggMuL2XtWthHkBNB/C4G/O/Cd6EpPVzFj789EfD3ijc8Nlf+uS99ui8agCAkq9uv+a95Xl3Ly0sLCwsfPO2C3onAoiUzK0v333642sOvfv7wo/+Xl60du7aMgBY/vA5Hxx8xtOLCgsL55320dXvzvqpPAwAq57+tO3Mj74rLCws/Py6N6a9Mb+iQQJA5Wc3Tuvx0k+rfy4sLCws/MsgLwIAirzxTxVuWDv3rlH2UEkUnrqyhvumniZuLixc9sHfx824+t3tABAuW/XZV48vv3NBYeGyj++ePLJ1n8vvP7f3vs49MT37i1suuWpO12nvFS59NP27ws8XbQsCHHjJO3OWbXj13Lz2qeGIDQ+teHx2h1mf/1hYWFj46T9m/OXVBTUBAvD4Eh4aP3DVKcvXbih8e9qnV723DABIhpe+ct6T02cVFq5f8fk/h0Pqla/fNmx3E1BBzYbP35vxQu7rGwoL1753af+yv571ZeW+TqW5QYlJc947rwiZJC4RqdKY3/Z4T6v8fvGltKsiCLD6iXNmHXTmIx8WFBQ8c+DdU976vipEAFD3zS2jrmx1f0FBQUHBJ+++eXxbABKieu3Kx/5+2RMd7yj44KEjOjU8PXsDABQV3D+zqO7EFwoKCt49a9Mbc178dGcYADa8Njv51nteLSgoKHhm6ovTZ/5QGyAAKp59/w29n/y6oKCg4OP3Z45rBwAAiS0PPfeJgncev2RcXlF1UA/TFx9X8Oj9T89Pmjqj4MObEhZt+eS7bSEAKCv4yy29Jt7xTkHBZzccEfRPvvna0flx+1YU4o2Lm/fADVe9FTr6/oIPr/PMX/v5j0VhEH3Pfu6Njz+9dRQlQNhwAdFPT80fUFBQUDDnoxcuO+yWqR/sAIjzeDYv+u7eW57ueHtBwfMn52fMePr7WgBoWP34o/7IQQ9/XlDwxJmd4kecdPaJh7fdQ3kOlRT884wlV75VUDDngyemei4+7uPifV7KPQGaoBz36ebiO9OVT+qzaU1ZvC0Q4GPw+CGW8PYnSBmiYD0EItCspRzNCxTxQ20VVDdf4cF/OtiKYp2VtW2/+Q9n0xr7rdjoPF1di0VgXGbbFZIfiwi/pYi+MVAklNS+3WGjLhnWs31u3rBui7bOXVcMw1I2ffZxWUnomGljDmjvpH4FRUrTOh4+6ujjB7ZpGx7W86aCyvXVMKDi2x2Hjp4weeyAfID2F17Sb+z2zcdU98nOaj18XI8enb0AAO0nn1x+X3FxIJyb6AtXbix6KZB6XYe8qKF4k3Pbd8z15aeJjWZ0RHHJCf1Pve6Yg9q396UOGTTitiWbw6e1qd6+bONbkZNeHdy+PaQeMeSguT/XYto+h8Y84dD2rgNGjj1+SLf2KaEx/rv8m3ZVQ9uc9Fat06FDTvz6qKRa/shxvXt19qjJTCp9oKg0IjMBALpPum7isC4dsqHF6Amlb20uh34Z4ZUL7yue9OxR7dt7IfeYow+/a6cnM3EPq1VbVlq9LfWi6Sd3bA/Q/oTjV6x8YsbSstHDs/d1Os0NqEv9UAdZyGQ9QElFp+Xpvj88u2eK2BGKQHjLN6vbHHba2ZMOaQkwLO/YR89dWjjxoH5xu76585nUY946a9jBlv5CAAH0NmT2mjhi1LCO3bYtWP/6p5v8k3PXFkYSep180enDMgAGbvjw7PWFA0sCeXlpXfoPPahfGgDAsKTDL3hy867TB6fFi/oti9cWHD3khmHueDzx2R36D2uVsnHn4hX2IHFJ8S079hl2/OghA5JbHHPbIw0bi+uhDS159pu2A6aNO2FYLnSZPPzmJd065+9pdfcEXsRtyRlZ/Y4eO3xYy9wRV9xbtn5XzahWmR0GDe4Agc7Jc12BgDkHjOg7ZKAXAKBLzTP/mr8pcnwrIG9KRofB40eMGtaxLjRvywvfriyBg+M3zZkfqugx8dSRwzJCgaPvfzMjLzc9cQ+J89o1X64fcuaLE4alAEC30NsfPrZo1zHH/tqWlb0ETtC6zSCRiARar0QIoWSkMI2aVWE8158S23/we+wIF7kHHnVIQseGtpDyJyo1aATJXcZdlhjfM/kPlw9/DtDVJ6SUpD6HFBFQCNOaBZx4nKY+AsDojlTgFNwD7zHinUMs5X5Li5bdgcLhlPy8AUcekQsAIis9oTPV1gPUFP60i7K6DjssutgqEvRn9x9ywlFD23oBvH1OGSfj26VAw08/bmlI/eDl6h8SIlLEbSmZ7y+pDUQAsnqkzHzp6e0VdZI8pRWeXfUNRACQ2GvihLhnbry7qGdcXK+JfxnT1n1BfcAtfyPyJvj6jpzS2QcQwoysgZ6qagkgI8H6Wl+ynkFCJNDC9xuyUaFgQ48jj5o4vHcKALSZcP6I0l5ZcTwQf6gRk2f3Snnzhad2VtUTeUqqvKX1fiIAkrL7sRcOzAYASGpxqKeirg4gHerrqn2ghLeEYF3bhIQAQJOhu0h91fZN81fVtHv0gVAIPXVbCupC23fVcW39HwS8FwjN7lw+40CfL+1Q8W97Q5zP4/UIb1z9hoW7WvddPndWcYIEIVtmzNu0LST7BVZ/8VHwjI0HR9EfyYg3M2PwqX89oyMApPTtc2R9XFokUrK+GHaUl3w76/2wxLi68ML6monVIchrcVCXRV/N3lFZTyC258Tvqq8lAoCUTkcc+vOTt79f09ub2GXomF5O4LW6tiEQsQ5VJNiQN/jIA0YPSAaAtIEZ4Z8b6oMAVLIxrtUAtZE8Pim5ZShYE5Q5+7axPBJoaDlszAkTjmwJAK1PHH9AURtTPOivC0aRHkLbQ9t+9sH7foKIv2p1u5TK6giADCXn5Q0frfadtcpO6SsrawBkdXE4oTopzQMAGB/fEigUbLLJLgBA0eovSzod8M0H7wcJQvWF7bPm/lwC0BxKVwhUx2UoEiJ9CrjTgJ4IzDnkpmBKTVfnMpTCRZVr+3d3De0d5PYZl9tn3H5/zb8FSZ2PvqLzHz2IPw/oAj195jeXeEogkkhq17d1Xrk7pNpxG3WIvRZwdi8u/2cVsaXLfxcQZTjsr5cAAmQ4IkMY5wGor4/kRVK6NLbfwxHZtWOr1ulKfbQb+892AADbajdum7NoTnGiytl4EztPSUtP8FBDyZdP/OOG58prG4QQ5Pf3O8wjEABS+p3/wD/vPfKKO94N+Q+pObD3Xw/LT9ujZUlEgdoGgEQgGQ770SMAIDm7bVK/0hffLTgVEtd+s25X5Lgzu+771AOSjmidrYVd+oHTz/qFa6l+15zHr7zh+br6BiEENQQGDucdfMG6ymAkw+cBCDWAVwgA9HTocFTomvfeu6plz/oNny7aNWla/z0ly0KyoWj9vIUfr1/ukQQgvPHdDz/h7L3Zrrc/AQGklMLjcbMb5KpbG8T5TRDZub6mLhAX56ttWL/mxZffKdZJbI8v84p4r8Dqyh2+0YMaoYEI0tOSD+7THgAAsvqeckJfAKj5qXjzl08+v+D5RxAAQMQlnHBddlIchBuWvXrReTcu21ohECgSPOIRr0AAzB1+/aPTU4ec/D4mpp/yyOKHJ7du6rgVNVWMBBoaGtSIAxKlEATQouvo5AvXfHPGhk4HJH0ye+HI0Xe2ittXzygo5ZDW2X2UTZE1+LZpv3CtDJR/fPdREx6O9wIAxKXnnn8yAABSJOKvIwDUjOsBgPj8fi1WrFv5+aKi3gesnDu/Y6fT+7TO2NODi3bOn3/bj+OVtYAip0Pve5qJ8NRmbgBSdaD6bD7gDR5cbwqqN6QJ/xGAUtjsc5gEh40UxiAGLnC6go+mZ6/VpRZV06fNOhVQEdHVyyoygyZWzc2AtCcNHO4D3D9Nm0gCpLdIy8gvDoZ2/zUSiUQaZTwiDXV9z3/goUlnHdhCs4gQHiFCX9921l3H3vbDNSd3y/Tiqodzbk2SHLlrM3nF2pMA4Pu7kodP77hxxpTWe23HEgHEJeW0TS7dcu2I3tdBerdhV79w1z4ndAEAAYIR2Xg2TUPDwhtPv3PSfcuundAx1Ysr7s+8LV7u0eZByGrdkeCmyb0fwrjEjDNe2XT4Hh1xCofSOnW6+O21dxzOmQhE8YefO6ZzbECkNrbx2R3App8upHJK9PcJtiybtxMPzMr0eFZX9p/20rMnHtUhVSqnOiE1JQ6S83pGwLe7KiOiSEQCOAgKN1Tnjzz98bsfHt8prPbTxSemJvnkkn+de9OAS159ZcqBub64wmfa35sQYfI74MLNW0+PBCo+uX/gEf9stfLekXtfLk4A0LpvavZj08e8cI0Hg4dcu/CoDgm/JRoZkbRXWXHa+eHfznni+k+3/19/jPhL5j152Od72ONNAJDZMbf9pudvG/3ePd5Ix0kPPX90ryYLaBWgmPDcqqePSVd7OYTHm9xM2wj1JjO76dE5T83ZfcuqlMxRkqakGR0xyPJyf4eXY/AfCJz1120bVcJCVTyh3goEAABCa16ucSZ3GzJ3+tQbcZ2z6p1joU2qbR8hIz0l0ScSUn9RXUuAxE5D6lYGXnthzt5sJ80bcPJPzxd8trrKyyAEAlBtZdnhnXt1yk3wems/uujh2rJ60z4VhbpwYK/DghUNNonm8aUn+yDxl1hfCKjfsWT5ksV3Faxft2bNusVz3v7bIc1+9KMnNUEkpqRlsINKdVVlQ7r16JiZ4PVWfzj1kfrqhj0WdshI0cevPHb1BxvWrVmzZuWyxQ+MT3OvTMlITfaJJB3VjM9ok+0b8Oa/Xihh5Hk8f3TpsqZhVKVSqorKKcjnHK8u09/7R3p9CWlpAACb7rjp4ZJ+PY8d0hIye47/6dWvl9VlZmVnZ2dnZ2VlJcUhgOg7YPK7V9+/eC8enNLukLo1gYJ5O9QTsrOyUhLjBEJV8eZenQ8c0KNldnb8D7e80lDhN+TnScjKzs5t3eXgbl1/3l5lra7M9OTk+LgUVlNN8BfGASx+4/ER/3fnrM+/nD17zrznrjo4e18Tur8CCakJmJiaafKKoaqi0sGDhmRnZ2e1KJtz/euehLgm70MvwNavZ6Z2G/TMZ1/NmT37q7fvmXpIG5eYklLjMTE1M1mbLL36nvLpXa8Xa7xlZ2ak77kAe98AhUDn4EcEECZ2zKdEam3KNcuOPORyZSMtOLLXPIOLwX8RIDumuqNFhEjqlsvCpC54szhaaiOI6r1sFSqppqPa73CU72+AQMXqz564580fNvw0f71/57nlg7oeM/Ufx3SESDDgr/artA9FAn5/LYUARObAcSeOWv/aM2eeaXjrUwAAIABJREFUNyMLALodOenUk49qB6G6Bn9D4x3fvg4TLju59PnHL185Iy4BAGDo2ddPOrR9Yq+xE0ufu+PsHzKSvS17Z+eFqykiAaBh6XPTn1yo9gv51/e8+IrDMhCJKhY8Pv3ZRbJy9exAbfV5q9qnnPSPB0dkypC/pi6ka2cjIX9lfZDAl9qqRatWb7702M4MAJIyvmXX4y68dEjWLyKAwvW1DXUNYYu9iL/G7wk08jao8OM7nvl4Q9HauRu3fTV9yTt5Y6feMvnQ1r6+R00oeeHWM77NTPLm9W6VH6mjCBFAxB+0zQ7C/khdUAKKlC59Bz7w+qOBlgBAJDH+iMvvGN8uXLdpzmO3vLm8dsvqrzbLqvOW9uhwyhX/PDjvwFGnH7NkxtnnLMgXANCi64BTL7n0gD9D5xK1Uc1SKtdSqRIqjufsncYhAbBmwUd3/g07JdSVL6k8cMqlRw9qGw/Q5bQzhj4y456/Lc9LiAcAGHbWtaO7JXvSBlx2Ud9Hrr7smkFpAHHJacdcePXgNIqE/DX+RjnKuBaHjhy+7pFP7ruoJDcLAKDnqFOPG9Y3veOQo+mNl/7xtzmZCSlZdd5AJBKRBFCz7LU7Xl9OABCJVK4//NIzesUBBCs3zH3tubmrdyz8aeGK1Mg16wYNPnHKCZnkDwSY3GWoriEQCEcAMlp3KJm36jt/SYoHIPzl7C6Trpzcc0+16aBvDlg6BgCQwfpAwN+Y9jbNefT1r3eUrfisfOvmK4s/SR993o2ju8ZlDjj8kDue/vs1C9JEAIJpmbX1IQCgcChQYxg3GAjURcIASdmtw7Wbli74tiwRIPLVlwuGnDJpWNd0z6bZD702r6hs+ezKbdun7/o4dfTUm0Z3zj740vM6P/LXy67pnwYAvtTsYy+44qDmqSUgTtNKHRcxxwhJPmtIXSeldTM4HK3rnJXvy9rZ6ucYxMCA7nohTNAEQCihZAup3GP5zH7xqOplp+QKkACV5OOIjHVw9zGlFgnVFf+8fP1OX1av0VizYtU6cVADAMSltevSe2xODgIAxGV27dn7SG8WAHiyD5l0/KlFK+94+fvtAODpemSDBEhsfWj/cG7rxomfhA5Tpk9cdsktc3/aQQAAHcobwgSeDkddfMC7t6xas1VS6qQ7ph3/XUZmnAAIVW9buWK5KphC39/ePqF3CgDJcMXm5ctXgIg/YGxW+fLlNelH+kHEJeX1Hj843wsAIHzpbfpMGNQKAeLTUjPS1s+cV5EAABDC+LWixZhe53X9hUgaxLUYMKxfhw451kvI6jGit6dLRiO3ob6kcO2q5VsDbUe3iFRuWlW6vSIQIYjrcMwlB75z67o12yRlTr572rh5WekeBMjsOW5IZrI2yXN6HTMkLwkQ4nPz225cOs+fDAAgkfwlaRMO+2e/xIaSwuXL14q4hF5jsGj5agxVhkAkthk85qrzV03557vlAABtRHbNHktffjcwAWSHykxKhDtV7UuSzZvRfWCLvNXzPp65hLDTlBsfumx0Vx8AQHKPy2876ceTr/lwfhkAAGSOnT6ya7IH8w67+561fY++YyYBJGS27DHl6sGZvrRWXYZ1y2r0Wm+rMVMnbd9+7V0zvpYAACPzh40c0jej41EXtn/zH3M/Xihp2J33TTtyYXaqBwH8W7+bOfMTAgCIz8q/5aPxPbwA9fXFK7+cOXO5J96X1K68YObnft/Qk0/Iy+zeuaO/lSL3hJYDe1KHDA9AXp9BWx968ttP670CAKiybcUhh948pk3qnpWCSGzRudvQqhY2yZCcf0DHuNbp0bRHZavnfPz+quJw0mDv+jkfrqJW464b1dWX3m/CZWmv3zJzrTc544Qb75y+/Lt0BPBl5XUeWq8MTW9q2w6dBookgNT2PUJVb78/a1GiBwCwLm15Spe2Fw7tUrrqi4/fW7srkjzYu272rJXU+rjrR3WOyz/s/rvX9hl3RyEBQHKLdr1Payal6xANZ3ONfUZRNaDIzc0ENioUMEk67ssi90ngxeB/Bgxdoa7yJJKgNqcRguBz0lT1gCQhPJIkEeGOHTsAYNOmTcdcebO+xNas8MNBberlhlcAld9+8jtP8M8A5WvfeeXGv+fcv/60VgAANcufv+e2+3Da8hsH/9EjAwAAGfr5+fFdau6my3sCAEBwzZMn9fn2/KqXjvuj66P2GjqMn0wEQteXIkntpyDolIcQ5sgY2PjOG3/0eH9PkLP/1vW7Q2dcdtLgDAQA/wdnZ754xNLXzuzu+8Mz8QArXjr3gy2tj5p264BkAIAfbjv43sgF1142te8vh4GaG3qdeaZ2EXQ1KYHukbEHxYlIUhqtrFSvOkqcWI6iwJUvvvh7zSAG/xnQ6aRTUQj31HpTuKfcXtsKDUioMijuSOU0x+DieTRpDyewgkYVi/+i8132DYKBih3bvxQe7TeEdyxb8tOihO6/0EP+dwUiuW3rR7bMTW5d+Nmn2Kf9Lwcg/2TgyEbuS4XK9QAkgVbj/u9B0bYvasI1CUl6+ss+fcffPjt7P1U17iPUli/bVbXGy40sty/4bEt8KD31dyc9FAI4pWu2TvLZQTpt6/gldkuk3giOiIimSxCCyQnHIAZRwGV60dEUTYG8Gw2ASHX7AZKkkhzgbhlSRQS68E8X9OnKPlNYr8jzd5vYnwy8WZ2GHDzh/WmjDnswAQCCiUlpx97+0Mhm2tT/bwMKb8+JN4wfNeGwN9IBQIpwxWH3fHhK5/8wqaGKpAQKKaXewqZqW/4Lz5TcJ0g/8oqzznx62pxXRLwACG5vd8HTFx2c4f1T4CS+54kT3rrjpdOOHJXlBaDyzE5nn3fS0JbN2VJ574B74arN6nZXkK4Z1fpVCTedsdUiDVXTPuByVI5HxyAGTQCxR0C6tTGnvkwDUdD9VbTyVU6vQEA3p0uKZF3/lgPSzktsu4z/ORDxLXofdsH5Y/0fBSUAYMseBx930qEt/jTIQE+Lvhf/5cQtL/gjAAC+1JyJU8e2+49ydIHVLPBJ443bLKu+4f+Lll9yx1PPHbWqdlVhqQQAbHHcpVMPaPVHD0pDXO7QY0eM31762bIwAUDOkaefe8SBec15ZtfeAXfQ05KPgHRpCgBFCFE3xVC5Ml2vJ7SGjqokQE7HxeqoYtAUIPJp36ooQALwiUPIaV0VW9F/CyACoULGJqd79PSbAUw/DLeCCo01aLatVcz7X8zpxmB/Q4fxk5WDobeecwbX7KEE66L8r+V0Y/Dr0Oecs3XdE/JxpJxyU+6Dji0rv4PDeAi6f73b9dbtNhrL6cagEXSZfJohFu4loI4RQtWehYtCdZM9N5fh7tNF3gdpvVluFN54y24MYrA/QG+yZKo0haOaONWXusA55oDEYDewapZQ6MMM9DcEwitsSYDxaREIQEoJnNVV18uIlnwxiReDJsEkW3XZnqoZEMDNMPQBusrOQyQQoBrtOWUYqpkkGgUNOs8BjXboxoRdDPYnIG+1jFartnKB+xz8McOLwZ8YTH9lu7+RCIXugSvDEshSDnfGZf9C2Poru01coIjVUsVgd0CUkrSUQuPvIsdUUGU0gHS8RJq+F1HVy84DiWSjF6g/qfGFMYhBc4OVdzpCYwAR1XaOWIFLDJoG4u23CDKie0uRBEnmxAyVt0DhEUZB65JmSaa0CqzMiwm8GDQBJCWHhoFrjI1FRyiEQMHJXQIddEZAQBHdkcqpVEYTlrbyjev6YoG9GOxXUNtzrfblmKHbwyBGgzHYHXR/UFWErD1V3SUDURBITkuY1mb6ACIt7lhJgyPpYjGVGOwOaGrtFK2oAzaAd6BJqQxAq0QRiU8sjdrlpysLiGmXS/eciAwAgIy1aInBfgKuP4jqHCRQt1gzad2YHIxBk6DdBl1LZY6q4lIWVS1lPFzbg573C6mLuXIe+CiZGMQgGsyeCv2X7vktQOV1EQlQKk/YdMxA7cOKqMfoY6+012w6uXAPcUOUMSqMwX4BJfh04Sh/p+J+eh+RshtFrGtBDJoGp85OhfVMpBiEUHXKQggQIipH4YaRkUEI0SjBEYMYaBC8zUdyv251IiRFlx7rChUiqY07SY1OGSL7AXnLkBN0Zl0do8IY7B/g+noj+KKKqhDBZOZiad0YNA26txQI1M3zBOowiZSk827RzoOKpqj/k97BQaS6CFGMzmLQBDgFec7ecABAAqVfJSEKLtfj3eKIgOR4uqpq2bX4tLq1PocOxsRiezHYb+DsrXS6nzldxVlUxqgwBruBUwdghaJLUqDPe5GSpJRqm4ZqmUuSSEp9peofFDtNNwa/BCoMDCZ4jHqPGaETJ45KzyIQYVR4GZxNR6ScZX0p2igLy74YxKD5Qdf+oUq/ASfYlHuCgEDRKd8YxCAabIcL1DoYBaqYn0DwCH06hDl2VzepJ0BE4fHoilPdOmNfDpGMwf8ScDme0boAACS09tTXcBkoq04iCUKgaPQY0FFpN02sHq1/jAm8GOxHULQlyYZTlBpG/hUtKcYgBo2BN06aL0iS6VFFBPpsNUTgQ5rVOUJKMcuI1NUrRiX/G9m0UN2O2try2jAABGq3l1ZX1Pv3lmgjFK4vK6utD0iQgWBd6eYqv3si9y8Chetr68rK68JAFKgrrS7fWRvce389VFNSU1dcHwGQwZqtZTU1NcG9vDMcCdaVltb5wwSR+vrass1VgdB/ccmtJhRSnQMQAYVAbmGrbDUjo9iQ0x5r9BklLNS46bwtgTZB5Ziwi8H+A+SAHpeyGMLlHgXmTNSY6ReDpoCb8IFxZHVhFVdOOacMkaYxVamnzkhgAGPn/VbY+PLYN2fc9GYRQOTHFwf/9ak7P1+8l0+Tu/xb3r748vc+XVQFFfNXvDa184M/frnFv3c3RzZ8+OYb0679sIIikXlvTHvsr0e/uwZgr47KpjCse/qSF9877ZNKCJWveaTbtc+//vzqvXztpqKVb55z6axFG4Ow7f05L13W6bFVa8tDe3fzfx6gBGPiKbqRKjdBfMaQZGWMKPXWNVRk5uzTte6tPhVLR/fsniTzYwxisH/AibMo0mUlzCdXGvMvRoUxaApMNFjpVCISQoCzzUzt7GjU/gcQhEdfpnbr6so99+D7vQTpD9aUrd5cvmFHv4rkrIStSxcXr98ZzPFVlVfs2LIlKT8/3ePZ4yPJX7mzatvSnzdtq83MLSlat6Zh/cadwZGeyvK1O4uSW2W1TNrj0U0yEqnetrWqeHlhbVFdRuutS5b/vG5ry/qgp6Zi+bKidj1bpMbF7/EgyEiovqp01Yaan4va1Cfm1Gz9aXH56hKZ4imJlBSv35nUvlWqb49jlvWlW6u2/7Rsw86GnLyijStXBTaVlARHxVdsWlHU8sAWGZkJcXuPvf8U0AcZIEkdC7b7y7QAU2JL11kRkAAkRCCKOmWIaQ24bJQQBZHVxioqE6ukisF+AtJhP6N6na1qDtHF0mwxaBKUfrVgzxU37oPee0Z8BBvosIoph0FdQwD6GJl9Fnf+7bvmvzxl+nNbVtfFZ6SkPveit7ZiY8iX8MYrPbYdO2LaY9cNTUndo+aM7Pz2idceu/+RBcHq+NbLP467o6G8pqocM9csbjhxyvQpV1w9sO2ebg3X1f/42PV3v/fWvGL0prZe9jbUFRcHvX5IXPlD1uR7P50yLL/zHs8cq6tc/ckbJ137VPnmnYktklPTZ1NN+cZET/p91HvVh8dd+sr0Q/L2aCn4N39y27PPvvLCUgokt97wuaCaXXV1dSJz1dT7Jl1275QLzuj+Zzn+tPlAbRMilaHVW7+l3V8hQQiljwEBUAgAKaVEQsDoU4bsfiCjgfVJ0AD2vF4goMrYKUMx2A/QccLJAAAEape5omqn2wEfdoVABIUzX//jRhqDPyP0/X/2rju+qiL7n5n7Xt5L770TktCbYGiCKEXFhh0Ve6/srmVd11XX3dV1dW27dqmC0qSL9A6hEyAkQCrpvSevzvz+mJl77wu8cB+/RSDer58Pptz73g0Z5sw553u+30ce5h9xhgr7g/J8lfCgSlXdNvYfJUJSiAAAZRO9rGCIEDo6Y6aHD+IAOP1Dv43GawZe82lKYNYXCbP6PnPD8NcnRGu6u/ZA+56PXyAfPTQurG/m12s+e7/5g6ybUnxj3eapauxf+tPpjdujP/33CLzj4d9l9z0U8+yWmzW5LFKntXxG7JbYN4LGvTixbdcn8d9HzXxs5D1Demi5ueTn8sMrXpE+e3Oi0Xv+65vWbrT9K/OOKAjS9MyXH3redS8/jgkPZiHaDYAwEAo8wPLznDjJUQyok4k9KM1fEDNu4lPlSr2fpuMCgQITn+L0BF7uw4qKkHKhXm7RcRbIo94y2O5HKTDhbi6HK0rHlFJEAVjFmfuJi3IhAEbY093O0VJSXbzzUGn5nuYjpKiucvlRn62r26qas/f5Hg41JA8JD+iiU+ysLTtecmrPprwTxbm2hTvajMczD2xemxw5cVX0uKsNSZGR7u2xib256tjO4pIDuzdUnSwMnb2itn392oqm8pABg9cc6jOyb0Sgl+T2ZntDQ0Xp5n0nyw7YjuYeDylZ1N6xbaWjqffe7b4DvU0JvWN83T0zAXtN4eHigr07j+bn5dG5G23W9tXF+zZGxE9atXfEqKHxwSFm7X95lw84cZllpnK6SnlbDCiigDBwdgASLAMKAODS0+VdYZkxhXmGCwA6cUXHrwA5wQUAkAl/hIocl1vbU0pdiPc6dDDIZhgsdhKeeDC/A0Xvh11LABDFGBHK5DAQk6mSmQSMhOUpbPVHT6z5+7+/r99hNQXn5/R4z9ZSetjbXJ950P5Vo+8fhoT7AbiNfs7SnLWzv/t80e66CkiwLd1j7ahoLHHg2Lkf1ksRvv5dBV2HtTp/7SdfLtv382mvdr9Yywer6/PqWvEhqWzOh9ZHknqEdBV0rZWlB5e8/68fS/d7G2L3hMQc3NpcsTfMp2DVQZu30/xM72gfNyxuSsBWcGDx13PnrzzY2mJItM7Z3Vhf1FLTIiXM+qBJSggJ7J5BlwdQyvVEKeGDjkD4dwEhQilGIgNm/8OIEtrZxJ6/IvCGGrD9ThWO2fbXsOPni/Oz6ujW4OVl166tmPEAeTtlcblgsV5e1uGC/o8+jLqgeiLupcFnvpV5SrXsKAAAi8QIIeqkAHB0poflZUcTFM3p913kuBETPrs6L/vbjG97HL7+ygETYzTdXXt49fZPnqt4cc+UQY1FM3d984Hh1b13p/gaDee+FWD/2x8e8V7g/+SeO332vjb2SOLNEVP/eEugljutTuvJ2XHfSq/fM3Z6ov+BBXEz02c+knHPkFAtN5es+2LXkq8aXt53X88jG98+tGFjyCvbbovt4nhxmSP1rqnAD3KITwIRghCWAzAvzSGEVMI+gADU4hgy+VloAiEmq8EGxakYndSZozouHBAS7CnxKSgrU1VRpoB1LpWOM0EFC0VZQqKzJievAFjCYjZSSW3Vea1QYgHgM0gewm5zFOY6vYkULEF7R9EpCELgb9J4c2t7Q3vx3iu8wOxdV15F6w4O9fWSkKaIC1Bfmm1oLB0UYAQoLDmc2loe76s10eygrUUnSXCbIdCLNLQXn6QhXshbI++4sakCSg8N9jZgc2VJsU/LsUG+Pt034gKwhBawhBECIKyKzO3neXeDs6EwBc7dAyExoP5V8tMfQsyGFzq1d/n/KbgpNOjQ8f8Ht5xkEx2E+0KDPMEBAEJy7WI9oY5LF5wVJTpovOVGADBj5yGldwaC5cI/AkqAm/3JUZbdch4rDXtZgvrfNSR5QBwGU1DooKeGJoZGayIzAYDDOyQ6ZdT1IcEmHxwS3qPXKGO8n6S1meKMGpjmFRaZJCGQogeP809LT9A6r2NAzrDeDw2LHRDm7ehojxz4eEZczxCNJwWHf0xK2vCACD9sJFEJfc0ZyYndsaisACFEKGAnAEK8708BsEhKkbqLyyorjE2AEEJKefmGl/8qJsLVhRf+gYruBxT08rKOC4Iet99D+cwQlXtq3GuSLXRCkUhy8xb9cFEfVsclhwGPPUIpxUIrCICLMMu+VWJrk+eFlMIyEmYxbLRXvh2AHvnOU/ayjm6OnndOZeEUYcybuxiElLegWWF59gy4pT0gcGWjiJKMSgmDza6pr6B6hqHjQkIW4ZPVqRj1lLIDI5Na0zscOs4GSiiiQLkRJJ/HZWc4ntciQBiA9d7E+Blwqooyuss0qkTx+aL+SDouTYgVQwnlE+BEVmVR2haChYwUH2cnPaNqwZVLKRO85R8RipiBAugxV8eFhZLlstKMoPSpUxLQyfQ6zgaEEAgZSKGOK+tfqK5TUfM4+5QqWTDmzAIeevWlpuNsoAghJGFVy58AEYc2qqxBpjrAatCEAgBxDbpU/pONkAtOFWbuLi5nQx06/vcQwkBc/5ZV+MTMGgLEz5Xscx06XMFaD1xHigjDIWFmKtaVkt0CpYKnwklY4gLBlj8PGUgdvxGwkVrWyCDs1MYdgTjtk1JeGmZXUBZ6Ow07qgYz5PjKJarkb+jiyzouKOTuhsLj49kuwiCnv7o4ho4zwQOtzEYGTqRCci4rJEapaFLQTsuMD4tziQxZilmHDhdQJRxSvjUBACBCkHAMoiAT91x48Z3Ly0oWS7kiQSdtDD3i6riAUJdlxJlRngChVBmN06HDHThFqnMQFatGnkNTqc3LRzilDM048meM8OrQwUCUqhsQLkzFBnZ5U5fJQQoGH2+cIezS01Ur7VF1EVlIgfNPz6e83Fx+dN38HK3WjDp+q2C7pZjL5duiKiXhFFNyjpc5E3W7F6/fsr5M28WOsl9en6vR0gxOLF63ZUt2m7aLrVmz/ry5SdOl9NQPqzdvPd6q8TF0MKi9XgC49CPCqgYvj7JcwYCzYLCStwAgWZZAP93pODs46YRSQjFbZghR7u5HgTi5QBWS2QOCGUpc/HTVG57S9mC+HZzX7PkadHbUlWavOF6N24uOFTY3V+WuKmj5f/2wOroxlDoLcGtx1nkjohHHN1AJaV+KLXkrdu5dXdbq5+UTVHfk+x37t1d24UzauP/bmYfsUWZrhQ0sh2fPOez+Wlqxb0tm5tE6Ozb52Qp2rc88eKLRfVJEC9c+v77EFOi0NklQuvHljaVuLyWVmZsy9+XUEGwKtBZuX5eZldegZ1tagCWEMZZtmFmJmK8VxSsDAHiURRhRBBgjhLhhsxyDeX0FI4TPU3C0bN3ja3/+/JdyAJKz5qF3F3+z84gmV1sA0mAr3/jhP9dtz252tmafWvvedXMP76no0Hazo3TXmnUff7KpitqtWZveW/DRU+tPaPXTJVC84p3lG17ZVgfOlqKfbvtk2aqlp7S9rbOi/tT6d/++MavMSmt27F714aT5OUVN3dZPV8xVICzJ+ioIMAIi4rGTMAIK86+nlLCTHELganjAuPKI73Pc7YBlFWLdyrpVGmFrPn10zaun+q8e6RdVlrW17dA/7Lfd2MP/f/ez6+heQAqhlGJhsiZHWJlyqp3eYm8trziZk9PQs81Y7mzd4Jd2Z2xv91fbGvKzS7etb2nLJavmmQ6V977D/bWW+pqiwmMNjVbSSu0VbVEZwSnuS9+0rfLA0fY1NUVt2SsWN5ccMCa4fV1qqasuLjtR39BCrEcdRR0RYyM0Gb3okGMtIH5KEz0yijAGRCkBoIAxAoooJQghIADCtI4HaSLUV1iJBZ3ngcde0mELskrhQKmtZL3VO9Xpq1FWCtucxoaD7REDHd6StcrYkNVKpjlAo7iGoaMcN+fY4iKQETUVOtryOoKjXUT2uwAFR3GHs28HCgVnja3wZ2vSXQ73as8ukDoshqb9bbE3EhPqOC01nWiFRwh0QyNdBjl/FXxPihBQBAhRQhBLZpHsdsAkRYUCgVoc4x0A4D4HVBVgVQdDmfhXv12zOAZ1tlfs+f7NSb+f5/DpOWz6lz+/PNzPqIvV6zgbUu64RxBeuB4QJYIUw4comYg9IITyFs7X+LJtB/720KNvLM6CHtM++vGj6cO6VpOtmHd9zP2/AHiFfHa87rmULq8tWvbCw098tqUGJr027+u37z2H+s+ut9CotwGQ35M/t3x5XZeXnl705CNPfb2xHia8sfCrN+5M7ra71/8UAx9/hJWWmYgt86qSD0LCR4PKspDM8RRAyYbFXCWI7RMBgsNff+fBQ7Tnl27/8aZXljTWFRKDNzUH+3nZOnKbrSZH5MRbrn/us9dG+Xbhp1u0+p1FM7/65oi5soEE+/sEmmy2jsZye4DJftuDr9w//aXBce5utTW37nj3+f9s+2VbsYk4IDrEF9ta6yytbY7I5Jj73l85dXRsD7cRtLnm4KoFd7+1gFqO2wwYeUf4gr0tp8UWZEu+ddiUJ2f9/soot366HTnf/+77H5d/f9zU0ALhQb5+uK3N0lLtCPejU1/4YOoj96Z1Pz/dnndOVWYXhR0LxphQiggLwvybnDmAESUEI0TVByDOnMcilxCHRNWEOJUzDQ+AJJ/AWGhqbesAUt8Yl6RHXB1uwfY8zPXBqRAMB7Y8qTLPcZ69toSwwBA/rRfj6+LcbnCdERMekuirNTBinKb5hRNCIxL99IjrIbg3H2cyAwLMDmt8nghxzilQ4OJTlFAs8RSXs0flWV5PYY6LyLjz6xmRS+44TIf1z3gtOXr/T7cuCbh27KDf3TEsNMzs01XWiaNHP3mHd0zy5nlfoadvH5WcXDx3y0+za2/6dnxq6vA+wWFd3Gr09R78xJuvJiT1LMzMj3nuDxlBhz/921H/U8Hjv5+SFNYzLLwrYUaf4PRJN8+ICVl4y/7gR8NH3HuVtHPRzUvR0/f0u29SRkRISFcUblPS9X96MDCx5+7Nc0zPP3V1mNfuf+3cta/1lrk3JUcO6hcWdI6/r8sSrAHBtySKxKmOioOecNjFnD7PSsiEUIRUMtp8SVLtJqsnAAAgAElEQVROMUD8OvEeCNhSptSzDc/eUnpi20fW4a88bzjRktTX/+DHB0zTr9BkXKHjtwgeUglwTwOXqQ5AGLNDpPaSX/3hLzfl1Ex69NPRRl9vx9Ydm4LwmCnJvm6url7/2oe26Ws+SVpMb7yz+a/vbPnTG1e7uZYWrl28pzLtrt9/cEeor1SfuXmjaey4oeFuzpTk2OzRmQN/nvfnlTm9r03ZMvEH07qpqWe/1Fm0etGehkG3v/LPKeEBUuX2rVu9xowZFKGTes4JJAzXRDoLPNtgVRMqd+IAUe5qwEsp4remMEmFt7jH1hrY5BWUPOwKetLXjqMHjxocF1q9wDD6mr7jRgxLPafdDzIFRif3vyKkZetqMm7AmKCEn7Jzj1UP+m7kNbHe4ee4VZKCk5MyhvQvDqm0xY4fMcJS9uyIfpNSBtw1ZNg5H9pg8A2NHzliZLbRHpMcOnrI0Nay+TB+1PBxE4cmn+N9AXuHJqQNHGiyF6w3XHvFWKd1e0ZxcVjiXcPG+EM3biSqbAyUygof/+aLjRKCMBJnQOE15HLo4tmtEmmBNTSUjtp5EKmsTbUVJ6LGr76t14ysfmMDN75U0qoHXR1ugEQ2wqUfOajicSA32bSGXaNfTHRafFqT1BAYGmAyttjCvLtwP/EKTukbNmZC0/ojwZNHOqurcBfXmkPCkwJ7JRRWodQgX2tdm9nf6P4fCPKNuqJ/n+tT6zf53HT74Mzdp9y36JA5NCIxYkD8yWLoG+7XVNsWqOe62iAXkPk8t1C+UMQgJSwuowhhyuUweFmPiYwSwk9+LAnxdCK87cT8DTMffW6+X3NpBy4woh8NBlt7ne37P/9l8q57nvzX/EnpXdjvWHcvee3jz/+7IstParb/sswbG6xWS5OF9I4a9oc5L067ZYr75r616djmN29+b11NZpFkJLDoBzNYay2WQ5aorStven3p29cO6cLYtung3p9mXvfSQkTq7PA6wn8zI0ubzfnNvX8Z+cvLz7z5zzsT4ey5LrVDy9avn3x/1k/bcnwNbY6la30AtVk6Wi2GnqtGv/7TK3cMH6vN0PCyg6yQ1/kbclcWI+YQyXY0RPjJz8VPF6v+XuX2rfyBGh70dAEAoKMsd/vir9DDH00I8Og+Hb8tMBlxWdxATnGZBj37EGHMNkrtPV0AqNu9+KA1sM/VE2I1XOwo++XNTYl/n9YF4UrBicXrKsJih13d113yrIY1a9Y79VP+Nk6DwSk99cPPpTHJw8b20VwQ/81j0OOPnhkhEUZIjp1cHIMT8UQtkH8HgDnbs4xZucOjni5xWm21uQ1754+b69P/qolvX1OX891Ns8Pm3DDiuvsG+5uCzG77uQBAbTZLU+76Geu+/HPp3bvuGFxfNX/7d1/gabunXZmUEGc0mdyfvii1Wxrr6je98+Y+5xr/O3feH5j5zs0HA2+NmPLB1N4QEext7KJETJwOe3lx8e7vR8yxTrtv9KPJcUcWZPwQ89ojo5+Y1C/A5O++JE6BWi3tDYcW/GPzsh9rH9j9UPrhXf/ct3ZX8IPb7hsSHBll8vLSSB+7rJB6970KaYCcLVhSChjzXgWnEAClQFx6uqo9ToaaTfX/UX/0jkq56uE3unOtQcf/ArJskEJZVmgvwNq6QKgslKYdoSPumKD5YkPsdX+fpvXi9Dsmpmt+ZdPAh/6m8VKUOnWym/qzDjfgjQdX7W4q2MgIIUrYVZwigITUvOL6pxJEY+vOU7l5LJnMwYnRsaGGwanR/Qf0icluCUMZgwYO6Bfuf872JvLy8g6LiBsYEzQ5bEhqr55FdFByyOSQ4cnJid6GrskwCBm9g6OiIoKuTA1wxmQkJloKAyek9RyeONgn9pznQSwZTCFJifFhKCOgR7/B/f29GiJg6BVpvfpE+Xa9ayNAZrNvRGT00LiwhvihyanhFScyUiMD4kbExUd030FnSgFhYYAr9ieXaMmJzRQwQpQCAYoQwgiTzoYHvCOMMJKZfPSM8sr58Asko3dAiHd3/Q3o+B9BPg8KfwOKhKqBYpKqG7/ocAfugIswRgizlSNTlREjvssrygXAJW8RBoQRxghjrol2PsZqdktD/n5bR6vBqwPaavMOg80CklZL9+q2srK8RV52i2SuL8+vK19mwk4EGumnpcUb6yoPmI0AkF+0ylmXZZC6yqzV6CBleYccjmqDl8NSV5V/gBCH5hnl8sYTNYXLTJQgU1VxVlPNGi+Mu2/EBfVOBUL7TLjoUtH94jPhFChClGW9rI7iOjJEeZLhWlNm826UEtlm0tPysg4dWtDzrqlnBlRWHaQyq5ltrISe8qS8rOO3gEFPPCa6uZztDiDX6HgTlyleCH0+ytJfNlHpwplCiBLCGFiHv/rWs+eglDptFmqQJOyFiMNmpQazhLE2FWdKnU6H1YnNXhIiDiexObG3ye28TuebHRYHRVQyeWHi6LCDJGGvc6TI8q1AnTYLxUZJkoA67RZqNElY0nQzJQ6n006w2UsCh91BHVQye3Vn0erUu++FTnEXAAS7SrQnGGFPHgtCQAgC1KncLkIz8BeisjwpokAFH0GHjgsDpTsCqsKy8BdiX1WtSx06OoE6CWX8FRFBhZwPFXskwkQYEIHISxQZSODUZnASOXh7/BQIIYNJMOUkg0mjwIS4WTIYeRNVMhgkgyc9UWQwi7YvNnibPHpfQAYv8dDIs4dG2GDA/DkNRmP3FcUQ4JQoTgw4Y7gRFCofBcAIiJMixGeLXI4xSnas+jLf6giIMowOHRcMQrSAfyYGKyllIrq8cKO4Q+vQ4QIkSYj5qbmYtcjLReSvQm8ZCXEMfg0fMKKqY52+6ek4E6r8U4mLirQKqKss3KtKNMaU6Mq/QikW0uA8kvMur+D96StQx4WEEDEAQIg7oRLK2Alsl5RVwXXo6AxBJcUYIwSinovkgTM5+WV7IedPiZkO/m3uSiTTrHTo6Ax+MJPPchjLEqQIKTsVJQRAhGfBkVKCrgjSSG4FI2WZMqlSCtwaWs8ydFwo8L2PSboQQTIAoKLCLCckOnR0Aub5BCh7FKdDAYjkQ5QBuauakpEgxOx4BduZUVl+/R9Cx2UAjBFr2jJQQcTjxGNZUQ8QqCsuQBF2qSOLdm5nsjL7kqhXg77j6bhQkJNYXo0Rn3NlA7Vy0EV7Rh2XLqjYxOQkRBYqEJmEyFEEL4/JelPR5kWiWoiUrEPf73R0BiFUtCRc2hCKoBmIj0RdBdiBj1B1j17m+LmILYuCjKpOrW94Oi4MKABSaaCxeQ0mo8b59wQAKJaw4FXp0KGAj+EiJLtQyaR3DAgw3yuR2B+FZJUcYJWsGFTZya//g+i49KF4B4ESHAX1hG1XSNFlVrlMdiZSIUBUSZZdZiJlboFOp9JxoUBB0AYUjQJ+/pMHLoV6+EV7SB2XKmQPZgTKiC5PFbA6J0FiElwtRgU8EQYh0cK/fp4rzd5c1NRU3WgDAEtTYUV9TWu71vDtoPbmqoqmlg4ndXZYmipO1LW32om2e6mttam5qqrZDpR2tFTUVxU1WbQfHGyN5Y3NJS0OoE5bQ15VQ2NDF+bTLrA7LM0V5c3tNkodra2NlSfqOqzObnteUQVBUQ/heiyKF6lSRxHFFfZHZyKVYMlz7p96XhfxXAP0nq6OCwSEOa2Uk5iVaUtBD5Qrhfoi1HEWUKXAJyY6lGBLOLWK5R9cEkMWEQIAoQ4ElCIx+IHOd9y0aP7NPy34+9IaAOeh7696eea/N2RpfCVSYyld9twrqzccaEGNmTmLnur3edbWUqvGmwtW/7TkpbfWNlMn2bXw1a9funVFnlYTewfkzXhx/qqH17WAo+HEl/3fnrfk+5Ma37a4KnfJ47/75VCxHZWt2DL/d32/OXmqQdPbXpZAYsyMBVKisAMwRkw6T661AFVXXtQuQ2pbK3lIV9XE1WOtjgsPdRlF9tAFUKZ2edVPX406zgKqyAsgZh4OrhwUpWMmpj4QIIqoKKWIa+TxIaCgMcUUcLZbG6sOnqrOL+pT6etnyt21o+Doaau/saa8vOBkXlCP5CCDe8UJ2lFbXFt84ERBQbNvaEnRoQMNx3JOW8aisvJDwcXG2Mg4f7euBcThaCzIq67Ym1tb3OIbnbNzj/1YQXBjez9T6Z5M79TBMYEm91YfDltLXeWhnIbCksh6HIhzdu9oOFFOjBGnW0uKjwQFpccHmtyeGJxtlfm1xXsPnChuC4wsOL7XZD1VUtZ+tak0Z69v0NCYiAgfraJYlxHk/oMQEOU1FWXTEl9lzHiMwMkWlrqny4rTSEkmuPwez3/5VUq5RoeOCwAKQJ2EafhRQpmXH6vP8HlzQIBA6s5yNzrOF3y+EQnWFB+7Rbw7hnjiq1SWmWiQqqdLKcbCw5SpR3pKpLJW1h6Y//xrMwsOt5pCDgQt+WlWU20uNfmuWt634eDVz3386ii/Lkzsq/fPXfDlJ1/sbq83xedtN33eXt1UVwMRp9/+7pZTv7v7xT8MduvY4eiwZM358KNlC7dXESkgIX8tbi4rtRrbkG9xzvzb31t+9+iYHm6trdqb8zaveOKtb2pOlvvE+AWGZNKm6lw/Q+g3qH/p9huenDF9mHsTe1vJ5k9nz/h+zmFHq09C+S6JNpU3tzTj8NMvfXvbM/+8+5GpaecyB7wMgQS9GIktCRQhKooEbUoMBREnVVJdtQykuk3WubAs+sbsA10GUseFQM+7pgJfvoAwH+HgQ0SE8xPE9+Hkj/O0v7Kt9nSd0xgUGe3eUU8BbS/PqvIdlKzBCwig+XRFh8knLDJQi7aus6HgqC1+UGS3V+y5OBjy9OMgIizzpVdxAwBE7wwwAkI7kVxA7u26ip5RSg95KgMJDoDSH/ttMF4z4JpPUwKyvkiYM+CZ6zNeHx+p6e66gx17PnmB/PuhcaF9dn73y6f/av3kwA3JvrGaFBn3L11asmlb9Kf/Ho52PPCH4wMOxzy/8SZN0lTUaa2YGbs19o3Aa16c0LL74/j5sTMfGXnP4CQtN5euqTi84hXps79MNHjP/cumtZucH+2YEglB3fRsnH7v/Uw9VKwZqoiasfRAzfRkzTLC15XaZaiT4rIasvmBLAvpGZw1+TtXzTfc/cZITdpi+UvX5JHgYbcPD/H0jXRc3qCAMN8fiVPJQHjBENiOijzq6BJHu90JFXvW7HGEDLz2+iQvg9FodntqJ7bWdmKo3/Lu/JQFrw1ubQdfPy931zqtFgc4c1ZuKY9LHDlpcBA2GL2MbjdGR0e9Dfvk/vje6Sd+uN230eEVbNYqga/DA1DKdkC18AUAUEqE9rKauszPdqqMVslP+KiGhzUVR1NhRf6m3UVVWxuPklOlBfNDvXeuaK2qPrQV7fYZ2ntkdGAXG6izqvhw/vEdG/Ly847aZq6rNu7bd2j7+uiInxb4j580OjU2zr3No9PWWHFow8mirM3rqo4XB3/+Q1H7lvVFzaU+fXstDh947ZCYYC/3681WV3u6cM2unIpd1uO+h4JyZ1Vbdi2zN6Vu+wWlIZQ6KMHf3TMTsFeczDx1MnPDsaKcHPrlynprx/Lcg9sC4pYtCB1z7YjksHAt59zLEpRNMHKSFAGxrMS6YsoW8gSbOAG6yHq6ELKoOBIq4+NIqDl7UF62NRZm7/hvfco7Cf6++c0VOds+qR303lVRbq52VmRuPtXub/AKCPS1lhzafrzOkHztiNhuelrScQbkLRLEaZHlJupGr7hGI+r2/mtVgbNH1M0pSUE1G17YZhs15rpHe7nzda5c/vTr6KOZ6RlmIOXLX3jH9PFXN7u5lp5cNmtfR0xcQmKPNGPWnM8qwzIm3Do22k3UJQf/m7Lt6oZp6RlV0HLg8wF7J5Q8P8CDH0OHZijhFiF5dBdjCWG2MwIlotfLFhJGQGTpDAAAxEzHqWqn1Ax706nC7V/NmV+zkZpDK8vTv7E2Fe/z97Yey/NZCGHPj4z278LEnlQV7ly+4KuFuypP02SvLScs7SV1hU6c9PNsZ0jPqPCugi6x15/eOW/+8l0ri03NfonGWbtrchqapROG5lWzTYH9e0d0GXRrq3PXzpi5qHiHvyHxeFh8flZTaWaUX+X2Uz5R/qGPDYr3c5OPUQK20pz1C+bNX3agsV5KMa3Kqas91VTZbui5chYE940P755BlyeyCFFCESCEEaEEca6J6PICorJHlaAnQ6egq66riMFwRQZXtHI9i4CU2Nprjh+rX1GQX5JfsziNVsf27+Jye0dbdc7RynaHFTUQh19Mz+Hx9Dwyax2XKxCX/ubS9KpjIFVMT6kncTcg/a6MtrnfzXhhV7EhdOiIpx67NraLckvIyOfu3PjBpOeWF0pbf7lr2vt3ur8WxY2a1LRt5nefrc1ud/YZ++Bj4/sGu1+pKPXmGaVrJ909o6T566033PvJw4lafwAdHgABBqAEMAKKhECu2MTEmmFlZ5ZNUCfFBsT164FvmyxNESOUnkVd74SJY57NGDN5Tr+ZUeOGT/hs7KnsbzNmpMy97soBE6LPdbNxwNUvDOg3ZuyOT1+oeHHBrQObCmfv+vZDwx9X3dXD19i18YHRt8fI3y8dOebtfx/xWRTw1Jo7zPv+NO5I4k0RU191d2xU4Jfe58aXNky4eVbsDONzd4+dHu93YGHc7F5/fzjjnsFdlhuRAXwzbvlrxpCrBmb+9HX9S6vuTTm64Z1DmzaFvLp6SgxodSS8LMFTWmC9DP6ZzHni0z6i38sSCQqUqkaG2CJTRjKUF+bLUaaRevRgppD0Ebd95P3LPU/89eOP/vFd5cgZk9wyAQCkhHG3jEiuWPvBKy+9/O6ik4Z+N12T2J1/bTrOANNW45QEpSPHiPfiAClU+rTAFNo7Ldz31P7dmbu2n2zt2TM1yb+L3cscmzFa2rUuM/fUzhUlgdcNju7iWv+45Hi/2qM79+7eeaDclNqzR5i5i6AbnDYlvnLd1sM5h9Ytt/S+LUVTw1iHZ6BU5h0jDHJrjevGi01M7rcxjTNKuLYoHzNSLS158Mgz2G32/Gyn0SEFIWhvL8gFfwA/rRTe5ra6loIdAw1Os3dtaaWjes8gb6PU2Q/OHepKslBDUX9/CSC/aG9yc3GsZquhDtpSkEsCWgwBRmdDW2EODTQis8a3rW8sdRZlDjRhyVxRXGhqPNTP29zNIy6AaN+qnYBkqVG1KBW3aGEuf8gl05W9ihRQseoodaXUewJKnOyvP8jXnBpx7sspYAkAokJDewd55E2l43IHU3tkp0PGWkZydwRY+kuRhABAozcpANibioobOpL69evnbciIb2yuqWiPifZxV2mz1mQfIEMy+pVUe/W8PyD/ZG2/tDB317ZXl1e2B6dd0ae9ObGPr7O2tjEgLMjt1tpyenNleMaQtCpreGofS2ZZ2/BYX40/gg6tQACIz/gomhgUKGULRtTqhFa9yEsoUMAYUxGPCS9OI8qjuIeQTNaIjAdHpvVNkMAcHj3yDyN7hMdqrrL6Rib2uWFKcLjJxxARmz7wBv84f42WuAAQN7q/X0hikgGBOfHq68PSeidqJO1RI6IxQ571jh4S4UM6OuJHTA9I6BWmdQMOSu7Tf1JEeCAyOuPTBweM75XQHYvKClR5LYjpIAC1bYYYSaOiXixYU6iTib1qMFdeauK1KOWevAihum2rNT6ctS4nc8kzh/1fjjy9PT+mZ2/LOq/rFtwY7+ZqZ9G6pZkny5rASCUr2M1B0T0ybp+U3J1PTDpUSL37XkooMxNnq1l9jJSnPtha1shert7x5sp8W3L0FL/ooLbcd3KdY66+4fHe7gpuZQun/pF+NLfH/H/R527Le/Rd3/9+e4u7nu7xH7/Y2xYVGx4RlipVbNxUFTVy0m3jYtz1dPe8H7B5TOsDpR/tHvVg5Jw+B66rfHGglufXoR1Dnn4cKCAJYwwOOxELh68ZStR+fcIdHAF1UqbHQglVJsBFWwshdODzry/GT6Pj0kX61PuBzzQqoz2U8Ioca4QJVR+qCshA1NrLMnuZEKZWKk6CbL1SCmKZetTkwEbf0ORxQ+LHhKGjgeNu7JFd1eh2uhsAeYdGJg3uQetaiY/DP9Lc3mDy1hu6vx1QqjClEAKEsIo2jzAWNtFqG5lzIXTo7+4eBDVbFu0rDOk38aOhBpO5i0N41ORPP6L+pav2WpO9km756D3knrmCUm+alkDJsdlrTqOEYQ8+F4BN3u6Ph3jQk9npXrbczXsdV08f9tS+Ad07E7hYQLxCQljjVgz+KIQpKrcn+PQQ8KlKpf4n0heMESWgq3zrOBNU+N6qNyIkyir8UyViKmRQpC4vy7VlpHohLlAl+iSiOuNBHDQGJPSb8BdSW5jpRCEBkenX/Kmrq3HkFVdFAhStWp/fFtSn/7Bg7W+ko7tA9n6hgnnKRU0JVdgJGGstf0jmID8AwxVXD3eaQgPDzlHSlXzDw4C2jnjhDn+QfMPCurrW6OtvBEifNCLO7BfhH3iO9pcpMNEEzpRbno8LQCaveL1xcgEgD00CiESWb46IneewhIhTEEw5oZTVksElo0CUs5dlTqkOHSogbrqMWLIrs4wxRgSIrN4tdzqQQkk5S3ueU/6ovPxEjYVPC4lBN4+Aw5JH3veK5suTbpygaSBbRzcDl+7js7rMZEj9TReFFo9e2RydmqD9MfwSR/bSenFwz0TtZ0MpvM9IzRfr8BQUAIhQ3aMgeFEKA1TI44qRSPkrEqIOseaoqO2BIvKnQ4cL+IlN7tgyUOKkCDNPetmqRdnEWC3axfAAhPwF5XOSSmuXUj5xpFsM6bhwYNMaLKpiiSW4iDH/xAybMgN3UZ9Ux6UIScJYwkxAVM4ZKKGEEAAxesjmPMTexs2aCS8Dcmkh4VSk15Z1nB1MjkqWx+M8AD7s4zJtQWV3cEQJpYSepUYneFmqZAIJR3ERun+Nn0rHbxRcIZw4CaWU15TVFHyxIerQ0QksuLI8VdbxYbNDSGx1CKso8ggAAzZgmX+KsNjslCt06DgDmNHdRd1X1rUAUTyhyreYJAsjWNEzJ6moSHLPKN+pUl59Ieq4UKBMb5ktM4wxVqu0yGVCT4hUOn47YOMVVJDeRZqAqFxGFsuJ575ipJJXltlN8hcwwvpep+OsoPLcGYBSJxbi8FiVGFBAWMkRsHL8A9XNolStegMKYh8EpDc5dFwoIBZkGfMFqJjxoEwdF0DsjFhPQXScHbKMDwvAbDxXrV3AVxDGIDq4lFDus8tXGrDinizGcn4o/fmB1Ss+WVUGQLJX3f32j59vP6zRXpbUW8vWvfvOmi1HmpwtR3N/fnvszAO7yju03Wwv2b5qzb8+WF9J7dZD69+Z98+H1uQA2LXcSgkULv3zkrUvbq4FZ3PBgus/WLxssUY/XWd53Ylf3npz7eFSK63eumP5P8bMyS5ssmm7+fID785KWJatBbmmogx58ykMJXqykXGXFxLHQPYyQmuDt3JVn/yqP56O3xAo58kjVdGFrz62S4pOm74GdZwJLv1DqNwdQ4i5ivNNDEtY9CxEMVBIAIHY5QC4x4EcvM/vYRwViDpAigRKHRXbkaMBAjTqO2E78WrOJn4O8JFsNaaWE8gQDVjjjJnRUmVsy4OASGQ0tZQYrCXYEAegTSGDgrMMYS9kDAOn1VG6mWILaFRwkSxWr9ZjzkAJTMhS5tVajIyxgLqhkS6HrIOB5PVDqZMKLQEuIypJmI8VsRhMKUJnaC+DOCGCYN6DIqmhZ7g6LiwY+V44O3PlIMydNsSaRGKoXIcOV7B9EIkFgwARwkYu+FyHzElWUZR5KgKgUh0VOXHnmp8WtOeVbJk38XcLmhpLwLCa/OFTH6PDVtNq+du/InffMvl3X/75Kr8At8HIUbDyLz9+/eWXR3zqm8mmb8x+RrvN1lJj33Kd5Y6HXnvw5deucCcsBLbmlm3vPPnRpl92lHhTQjd87o0cHU229nbbml1R0z5aN21sXIpbJfGm6v3L50/58zywnXAYJGRaaQan1dZmfdyStOq/tz87/5Xh0W6dudqPz35u5vdL5x73aW2ne+Z4e0uWDmtbvWPd0Gfvm/7xtCceSNfmaHg5QUhFiakhdlaTmKcQAF9jQAnlDV0AwJx+5Tqni127ZQgoIfLpT9nl9O1OxwUCT3TlP5BMTJB3R+Bc+ov2jDouWbBQSphVHxP2Ybw8LIv2cQkhOfcFcGlcUDG/iyREnRTOI9M1J0Zd9cDiZSkLbjxAhg8c8WZKbObC6xYETr526Mt3XREY4OPbVdZpiLvmpQdCew/cNOs/8NxdY1JSCmduWvht9W1Lrk9PHpbq35X5gNHPN2P6v//Re+Ciwh2nYqa/NjLkwId/yQo4ETJpxZ3JgfGRwV2oEoFfaL9b717WK+GHiXuDnooY/cDV0rYfJixGL9w/8MGJGaH+YV2prpp7THn32Zj+Q3at/85r+gvXRnjt+Me27Xta7lg1JSWkf3pQdxVb4KmpvK6Az4KLUhxiGlOI9TFAxGOMXBSpOmcPosKs1F/kD3TouACQExHOlRd64tzyReijAdHZfDrOAuT6CVJ1KFjGwVYVa+hSAEoJQghLyEmUOgqPtRhhCRMn8XjHw0ajf1zf3lekeTfhsD5D0mKD81rwiBvSRo3sF3dulwsv35C41D4+VZGLSEb60MCE030PHJzc68tBw+O9w8/xw2PsHxs1sHfqce/C1rgRAwe2n8gamnpd8qCbevU959tKkjkgatDAQXsNTVGx4QPT+7TmNsPVo68YMbFvzDneF7A5IDIpLY00Za8wjOgzzGH5ZUjYqZChN/UdFgD+53znyxNCZ4qCqhMhD9YqnQu1TqSIr65+uiIjZr1gHrrVb6NmAOrQ8T8HEuRkJI6QAAgBRpgQQihhuhnIQ19xHb8VsCMaITy6slSCUHkGiMpNCkqFGiSiRBQJQfG9F40MjzPdttzv13/30FNz/ZurrNL1L9cAACAASURBVIY8CeYaJLul2fH9n9+YvPWupz5acH16p21XDevOxa/8+7PPVmT5G9scq5d4Iclut7XZSPqKYS/Nm/7glNtT3L6vtenoxtcn/+OXmswSgxelP84xgb3Jajlijdi0+Oa/rPrb+CGh7rvCTfszF3834Xc/ItrohD8i/KYXslmszm/ueWPkyj88884H9yTB2f/NUTu0bP7y0XdnLNl+3M/L6lz8swnAYrN2WA3JS0b9ecVrd424ugtbucsWPB/ArKwCitgyAllJlBKiEqsCWe1H9dtHQIlgPAPIet8uos1A9f1Ox4UE5xDw0Q/EN01h2IaAAmVaufrJT8fZQRFGzDYDC18XtXuB/CcPI9zmFJjSMq8XYk7lO48Ewyd96uQ/DssZP2fkbJ9BY6//+7V12V9PnBG24KbRk+4f5IO7iLgA4JUx5cMZfW+Yse4/r5bet+fuIfUVc7Z8/Rl+6OBDwxKio7tUPjUF9Bn/zyMZE998fZ9zVcA9+x8I2v3mpP1Bt0fe8dF96Y6grp0FA4Zc+VBc7oRJs4bMtD34wFVPpsQfmT9obsw/Hh/75KTePthNxAUAZAS/qx+bP3TYgnc2/fR97UOHHul9aMff9qzZEfLInmmD/YPDNXLHLjtQYMK0WJBPOG2eFYOJEMSg/DzHjnNYwlRteKBwp0SRWv4qAqFrBXpDV8eFBbcTZ7r0wtUKACibdWPhlurrUMdZIHciACNBdlGILUDFHsa6GIQSSpkAmhgUAoSwnOgCBcDg6aguQpLRPzI4LEAakBbeK71HSHZ1IBrar1fv1EAvtzwm+WaDZPAPDusd5ndjYN/4pDhHe7/YgJtCh8RGxxnPZe+HJC/foMAg3yuSAu2xgyIjOwJ9JiYlDEvqLYX6unOnlO/FWPKPiowIhGGBien90vyMFUEweEBSjx7Bxq5awQAA2MuAA4NCBkcE1kUNiE4IK/AfmhjqF39FWHhEN550EUOLiGl0yyoCYsKbCgEWQMBOgbIbqVoGUvn7kd1LZQ6pywlRh44LBlH/43KkslgB7/GyHVT3etRxNiCsrvhhPjQpj6C5hgB+bOM1Zv5/heEsGDHkPJQg7ZaGwoM2S5vBywLttQVHwGFlJuFaUNNeXl6wxMtpkcwNFYX1VSu9JKfmJV96enNd1UGzEQAKTv/saDhqkLSO7XSQsoIsh7PG4OWw1FUVHiLgRFptRcqbTtYUrzABQabqkqPNdetMEu7GEZeHQjHMTdW6VPKHYgiI8DEgKqD46U5+5R25gSH49ACyzJUI5ey16rZq9dPlcFhbGutRSLSfpl+itbHJQg2+wb5aahO0tbIBgvx9zcZu/Dv+jSD1nnvZ8hRcKl6tkWc82GXs4xPzv9f+yg37VmTZ/HuNGhel4WJHxcb3tsf/+a40La+ct2JzZUj0FaN76V59Fx1XPv8UoWr+HdcUlftqWPBfVH02Hn15UZpBeK6xMLz/P195/CjE6WCDwUAJcQA2IM0pCyWEOikYJAyUUOqkYJS0HjMpdVCKKEgSpsRBACGQNBtyUeJ0AJIQxgCE2AFLSGM7kfIHNUgY+LSqQfMzX47odf80UGh6IH8sLyGEgPlXqV2cWfrbOdOVkwkKVOnvcqUC8eKeo62ycNfcd3e2aLvaemr5ug3Ldldru7p91wfzd54qaz+Px9JxiYEXVCQsJ7hyIVmRVfOw4tJatH7/4U1lDciJTNU5S/cd2VttdX9185EfF2XbQ2hNYTtYjy9ectz9tbQ6K/PgodzqZhs1tBUe2HHwWEGzXvS+qKBAEWbqjWyNEDHVAQgAY0SEGj2WG7qyJgblGS+4tn7Ps7yHJQPGEgJACEtG7MmrIIyxUcLsXoy1R1wAQMiAsSRhAEDYIGHtERcAEJaMGGMEgABLRqydwIPUzyxh3L0jLgNCgChTNAMA4D1eVcSUy85cYBQQxhhQJ0UqUBYfF3chyqGQTbd5GnMtNUc2fDFmRW16/96DSEPujm8nLi5yf7Ujf+Xchd9vqI3vmdrfWPTLj4vnrjhF3F5t3/X+mz8dbPBPCYvp6bXn/TcWZeY3ub9ax+UAhF17aIgK8QJCgcgR2INXtNYdP3Vk2cHi2qKC0p3rFhzIL2zpQhOvozRz2959B07j4n1bl2/fdKC8i2ubS/JzMrfk1hUWFO7dumZDTnGNRQ+6FxlI3viorJWBufuyIEbx7AKAd+aQLMQCnSvQcrVZh44zgAADcj2VIarYZMhSLaAc8ACp53QFS1nOjvkgORLVPKVX7MkiNPhExPW8Knfts6/vyq+Py7r2qrvGdTGrhoN69g3f88v6eXPy21pDk4dfd+Ptwe43WBybMbru4JezV+9tOLSsZ+zYGyKCTHqJ+bIGsx8H5YQof8yFqGReleZVGHrFizfSdx5/8pEFByHlgQ/n3Xt3ip/7qyNv+PjVeTfG378a8NcLPzlYO979tajnjfdJy6Y/9vQnmyrhutfmfjE+I6L7n+8vaVBKsdzTFf1cQihilGYKYhvjRkNsbRFCGNuFZRqKXhU5L3EMHb8RiBRU1u1h5RXKq8QUIVXPgq09Qrnqt/IiPOKq2ATyd8BzOTQAADD4RvUa9aTX/i9mrVi3ctF6x5DH+nehUIJDew/pE1V3YPHCBQt+3lMTnDaqT5j7t5USx06Iq1j+08/rF36zoLzn+ME9Qs36P5DLGvzXx1pJ4pyIxVFR1db1qOZnwMhhAwCIDg4OO6c+gRfYAACI7erY5HNdi8FptwFAeHBwUoDJg0fScSHAQ6xKZ0qex+ARV57AQJx1BQDCwZkLsADl0xoyteoi/TQ6LmGoXIaQ+os8K+BTvJQolRLBnCdqphJVFK2Egpqy4IQBpdI61vhsxN5Wm09Dw0MDreHpiT2kug5nqLdbIp/D0tFsMYcmBAeXxadEJaIOi8Pb7I5ORW2tLR0+8Qkxpx3WYUkmS5vdYT4nsV7HJQ7ZOZyyvZKyFEStUqCOvudE47FZW0/UXPvgu0PAO8C4c8+2COPIyQnuhjdqt7zzqe3ZH/8Ru5JOurv1/Q92/v6lUW6upcWbVuyr7nnb829NDgzwtR3Yvs1v9FWDQvVj30UFWyWcMCXIn1hCQJmdnyCY8hFwADGZS5lGBvCvAFKqfRfpR9Fx6UKUUXgHAgkSAUKYzekyvp7LNiW4yGePZ5x9gJVKMkJKQc+jo5+l+ujWH5+035m1Zfzyg9E90LJJS27df787XRVHwaq5O8p63P73xU/41dcVFe2Ys5I8fmcvN3HUvutfbxeOfPuvLx/0vnlY1X++XB3x4i2j04L1qHtZg4LQLFUirlwzJMxfCHlQXkYGb/+4q0aEB7cGh/gQrzqbya1yOwBgL/+oPhPuTs0sCbhnTPtnpV3tuJKXKTz9quigJmNagKG+pFk/8F1sIIy5Q4asEwRACWO4IJHQAiAuX8CrzcIHRhbTBVBEqfQxSR1nggIAoVj0LHhZhVCQ5KDJ+cj8BjlpQGeoo8hVZQrA1dGoS7nGU3gFpwy9/as0INUnC0Kvvj8j+kNLF5YTUszISRMcuGrH4eqOgP6TrzR3GLro6Rr6TX04NSr++Oa9QENHPvE0Covx0/+FXNbg8kCc0Cd/kRAqF5uF0JrWlwzsdfc1vaBm+w/7GqyJ458e0vXVISOnPweOklXW4CAIHP78011ciuJGXxcHcPyH1WW1oSPG39pFp1jHrwNKKcJA5EFbNtQtIUIo0+tm9FCmgUFEvU9WDsIYEQKEEMFlOU9RKgZrQ24b8ad+saGm9vqcGkdgkE90oLYNykGsLWWV1D8sINBstTTVnrCH9gj2CfDScqij1uaGtuZ2FBEXZGhtLGlvtRhC00O8NbEPKVjqilolh8GvZyC21ObUQpTZNyzsnJoeAEBtdktbeRWERgf64Zbm5uYCR0ivUB+zofvuyEjWfWQ5LgBGXNURlHXFoSg80rP8FnmajBWmspgW5/oaHkEyBUamjEuNMIT2GZEW4BfWY2xcFwaNyC8mMT4hPjEtIS65R0xkQnxSV2EUh/XqFxvkmzhqcIw5MD69X3yonz6re3mDsU0xF8EFkLMNlesGsOXu2QuHXzX1hvE3uLVFc4Uh/sZ/P9pP4yv3mTp5wvgBesS9NCCbQAIjl1Lg7stYqODKA0KMpiKPF7EwjLCYJkIIS5w4f36PcnrB3St++mBlHYAz64cJb3z/3y3HtA7q1lgqV/7+L2u3HG5FjXtP/PRCxrfZO8o0GsKTwjUrl7/27sY26oQ9P705809Tfy4CcGp6Xyfkz3l10dqnN7eBo+HUt8PeXbjix3yNz3y6+tSyZ1/bcPS0A8pX71jwypWzCvKbHNpuvvwgNyn4p5h/jLFofiFXBh73KQWMsdplSMWkB5FtyN9CnS7wEP6RvcZO0Xx1+NCB53K2UGBIu2nk+TySjksUfDYXISXPUDRdGLlAh46zAbEUlYkBUaGoLDgvojtLXSt3PMdgnBfKwjC7p7OGlTY42zpqS3ceKy88kVrma/A6sH6t1/E8i9FQkpd/LMs/om96mMF9H4K2VZ2sPLU3uyC3zhBy8viu7aXHT+S1joQTp3aYT5CkhJRAtxosxOGozT1aVron6/Tpehy5b91m++Fc76qmns7cTRtRv1GJoWYft2Qau7WxqmRXVk1JQWCF3Wzdt2FdU16xk4SdrDl5ItM7fFBKiHuOqrO5JLuyYM/eE4VN5vBj+7fYbNknippHGXP3b8TeoxJjY/26H8WQCpd5xiCQA6PsrSvnqHyGjYBsueFKpKIgJPcEhUoeM6KqTEPf9HRcMMjzQYAAI6zwqrhai5jr0FehjrOAAteX561bADHIwSciubQtIfIwGiUEWHGFBWZZqoAFbo+dm201DdnL3n5z9qk9zaaw3JCNG5c1VGZJpoCtmwc6C6568v0/DDe4dx8gdUeWrfjms693NVaZUyoPm35oK6+rqqBR9Z8tubHm+TueeWGg26Dr6LDm/vTdZ8sXbKu0Q0DKn/fgxsKCDq82HFhfvubWvy68Y0R0ktubLS2nMze+/vfvyo+U+cb7h0Qep/UVh4OkqIXSoeajkx754tlgs1sqhK0yc/a8WXPnHrI2+qZ8dkyC+uKGxiYUVf/uklvq37lj2p09u1/Qle2DxIwj78nKk2mEiD1KLX7GVqMsA3njq39j61Qlv8cJ8xhj2bSI3emxDKQOHRqQPvV+RYSFAgWKMVZ0XuQ5OECAIPf7uRf3aXVcahj2wtN80ILPRVIsYeKk4lNeLlEx4ZVkFmFECVGIVVRM7gLd9+mXHj6IE6B0Qb8NXtcMGPdpsn/W5wnzhjwz6crXr43QdHfdwY69n7xIP3pwbEifHTPWfPJhx+d7r0/0jdF0zjywbFnJpm1Rn3w4HG2/7+XcwVlx09fdoMnrhzqtlTNjt8a/ETDuxQnNu/8d/2PCzIdH3TMoQcvNpWsqsla+Kn36xgSDefZbm9duov/ZdmsYBHbTs3GfaQ8Qyi0jZfodIYQvLVmdinOn+N8Cu0AljgFU3usQQiD0MNidCClSL+fb49Ch4xwQpHp+dMRInPbEMJtQr9eh4yxAwDMEhDEhTPiCMacAYSUdAZBDr6BbUaBOAmILBYQwBpHJeAZ7w8mS3DVb8+p21GeT4yePfBPqs2d5S3VpprNjIwwfdG18cBfuBc6K/D3HD2/dkFd04qDtP0H5xm2Hju7eGBI6Z4Y06aareyclBbh9X6etriRz9bH8I2s21uaWBP7r22zLjg25zadRn4TZfsNuyIgPN7kPvbbqqoKTSzdnV++05PrsCdj/3yLrvqX2puT1SzoSrGP6ZaQEuPtXR8BWemxr9vFdq7JLjh6hHy48bbesyMra6RU9d4b5mslj0iKjtfCwLjfIvQmqVJZ5KcV11FYh4smUZFVPly832omxrIRbkenqg2s6LhBUY5Kq8EoFqwBc2YA6dLgCcRoLcL8DJj2AgbXNWD2ZeZrKGsvMRUjUBoWnOOXdYM9ECQAAwNlWWnl46Zofy1cbzeEtbf2XWRryDgb7SCW1MRuCE1OujQ/q4mZSX3F02/rFS3eWnHKmhmRVd7QV1uQRnJL5s3/ykJ7xXQVdYm+uPrp27fJtq4u8GvySQ1fnVmU1NxpKjChzdUT8iEGx4V0Uee1NDUW7V65akr8+WEopjSxbfrqheH+sX/PR6ujt8UnJGT383cwLUAKOmtP71q1ctPJAbTVKD91dWVuZ3VBuNaTvXh2YPLxXXPcMunK8BErlwCg3vViNBPj31SGVUgou5WWQA7UosahvlsVZEEa1W1b9yj+jjt8C0qbex8Y5qFjKoJpw45VnNo2OkV5e1tEJGS8+DYzkgpV1AsBNdl3MwtnHGPj1wCnxiHc3AGNEnJRQghDa+8kXnj2HowmK5vSbHT1u+ITPrjqZ/W3GrNTDk4YNGK/F4gqg9vCaHZ9Or5y+/ZYBjUVzdn/7sfG17Xcm+xo1eQPu/+vHR30WBTy143bTvj+NP5J0Y+TUl2/y13Kn1Wk9OSt2ltcbd419Mc73wMK4ub1nPnTlPYNCtNxcsu6rzKXfNry8694eRzf8/dCmzSGvbpgS3X1NOHvfP413uXjAFfVkCi5kT4VNwAvGxEmUvxNFL03UmQGUS0E1vKHroum4QEBC8RELiT6EEFVTWcSxT890dZwJtn4QBj43xGjIhEVcioVfJMbKwDe3bMYIISxX+6gYDQdwk+F1DbvVduqIE9skf4C2trzj4OMEX6PGm5taaxvzNveTHGaf2pIyW9XOvmYsIY1uvDXFB5y1eX38MMCpgl3xTQXRZq1+uu20Ke848WuS/A2O+tb8Y9RPQl6amsEAdQ0ltsIdfb2QZKoozDM07O3tbeq+ERdAnqxVtiyhcgZIOOkCcGqeLJ3BVL7Vf6fKHBtvg8g9YaRyLNJ3Ox0XDrw5ohoNB9HgkPkIwihLh45OELwThBGiIDQeueQAEhMeVFiuAQAgDAhhQghCAIhyOgECFo3x+a0zydseN+6pq/uk9zCAT3TCtW8EpEe6VR7tDBwQm3rF1KkBkWZvY1xyf+mesKggzVpnUo/rhoUG9UowIPBLvfG22J5pcRqDPfVCOGnUS0GRV0b6Uosl5Zo/hffoG2HW+Mxh6YOH3pkYEoQMJGXg8HDSEdsti8ou4M4rIOemPC8F4HsVAUBAnARhRJ2UFaAp0E7lZapUYITasgv9QKxAnb2s40Igber9sso8QsyAgwsJgRDyE8O7NEcvL+twRcb0pylRSCc8dxDzkXLpWNRLsFhXbCwNAQYgslmMfC3d87GH5WUd3R19HnyQOoX6lJinkLnG6oDJpr/lPQ2pCwAug7kqljOAsv5kJRcdOi4EMEZyiKVsRvJMgQJZfU2HDlcwGUiu3yiqdYAoQoCFcx8n5mHE3MK54RpPMwAwIFamZrrNir6VDh0qqHxvAfimxNYYl6OiABRIJ4kVBFQddJVLxbf5nyoGqXr2SIeOCwFZ+AKxFckMDxAW31XyXR06OkEySMB0RDGSZx0BIQpAiMuSkaMpO8BRZU9jKYuco1C9kaGjC6Az5B6BUhYomcIoKI0Mvq25tApUzn+UR2SVpRo3vtdDro4LDHG24/wXQXdRHxj1RajjLKCEO2YAAIgBM8RFcWVCqSj0IZBZzMp6EpGYsv1Rwgh3Zz6QjvMED4fqwxoPoGzcTLY94Mc+sdRcDA+Yrq0LQYUAkvlUokqtlp3XoeN/DNXxDqg8ugZ83FJ20fK8umxvrKytr7Vqu5haak+Wt3n4DjouPkSpj3/GtfrkSUphdcDHvpnVAdsnxYaIMGcMUCarQQgl5GL9ODouWSBJ9okUmxTj7wEgjARznoojH6dJUUIp0E7lZcWSlwdtxNsjAPD/Kiy31xcf3laq1XOiMTcv/3iZRdvFzpKdR0/Xtmg9CVQd+CWvVf9ndImCO6xhTqHn4gbCYkhw7wF5YC1OicPpdFTsXLZx2+aiDrvT6exqqVCn3W63Vq77y6xsoE67XZM7i45LCWxrAzY2xEVt5Q1MbGI82cWAJcz0lrHorylsUixr8unQ4QJKQJ6jkEsofMdiLQnhbM93GxU1z7VyIq6DM0rVSEi6eCrDRxwdLTUny6oa87cuyWqyttWeaujCoopam+ob6msK9hw5eiC7ormhob6pi+SEtlaVN3a0Hf9p84naupqq8oY2a1d7ZEfNsZoOKF//XWYL7qg9Vt3uwY+h41eBCLSyFikIdSG+e7KlCWyMUhtq974/f9F7p81De6YNrt/4wuxlc0+2uL+6cvmTz67uSEofavaCqhXP/+6XLq7VcamBz0piQGzcBwEVkhdItHgNBtUckDAgwpIYD0JIET0Qw0M6dJwBpRXLUgO2ZGRNPUrlNi3/JhJMepfyshKTxcsqTGZhN0SJZ21da+3xrTNuWFEe2SN1UEfJ/s2z7lx52v3VzqK1C5fOW1sZExuX5shdOX/pgl8K3Gel9n2fvb8ss9TUMzgo3LLjg78t21/U3EUOmzNr6FcHOkITr/BCcOSbwV8f1rxv6/j1wEkHimApZ0+J5cvbvNoHdf2Tr+8f1Lr6+z+9+vsX/73ZOyR5RGQXw4eBg++f1PzpXX+cP+vVaU+VjLqnv8ZBRR2XChATfqRij2MOQkK6ACGnkwq5DHE9xsSplJhZeMYIM94pduuuo+O3DF4YBrEpCfIn4juWoiolB2huuWHo/DLgMhEkVCFV9uFquQ0NMIX2Hn7ze6VfD79heRMkD37wj/Mf68JJXEqccLtt42efvP32tmpb74mP/f4P9ya7pzEYhz7ze7zo1be/2lnyX6+Jj3w8vX9iQBekh14P7Gr+aewtH5TWm34Y/8Kyvw7QNaQvNQi9W0UPCERVBgFQCoRSjBH15LhkjhzcN+rn7J3rN56ClOhb3u6dHtSFXIBP8jXjd711x4ZDAIda7/nv6AStOkI6LgGwIolMoKKgcI8Jo7RQIrq7mBJCKWCEeNdWnh0iioYzpayQqENHJ8gcPEZHZjYbiDgI2624vjdVRUzEZ25VQVdlm6ukEUIZgx0SeWD3JNPFRp+wpOG45FhOIRja/ILS+4R2obuNzMHhEX5tJVl5p1oh5NqE+OTgLjIN5B+TENB05EhOSR14XZvYPyHE3JVYmk/kkOimfYcLAKDCmTw51k/7T6Hj1wFVHeiQnKowyh+zfaFiaE3zGnS0VZY3W2NTk5Od0oj4dmtTndUr1ORuodgbC3Nonz7JpxpNSfcFV5Y0+cYHalTg03HRIRij3NeP5xlM8kLRoGIeasCdDYQduSJXL/xgxOd6QUzHGVAUliklTMIHuOgjAABgCVF1psrYfBQAXEzsucOBYp3LaVkuBC05p9YIp6Wh7MhSR+8bxg+vkNKuiCxbVxQyMcldvKMtJQVF9YG9rrnK0hAyIMa7Jr8krEd8gJsNllQfzaoJHztupKkq4Moe9dn5NSE9w/y93G3HDbmLT4VPmXzlycrAHle2LsyuvbNvmJ7rXnKgguQCiIDQXWZW44wZSDqR7M+B+kOfr8/vmPLcvGlRgW257+za7GOe/ERvd24t1Wtf+wx/cHhezw/JU1MKn3pr8+ff3ere2UXHpQVGSSFOAkpNTrGkZ7siJZStIpF9UL5XElEqFIx5qvTodOhwBUZIeDRTShGiVF2cI5SJq8iSVUg+uyGVny5rmVFVmotU5gdqCwWPns3WVJS98xvzzYdmXzVvf2J/8y9P7YxwH3SdFXs3nWztc9P0Gx8JqK8vKjq5cU9gstug68hZMr920svTpT3+92WUvPfpgdyeMaPcB93iNY8dH9343R/+uXvSq0nfBazMu6NPmP5v6hKDsroIIcwbFZCYFGKkQXkH1YaQwc/c1hc17Fx1qCy098T3h0g+fr7ur46Y9M/3aFjt+oP2JL+Um/7xFnRxrY5LDggIIUxgQN34F0kGAGtPCGMhEEQBLh5JqbrUdx6FPR2/EShRkfVx5TkLYEqiokIsVFmQKh53MpFgmhiirIcAgWv/zPPlZw4fMP6ZHa1VeXu37zUMu2/cU+tpF10yQ8pNDyRRe878n0/RoCunTRtFkOS+S+s16tW/EqNj08KqlkIY9ae/+xhNxi56uv2fLuplhKPr97aOdPR95nQvg97TvfQgUwh4vYavY8GdYlxBCh4o0Rt8o0J8wXtgBnWYI0Pjz+FyZgxKjAfSPPjhm4LAEJjQBf9Ax6UHKqvhgnxQoxQQIQQxc3tF1ptFX0QpJSwJZo1d3glGzNSPnI+jro7fCFiLlmJmTiXGhBhxChEKzPJAPt2JkNrZuYmV9Vi9modb9ZI7Uwj3nM+FJaM5IDgKD7ntGRwgGaWua3WSl0kCU8+JYyKpV6jRdA4Wi8HbG4AMe2oKjYkI9Daf49Ekc5AEkHbPG/Fh2Gjuik2j4yJB1hJipHl5uVG5rXG+W6B3fL+emi/GAakTBp3X2+i4qGC0ZZnoTmQ7IZkMD0pnl1LAEiJEuJHLPFOECCVAEUXgKWtPx28FiEtQyX+ycUbCm1+UEsASYk5XIMRE2fJTgq5qSIMCiAledd8D5Ijr+b5n8gtP6qP5at/YKO1VPRyanuDBkwT2GBToweU6flVQPmHJPxUsKgBBeyEUS4izVHXocAWjjDJiCp/kZoNCEqcC8Gog6/vynZIr0iOMMEKEazQjbEDUyWWGLurPpONSBKssAwAPj4inCEjWXZH4gDi/XrlTFXRFu5YtUtbd4DQEtZqpDh0XDmKwTTk58rOkGGZjEVePuTrOCixJAJQQVjoGJc1lo4+UsrDLIi4CIITI2qJspSGZMcrFDfSero6zQOxUgmxCKAhDegBBGaCUKFJTnMPsKgPJ1harSDPyCsJKQ1goboAeeXVcMIiYCwAKfx6Y7rI4N3KBoYv3kDouWbAkg6lhKKOPosjMclZ5BJwqqgWcQUUI181A3GISkB5zdbgHj6W8pys7CwFQIFQYM4NQ2hNKGi6KNugOawAAIABJREFUVEIDkgdkTllh0htiKklfhTouHKjcc5MnNwAAAXVyPgslFGHQ0w8dbkCJk3BXXQ5lFgOJXRABwrL9H5sClzAgQJjlt7zUhyXsseytjt8KeF6LEUJcswxhrt0NCIMkYeHOIuxIgR/yzkL2VeZ0+WUiZeZVPb2up+NCQW7o8tIf+xpT8uOtNnyGWqkOHQK8CoKIgx/XMEbMkZ4nEoQRmnlsBiaeIZzYmI2u2CsBQO6y6dDhAgqUpawif+VRWDZgljl8CjUUsULyWYhUiEnxia+6MpaR+kodOv7HkHmAhFCMMGvussIMFnmJoCpc5EfVcWmCDQuxnpgiKyAmf6gY4BUaQlz/hwtACrYAoqrNVIeOMyDvQrxJIWQyQGS28nUYEBdi4Uo/tHOmy5ag4nAAvKCMRB9NDALr0PG/B5KJyayjIbPl1UU+Po1+kR5Rx6UM4UnFq8msU0ZExKWc2wyyiS4TOJAZzAKyyZWc8urQ4QK5N4uAEnFa44uPrxseY6kgJyO+DjsHXXk2l5P9APGFyzzuAelLUMeFgyjF8P2P6y0DUzMQjkP6EtThHpQCIZx6zHYzzsJTzV8gKjpnVJXvsukgVVUPIYRxF2o7On7DoHzGAiiI7gRw+QvB92TfVdJX4Cx6FZFKRU0mhMjLlB/69DKLjl8Fqi4IIoTITBZVU4Pvkjp0dAblRFHRiAAQ8xs8vspuzVhM7GKRFAMAAEZYoT3LQvTnD+Jo76g7UmexOM/nqGipaW2pKWs7j7YyAWitqGhpaurCvdwtqLXBVneszuawncdDd1Q2NjdUdJzH215WELU31o3l5WEGKrYnzAvGnD1A+ViRa08XAQgtNOXVKbPpEAJpevjVccGAMSaEyLRlAKCUShIGhCghiGu96GO6OtwCicRC+AixXY1KEhZ6j4AlLOtMMf8DRt+jhJkOIXWEPt8Nz9F4NKfKcuLI/tyfn8lN/ubWMZPHDg4ND/TScCtpdzadPpjX2rz7440F7ZuDn3rrlv5X9goPNncWEDwbrE0VFWXHj9Y17fnbf1qShmRMe2Jcr+ToEOPZSLOdQAmpP5hfhXP+j73rDqyqyPrnzH3pvZOENHov0pv03hVQRJAiIHZFXFTWji5WFLvYCyAiCIgoiNKb9A4BAgRCSCG9vjfz/TFz5t4XSl7YZT9x39mVJO/dMnfuzKm/c87mxclrX/mz0XfdOrfr3SAkLsCF6n2OvJKLqTuO5BRveun71MjjsWOfHVS/Sc2wgKsV5r2RSS4TWSi0gsSkdDVVYEBGM5T0dS6OAWBKVnlR0DYxlz0q3YzOTdeXBBcmwp5KEwgunAoyy9XsLs7npkuIGSag1JIDCcgF51yZDGgG0WRfNcX0BOiSywgoKLX3GmQuL0tL3/HDt//47rd9hw8Gi1MJoUkvbTif/TKMG9klorKT7fkXdq359csPX9l2Ju3YOS8hvGplP5Tx4FuPdO9d8+q19AQ4crN2LljyyYpvFh1I8zyX5hG1Kzn5QnrBfW9P6hgMlZTJdRTlnN647MtHvttw/s8DAfbz0SH1Ht9w4fH0Ebc+1Tq4kjGXXzyzftmyb798fWda/vFzXp42jzoZD2Td//FjN7eI8KnsgW9IQqaQU6gAKEA+ZdSVqGTJCxnL0BWs0KmJvW63a9ahQkHdsbTLBZkbSOWm60emnYEqoKuwpjqDl2ow/3+O0k1/WdLcSYOnQHEtxcf04tGxXClotQAGaXEY2itY1SFkXjy6dFanf2TNXj3924Dwc+u67eizfERcgzBX7FQo2/3Gwg9XPrx+6t6tQ8q//SC5SEQ89kB7gMqbOvNiOPvDI3fNyW5521Onvui85v5n4ZkWjWoPTXRp0AUp69a+0vcRx/evzmn16cnj3957vOeGO2uGel+l+7mm4g3/mPPuqc/OTTuwvcfxF148n1g3duztrV267Y1K2t2GxKWERBnrryVAXn5jVoN0ThnSxadAV8CwQA90fQwTkuAmN/3HSbtprG2bLbVdBCV0VNUCyd29cn+pf+02HSP/k8N101+LNDBKdYTU2FFS2wCBWfIvlKzVi01CnRnVMRAggFehi6QiLkq8ysLqYnLKhR3cy7OwV2xUgKdLEhcAuL1chGU7Wp9cn74r5GCAh29oVBU83KLUo1lmSmTy2sOh2cdjapVVc7kXtBAceUhdOHQx1etPhOxeMRGezBWJCwAOexnGZhZHJv9+OsJxKCo4OKZSe/5GJy0epRtO9osEAupp9oWIwiE4CCZdLIAIYEydOhUAcnJyvl21zknKyiXqXOwbKXnj8bF3VG2MOWd2/rLgQmKLai6tvbNrNu4/nhtUI8qVl16+57Nf0kKCo4L9XFqaxxa9ciiqTbyvC6EGkXNq7UcbWJs67g4J/yV6d/FicE4OYrIaHyVZMiqdgYj3DR3qyjWLzm48cvZcwdnsTObNyo9dyCi0BUb5Vm44uOnGo09+XcE0+knbBtbqApa2QwJ04M2U1obNcPbkISBM6NWvKqPw8wgMTojeveOntSt++W3V8VOnUovj6tSNDffxcYHp2MJr+aH/uXVff/3T5kPLdmXmeGTE1mtc09+70r4LaEBQTOPiw3lbVn+7YPG2gm37jweEhCTWrBHqiofXyzcoKjrs4B/zNqzY+Mtvx5MzL+QnNkisFhTsVTlb9Yxu4FVQevKPbz9fuvXMz3vTygIL42s3SfR1VdG4Aem9JUtU+pkVX4LUXFLZvMKM7ZqwPmERuqvXydMALMdYimpY8fSuC117YXrKnoUnHY3w6Opzic18jixM9Wka4X2Fo3n2kb0n0nKyUrMKRTF4FGeczmZR4b5XeO2OMxvWnvMKzVi1hbepWbZ/x3kMCgzwsV1pkaRvn33Qs63Pls+PNR0SfWj2HtGmesAVjrUXZx5evTE7OiFj6W8efZrl/7o2N75GiJtRX29694fFwuKNkQKWVq3U9xiAWtMuCt3cwwvW796YURRb7MAzuz89Xhgck9gkzEUd3k03FH2yaoUybZ3zbnXgjBnM9BdLb7MAlIWrdI4Gp3xfOr2KQhcMz+BqzYcNGhyKF5JXL93ubxzbuv7ssRJ/n5ioRP/KJJEtKLJW2+FD+/ZcvegXkbsyJ9WxetUuIyIgOioiyPOqMCwECAhv16P7bYE3RWz85vVIVrB2z+mTW1NDYuLiI/3YVTqTAwDY/Lzj2vQfMahW+r4z2//Y6imObvzj9GmbLSg6JsanEviXR1hC46639WjT6ad5X/vybacPFG/YuMcrOjw2KtTP9rcUve8uWQJAGUGWpabgeyoH3My7kDFgRGCMObuX6SryQhw4Ywz02RZoletkL0xP3vT2oaTmTey+xzavyk3+whYypsGVAvP84pE9O04WstBwH5F1esUO8K3TsXHdsCvckJ/esOZYtt3bI8d2Zteh71b5DI+vHhN6RbzAhe1vrsnq2q485Oz+Q+v/ePlEnwfbxFzeSSkcJRn7f1xcHBLtF5i+f+vqoiWbkjr1qOHuwHvdCc21BkLlbEh3oASTCiGYIesJuXrJ8NbTBuELU+67fd52qHPXq5/PurN2JY3s3XSjklw5nBMYCoUJRgEUKMw+9gBytaGp1VETcdMkNut/XwuFdW8Zk/tUu+bVPrsj/aHbXv7m4o6SoPX3N3IFzmt4Vmv2j9619nWs45P/LM4aMewuEN95392pjStGa2iHhE4vDUk8ftvXzbZsmPXuvCmjvX5eMyYxLqBSqwEBYlp1iShMGhAS8cKU03dPfWru7BPlofPvaOMC1/cMje/w/MCEfbfcEbVv6Om3xo4f7fn9rz79azX8Oyq4EqLncHCkpgTUWxcQyWzQ+Waoa6IJIZyBVFrcymw3FcE1K1oJunQVpK53ZJPOIz9J+UeLHl+IgNqtp3258cmkKx9tqzlwtPHTE489cP/i06LduBdnvz6o9pXXqEf7fzzn8UrXMW+sP/YMjH5v0ystawZdZUU3nnLSPju40/SCIvvrQz89uaDlFR026BVSf9DMMe8Pazp+rQj6Ytnrqw92/3uC8P56pDAvYO5yIYAxJkAAFbLnsquuy+Rlw5JCAIDQwPDIkP/seN30lyJEVEVxlZhFwQVXnkAyGxSbZCgcQrapV2X6LDaxecFrz3k5nlLqcaSkfbfQOjf1Dpv/GztXbHdctt79JSS4PWvvD81961drNzCoNCPCmMbKy+wO125bej6n6OT3t9W/rWbr4fujzwfufNdhdx3sf/pIcWGGvX23anXr94l8e/P5shK7ayc6SvPT93zfJWpQ2/ZDgwLPh4vXoNzh4K7e90YjVZtWcJVUIRU0VB5m4exrQSpThQDiMpauzBwH0vUEV/YuCEBGwZCqkJdvMBRxLsBRUpoYXwmzRPQy7EW5nHN/D/+6EUFXPRqR2crzcvMF5zGh1WIDK3GCIPMuzy8sAwBRPSH+im5oSd6BvjyXcwEFuS1jarnBsv8VQtIOUa5mkDBm5a1R5Ze5AADusgGSe3jBpmNZnW9/sq7dJzx4647N1b1b94h161B/R5IZkqCybaUhq7HvJgpeFQviCl2qMjJk/T1wiqnpslZVoNL0rEMbX/56o6Pg+OFjhWm5PmkPL0zODI1q2/OxvvUq85Y5Luz8fvMf61adwOy9e9MC3w+cv2a9o7Dg7rc7d2/W2P+qp9qLiw8v/mTF4aOHDl28eP7QhZiZF18PzPCxxT/2Ud+kyEpQDMV5J3ZsenPBBg/HkV27c4rB89AjPx+/kN+sV5/bejStxMwtTV33+brN+9cmF+QePHQuYtbuz8NDBOAjH/ZoXb3W33WjCQLrIcpMMxmqYEyZsxbwvIloBhDI8BJ/u4xzcBOJgIgK0SdUlLhKaL6y3JR9q54v6fzqs6F7MuPr+2z858ZOL3SIusLRjrRta3eeibx58qMNy42Qarn712z16Nom5kqR10OLFpxIGHv3HX8W12uVeHDJxnrD2taJviKeKmXFhE0Jb7w4bt2xpC5tj477MfbTQbWv4F4uLzi7ee5y/ylvTF29kXUcmPPRF3vG3tXUlbx2N/07pMAHKsGDQKcCzYp9pD8yl90twl4MoTd1ap9QGh7qWbgyrbT0mooDuekGIO4QwCzhWGsZFZVpJl2BAKAWkuACGCIAGkw4hADBGCBj3KHEd9XLASEzPHx9fVleeY637ZQtYoBfTGjfp4a2rNEmrPKTmeHl6e3h411emlfHJyzYLzYxJrbBgw/2SPS0VRreQsPD29fPwHKbPb9+ZJQf82g0Zkizzp06VpZnCwBo2Gy+vr4+mY7zAVDkGdknNCxq6AN3Nb+pbqXBGDRs3l4+Nm8vIz2vbkCCn3dkvYYNms6Y1DnGlUynG5dk52ZC4cmUM64iF07thlCHdoUAa0UqGeY1syFJAZTeZqDPq8qvhL2kpLQ08eaHh8R9fKB53/ANT2eWX+Xw8vxcjGrVMdHfN6DQYc/PyMgvE1fUs0RxZkZAp5F9syP8JnQu/HZBTlE5v/LRUHox2bPVJxPs2duGPtTwx07rS65yZUdpYZ6t/l0PNc82vO7vmPHSN4V/WzfJX4kQUMjkchXaReKQZlshIQQic30dBjca27cRXPj9yy1pOU17P9bC7bP4G5PMCAIAEIwZXPbqE8AMagIjyGyQB3GzqYY0XBigABAOgQwEB8ZYlS1dr8iQxgOfbzwQdj7rszdypd/oF4e7DiIwwpsO6du0f4+C418u8fC59baWd7ar4+KpNh/v+sPvrg8lO1/fteGkX+PZj7ViiVc3jk3yCUho22NW6x6w+cPMg2k5cfc/2yfMVfSOZ3T7u25tf3uP43u/WeQdNeXBlp3qJLh42xuXkPpT6Tqh5F62ykhUuAFURyJUrEil88etUALlorGchlUxdb3C6nUYNa/s/NH161K8uya2uv3Lqx1txHcfGg+OI/OWHckIaTtqYKurXtvjpskPAxT/Pq+o5BTvMOnRSgL2dUetrQuwc0WqPae85sj1Na98JHoG1ez79ONlFw4tOe3ZEGN6PDXt6pd203+GhBCMMVmMT34AYCIAOQdGbWSqCm+J6DyqP0ClaRduuqFJFSyT3YMcHBG4EAxRF58CTqA8GUZjTHmjhWCIMqjLyHcIKH3L17hoyiN7DW4X0DXAr+qnCuYV2OqJCf4tql/JJ3i1k2O6xHaMnByPUVV27SKUxradGF6MIcFVfmzhHVat3bOTw2rE/q+kwlty0rQlILRiZ62YQT5jtazOnTsHACkpKQOmv6gA0BZsKCX8aheLQGRCiMw/lldtfNxRXl4Knr4eLr1JR1mZA5iHZyVhVzWk8uIy8PTwqAQRT2QvKeSefp4uHcwdZcV2w8/r7+wj+UtR/dFjFGcES96QEMAQEVSPNrWi8cAXn///jtZNfzXq8PgDmt8ZBnPYlaWrygYRl2SMemlYwrcWX58AzfG4EICbXpvz//AwbvoLU6NxY6n1GflNhEXYEgnlTUFkIBwKUHAJepkS14QuVAo6uxwERy6uyc/KDA8vX5ePNjw9XZdz6OFTFUy6zdt1zZMZnn5ugfvfJeHgQJ4VFRRRHSWZrt7nbmHvpiuRKnIrhMMhZC1bhVsGM8YmtBkCAgRSTA4YABjI7QIZgHS6mMqfm9zkRDqUKxOIrGYuBXB10QHBHaokCyBegl6Wl6P1qP9AYnjuLkNuun6EAMAUbMrsmcWokB9BEaqMLHDT/wYhIhfAQPegB41IUY5m1frFhLgwhgDIuVCt7R2CGbI4AQigfA03uelyJJz7UCEgMJM7qS8ZA4muQgWGd0YvW/LYFFgUzSu62xy46XqThP/J3zXsnkB/JuYFUKCbFbrpEuIOjkw3UQOyPwAQ0GAyeCsFrxTBQoDDwammgfKvgMyX1JaKW8Vz06Wkc9KASnkLHZ4gaayyc0kwKxlsSdS2mrBy5QmqZVVh1bm7DLnpOpEQqvek/MOEBmp1UNcucK9BN11CzGAIwLnieSozSNbXI3ieEIILgciUB0X2s1JGLYB0UGtjBcS/x+4Ksvbtnt92/r7k3MJrOPvoV1vWfDnzTyhzsSyGSUVQtuHNN9f8sjr1Gm5bcmrlkW87zz+Wc6a06ifvm/PzmqWz91zDbW8wEoKaz8v6Z8ypATNSwQxQNgP5j60xXRMzBQCoQMtACW3kvFaX+289l5v+10hQzofu8QfyE5U7rpyAVSiO4ab/IdIdIKl4sgRMCaBcDtOZJwSnFCNZ9kd6UxgZMRL/YuA1CV0OcPaPUQ98smbjL4YBZ/OLWxr9pr4zafKY7q5AewuOXVz/2sCnNpw8c6q0vCzb+9V3+j0194k+/Wu7kG8LJzZ+/OG7T326zc84ezaf8wbtBo+d/vF9XUIq66cLIBxl2T/1e3rukQWbyj0xPbe8Lh/27LS7b3++rQtV3C5uT1759uCnt+bnpuaV2HNDWr0z+Il5M7q1inQdynNDEQKAqtqj0nDBzKqlJFslcvVP+Zntkgs5VWMBErFmRz90Gxluup6kE9p0XVwuK7+YrFD3hHGTmyqQRL9zLjiT1R+Zzp4UDIELGXZTghZQcJBYPW2pOBUivRafSnHBmTXf95v8S9snu7w4cLB9//ADLRcOrdW5cR0vV9qVnflxycc/Tf0g/KEf5hjLFmRleQSNf7RTTEjt6EqTfcsgb9NHYx/6096y4ZtLJp55eo59TIsGre5qGREQCJ6VbZeyC9v3Lrxz9Nr+Q+4a9WG3vN+nn2m+akSdurXq+LnQHfDYZ++9tnnOb7UfWzQh/+3384LrRo6c2CkqsEbolTrb3PBEICeUBfKUTw5RcA5SkCovnYpVyFp6EuJ3mdrLTheFy6Vrudmdm64XIQBQ93pT9UNdAtdSptRNbqpAOqkMyX4woQCo/qeKFSh4KHLBdYaGbHggEJAhGigzfauu3mUUnjq+4kDDxs/06NWtgO8v7hPQvUXzyIhgl9IUsw8vP1Dwe+rkRSNa17yw/fSRMM+a7Ws0daW0k70MTv35xb6bfbsNmj6qduj3ER2D2zdtWLt6tEuDLshMOfD7scSOI7t1jqt/ZO/JvtW6NW0aF+jlSo+g9D3f7vUqzpk0bUzTqC1RHTLr1K7dMq6hS7e9gUl1WwaBgIwh5xYFDbXBqwp6I2jdr0LxbaEvptDL1lpUVpHsJjddD5K+GipYSi4WUPFdVamACru4yU0VSLWvQ+VeVp+qPvbKNJEVvA2DgTZQJIKPCyEEGkiRXAFYsaG4axTnX6NJ/wFrPrn7gSmjZi89mhrk42dzsYoAQGjjW5uF1Cp7pUvNt956/fMM2BXo6yLftXlB446TEtfmfPRSl4YffnViSalnrp/LpWtDIuu17dpp94s9pz/46DN/nD0a7ud5mSrBl6eo1uOb2Pn5lzpXm/Ppd18WGYf9/qY+ZQsJmf+NemkhFY1XFcAZIjP1Nc45UHDXaSkQvwMTkaXOoBXs5nRuuq4kgHOycikBTv5mrVHF3RFdN12OkFpiqMoWcqGY+RdCVS8QwIVCSDFAWXpKcU9p2xpM/uSW6miuj8IvpvMdCzL+nNe8rrHu0Ymzvh8VP+HTbWvPu3Z2VJ9+M746d+TDGW+/8+fex0fMf6ZPo283F5aXVX6mB0CrMSv2Ll7dc1rTp6c9V/pk51bPvTj75wzXBh3euM7dS0/u+nh02anNM8Z//M24+HHzvtuf7dLJ1UdOee/75FXP3POPGcvOPjF41nPDey7bB+Bie6IbkpgF5yQEJ8QJaOinTgcHELISCyoMQcUykDofV0lySxRNHmOWYnaTm/7jpLJykdplkVdQFsjgglCC7iXopsuQ7CQny9ADIgPVngURhYMrtic4ACBjskwV5UaidqkAAnc4KNJxbUAq9PAJDu/71Pis2Prh641RPTZNGDRs8fB2055c2r8yby8CQkR03MAnFp7YsKV2UMaf03Lu7B216J6PZ94zsl6tSk420AOqdx87LLhu5vw97efaPvvjq6FtFo5+a8W/egSFVVYVEr2CvOOG3/PIqeo9m3/Bew7aMOaFDsu+GvPIW3M6JF3d2maAEFOz8S0zV6Qt29Z6WP7Cvim3tg4e9eyPL9/ZuVpsJbe9IUlWFBB2meYDZvK3rMDMkMuy3ogMkXO5zhRPY9bLqFCHtne1AEbLrdDN7tx0vQgZA4uXRSV+6NAIQyQm6A50uOmypICfXAiHWc2Rc91CXMFKVV6Qicijn+RvRkSp/zHjmovSnc/d75u/uVfjnhNenzvk5joeqTtS8l07UwgouHCocQAbMvyxAdO/frJsiXHq5OmLrp1sLygryz84tE5Iz6dm39PpmSFnvjxwIrf0an1mrJSZuY0XH+3cZvC41z4ZUccrImV3crFLOq6wl2dlHGwbHjho/Kxb7pv1eO7Xeaeyzrv4wDcgyXwKAcCYCSLQ5gBJYNBGMCpWVjFPV1j/lALY0iZLpRm5XXtuuk5ktp804TBC4v906T5l+rpXoZsuIc3+kDmH/VGtKGJeKoLBDLNdlbRXlF2sSqAJzgWvch92IYSwOzjknUiJdhztExNnP7fzlxWnyvKC6idU3m+IcwAoKys5enhJpG9eQ1aSsX3PTBhYVC2meqWZO8LhAIDMC5mZ5xY1jmchh9J+TEn9NuiWuon+XpU1BhSC28sBcs8k18s93yk+oih72/JfMwNOhtWp4VOZjssdAFBUlHP08KKkMF67KOP47pMv2Yb6xARFut5g6YYizqXE1F0MAAA0CEpmo0ndT1CzP6BaU5Y8Xd2Fw7kGpDwaKPPNUhjITW76D5PC2AvC3IMpgukbAADkpi7oJjdpEhwAOYHwzApTCJRKiUwIbikEKajMLSAC54AMBRfSJWgeUyUqPHLqlw+bj5ubW1BoGDaHw/H1x94lYz9+d+rAextXKoLsR79/6JM333tthzfjZcjGlpfHRycOfWf/gsF1vEKvfmppTt6qacOf/enXHWleHgaCrfVzpXVv/+ddyxa/26rSzZJzfvP8j29+4D0G5znYhB1nzy4vvWfW8kkT+idU1gW4cM8Ho+Z8+OMn+708EMDo8mRZrXqt75x35u2+UXANLZZuCEIK0FrhJQJ0NxZVzZsSh0A68CQ+xewyNPCJmQRxVkavGVcDhdQCWqaZa6vYZchNbnKBGowZo2pimJxSVy1AVZ2Uftn/ubvLkJucqOPjDyj4KPFCaUgAQyHRVQxR9rqXglflWSowCxrK7cwM5rA7AAEEMgPXvfzWtYzm6Nzp6/kiR9djk2pX8UxhLz617O4ZFwePa3hL9zYuYoiJ+JHvdm5e+orvmzN7RtR2oayF9b4A+xePWJ+SGd5jzYgGVWtBzwvO7Vt+/8ySB55u2blRI1fB2jcqNR43FhkTIFScgiQmQyYrOSJj4IzCo/IDzuhlxeykVWytKknAZrdPz03XmyyL2AxnIGMm5kWAO8ThpquQ6VkWVI1ZN6biqiwGBXsFIDCDyTwitaoYcsGVLSNjctdEJWkptb0cw+rEV/3UAm4/m7ahZVBxdEwVJS4AZOecupi1s32NsICqlqYQAnJTz7UKyOkfn1gxnbRSyikvykxb2y7SCI74u0tcAAAJj5K/MhXRUBKTAmAq5YwSf3QCkLN7WRe2VV8LS0BXiWTKK3eTm64DqUiuLo2hcPlyASOj5pRu37KbLkeqqwEnqJ2BKBSKSvpIBOcqeMGAqX5WIGRVDUYuFgUjVYUMrlm/8+784oRrPDXAM6DDvac6XNvJ4W2m9Wwzrec1nIkMgvreN+3abhsaUqv7I1ndr+3kG5FU4RTC33EKvOoaLKDXFcjWCPJI4WzpWnzLCrFCX4AAhgwZCtROaje56T9MtORQKCQzJRGB6oQgEzGFtfiLm9ykyQS2K5ankoMMapnGGDMYyEiZqlcPAMBkhz+l8JFJguBW8Nx0FRKWGpCEqgIBl4hIS2s/BHRGLyvQCoJVhoNp+FKvK/cydNN1IaE9NgCKgyIBq4SPlSTiAAAgAElEQVRzjzW3zHXT5UnWVGFAApUL4bBzIYBzwXSzSC6ErGkgzxFKSMulxhhDaufsTk9z05WIXHDKvaxkMFcLRyhgFRWuEsAYA6zQZQgpbKatXgECyfxV3M/tXnbTdSNC+slmL1xCEvQnhKh3gvi5yU0W0vEvZKpbFdOVlhkIENwhS6wwwugBKO6J+kjOhQDBGFO9rdzkpkvIzD5TaULSZlX5uDpNCIQZFJMr8zL9dIUVOECYBLPNn5vcdP2ISplK3Y56UsqUSd37AJjB3KvRTZchmRnEEJFpGxYAENEwGLE/3T0DVIEzSg3iqvIogC5z8O9KXF5eUJS+Nb2oyF7VbF8AgOK0vJy0kwVQdSwXB8g7fTo3K/saOuKCKMksSd+eXmIvuYZdVngmKyfz9LV0D77hyLlWI1Vd1ssJLE2DuMVrUrGfLqgMJOeoBqAuW+o2c910XUlmuRH/E0CAQJnWgQiCK3jC//dI3fSXJDRtDokg5QrMQsVyKXwmqCaB8jiD4nvELlE4pPPw2jheedb23amFh3ftOrL60aPxb/XvPKhny+iYMC8XTuWFjovJG/fn5m5554+U4nXBdz8xpHmnxtERvpUVuAAAKMk+fSplz66M3B2zPshLaNZm1MQejevHR3i6gEYWnF/YdDBV7N+8/MTG2bvqfdap6839mkbVCnLhvo6coowTG/dmF295dcnZ8BOxdz05uHGb+pFBntdcz+uvTQgMzZ4ZDM12kEiBMdBLTlUaVSZvRUA6IoLEiIKpAEpfn9MxbnLTdSDC8QmQreuF0CqgLqBWIZnNTW4ySagUIO7gMpammv0B6PitsLZnFiCzeOXvQghmMF0VjcJ1VV1pwlF69tzGBfOe+3nDkaNHgvnRmmH1399X7PDxGT3i5kqFbvnFtO1rfvrss/eOpKcfPu0lwKue/fmye16LDOqRdPV+vAIcF89v+vrHr377fsXxTNup056xR37JKCmGSa+Nb+8BXldl26K84OLJNT989c9lf2bsPRRQejo+rNmsvWXlJX6DH28RXMmYSy+c/H354m/nf3Qss/DIaU8vT48GZc+WT37voeBm4ZVVfL5BiQO3BFrlIpJ1V7gukSH9c6D0P2noCms/XZWhKwQ4dAkqy39kR8uyV+FdBgBJX3NVmr5oIEegvLBQbm6m62MBgETkIyG7zHJDNCAVTQa6k0rbRDTNcqQiWaAZNlWQQURGFUOcdw3V1TKteU0av80YCq5QtEIISytslNWnUas2lFWq9rZQ9daF9hdwQVoPDYCR019GLGkwuti1oEbuGk3JGOOCo3ptZqFYPQwn3iBLpYAE1BFKk+kTzWdWJqOQJcvpK+vb1xlk6kz9mIKmH1T0XxWOV1OiwxHmbNN70VMhncfae2IeolEJ0tRFKpcGQnA9Rmw0bhwS1MAcsxosCPNDBSqUj2+pymY6f5z+sQaM9ZQgdTtnTG4ghTck8Y+gO7CqVya03sDI6URVPhhjnMvtCIaNCQDBubmCLUtDv1G1MqXL3UBhBorIMuMq5Y9WkTkvVApHziHhKFWZTQn9AFlDR3sU1BzK3SuTWVXHUBJXAIgoG5YhIndwm2EIqv2u5oQeHPWMq0GpSZPtBDgXKouRjqM2A9pm0DoWUoxBHcwYcM2v6DUhAxK0ljeMKDhHWfqRy7QilQQJqi+qAEApm61Y0aqrd5kXjy6f1euFgjm/PD7YPzR1fc9dfb8fHtsg1KWU29Jdb37/6cqpW548sGFg6bwPjxaJyKn3tXOlTgUvhtQfHp38aW7rETOOf9Fx1QPP4TM3Nao1JMGlQRecWr/21cEzjCWzZreYezJ53v0neq2+IynU2xXLvHDD9Hc/PvNlxvTDG7oefWFmWo061cfc1sql296oxEGB8qSKhtSnmeuuucQk5LdyJUqniZN72ZSSQOlqQgKcLTXoQTHQCim8jDHhtFHUZeXWFWocJp4QiWWT/inkVmSMRKoCctH+Eeb2RYvHR20nIVCAQIvMQBDUn9pZIpkecjL7zS+0mCOlGNAAFADan6kdnvLCTOkMVg6pdBxi1mDRKBR7lA1PmNlJW7JL5UflWsBZRqxUJmdCFPrFMTTFF7FbBDMvgqQ48UUl8tSkaugdoPUC6lxzroWWt9oTYtGtTP3JvKnkbIILE0+KepbkXAoQks8CIJV00VEspX+gqdmYtapMASOnTi0i0AdQAw8wNRX1xjloxZDekjmtYCpVKmxj1iEnHxGtJBNmKDUYBNkXXQaiBe1JOlC+a+lJYsCYUgqVmBYmYlFpbajXltp2oNynSLMDANQKjESc4AJB+uTJM88oBYvcpwikBIPa41IagfKD0b42EA2zwx2aaoQQXEGNEJEZzME57RHaR9LWlFqvXJ96H6kogtaQtXIkhBAOh0CUN3Hy/zIDQaCDcwCUK9ZBF6TpAJBQKYaC9C5VgYATj+ImOyS+KVBeUJf4RkFKs7NW7hIhlPtiVGLZvsOnw4D553ePiQzwcL3IBTPC8u0N9v10plrEXl9/v7Ao10dgGOhVL/NIwK5lB/wKj0TVKYlyufQxIngaYYlFf55L5pvAI6N7dLgnc0XiyjHborMLgnYvOR5o2xceHhgd4eqJNypZq3wLh1x2AhGtbakQ1bIHYa40IcCYOnUqAOTk5Hy7ep3Je2ReEAPUTYXkviW5DWBhuxbLgHpqaZNX7j8Je5H6ALm3LbadQlQDae60VeiaFgwXMR4lLyyi3TTH9GURrcFsoOPlv4wpxI4Q2qAmG5SRQs1MjmdeQWgZJh+HacOOTH9yS2kdWQAaqJ7FOnPq/THa6nqcKKdOpg9aD0ZlQJiGCgk/GqOz0aC4NmN0GasINSfNNLKUjqOmgg4BJfNUtixCBRlmMYLJjkG0dHHWNpblAfWMosWykUvTnG+rUayDu0p6yZdl+mCUC4chdSrXmg69B/MxDdSXV2tOXY10Jlpg2sQCenBQWBxUK5lUAb2Q1ITqbamZNyIzyOGgv9U2KDItbqWNaLFZ1RBkNqk21uUKV2tEEgMQUjipk4RlPdDqVfvf+jpkMoNaeKBOl4A1OTzzcDTfkLqw5TmlbAOnF0FKJHEFAP36hBDA5LSQpitnlYQ2MjUVICP9WsMmtqOtc8UEhNZuAU2tVq1QmmPtRpIGgAq8qVWqXw0pAji+R1+oAvl6BIYkVj928Le1P/+6avmh46dOXqxWp0H1CF8/F0o12cJrBXgEX/xz0XeL1h74aXtqNjsXVq953QAfozLJiwYExjbmp0t3/75o0fz12bt2H/QIDk6oVTvClZbynr4h1WKjTm37YfNP639eefDohXMZsQ1rRAeHeFc+aM9qDX3tPH3Lom+/W5+yaldKkV9OVO3mtf1cCUHfoPT+jz8CLWWwLl2g/QtC6W4CAJTCJxeUKXTnrV6vr6iYiNonZnzXiYjBgJKszl9aVFcApYKqNX0ZxQ31vxYGRbxe8lu9AwgTccn91BW0uAdimuaXxEAtPBy1pQKgGbraesLC+NQutYoLy8AFFwZj4CwUzPGjss1JmpJQRX2Yha1Llodk6ZM41W/U8nigZtWijisbhqnnFSA0U3YW6qYZBJar0ZiBuK/l/QgnQSIEMMMptoqKR2rvPSqurHwYTM+AejAnto+MKYuognimF093t0hhc9YQpanLGKO3rr83H0fLHu3FcfYdkipj1eZIaKgJY3SAZdXQs6sYih6UBfCFABp0jUJweVHpyyRRp9DaUgKB1WujXRQIAGhqYrQiZHBAy1dBmjU9saxRR1qLuZBN6WK6srTDgym/NL0uUK9ArQSpkDJTliIIJe9JiVPLRuj9gE5LUU2iRo2o0TD9jvXis64x0JqEVDEsipfyaZBKRKMgx5glLqNkOCAyZmrCak0KmnHCZI3vWSWhC4ZnUGSTQf0GRdkyUzb9sjvE7+y235IP5Pt4xEbXCqzM5LUFhtdoNWRg716bl600ytcUnPVct3xTSYhvTHRUiJfn1c5EAP+wVp27DA++KXLnotejfGHr7pPJ65N9o+KTogMM29Wlp83XK7Zlz6GD6mQfOL9vy5/+nqmbfj52DIV/dFy831XvC+ARGteg0y1d23Reu+jrQO+9aQcdm3/f7IgMi6sW7u/xtxS9HyxbijrCKGNGSneXjknL+geViwuoKqBZhO5v62lPmttM7xOg000u58RzFCkBIH/XzAu1TFaMCchVRZzDapBqAYJKUbbuFVSShK5PSrZpSJGPWYadNP80xW0F0WsZLT0COZ+cem2S+FPHMc1MSSQAed7ouYRl4Hrw5jNahKCFyCNnlSlMChXhpP2oqSARpg1Nyc10DIwxFEIxI8Mw9MTTD+XFc5LiIG+nODFVhgLr8rBqAPQCNdtScD4S6E6oelp4WiEh9YOupFRCHe0wn4mWsBBWDi6EQO1ERfpQviOZGSJfkXJaaKeEWRjGot5p+QaIyi1hGIZF57O+M1MYqPUhb86VcqAlrloV9AgCBJLBZQo/BrLcr1RGyI9CLYTphkp/E8L6qkCA4WEAonphUiDRTlRGpBBooPUBGFMrSzlXAYGZc2hRjcxZIp8T8QSLD8CcB/02UUPhaG8K/Wi0m5jSgoA7Wf+mtsFMXcO0rp22jZo986UIS8kfFRin0xlFswSppQhkDQOTHkOLjgWkc1TR0iXyroZ7Iamw9oB5zzffNnv+5vRNvM7YNlGuVCZG5h2ZeG590vjm/du/3mvL3IkfZSbeHN04Ia4S6SfvG8y86mavqjHtm8fibOtXL/7iW88BIxoGBXlVemcE8A+Htb6Nov37v/dGvV+XvvXn1nN+9Yc3qX4pr7+EDA8jtlbmT4mPDL+j1gN1fv9wypfFbYbE1wiLrHr56L8+vffjEuUEUttSLjYBljJn9Iuzp/bSotYI5nZS3NAJz0Gf62JXTlvONF7Q+bbqF2FNAjYlrlLdlecOlc9USQrNhZQsITmjSAXzVF1AzRv19fTDAABYQsEkGNWcmGYFPYiV4ZAEM9m+6mKixSuQJiETAZVWYZ1YJC2axmMGyawHoXTQmdyYHkDoF4MW1UN/zYjBq/ds5XR0loS9aBWHczI3TevZhPwQ87YIGYvPU1h8tpr5CkFhaWFOuhDmOGU4Tc+BVp7kk8rP5MRa7U/nUWiGrN4KmbbqUCHU7NGWUOa+llM0LnV/zWiFij0rWShHLoRwODgA1VIwh8RI5dPviILy5DXVLV1RujkpbK+WHhegIocgBJedruldoE4e1VsG9Vs3NU4tI4A7uEQJoaCXo/PxlVVIS48pUSe4RG8JZmNqu5FAkjgjszoYqnmWIp2iorQrSBtTT0evXIZvGNXyBGnOgqlY0DpEZjDrC5YdLzjnNKlkOtDuA7lBaAcBCM61kqn1b6VQkocJ1KqQU8HUkYgyiAag4BEWzQgohbdSaXNFOp7i8DgK7RoF1+jWwa96dSgvc3asXJkEt2fuW3STb1bPNt0CGt7mYyByu4vnQsn5nKKUhcMbYFLzgd6R/T3s5RaMRKV05pijKJW1axJRs3PHoPAwLC938VRHaf65fQs7R9g7te7vW2eQt7Bfe7OIvzyRr0atEAUUAFow9H/BhQ4nAcrYqBVIpQtqCAsGUlqOmkWairZFzyWN38IsVUzP5BBq0wiTWSJ9DiAcXOrgJigZtFmpWLYweZS2AMmLSKIL0YLUoO1NVghtJEQAwUii09mUDIokt5yNSnmkYEh+Aq3YKDsJEUAgMhNzimRq0/wqqDb9qW4nhNbF9Tyh5rM0F+otm0gpGbHnOv5oinDUV9cvyIQBWw0OKs+N1nvI0KY6UwiBjJGcEBq/KleLYknc+QqKQ9M6sVjA+o2B9VVoYJeFtQl5BVpvesb04kDyYAsBArjpjxEghGzcRo5QcxWSRWNZuBKpI12c1kw76R1Sbk/5igRHQCVLaEvI5l163arYp16x8iVK1CmXLmC1Ek0YMKCVDcv5ly9IygMg/BWpl4A0WfplWsQRKoe5oAUrg7JgeWiNklZQeBA0XYyAymq1oV5cKAWbnHDJSZihEZlgTiCoftyoeglwZhjSNaEEp1lAgIosWmtGyJdhsdEVZk2zETk8C44aCNQtHxE1GAVpGRhIWEITjiCEANSrQYLc1FpVbXSJL1xLblppWua+P57+ZG15Qcrxk0UX8rxPTPrsRFFMzY4DJvapW5nV5zi/7Zt1q377OdnIPbT/vP9s/09+XgkOfOC9Xr2aN7l6c1p7UfGB+e8uOXDw4JG8vIyjGdVmnCoKKooIaPjPT/onRvldHf5clJu89Y+XvvrDw3Fs/4G8EvDcMXnhiUJo3W/IyG5NKlE8Sk+v+eC3tbt/Sy4uOHb0fOhzG9+JCPPwDnxqbr+2cbWq2unoBiKtyGpVTbdB01tOygWtQAtAaxlISdrXZMpti8QFC3N3Er16GOS6U/44RuLKwjrJ5NaDQBIQFt2fC8lIhTbXFBBVSynFfJCZSe5O20OQNqLHL3+a0FM9QYIhEyhItDs9r/aEO5vuAgDRsN5RzZXshCMZt46cg/nAVtNWqAZiQKYhWYUWS95p3iR/F4TGJHVLTSqZmZbBo3kVmkLBGJPeW2aQ2CaEl5BFP4WW/wBCMFOomDOp5TeS75mUJFoGQljkjzkI1GYFjU+5NLhuuCZAPp2qSm/RP4C6aJFpq5zGclkIbTELcsQCV7OEND/qLRv07CQCdCIQGboIViCiXBiMmb0WaEiEGQbTskTLLaVFywxr9NFcDvRiyJMs7yW7qYOSXqZznjagBgnL10IaIiJDzoWWygAgSx4CLTEpWEGVqUOhNUgEQBSyaJLyKwiSdE5iR57AQFrJamdwwRkyVNEscw0CAucOrV2pj5T6rEM4amFJQ5RrMBpDbudKNUIL8lmoVSQEIGOCcwmclovZ3FgSzyV1ZCljad5RwTWEEBwoLCU4IEOtxKL0jVfMHnKN0MPmF5aQmGhLu3C00PtcSNyoxNh67Uf2a5pwU+XdbdHTLzwsNi6hrOzY/gZR4YmhtVo0jakzY+LNcR5GZQKbMZ+I6OpJuRlnfRzpjQLrx0V7Nuver1H7tq0DK70vM7wCQ5ISE30z0jfFiEKvhJZ1Ixq1v/W2Rk1q+Vc6Zq+AapFx1eOLc08cbBgTEx8Rc1Orug36jW4XVbWOvDcSaftHC0Qgr7BlE8jPUbJ6pcWCtYn99JnEJC2y9pIFZ1pjwgwiCtLhtWYodwrXZpwOpwFppWTGymuQ0an0f30sDRwoFiTMW2vp6HQMkEXiJINN3kFxHJXCa8o4Yvdk/pK2q+S0mRqj7mqOU08FXQFQABqWFBrrI4CyMEAJH7Q8hHqZUqgwQ3MErTSRj9fp6YSWXhYLRWvrgED5lLLjozpJEPrXnCTLhIKUzaTBAVgUCDmTTqBrGpieXtQJuFomaEy4mjoSKlygQTYjKoYrHJzklnXx0SdamWCqXbnW9rBC60lBhwHZOfoTIUDGvOWWoKuBGetFk9HT9CgbDpT4RtMpQh5s5Vi2rHOpVnK9GKSCrFzQZJsCopQiku8rpJVpGpLoU7lVTmPSH6o3S4vB6f1e8q6F1p1U2oNls6sdoYxHOQ8y+1+9QNOzYtEaZeTadOfrtwJaNUTOCTbFTD3R4lNRW5W2uxosk+1LicMwnSYhKDlSzTeZ47RMOBfS0S0vzh1Cj5mYDwCg4FwH2qXOrBFwgov1/7qmJvZ/Pj1rX+SqwLtW3+py4o6isrKCY180muv7/IhWY9rVqeLJRTte3bn+8wVN901txRIrlZhOxAE2vv/A4bTc+Ae/7B12GfZ/FSrOSd77dbuvoxc90PLmOq7lBt/A1GTCeKXTg2lzUI0MxcPNmIeg4BEIEBXKQGrWqY60lKewkFXiglzrXO1i1fhPACjvlWaFiv2QDiCVX0QVjBEIyrFp+vjobnp/g3OtS/29kkymUeKc4QAAAJxz1E2GlUVlilr9ICS2lKGm7AxpmHEF4NEqDh0JWgBLPoVo7mat90u2icTIlPRSxzr5yc0xOwQykmHmBSkxkVi5foECUIYGlKSlGCEXHDWvV5xOAJhGP+oFIW01bs6zIEitsCob5CHQi4Ee0XwRXHBmSLFNw9OORFIC1eyRMFZPhyg4J+0EaPrMbByFVpB10wQAA+BUdAUBEASXtU0EWbE6tdRcD5RTC5xzrf5JRUAmCqsnJZtSD4D0WK2oAehCleZl1HQA5fNo2S8rSCtvh1KCSXiDqthAarOeJpXXDiZ8zyLRrC4OdHIMkOBDAJBVO/SLI6WNXpmlrL8q56T+UC8e9bIhax7MW9OuAEBEB+em8icUI7AKasZI/Cu9E2j5KA8DVxlBajBywMJJJQB1PVlRRO53bhYvMzN8EZQFTBqHTk4T+lXKeD1jnHwzqPQtGZYGVgnq94pkjx10S4hfL/+rO4UvS2jzCuvw8iS/ljHXkPCKcb2TuifdG4tRVS4GhVCa2HlKTAkGBVdN4gIA+kRW7/L6vSG1q4dV9bY3IqHZQFcrlhVTZkH9pW0qIVBYK1KB3kW0oZEuZbJaxf4qyl3N4i0hVTK/1K9CqpNWZdtkqnKLckJ8WLYjMuAOnfCg5J02c9XGdg6eyriaOXg9I8o8QTI1TcGj5JXmJhTqlfYGTRzJR1QIVSBOZ5XcJE0Vm1Y+cf0FAmiMqXo9IMCsISBoUnSqPsoin6gMI2UiOUlnGp4U55boJvk5TAUIpADWr4aBcAhg2h0K5J8EIBavIDnKiBNg+gb1MjDfJ1rmgQx0tQaVN1tYBJjVXAOyOwUFIS2eWCRvgZKRKOUZM0Uykg0qNQmLbwAQgABkevWrnWGxGUGpDWaREJPRIzAmg6PCXOEoK0uo0VbYLNoIUxcWAKB83SCoNiGq2yF5QWktqSx77hA6zCrIxiVzEJRmTZPPhSBIEOknFu80opmGgFYfOKX20ypVMyyEQFVITggB2j0utH+CYMnIgHNpDyMXVHhHrwplzms3D+iVCvQZbS5SG4nxoGkzm3EZFVCQD8WYihEAhTlIHRJovSfKIiRaf1Wfq9lCNJjgXNnQqH2EpItUUfhoskW3rH2Np3owj2oNRla7tpN9IpvERjaJvZZTEbziGjS4ttt6ewXGNhpzTbe9AYk8XCjjLFpIqIJMJraHNj/pt+jUZYj8cowhcLAKLc3ayCw1dymJafWB9gcq143cUjo0i+T7ovEAUxo9BxXERW1eWK0xYd7FMh6gMC+oXcYqjFjucBPRg0juVSF7ZxJYmmZHe7dAMS/tuJePoow4UkrI/WU1obR1q4cnyQIJYYRNNa0Ti1GiiWlfMXET9SDE3U3jnviY1NCVRaKWhj4Btd2gpgxUKEtdhCA2SGmgXIsfclnqIIBl2agfanbp/wCAhpKOyltAPVxI07AsBH0lvZak0NKywOLhsK4ELYQA9fkCQCZJCU7OYfVEFqlDwhLl46lZ1GqdnC5ruo46AdUZQlBM3aJwke7HrevHoueiFIQk3iwLCACBGTLXj2xTVRwKGclLoR5LCWhw2n1KPqldLHcE07oKLReyGcnjC9zOrasUSe0F9boVvFtwTvJMDkYYhkr2V9Y5WZCMXpxSHQwmLAxCqHaN9GDmu6/4qxBCCOScogxSFpK2RM4ekuO8Qgkz078CgMxAtDE1M1JPMFDmYsn3yx1cEIdRlxIKunypz8xNbgIAWcVVcM3sZWaNQIbALIXYrPxKKN3XFLpkackKcE7sxypUgDi28o3R6hRSiGu2a+En8jS9/yXz1bzCaovLpa88RdocQwDNq0zRR2a70PaiYkXC4p4yuZJmV2Aq9ajvIU0joSWEmhC0sCBziOaG1txa306ZmyafQZkKaT1OaO+lZZDqBWgLEqRTkelqE1q6WKwnmghzbumJ9GyZ9wAByjVtWkqgRZGcOa4Lh6p5FTQtJDucAqag3BtqYkiQKcOYgDqUtyqs0WZt7muprZeDAsGa/gyGggsGFKLQcluodWoV4fqFKa4utDy2rH69YLRdiIhUJ0FZ/QhCNTk382csaqUqv6Cejsm8FwAANCxKBblYtQND3dRAxlChwVFPtTmziMp041wITu4HhcpCMluFTIlhBunZSt6Q9iGERPBaZkUvUQAErpRsJyZgapyC1ipJcT0tQntEuBJXXHqVSekEHZERQmKJpV2OAIahYNzcLotRoRZ41mFobVitpQqV2SjuKz9iukm4ArSDEIJRpT7BhaPcoZ6CnNVCCO7gyMzJQppY9UIZAgJ3COcV7yY3AUiFmQsLu6EtT3YJ8Rx1PElggIp5upfuzEsMEmtJAUE3sxqYwmQwFllKVhogUL2LCveTIxJkMal9K8W3DnCp7aGub7GYLT+tnrTLaanW2J5ppzGdp09Sw8rCUMkJPWazeIXVCUlf6klTe94cIj2HnmGtoSveTHqDPEarCerC3DRvya4EEJbXr8w8q0/DlK9ayik+Kj17XAlYOW9C6xWmWkS5j2gxaEnyIQIalikl1QYJOKPuqnwk6ndT+3GKtKrDJN+zSlxU1rawzo85k1JUS4mkayJSmU+QVqPVPjYLQclBKbifmlgzs9Rk+koHZdodQsmsak2gamAglKNVOqKVQSx0NjAgob25EMIBJN/BMmXOCggtNpKCWqURQNve4RDSY8EMhhY/jR65Va/VlroarRZmQl/ZstkEMIn1IiySADQMA6mvGSrEOQJYJhhBcEFvEFEVwxNau1WbmqlwhmEwy3qzZMAzWQVVkDoFAE4VwhGAMaaMUeIYeiNwrspaM4MKpkg7AyniCygclmC/yRWBCyFfKLOY425yk0kq+cUSRqEezTpFDRAYM3mg8gyBNaarbALnNYaKg+gNL7d0xu/L/wvP5ab/NWow5i7QXSgsOp8S35fgoSRkZt+nn/0/jddNf1HqNP1BqbNIoxzA9OhorVWWiJbJaUjmtUSWqDP/AwI3P3PP0Z/HHGq8cECtOsFVgxIDwKFPN5oueJAAACAASURBVJzhqwLvfrIVeFUt+aYQirfPerusYbN6A3rHV/W2xSeXn1z3/I42v96cGJxQ1UTb3W8sTU84EnHrtJuqetsbiQToTnRkd5IRZZWh3GqSyf+sniWp5lrChMJJKbZQRcHsJjf9h4hR8FII2QhIujHR9L5aOCEyBH5ZZ4ab/tcJqRaV9jEIEr3ImPYVIGO6PYN0ZamogbyIdLYZ14Be5gApq0f0vS0ktlavXg/tvbtds+i7nvns1wuunZ1/NGvZ+JaNaoW3u2/ArZOfH1g3Ztw3S4/muHbysfXvPTosKCau5rCnZwwc3GdQ+0FvrciCEhe2iXCUZfxw86Q+4ZHN7ur88PaJLZJqTnnnyc3ZLt02e+uRr26rmRAf1e3JUbeMeHxQq4R7l269UOTamG9IMv2gaMb90BlbCjoGCCjbkAgrelmABqkCkP/T9LDRh+4Ih5uuI1EsWHunpfschDXlFKU1bOnR5iY3OREigqGhCSqHUHABBqIspSXMOLrpoFbuPpB4MZmzV4UKioqK80+vnt99wqoeL/V5587RZXsG7mu9bETdm+snGq5kD51atOjDnx7+sPqMX760/fhNZqZn4KTHu0T5JUZUenIZ5K1/d+SDO1n7Vp/+PvX09DfLxrdq3GZcixDv4Eo62ANAWfrW3fNHjNxw+8j7pswffHH1I2darL+jfu3EJC8XehQd+fjtWVve/qPp878+kv/mnJyQ+pGjJneO8K4e9retR6XYDgoFXJW/K6eJyvZHS9tscqIAQoWKVMqWsApwBIuRQXFZV1chAR2cfq+S28Z6BTf97YmcM6iqXshCCigjKAQWs0CT8H8m5Jby6yNv/dxk9DPjbgpWn+RumfPQBzuYp3/QsMfe7JWoj0xeOvbFH8DmHdJh0vPjbqpqWYa/CakOgyRaEVAIBZviDqfcDBM0oBEbwgIKr5gf7AplFJ0+uep4iyYv3dytax4/kNXPq2PDepGBQS5ZzNlHVx4uWXfhgUWDmySlr2t1JMCrVvPoOq6UdrKXQcqub4/09O0+6KlbY4O/C2kXclPTRknhUS4NOj/r1KH1Z+p1urVLu7i6R/ceGBDWvm6d+EAvV7oVpO/77mBASeF900fUjdgc0iazbu06jSJqunTbG5kUSkDJTdUlndAGGtWkUYEqcmEtA0l2sQVEUcGTbMKltE6o7w2X/QR55onNuw7m+/g1uqlrdV86u+Tiob0HNu5L9vLz9I5v3uWmpAhvpRE5ykpTt6zYlppTUG6rXi+pYZOOMVVO8K4iucX6X4n0elNQJ4mdspi45iKmMpYV/ctFyau//nl/fpkDAAzPPhMeaHhDCJ6i5NVfn0y8s2ct38v9CSm/zp49u1ODh02hK+ylhYWFRXuWfBZ+m1Xo8rLCwkJIX//FmXbTKhO66bs++nFDkZwrtHWf+FCzyuaqMHnVN/lNJjWvyMkv7Ppob8CdPWq50rr1v0FIgD6QZoQumGOBhkqJTGnKCACyJJk6WHVoqLqlG+dfq9mgoY89dfeUP1pF9R5W3T/c2+ayjzq06W03bU0re75TvOfUEd94D2zUwMtFDmXzgiY331fj7rc/2tlxTZdpExYXtXnMx+W+eqFRDdv36PrEU92mbuzXrGEvj+BIG0MX+wNFtZnc9PfZHz7XMQyn3fl5Wc8xfn9bC1eTRrACCTud/g5mCgxoJKYWp6JCwwMC35qil1CuCnklCDMJgOU5qWdL7R5+sbH+8s1ieU5qaqnd0/wEynYvfXzMowcSar09/+gYzRcK0jb8uOChN77x883NbPb0ys8n9o6Lkd84Sgr3ffvKzNWH9x7PaXlrq4ff2HaHCygA4bDnpZ1Myy0utQMILjw9vUPj61VzDbaAZTknchy+zLdaeEX5Xl5eUJB+2hFSN9THYNdYlsZNVSNBqEBQwGlQpRUu1f90zW1nyln/xuQZBxrFBwJA7qltrNucexpGutIR7f+Xcta/MXneiAEkZSv8CXGtevXq1b6mRaYFd3xsYUcoXTbSe7cTb6wzbOHCYXDgNXzas9I1e3TR5Mlz4uVclaadgGZPTuoce9V9U7DljcnJz14qdFN+nDy71q1/HaFrcbGZnmPpvdNNoIXpO9GIfZXeppwuhMCv4q39qt08cl7uoPUvPfvW149PSTG8P8h8ceWMke27xrhwdmSPvjNaZI5f+0Wbez5JTf/mYLO4Pdlf7bijrZ+HVyVnegC0vOPXvd3Xv7L44388+CyUl7bucf9rDz41daALZTYwrGGtCUvPDl393oOvvvfsxIPeYZ9kzfrmuSF3NHGhwFTcsCnv3jxg0vJP293/aXHx+690brb1oU//GNoI4G/ZTBdUiMuZLyFYQFHSyWyWNZBgeZlZchlVRtoXVtCyBlVZ5TGc/e7BYYdTk7p9t3CAEqepC+699UhGnR7z5/dTtTfRJzCqenxuVIyfFSYd3mDizDkTX3grd+3roXMCQdj1V56BoQM+2DwAYOesh9fkrS83v7kalVzMXHZv+/t/ycwtMwxwOMIiYoe/vOatETU9A1yA/KUuHvxBWke/Lu8/077CN2nn1i+/v1/2/Remdorw+ctwk783mbhlGcql+iQm46PkGWXIXMITmZc//HP5vscaA8Cht2wNHus/7OcxktvZ806lZgsAQP9qCeHeAOAozDxb4lc9zEfKJ16UlVroHRvhZwBAceap9AIBABhaPUH1HncUZZ1zBMV5F6acvQiIAZFxdKq+NoBvRFykbupSknnqfMWrXI6Ylz8EmB1PLX/aCy+kZnjePH9Bn4CgoIqnXSwou+zl8oqveCcL2XxAz1XJr2MDuvyrScmcHl4AAGW5KecuAgAghsUmBNgASnNT0i6ezwIoOJuSkiIftHqkHxReSM0oOlsAIutESko+AEBIdGKQlBCXmUNHUeY5R3Ccd1HK2WzLFDqKMnNYeGBpytmLAMjCYuID/k2GbbVFSH0TXKCB2opQhwFF1qjytjKJkWyTqpPh6RPYffrY89H1w9d7jOm1ccyQYUuGtXn8nysGRrtwdkhYVJ9Hf3h0zZa6IZl/Ts8Z1y900eRP/zVlVIPKSlwxAIjqNGaIf930r3d3/MLzszXfDmvz3ci3f3mtV/AlRkVFQg8/iBp898PJ0b1afCl6D1l/+8x2y78a/eg7H3SqUbm1HRlXd/Azv6Yu2tru9oLv+p0c0dbvtmeXvzq6a3R1Fx74BiWd0c916QVaLEJQZ3dDxy8UGIVVuIT6VwAX3PkrnVKoPzI8PG2eHgZaP/GweXhYut57dRj/w7bju39YNTTW6VoAACWlZeWOK63nsnKH43J1ny9LQoBhK+/28lt/HM+3C3Hh9zUv+kxsMuGzndlXBt6ZN/aSdBmHiJe3l5cXenl5eVWmY17msq597qaKRKnTZgKr6RWU/1AdA7PyyyVUWih/BoffAn4eapELx+bZiUlJSUlJSYkTF6ZyAQAZP05JGP9DOp2X/sPEhMlLMwBA8NSF99DRb2ymhZqxeHL8G1vsW99KSkpKSkwcvzBVxf74Frp2UtKUpRnqeoKnLpxIV5m9+YrL/ap0/scpSUnxMaEhwS9vvpbzKyGaK+9e9z4P72zZAQAAgm+fo54mMfG1zVwAwM53kpKS2j28El6/lR70x/NqeEm3vA4rHm6tPn9np7rI5eYwbfHE+Dc227e+LS8+ceF5AQCQsWTi+IWpcmKTEhPe2PZvbRmzZKZMX7aU4BAOoS1dSvs2E/bln0zV0gICD1wbnb24zzN7U4/6Xe569dNbuzbwTtsllZLKSQiRf3ZfE18+ZNijvR+f95T4yePMqTMXXTvZnltSkr13WO2Abv94Y9LNzw9Lm3foZF5puYuDTk/fWp53qFPLfqNf+XxkA9+Ys3uPF7s0B8Jemnl2b4dQnwFjXx507+vTixYUnMlOd/GBbzQS5DcGqk1nEY6qUrIkqquDqNpLo1PKEF3uMtFcQVHeq5KZYAmlufvfr9W+cWRIWFzXyTM/P3i5cV9lPVc0byolFDYf34AgHwCIaJTUtffMDos37zt9JgsAAHIOHfjkluiYmOjoyODgQQ+9ufE0IJRcSFs0vmn9Go0m7579/NyXesdWj6kWGxcf/Oxvu0pOHv7XfeN8a9QdMfUn8eKwutXjqkeGBLQfOOHLzaV0w+T3ZoxpFRAUFBXVvHbDb3Y7lPsq7+DXv3zY94l1dvvvjw3sUNfLN3DgPc/+kY0ADoD9C3ov2Lx45c/fPzHYJ6BaYv24h3/+M7PE9Yf8+5MqF0S/giyAQAsaNQskGaz73DmTh1ShLm5eshDqx0UCAEDmkrt77Hz/YFZWVlbWikbj67+zCwAiO/bpvfSXzZnqvLPnF/fu1zYSAHa+XXdcnRVZWVlZWQff299z4o/qEET4V4/ANxMOZmVlrXh86ZQFUkj9+Wa/Q3MPZmdlZWVlZX1xa6S63q536o5tqK7y/q6ek5dkwtXI8NLGiI+Zlxkz7IusrKx9Hw74T+SNXo08bQCq18HWf/3eUT5M1orpM/u/tRMAWj2alZW176MB8NRK9dUXw2JoeL88BYM/OqQ+f7QVAFxxDhHhXz0D36y+Nysra8X0xVPm7VQf/zyhlpzYgx/0mTn3h4zLDtI1UloZQwX71EkdOs2bqlwpyICu+AYK1Sw4V1VgLrfArkpcOMqLiksg49jxyPKjvSKiik5u+unnU2WF4Q0TK8UXCHuZw84LCvIOHPoxxDO7dlnu2Y07XrLdUhIbG1dJZ0AhHKUldgHnzp0/n/pDvWrcZ9epH06enhd+W/0kf6+r+w2E4I7yokI7ZKQcrZN9rkN0YE7a+iW/ZgedjqpX0+fqnFjw8lKHA3JyMg4e+qF6YFlC9tlD25Jf9hnhVz046oYAVFSddLlQZd/qYkQAQMvMrIEIslSLKpjjnDJkQfRZZSwCgsRoOaOOhPDw9A40V0KIv5eHIQscgc0n5ubnp0d7Hflp+m5j5+GM645XQsEddqnNoUdoTPPqhevyiorKASAl5dTxtfY7Xpk1FA2P0u0//Ji86oXliR8PiAxqPvrpF/qf+GXqurw63vVGD68LpRzL69WL8wi09blzQnhCwyOHFrxe2O2fvWuHeHoU+UfWbFjDA0BwyFh775Rj6fGDn/28btS5tPPbl014M/bdsW3ahvugPS9128r33+27atCAUZNfvP3IV8vSjr34w4kOd9fwgNKik7Nn3BkTOqbXrd+8NShj3+KpT6zv+l21AXWq/13bTlaVFERKZmsgrWdimwiyjZKgmlbsCqH2l3rHz/FCL4/e//ht35AWDAAgY8vPxbNeu6d+KABA33tfa9v0jz0P3tQ0dvg9k6as2P7mLX3DAA7teOHue07HMYB9m16avPBc31AbAIROuf/eaV9tfGXI4HAAQCgZNfu1IfVDg6B79/FF7x/JgJYRUJyVv/BwxrwJ9Z2GsW/9i+ZV7nnw3oAvNs4cOvjKaNLlkxrEPyyXgqMwE7oMAgAA5ukfGgrlQd7w74ihK5KParZ68tO+T7d9/k9Z0qDxxAf8QqUvu+8tD+a/eTITWoT7hIb6lAd6g39oaGioeQFP/9BQCPUH78AIp8+vOIcIJaPfem1I49Bg6N51bNE7RzKmtogAwPLx78uJDe0+pOO05FOfwTX02JFEzaOAcy6Zl5n3CACyshUDoHXFHQKRAQoElB2ZNDi0ypngBUdP/fpxiwlz8/IL0GZzOPiCz3wKx819/7H+9zSsNO3Hnrz40U9mv/v6Dh+0l6MxqbwsPqbmLe/v/3pADa9KZG5pbv7qx297dsXKP895exo29Oz4QlHdUc/dtXzJ45XXqchN37pgbucH32dwzg4eYGfvvVNefO+ryyeM6xdfWRfgon1z73znoyVz93t7CgNsvcpKazdoN+q702/3Coe/a1QO0QxMVCyTJygqQS3FQZi1WVhFeJpTZFj5pyXbY8hkZNdygKeP375da3Y/Mr1+UKlDAHrl7Vy3N65RPQ8AAMMztOEdgxpCge+8j3fZz1x/96qwefsGSDaRc3HH0jd/69DizmrRYQB2wyeyQauBNVrJuN7t3pn3bV83f3fagP7RNbreWgOyxKyitCb+3UaPaGS5XLN2HZs1aLThx+1vZA++e0J7CxBHOOw5G164kDhp8JTbx8jVfEb82m3ZoRY1GnaN97R5lAPk5nnWajNk3MCE4NKAoqdWvjV346m7a9QCZng6fGNqNu0zfMzgUIAT1RbMXpp67mRmnequwfr/F0hqZ6rIIOhGzLL0IijGCAJAIDIhKlYyldTznpmDamWvfumfyaEfRUjr8eyRpWu+PtZzKdgFALNf2Jox4CIAGIHdBvQb8+u+N/t28Tux7aWug/YF2QCyju3MWDG/35455RwAbXnJhWENtY9j5LA7k4IAADzbPPl9gM0fAKDhmPfH3ze2bdcEH+b18DcrB1cDAMg5tidjxXeWqxQEN7yqX6PhiOkPtpPo5JzN7zyYbv2u3MEve86/Te+M7rosEAAygvu+/vbkupJL+hnbB/ScWWgHAFZwDqq3JOdkuYOD4zJQC7sDuMPJg3m1ORx5y6ikYAAAz9Yzvp/uQdCtxGZyYsE3ODw/4/LBapeJ4FFmZRVVkBIAVZ14QIPJPsey3KMAFAJkkwZ9lSq7l/3rJd7yetYtr0Py3Cc2wA/2bkfuruHyybbaw9/51/A5LxafWT5+Rs4tYxsO69bKRWvFKziw/0c/9wdxZP6uLcte8X/nhe4htYMrPw8AAIKrtZs8o2zSDDiw+LYNp7LCeq0eXtfVFvR+Tacs/niKePPc/p/unVn6yD9bdG7Y0MXb3sCklTIAGc4AXVJXl/5VzZu5wyy272Tpoo4CC4EMZeFYCeQDAbLdhxOQCtCw5edmpR3cWeJTzgWgreRUdl6E4QyOzykoK7Ub19nIBQDwSN24an4Ra1rNcSo5ZeuBzJueuqVNXJwHAMRFhWTwnV9+tRoFMl926NjW/NDQkosAEtKQW+QoLS61FVx63dy8gqJyKCnMLSqK8NUqm+CFe7f9Xi2uw+mdSxYezC+12R2lORHJu9LSCjIBYh2lttDwhNEvzR2Y4A8AXvXbtHDcly+FNi8tatjnnv7dBocCgKM0Mm6wLc8oLPw7l22pImnLVgC1EFSAe2oeT/g+gRKhAJeTRW2Hjx7dCDpcXNBh+uqpK3tEAkB+XnpUnTtbJ2IZBwDm0alP31oAABDYalSTe37fO7NL4ubZ1UatDAQAyM+7APGN27QIKLEDABgdurRuozFMLSJoLQTVvLWd/C2s3j3Tp5z+cGs5z9u9ZNqM4Jde7BwHhXmZ1qvYOnRp0eaqVkPN3hNGD1YpQwErH/zq2uexChRbv2XLaACwtbz33lbSL563d97D09NCunZLALB55/+5JsNM5eIO8L4MHIxz8PBw+vxqc9ginKYwuOatJn6xnFQS7nD82750HakV1OdDcM50r0NqWwmyq4RQYWCyiZkQHK2tOatOpefO1POMuS3pGoBEhdxxNn1768j+0TFVv3tW3rmLFw90bBwUWNXEHSEg72x6u4B8lhB/eW32KnTRXpyVvrVDXRZ8zf6JG5FkSQthlkpWRrCSu0KAQJWBJh3GFYtjKLmLslopY6TxIf2DIEC17QQoLcht33lYn8WfdVLq1MV5dwzae6agFP7bhADgfeKn7/YuW+3vKC1pmNRo2sK1fUm9zDi09v0Pnnv225RqBqAHy08/2+7mob3NEIfggJff4gJAFqt3+lBkZ58PWPfHnFNF/v42qdt4s6QeraIDAgHKHTzQ37tT81o2O4ANBCQ0GZnQZCQAOAAAsLykoLhIxQHKy4uAeV3JRfq/SFKvA1AYZS6B86rMmvLk6OY8cGWcQUkBAECNW/4RPeP1Zee7TajGIDq2vsfFgc/M6nxJ9lC11vf4PbMn6/G0TeLJadLlEFg9KSoo9r6Xn7hcrkXJ5TH1NYa9NGsYAGyZgO1+mvBi5zjwr54UERR9/8vTXfVjlBflgXLI5RVVAL74etvA81L86RU+Bh9PsHm75Nu75clXH6nQQvXi1o++Sn3owqtjIgDg7Mu3v2j6tf39gmD9hcKpUMFR6ucbeeB4JkD4/7F33fFRFV30zmxJ3/QekhBIIUBIpIaOGEG6FBGwUATRT1RsKAoiFhCQIoiCNBFEeu+9905CTYAEUkgI6X1nvj9m5u1LIJvdaITAO/rDLTPz3luHmbn3nnuu9Imx37Ccn7AqwKtW8TWRUll8Fwwat0jUtEAYEanCMSPCVFZo1KL1N29W8qZttbaRb9+IrFxnl8YftW/8UftK9EQY7DsM/7Byl3VyqNX2/aS2letcHcEZUtLuQLnQCp8vGAPh5zYWqyBAgQAqtemKtQ4hJEVESl1DuKoNsV5UXFyYkwnAN93MvKJifRnagZwWWAZIlCF51HfmnC8pBYDsluNnj+47uEFZf0r6vvF/LF/zR8MDCUda2gEA3b9gwOETKXnSX3uM1YRAScnDUWeEEFLRghJ9GQ+TCkFxz+92dOnWqpGu7L1kEEQJLSoqkaVNKzADiB/ueL4uCIezCOIygVxWNY7ydLlSoKQEOFHWp/3Pb7354fTD3ca3cq3daiz5dtrY59Vd+UHcL6yFD2N5+DX8KnP+xkXXsqeN58lvTk16vv2/Pt/Pav1qBPvAOahxiKu21OByZN85fOE2e4lj3P3DajsDANg36fH2/3p/P6tVXz6KS1DjYNdyUoYpKYESgw6D4W1R6pWT1+7DvXN3IfHY4cO5/MaLUq+evJYG98/dhYRjhw/ngm9Yixp20q1cvAp38/YddnMWd/7oi+oBsjMf+tjKt45HaNyRw4ddABJ2TdkGLbuKG3MKah+yb8Wiww7hsl8FALzDBqZO/WN1qy4e4qct7zcs5ycs9XE5bcwCj6sRNkGoOLhxyhQIUjwrHw5SOQ12fUoxxiDV4FKg4CEgIRLFZ0sZUCrbcQ07Jy216bLwGDUsdw9Pt0pI3VpoVGq1Sq0x9BKbm4WFVqsClVqjfURCjkatUqtRhengcpCS4qJHGdl6Co62mto12AJ7fsYXi7cUZLf6XrJ0ff1a3zqmTzxxaWyL+qV7Olq54zr021MXRzZ0N5zsscqzbbfOnwxdnZTuEvJ+HbMrhygoH5KvRirBazgKsb1WbEtSehsqO9tV1k6udnyXsW058Ie4lr/uGdGqr3edV89tu6drEvUzH+HrfXmjmrCXdbr+nurbF5bekP5n6p7/5sziwR5RUXr2vvuim8tecS89uAyXl0ZFfSOu32flnR/YTNK1+/bMn28aRum58OaSvuWYvSprJ1cnK9XDbx/s/SZq4HpAaktX/GnUX3r4em/eqKbwYM+3UYPWiI//1sOYvXlfNAWIYbei0rpqSL+oyVTc+SOhtXN1hYcfx63D21/2a9U/ahIF6LN05Xeuqww3VveN1T+83zRqpR4Aui+8vqwvSwZ0iRr9+181+kTNoAD8Dsv5Dcv5CVVWso/LaWMeKK8oTgnIrBFBjqI8mMYqalCZUIZElTcshgoUlIGQwpDCtwCGEK9gpgDfcyn3sFBGJkhMTASAW7dudf3ie2kgIQkkA+Xeavbf1L0b4eavXbrFJARErVvfrSZrEze7Y5fL9+q8tH51J8/MvfMbDpmdUxCfm5RXCEVaF38v19bf7ZjY3ccz/+DvU2Z+OHOnzpKk38tS6RyQPrz7ux+OmtS9fk7M5lEvjdlRfDcl7X4hpWDj5V+DDJt/dGiEv658ynteStLKN7yWd5gxpt/7kQ/lnuce3TVn+vsfb870si8qyuszvFf6Jk+tbeiog/1EtP/egTmjZs76Y2eKu42FJnfI/K1vt470tAAAyLmVuPzr8LH7CwtzVEVBLfoMHz37jUgLgIL7V1b8MHbB5g2XHrhoENVYFbQZv/y77i/46TJOTt64avzy8IQVve2tNfK/rnqA07NcJmYOHhT1Y9cmCPQF6acmOE9wWj+0a7fOpjMtnmrUHTiQqxEIZiBL7WAFa1n+hsGrg3nC+fl5Cx7vbSt40tD2q5Gc0iJR36nBgczaMNcx31aRcA9SSvSUVbBncTiEYO+30x7r0yh44hA2ZLA0tSSWAOe9SyRkAM5DkYnGg9zSpdQg/0MoxYAlSxeJEvTMncc/d39pzMyW+dauhlO0R6dxv7QqtHV3AcBWwa3Gf+tYXFKgsdJigJK8EpWVV0MHezWAde2W3YbOqNnJwkKrsVLTwoLCfHufug18AJCFZ9ir33/ZQp9LLKzUgPVFedgShfo7Wxql0Vk4OD7/zfpg1/rBj6Kp2DzXtNdXv7l0uoUwKdHXiWxm2clarcc1DC3cmnZ7X+fXulMSVmtUxSF1AuzFz2Jbw6vvV3N0HbPyCvQlDp616gawbyydQ3q9Ncq3Rce4LI0aAVaXeDYOcbIEAJvAl9u9WTfI3saiLHsMAwR1XvJFia+vCwIAwBq7oP6rR2ua+Jkg0vaMAGMklyMVLwwnQIPYqTB1zZfGVfD0g88iAweZIoQQRRSLt5iHtpiNQXhRBB51AzG/6KMcfuaAFGXlpZ3Jsm/kamWrMZu8kRf/oADdU9cItAMzs4X1AFk3YolOZ+PmarYQMs1PKUi/+sAp0tFSY2WunZ8Td6/IOlvjUespzdA1QCZtUYZlTCUeH/eXAAjXMUaotKUr+rP5aFj+ZFdhC2Davk0yvx8tWwKBGKG+UQIPeQTFV0ZioKbm+T7UrtyOpc0pky9n9EaMV1CSu0pLD1LlWczVBPUHD6LC00cIFR5kbohIZ0aMsEHGj8KF+Yqlq6AU2oz+EDDCPF4m0ZgfakcpFdnevIAaocInCJJM0L7vKmHpFqUePHYzK+bUxdh9X1zzmdChbc/OzXz93EzZAfXZJWkxu0+nPzg552B8/iH7gZ/0aBr1nI+HrSke9/zUuBvXT5xIzj4/bX6WT70m/d56sWFEbQ8LE/J/KCFJpjoaXgAAIABJREFUu8/G6c8d3Xb7+OxzgbMjn3++W0Pvuk4mhPlK7ucmX919MjX31PRNic43PQd82qNRmwZeThZPpwRB2FuD5Uc6FrKQqMeGmgWC0gw8IwNB2ZiuIRtIpk0qB9MvLUMRKpV1DgDGyebl7bhgfN8xdU96qF25HZGxFuVfzuiNGA//oEe8MmHQZwj8nCeUwikAltH/JMECg/Eh8xYqUCAHAqCEH9rYasYWQSkRjQp1Kq7xzeoLGVQPRNDObPYy1effjt+9ZNmUQ6duxsbZF58PcYtYOd/CztP5VRM23aLUO0d3r12wbElSeurlm1o9WNZb+ZulzsfPpaJNl0DJ/Tv7Fm5YdnjD/qRMfC1O63f3RJGVhZ1jSG0XLRhP3KRFmfdvbP1ryaQ90ZlXr9jk3gh0i5y/3NLayqVzxZtufuK1nZtWL1v7973M3Og4jYWltp71L9aOtWq5Pq2bLof4STFCQJGkksHCt9KhjfmJ2UpFyMMFD2SZGGVJBEw9XKEVKKhaIK7cBwYygqS3TAlF2JBS/k8yOhQ8zZBWKcrdexiJuvRIcJiJyMcggFSAVVjKrZS4VKgyzuXUB9e3Te4+rXD21k+62zgmHOpw9qWlvb3qOJlUKK/g7Iw1S7Z/cnHslb2dC5bOvZZP3D5+t6kpOhWkABLWfjxiRXazV766Mqz59hHj8dcRdWt3N6FOGwDk3D584Kd+Ey03TpzS8KW4a8tGxHXY0K+mk6UpxnXuodFz/7z7Z/qX13e2uTL+h6SAQJ83Xmlo0mWrK3g0lojpJAtyIclJTHlLEJqjzJoonTJExQvRGeTrmqHys7LMKagSIISIqFdvUFADELm6AEzYDyMQs1pJ6VDwMPgRTZCVWX0hiihCrGaf4Lsgbg0zvx5L4AUivH6VnFsqpLfRenncO37+qjWu7ZTV1svNVmNiaVrAKgutU26x79FlcQ7eZywcda5upnrCEFhYWlr5x13AB/86ryYxriH5pksfI5XK0sLV6/6+mxdzD2isU5/3cNFiEwnkWGOpdb+faXFo8RULm7NOHraeLhV3qt5g1DwDi6rM6Z/rmwEAy2mkhBgMCdXHH38MABkZGcv2HBQdoNQLQQJEsoXvs4H9q/yxFDx7+G3jBrbFgiBMlVKcF6lE7J2I76J3unV/LHer4InF4v07gfDEIJGqgeV63TwRQyrQwnZfym1iZvCyuYcADXy+ozkXt9bau9QMSIw/fGDbjh2rz165dT3ZOSjMx83a1gRXq8olyN7apSBm8/q/dl7cdjQujd62CX6uns66Qlk/pAI7rzDNfXpl36Z1f+5KunjqXLGdvW/tYJMqi2utHT18a6RFbz2x6cDmDediUuIT3OrW9nYSpSuNQeNezw6rs85vWvnHrht7T1zNsk5zDGwY+o+Tvp5g/LZhgyiPwZ0i3AhABulRYBOKaVGJ2Bil8k13l2zTlTlnQAzN6QaUAkLKpqugKvDr+vWM9oIx5m4XSQocGfwsZbZeZdNVUAaL9mynQjaFK1CBmENicVOpsCE3kuVDUkMTLGSZwexNF7BG51r3paiuntr0O2f3R7u7PDi15fzZB1rw9g5xqKhKsMrO2e+5zi9FdTy/c6uF5nBhssOx1Tvu21l5e3s4WxoNriIAG6eI5i17OT3nfmXTVE9X2wvn4q7uvIRd/AO9dSq18d1TbW3hGd6uS5fgrCv3b5w956B7cGzdpYuk0NrLr6ZtBUFdjYN3cPNurZq2O7VpiYPT9fsxmpNbd2U6O/t5u+o0T2Ud+183rOevDHNI8JWRpMCCMMaSWw5Ew9IpQ5SLQwpnNPe3MNuZCO6oQl1RUEUglALmWWtgcBKKMyMCYOqkwvEnadkrUCCHSHEEAF4zTfL2Sa47oifMMgEEGGFCiXDmUanMhvBPVwq6JnXtk94Jruuz+PWcL/t/s51eVXl2+bCBKY5mrHEJeqtZYHTrOg5knHr6G13e2Wy/ynFo2+YVlikCALsIz0Yj2wYn9J/TNPrY97P//mKoW/jBNwN8dRUa2gjAtW5jyy5uLay8fnrv3vuffrJySZrar90bzU1wcWsc3CNGtA643KdFjZs978x6e9DQjX57HboG1jc7Zal6gOd5EyJSvRGn4wFQoJiJxVPBQZEyH5GMZ8zKpgkxUsQXPJVQHqZKSFfBfwJRU4jKE+HEfCw99yhVjoAKygMChJjeBc8WMqg8EsEmpVRaAtn6JtRFEfBOZVVGzUHcLay5ZhFZ394vMhx7eBK93lSddUqKUy+uirC9H9WopVXtrsXYEhA1daYXJD/Ij1/euy7UrBcFTu2LCUao4j1TIOEqzrtjERnm7N80QuvoVKKnJt6zviD77sXlrT1KWjRqr/WPKqIqZPo9VzewkD/mPn8xr4RhwKMWCAAQMeiZIgDAGJc6dSGERfgWMEZETzlZVE8BKLAEW0oZuVSBgqoAcx0TSnjVF+ZbAQAZrZST8glgAEKrqOSdguoNXjiIk5cNyyJCiBe3F4XHuSePcAYfiCQixFRGzZW0KLh77/zOT3/ZXZSbkBCfn5ZtET3gl5uoVni7Xh90CK5oMH3ikYV7Nm9df12dE3s51WaStWbtaqzRfTanc8fn6hsvYFGcm3dh8dSV5y9cup6b+yAu3eWTS3mO1N+16XeLuvm5Wxs3c3Mzrh7eNWb+Tg25ce1abiFVHXp94S2ka92j/4C2YRWYuQW3ts/YuuvUjhuF+bdi7zl8voO6uVo7+ny/sGtkjVrmKPlWKyAKlCmMcokVQASoCvNyQYJgBYgbB2zLRURP5OxlQ5AMIaB6AkARRUgPgAEBpogiQBVkeylQ8E9gqPYiEaooxhhJOy4F5gbk7THCpp/hFTxLQMhQyl4iw0s6GGxrZfE2oIAw9+7xihpcqQpVpuCBysrC2b9R4ybapJKVWpJW7N+uiU/rxj2fD/UOq7i6LbZyDvAPa9LEPu9KQpguINwlpGWEZ82o/s28NaoK/NJYrXYMqNPAQk0KUu/m3a3RMqKWVYM27YMbPhdRMYdZrbHz8I5s2sgmuTiGZuRbBrzUwr2wSZduwXVqVujRVtt4hARG0HSb9Gt34h3qRHj4Pte4dtDzvRu6mVqRt/pBFtVC0lsVxoSVvZayw0unebM3snq6jD9F+OlPorBwZ7MgZykK4AqqDoymx2cq4xNgJmgAFCimEk0fOCtVCegqKB+GdFtmt1JEgXL5bioE6DE7yVG2AOr1hEtnUAqynBAzoHGyr912xIi2cCI545KHymHQiJ6mV0VBjsHPtwxu0ST72sKZ2bbDX2nyZrNAE7uqLLQBHXoFQG5g2pmDR0sivhreGPuZEgMGALCw8QqLHFkvEg4WXbyalOM3cngHJ1NTldSuDbq/0CCq0Y3zi2cUek8Z1rhNoGm5wdUcsiRbNtMIIQgDpczLApSCXNgCqRDoAVAZRSoAQAYBIPlXlFJs+ErZdBVUDaRyj1LCGhFyVAgRoAgjzPI4RKa5su8qeBhSaRa2rrGwLjdemawBkq1yCKhe2LWc/kIl+apK30OJf9++7tZdrE3d92TAaiuP52e9ax3m7mx+Z3XNroG2dUd4IHezGUwIigJfHOFXiHUOZq/yKmv3gA7zRtjX8X6UAv7TCCqYy5JQDxFceEFUlvRHeeJuGfeyNAtL7bjM4KAIAAhimrf/1SMpePZgSOlAjAHIC+ciBAgBEEZ1AUqpSoWQoo+moBwgjBgvFBCikjqQ0BugYkdGVGicMcceAkIIxoxATwEBJY8qlWoa1G5h/pW8fQ1WuwZ2d61cZwvnOh7OdSrVFYHWKzCokpfV2rkH9yqviORTCIRKifNIVTSkgxoSRz9+8uPaA3IhZJl8M/+KLXXY4FyWFF4UKKgKlHGx8Cp+nHzPzoW8nV7P1tOHvDIKFABQAqzWKSWU55UJQhUlFDPxAiJfLoVEPULS4ggUKr3jKngGIBPtEUlBctcIn3RSxFboseCHRkEIY8PqJ/uz9EcKFPz7EFOWSvRRAAAKSIWpCOjyptyBo8xGBY+A3DMs0duxSJ2RpOh5jgcRpgQVsgSi7DiVvIcKFMghL9WMyk4RgwOOGv5EQjtDlqfLpqSgHjCfHm9KEZV81OakfClQYB4Y4Q9Ky7PwVwAIU4krSKRYymO7WQVPLHhWNwaEhaFLyxoi0pGOmR68ugHXEgKhVqVwBhQ8CtRwsJN2XT7rEAhzgMoNVQpCN6P0SA8X1UAswRwjjDH3Riu7roIqAsYYUUlWDUDGpkcSN599ibkms7IkKngYRKr6wuK32GDegihZz2W9pYLNzMHMq9wDBYrVCoVFQTlAgJHMSlWViuaCYIAiMEjHc80fSkvJQPKvZBuxpNvMJ68yBRVUKRAAUEQxBQIy9zL/UnItIyx4y1QxdRU8DKEPylVWEMaEEmmmYAQgZfESCioElLv6GB2G2cSIKAaGgnLBPccseCHjBzD+U6kSBwwiI1fmXubemDLD8n/ZgZBbzco8VFA1EAVNiRDEkM01dqLEUh4vZSp/j+tWFTzhYHsnwohz4rkOBs8gIkz1glKQtCEpYfNKYr4QQsHALFCgwABu4DKVZEOCkMxOkNTNiDBb9Xw6ldp0EU8PooKpzJhW3EoGAIqgEgotChSYCoQoAaRCkgAu1fNVku3BRA8gkfAJBaBI2XcVPAQhRCW2TAKyHEqeGMn3Ywo8PZfKkj2Ycj3TZlFczAoeBj+YlRacEp8yC4FQIhwn4luWjSF1QNJIgBFglilEhFo44ckZXLb0P3ksBc8c+OmOs6goMBEhoJhZLSLTnOV+cLVxRXtZwcOgQPRi0QIglMjkVkQLChIfnklQiVIxQIECBlDU9xSUA2aSsprNpUK5YNgeMTOEKRd3lIQh1aVbI6HDUjZ8i8r8V4GCKgA3cAVvHihghIW1wf/kpYYoEKIk6SooF5JSN4AUYDOoerOEXYQQVmGiJ8yeAAAhxcxtEC6lq0BBGVCRNYRkxE/uS+Gi8dzJjLkAC6WUlSUtHcIlYo5KqpI8hItYxgYgIECVhU5BlUFy9wkWPkaSUwZjjNWixIE0s5Vwh4KHYUjVQFJ2B3Mpy+NjFCjbVpGI0kkeQgRIMXMVlAeEESEUY8T+lUwFwcJjjaTWQCllzYDKiFSi/hWmFFHKhKiQFM9lEuAIQPVQUVMFCv418CxdrgokaAYGgVOggtfMSvtJi6UCBQ9BcutJ+j7cnyxKIGBJloBnQhp8JwiAJUo+vttX8OSCUooRr1gFhkQLoRtKRZECwil7lFKiZ7Way6YHIUCAVHytk6IggkcFIk1SWeYUVAkoAtk5D1FKqZ5SoCxZHIBJ9nFSFTNPFJ6LAiPgyT9AMRb+ZQBOTBEiBjJBZu4PBBDF6yXqgAIFZcDmD+E6ZjzNh9Wh5y342iXLBS8jA4mE7IWcoCylGGHD4VDZcxVUFXhVaBB1hmSzVURPJLILZkVQ/xVknFu6L8Hk1lnnlh0wvTXE7116MceMO9lvxti39yy9kGVya/MGf4Ie01zwMgZsBxVBXG7mUtDrCU/RIAYzRcTnmI3LpZsBpO1XgYJSEJOHv+YuOomOBwCEzzchbstfyAseSGryhmRevqzxiDGllFICinfZHCg/lhlgki1CaooiDgzcZGGtKOHpvP+GOEZu7K49t4nFne37UgDi9+6OzTfWOj929+7bess72/alAMTv2xWba3Twe+fmnX8Aeee2R5dA1qX5Z++ZdCd7TbkTuHd23oUMKDi3PboIMi/OP2d0bDMHf4Ies5KQ9lGRQEmJlLGBGJ+FvQaxeqpUWCygwKYeyIdQoEAGyfSkYLALwEDZ428wxkhlSAxiGgOyerogyrZIzmVZHK3UcVExdcuDQSy46NrKacnh/YMDa7gDKD+aieC5QkQEMaRMcykwJ9ZQAG4G/9OQbnb0muXptg7IISX11IbChTu96rWvZVVu65zodX+nWzoiu+TUU5sL/9jsFfJCLSP1Uu8enrA9MTy8wCH2+Kkdx8cldx0S4fYv3QncPTxhZ1J4RJFD7IlT20+OS+02JLz8savvY1YOIsdMLGggYzBTXq2PFdUglAjfIKKE864QcG4z1zVQoOBhcN8JADu9cckeId3IQrqEMKcLEuc3CoASExMB4NatW93H/CjfriU5K4lij0RlIkLpvR1rH9ujPtnITdh/O/ZYStCoWhtHnO8w0S93h0VWxv2AQc2foUKTlUf9IUOAOVYAgDJFU3H64+WcCYjlEoSlcm7O7//oqql/dXYbsAUA4PuzdHR4Ba0z/uruOGCDqa3h1HjU+GsAgF4rclf1sf437wROfI2ajgcA6LEyd23vCsauvo9ZCbQb+xHbSeW7pkjbQDxNgzJFIU5vNuzKwufMfC2U0r3jp1bBPSqoxgh7azBQihDmligtk69rsLNEfVIghLPzZJauZDFQJveIKKISVZnykAeSzAwFjwQpyHhw88D51Nq3b2RfLlxzKX+7m0ctb9/HfVvVCwgBczJTAKAIcUczkzjgx0XMJ+W/wC8tAgv2ore/Z8WtC0HLXrzsb0qV8RIVfxHmU9GuaO6dgF789W1owtjV9zErA2YfIAqEvaMACAhPdySEAPAd11CgjfWTYhhs8hHFzlVQDsTkERasSMlFZesGcRMChPaAYQSQyKOi1hVBkvnM7AyZk1nBo0CJXWD35r1/Dj/ae9CUPyZ98MacS000bb7p6P24b6y6QFCm2BRkDhlCRCIRYqU9MFappFn9T9nLd1cM+Kx4QvLm0Z9tTPqm5MPXV6QYa52y4vUPisclb/581MakCSWfDVhx1+jgJybZ7oxMOvvr6Nnnk1rtsZ14/N+7Ezg+0XZPy6SLv43+5XRS8522k04YbV1tH7NyoJQSQqS1Sgq6IYT0TAIXi6CvaM9NFUEp4JBo8woUyEGFb5kaNkeipyI8IU03BAiwNNkokNKKVIhZDwAARETUJH4WI1KBogFkFAgDQH72vSJrlYsdTssuDvPW1vjXA1ZPMxDj7lE9Xw8xRnpCJQ8OYIwlS0WKg/wTuLQd/SUO0u67pvXxCGk25gviaKy1Y9svxuIQq31xlj4eQc2+HE1cjA4e0nezh4tH+olrOi+PJm9sDrD/9+4E6vTb7OXicf/oNZ2XR9M3N9dyMNq62j5m5WBwx1GKMBaBNgrCxUd53Vwk1fID4Msd23sxF7RS8sAVPAIGCh63EyRVZUNYQzDihTcFs6wLOZFKmnaI0RDY0JQQirDBcJbILAoeifTTM4/smnGhY86xwClnG75tfXZE8qq9v7+wfGjw476zagGWVYkxm28AiBDGluJSapyrhkQ9DrkGW+Vg4VY3FCAnYnhvHWCX0FDjrbVuoaEAeRHDe+oAuYTWrWBwnV8bHYDlS8PtbcDGpY0RLpLZd8LH1nYartOBjXUFY1ffx6w0kMzYYLw8xKvoUqCIUsLnlVCjl3Vk6yiilKLKu1KK7h08dPVuYgK2s9D6NmpTx8vRUmNiV312cVrMruN3M7MKkGdNh9Dn2ntYqE3d+/NTr1+5cvpyskqjJ6Ghz/mHBtqoK+4FAACUkKRdpy6nX09Glra2Pk2er+NmpVNV3A8AoOR+TtLlXSeSCwuKqW+IZ0i9Nq6mPm51hFQJAyGu5s3CYZKansyJAiBlFlGKEJSN6RoEWRAQoAgAY0HTwpzWzOMkCh4FXZ1X2/h3bKzVJh24UBiWU+elmQE4N6+CFVEBBwJDpAQZCKgsDY4iyoIlXM9PMJn/Dc0g21rtG5je2rpWuzAzBndr0L6q7gTcw80Yu/o+prngRoLw1iGMBXmUVxTizHfZiiklB3HNyH/iVdZnZsf/+uePew7cyLrvbEnSrHy//vHdTmGtjXsjOIqyLh3bO23WpLu5+qKUHAjEtQeu+qlToINJ225ezO87Fu1YsjG70FOVfB6aj3jn9S/7tDFp+yvRp135/bdxW0/nJj3Q2OJifeDkrz5uEVXPlMWrIPXQ7q1zFk27V2ijT06mjWo0fuOvH9p7aJ9avygpIcA2Ucr9w0RP2PmOchYei9gCD5eJkxshVB7TZTQp7kbmUhrApi3mVHoqy+JV8AhQtbWrnXOgux31fXlkKz9nfxdXKyd/ZwvlRzMNCAAJSik3T/gLjDGnIWCEMCC56osCBaXBS1TRh8wOAIx5pI1SqmelDiRXNOcwSwVhACpFHM1Pv334x9G3+n36+qFjh3bPO/iz3cGDx3cfv2NS59yjJw+f/nR3r5mLNh7bf27dgFZvLvtm/dXChJIKexKAW9u//vtOdu1hZ/fv3rPn5K8JVqrNU9ZmmnTdzNisIzO+TBvV9rODJ47sXrdmnP/fK8+evHrFpL47N+2Mm3Zx8NqtOw/tO7Ui0r3jsh9XxMEDvUlXrpYQ4j0UDJplFCirzmfYPTEP6BqKuMjFMUQOEQCzhRHCCDOtAs5r4YlHSsqpEUi/jMqpTqSvk86Gn3CUX8wkUKGnxlZCLOqQs/Mgq3VACRhsEmQoQq5AgQS+r/I8b6k+vUSsYm2EYJDwIQvCi5AlQDIBXHOAEbW28k5LzMtPzc6NPzl+/hlnbO3paGdSZ5W1Spen9jiSrIe0+NXHL2/Z6u3hZomtTboPla3GLSXX7vTtIhS//fd16tMJzh6epj0BVhVr1J53bpPiB7lJ0acnLD4RYIvsbZxMu6za8T52O3E3H6VdXrg/4eh+b09vC9A+1X81McaYS5fx45oUouVZPxQwFolnnL4MGOPS3n5OaubGA5W0SYEiAkKZT2EvmwXltzIHFChBAERIP0oqaQBA9Xoq6q9RhIESoIQq5TcUPBI854fycn4Ic+0LnpEmCq+Jumqi6IGUnkuYBl9lPCkWzgGtP/96waAVK9ZuuNDYI9qx45jhzz9f1yi/TIJl48ahd2Y5D530tX0Nq/uObq2fmzqoT11L64pjqxigRtT3YWcWn54xbITmBe1163ff6BrVu5XOpOvaBTi3/XjsrH47ft84zCWodqJfy8kjXmzpb0RwxQDbdl3rXbTb/sPoT6zDNbEo9JUWg/v2qvlUr31UmlsgCbCw4vOUUi4AiYDo2VyS95OX9mMbLAiWPDL4ZBBgAMw2YbEvK1BQBWDzEWEqC2NQKgIlBqMWcZHmSpoiCp5yCMsVi8MbT6Y0iBgg/i1W8VJCku6j5Jzikrdmzy9anJV0afGZOsUxt07e2H7QdcKcWX3qFyetPrJz/qVEqIgRU3DtTmraeosu6YcnrdQ2KXx5zKQuuvwzkzedunC6guQqAiTp9D6wOp3U8M7FcfMaDx05aHhXh5zLR35cE52QW1TBTecnp0YvOd/I+uKpXTeu39FPmf5zpwCvKwtP7F99KrWik0fOuWuZeDNqnnXgmz9cB/j0HfFlq+KUoxPXnrl5Nd34ZastEBBKWSRCCkAgDBiLQBgq1VjeTBbTRYgCZcIYPJghyr0wgQIk+0KBgioBS0rjURBMKGXLIpLli7M/KYh6f0pMV8GjIBToDTYHSPkbIs1DqvonorwgqkYSDIiVETfbsZd/+daJJUP+SiNDJ/wwo9PrASc/nhOXnnB46Zbd41bH5FeQ/JF7889lmycfuuL39tQ/3++btjZz4fzT9wsvLflyy+HLFx8Yfd7CjLQ978/dHpP43IiPfvlysNvUiWdv7D13LOnkstEbYtNzjceEc5JP7V/89sbrnmNGTBv/XmObMx8tji1JOj79790ztp8pNHLPFODB5enzN86Pu9/wg7lL32p/fEbS2i3nklIvLh694UxKbLbRy1ZbiMAFO5xxnwqPYjCmvHhNJVk01pjK2cvYML24EBDXfUTsjMiFbhl7VIGCqgDnv3AXIEKYEMCYUh4TEemVSC55oMxGBWWBMAI9UOYPYRExbDi38SQiCoD5iokxZukconQkW/QqE0nLu3bkxqm/cz7b2+4F72aOdUPDbS/OfWP07pwzrv3rDGkZUMF8PbV/D7qd2fzHnyPDoGlI3Hfbtq3+4fWjOVfavjAjMDLEWM/CvOTjK9Y6d1nVpGOPdo4pjTxe/GzJjzMXn7fxCOzcs6WHrVG5gKwzsXG3p+tHr+/UvLFfm/vuO/HNJSP/tznpYp0Onbu84mPknouh5PjmLfbUO2zChDbB0Pjnbl+sPzp37BZ7feJLXd70rudn9MeqvkDiPCbOcLwUKYAkfGZoy7dbHukonW7BzGXOo5IWNTa6YFIBIIXArKBqgFRIMKkk6W9KxbRkSvRYzm+pVMhNwdMPYVXI7A/OeAEhugLAqxpgLMkPIJmGH5LrRJoOlaUG59KM2adTb2cDqlErosPCftrdu88nPVA1qudV0SZuaamOfpBzeFc85BLs0m9sk57tvI8s2nHrRTsrb3+jPTFSW2jxsZO3zl8oAJW7XfiknxvnOdy9vPl0eo8IJxtLo1dWW6lokiZ91oXU9DTQODdt2WVGd8e/10Yj9YOI4FrGDgoIVBaW6pN30s/sTQM9tfZ+d2rTSB/dwbXb4rp5O9hXlczn44cQSBazg1dEA7GpigJ/vJWwehEgQ8GDl8dNMYyHJN09RAmR92eBtMQtK/+7p1PwzKDBsLcIET4VAEopFkc8VqeDqxsIJw4GRCg9P/efFTxQ8NSh3ZiPpNRbrOIOEh4cw8I4kZH0QLavSCrzFPEA7J7xP5lx7eLM5DPbZnw56qjKj9o4OhXa4pzgoEYXdl26k2Hd8oPR3wwOt7YuN3G2MOvI4i1/rJm1v8SxljVWF9l4ujq5OeWvXR9t9VrUe2+8/0ZgeUrYVJ+XHffnz9P+OhCdA45+1kALPBr4qy8WJV3Yn/rcyO9m9mzq5mVR3nWL8q7uOTr7h49O69QWWj9dHtYWhtVqcmP1oTi7oFoffDJlQKjro9MEKEDu/e2z/168e8lp4hZsQ2mBQ0ANnQblbNoV4/LegNF93nyphkn5ydUK4UOHSDFdSXsZSlu0AIhQgjEmeqagx4UHSrGXuTGBMCUsT5dPh5pSAAAgAElEQVQJ73HuvBgUKbaFgioC0QPCmNkmCGMkOVXEgkmBsqQ4JBktindZwUNgCxb7U68nWBghIvVW3lIYK8hQgZwyYSAWyzA3J01j79Gw89dzS3adyruTrscqB5WmQY9ur7985cKVO+DnplEbU3Ox0DV//SX/Zp5bjt4ElF9U7BBQt2aD8IDujQ9d9LCrrbM08sgqa13g2yM/CHj+cuyFZKxWo2KfVi2CXncpurHz2N1AHytrY9fVWge3a/t9zXFbT6am51IKlra6iB5d7KOOxCYWJNd2LD9hCQHYOnd475WabYL3nb2N1cXFRc6hTWsF+nj1brnnYoCfj4224p+s+kGQm6goBQQiJEERIIr4hwiQtOMKbzSVWbpfTzH47EBEPojg0LNUDc65h6StiqWr4N9HvcFvAaIYYQqEp7sJF58svMY5BYgbv+jcb3Mf2x0reCLRbuxHICckM56UnvIZBaJyqYjKCVCEMLBYMJb0I+nur82xdBU8A2gwdIiwaA0lIAXfjCKEiCgQyYTiGVgz2eEHIco48mJxoxQAI25hEIoAAIvYrgIFVQCRBQQ8G1ysiAghUeMKgKumifKVj8HxQvXFJWZIoZKSYr3JN1mVY5s5eJXeSpVDKu0itl7AasxtDaa7AgClYnLATAvKCzmLBKOnWFZJQWUhqE/AKcdSaSDEncGSawVjLPe7AJQiUnFHCuLeZASAmFHBg8Msd5IoQpAKqgxSvhBGSCqUy0NwMnuETWpWgPIxHAFTVg2edsr05qemvrnmnqmN76568yczxj455c3ViSa3Nm/wqnzMKgYCRISIo+DCUyCUOUeAUEJomZlDgTGZedqGKPRH5RNPgQIGapC1QFJ9ICI+5aIZInIhmcLsCFhaBhKA0ZsNQqWIcrIoL7Ur/alAQZVAOP6kgC2SFj+hpsaEITGl+D9nGNxbO2zopiyP2rXBCoq3vjtkbZLR5qdneM68BLX86mh0cOVXb+NbWNLaIcM35fnUrgNWkL/17WFrje9gp6Z5zoqGkIA6Gju48ov3jNNGW5s3eFU+5n8CVrkUuIYoz8PldTRETFW+n4pqLkLIjzcFhBUTQ8EjwKOzAECBCG+KpCoq5TLy2qNUBHUZOVQaBWMV/4bFfxEgDJibteyASJhj71k4+oknLNDf2TByzskriUVlviinm/iaFFz47YONF2MTTOom+/re5jELjhy8nGNav6cNBnF54WrhbyjwNVTotYjKQ5XRo/8H0DUc2OPB1O4jly94t1vUhYaDGxrnZfpHzfA52K3f5L+/7dHtd/JVh5rGGjs0HNz5wY/dR/698N1uHS40GtjQuHxfzQ4zvPZ36zvp7+96dfsNvooynlBi3uBV+Zj/FZimANETSoEQIkRXKNGX0utmzj9KKHeoGDQN+PFPUb1V8DAonzlMDV6micF4AhJTwFDNCgBApcZQquCBRKnnRBWx7BFKEQEEgAUl4RmYhaj42um9O36adUrv42adY1kDnTu4eeeCpZcKjD86QllXVx1bPnDFLUsPG1utS820o9OPbfx6Y3wFvxjSJ9w8s338xENFbk5WxbY+9MrVY7tnzD6V8/T/0qXASAdU2k2RiKsRoJQSQgCoIeYh6VL9d7D0bf6i6tCGg5evHNoYY9upha9RyQFwDn0lIHHjztMxZ3ZszKjzTqizscZWvi3aq/ZvOBhz9dDG67bdm/saoaqysWve2bj9dMyZXRuz61YwtpmDV+Vj/idAMjEBxsJD3HvM47uUp0wiQikhFCNRLFL2N465Df9RjT8FTy8oF5oqFfiS8ryFn459zH0n+hICZaoMYcwDatTgZCHAFeaZpYwofTYEqVR2jg4q2/xzi8bNP7tt2pefbt5+LtcmwKHCwpQaOx9rK5uMfWOnbzk1f/yoBVsuXyzy96qwJCWytrG19NTGLPnuj5Prp/44bs3SbfetA52e5jLQj4IKqzB3tlBCCFAAjFT8My4pxDbgx2R/5F3duqqkw+CujZ7rPGi0/f4tV3OMNk8+OfOy76BX2zZu8+qgFmmzTiQba5xzdcu6kk6DuzaO6Dzoc/u9W6/mGR/7xMyr/oP6tWvc5pVBLe/NOml0bDMHr8rH/E/AVS8EP4XlAjGjhFuvGDEtKuF7lqJn3AcICPQlMjUN86AHuLG9R/uXLVQWDjXdvf7329EUM8LdWVcS17wWFuhto9LYtO7XaEV8rhmEtiv7p73X1dLC1cXZwmrUqFmX00zuSfVFySubvdnOWqWx9apVZ8CKm9GmVQUEAEg7emFBjxoebjqt1qrrB523PCnR/aqFrEIBcJsUUSKydgkzGKjkPwYAoLJNF3ONPWQ4DfKJiFnVcPoMMagoxZ4BEQ0HtLj/xzfztu5aOGNpXLZ3/VcifVTGDStKrLyahb0wKuTCtxP+3rHytymb4xvYRQ5q6FxBN4qd3YKaDe1VvHrMnHVb/5iz8ux5EjQwKuAZrMMrHR2lMAmVpiIgaqg/JNr8p5tv3vUdxz3fnT+m46sTFwx3P7ntuvHdKOX07OzWC2YO6zhy4YKW2b+cNr7pXt922vP9+WM69p244C33ozuuV7Dpnp6d23bB7KEdP5i/oHnmLxWo4Zs3eFU+5n8DxFwjIDn+uJMO88AaxoipZ3BlZkKJnkraVAiBCqtUrBaC+fGL4sz48zObr4p85fltaSknl24dnfjDnhNLzpi4g8VcWL/vy0GBny7bf7HkxMbu4e3en7zpdpFpe2fO8SmDT6c+aLMj49z5S7vHrsc58345ZtplCxKLTs9uu7G3x9v7ku4d3vvrsOLhq47viUs1qfPpPb8dnzE2cvrR09G5+/8K0NX/5Of1qWB81lR7SIkVCGEuHsWTiJg/mREFqGzbRMAq5ho+EEwCISYJFFGCiMhyYwQW+kzsvAhBSVHGvatJVnWDfL2dvNx7Bbq5FKblFJelPJbth2lJ3v34Uw9cazWo6ebk5tXCt8AlPzOnpIJuCPQlOclXbqiCwgMDHFydO4QE1KH3MgrJs+BUkIFLCAEGmXOQZbyBRCWl3K0sSKb/5Q26dJk2PcomJSHZohAso376uYuH0eYNhl8eGgy3Uu7QLAgacvmdcGONPbr8/FOU5d2EOxaFYBM1fVoXF6Njh79zeUgQXE+6A9kQPPTy8AZGW5s3eFU+5n8CqagLs3WZrrxw1wEAkioISWpCCCGqJ4QQAIQQplKhNmL2DCvKT7p6OM3Hp1bdCEcHL1dfN1XxhdiUu/dN6pyScLsodUmH+nX9fQNQLU9dqm3GX5dvlmQXVNizBOD6jdXBhVebhTW38vb2rOVJotPvrL96x6Tr5qSnXDuY4h/sEVTPzdHb08fBMu9I/N17d03pmxB7wTJv7YthTXx8amhqeVpdV99fHX0LCotNunJ1BC8WycwBzC1VfmLDIgtDzCvDCwwAsoIHiIJhQ2XtMALKSQdcf17KJ3/qUXTx0I7zyw4F/nh1da2fVO92SViz7cSMmMzRn0VaG+2Xfn7esT2zr3W8sSNw0tnmH1kcfyttx1vLnl85NNhot5LYqyeOfLfY5eezSwLmartFJF27ceGH7+//MPkF04pwPiWgCDDz8mEshWtlJ0kEIBHzhefvMYTc3Hv+/r4ZzRt9uKCRyY29ey740IyxG3+0oLHprc0bvCofs6rBVimWdksAqZBQ5hNSQkB5qi63V7gLGiPMiVRir60EU8/arma77t2/2RmTlZtup9vd+o11fWZ/1bdVgEmd3Z+r43ryk3UDtw89G3dx9M4dF1b3n38w0rKm8Qg/AIAaIKLV29e+vpyx8NeGh71+eelzb+fePae+4mPSdZ09PJp06vHR35mueWtu3jk7YOyfQ5cu71DPpANUjeYt1HvfWjdn2fCTQZu6LzytuvLazL2NwOnp3SlEQFc4SwTdHSgLWxA2Bcue2CiAfNOV/MoUJOUpKuWS8/cUxLb9tEPboE2viNZd79P4radyfG5qWr/5gX1RMalQ0swp4p2Xwoe3Ly64uPX4vZqxjV9a1NaioLjCyaeuXadt7UWRBRbJ68+luwTjhi/2c2vdS/9UKqgZAQJRZ4hJAnH7VpS5EoYK4unnEmNBgYLSIJSACNzyUC7iOUIIMEKEyQlhoEzvkU065nZmvSlgjOVyQqYD2bi49vt8zG8DJy/Urmvy6Y7cmQ01WmsqXNwVwLV2ZNeB0w+06VXb5uWpH09YMidCI9X1qLC3b//JfcZNvPh+d+8+U1Yd6No5yEll4nWRiyag32fjJ74/+a95rr1GHc3NqAv2WvGTVQCfxj17F+ScfbG1V/CIv76Y2atviIqa1LG6glmhbMflBZoRSG4TLshMQYQwRO0NyhnJhnEMws1CdurhU94zI7yMVSpQWzlpPLpMfbdxUA17AKTVqCrshrAGq7SWltp6b0/rWs8/wJqVHan4chhjCytrcO40/q3I5nVdAMBCq3pq56xxIEAqnsWBuB6f0GsBQCouokuJVKRNgYIyEErL3IdsSOGgLGDBOfGAEKjUKuYcxCoMwIqTM8WDyvGosjJurJpo025LnZbebVu2yTwXn6K1yNs5t/fEt1stOwdgvLAtXJn/53c/1v+o5dC3LbFf0v67+VB49+yPlm/PWjzvgtGOtADS1n7TdtC6XYmtRn5GV9+6k41wwaG9S8ZrXlt5LCXX+GUL7uzbO173/JHeVmH1X2ucfup2pkabffL7yJ8+e/3XK2DcxU7PTPz+8786TW791RdwR3vn7H0K6cePfKt5/fe9G2KNX7Yaw8An4SwTbgNQg53KVzBCpBAGAJJbusCZfDxgxhXR+C4tFje+oz8zQKB1qFFeXQ9jwFauFeRZPBoae2/jobxnAHoCGPO1EhGKVLzwOM+B43YvBeBFYBQoeBhIFGEWqj8Gr51kXBA9BQxQrKeIstQNZuMyahWACPqahbiDl/asHvPFzu1vtXi+ZN2W1at7fryw5ut3D9WzjQnzrSX3Lj4Cl7dOuh57otbfyWO7O/Rv0fv1w/ve+N5qnOdJ5N/dNcBoZL04J+383L53+/3WOGrwUK/oAe6NX17nc/fwvabaeE2DLm4WRr1m9ML1AxenT5wwN+adTrXfPDtr1ZSBw5ccGvxgWxPkFBzgZ8RkLQG4uPyTeKqNWJn2XkdN/9pNel2KjZ84oLP7OVXIm25ejz99rErAmU5ycR4pGCY5JXjursx2pUCBlpKB5L8sAkAGbVuRPST7syofRsEzDVYtCwCoQd2U6ilnxkiSy0IdF2GkpFEqeCTEZkllAhecnsLOalwFSPoH2EaLpNZAQSXSKE1HRmbcgzu7O7q5OyEAnx5R/T883GBo31fG7IrOfbVbCzvjnQvj47OsE6xqejmAHmp3XLWw06vOe15oPGT1p5aeYQ3djHXVF6fejiFuWnsPWwBd3UajklZrZp0YP3rgzzcmdHzO1dZo+mFaeipJ29LVxc6SqiCk0dDXZq3xH9us4+dpJdG9279gBeW66iiBrNvXc53TbL08NEAgvO+JlU0DYld36/XWhu8CgrxDnr6qfgDA3cusPAH3pEhSzFQwkeWFrYDnoZWWgeQzUtqVpdZi10XSd8quq6CKIKvlJ2IkfFpTwiRgxC5LxGRVZqOChyDVN8Vs1xTrHI9SCLKAwQIhlBBCCEEgNloqjBYz2csOXuEezp0OvffLuoOnYopy8/KtvRqMd/F0gKL0zPv38407ly1Cw/zP6O7Pmjz/WuytlJx8J11gYIeXbHQoMyM184HRrhoLz9AWHpt2bFq0cn9CdkZycqFP0y7+4W5ayE+/96AC8rOrfw3r4td3vrN8w6Wd1/NzSmiuV/2vnFx89XlZDx4k68sv+oBUoAtt6rczP3betGXxiYnJWbmeXhE127ewtFU9uH8vy/RE32oHxltGYq0y0J0YM0Vod0ueEj6dkPwEI/Zabt6KKDgn37PSRQAg+WgUKKgCSMkerMgVO1ESCkAp0VMgom6MyNZVLF0Fj4aQCKUUeJE0LnYmmz+EcqoUAgDAGFMAPSElJXqe4CGJCpkO91bPDZlwYvbqA9+2jbB39anXp/5gu+mLpvfxOjHvk36f7MrOLDTSuUbklJ+Hz+hpPbJh+/BgF3uvV365lvTejuUj12z94MfRnx+/XX5PlY1HnXduL3sx2335C4EefqF1gv1me9d87bs5wxx+G1Bn2q7b14xFdf0Du42cc+DHM3Ne6xrm4uFar0XncTkbtn3f4L5m2uiobw4m68sL5KgAgl5csXjg8KCsQcHh9UI9HH2H7bDXjFq8dPC8GV2nTpkd8wRkbVcJKNfLk4hOlAso8y0YM7uWTzU+kRAl8nq6306VhitbZVK2mzNvdvLmFf/h0yl4VhA2dCgIVzKApAfJXrMkEENmJRKnzPNKPV0FpdFu7EeMNIUxopwMD1KVP25YiDrN8qgtUxRChjxJAIA93yj1dBWUQoNhQwRHgPuUS5G1pQklsoYw5oR5gDK+esoZKsxZLSNn8aoJTCYNP1NUKgX/JZDg/LGZKI7XkpwQm6IqXjtGfsxUoMAAntaNRXkWzD7ju6mU4yGKuxhkNBACVoZI2nGV1U7BI0BB5jkWoVmQSMxS8Iu3YARmZkWUZtLJ55fQKWV5SAgjYLQ+jJWgroKqAnMpA8sIkk0/MTFZaWeJVA/Knqvg0UAYAc+7RZhJMRNCqZ47k/n8oSBpyVPhxwOmQoWRsIYf63MoeCKBMWIZ3hQkX5zMvpWCX0j4loHrgYOcSFVWaKp0ZjPP2UBA4VmTJlTwn4LqiYE2z5kEpQj3AMxx+KgscgUKAACAEoOICnebgMGYFQshBQQYY5aeq1IhoJToCTeRJSKMsusqeBhISuE2kJdBMJYNObvCMOA7LgDI6+lSkNkTstVMSm0DoRauQEEVQggEYZXIdJPR7ln9AwpU0KeUlCEFj4BQMeNlXqisaiQWBHjE1KcQUBb6pZRyoQyuxsI8Lko0TcHDIHoqIyvL6lOB+IwC88kB8I+lGi2ymK6MiCV9LeUIIRB0Z4SVg5+CKgOSl9EFEJ4ZnsErbF32H1JN9DHuHllzuQI9IAOyotccTTR97DuH11zONrm1eYPnRK87ZsatPEnAGCEsWSIGTwkAEBDKP4QQPWVV7jllj/JEcF5tF2PW/jE9hIInFzJZDEmjU1CfxHbMuVBSzi5rTalaPgz/07B/g+SWYXJ8/BPF36KgakABgPA0c5aDS3nKG/BiG+K1EHt5soku92NWpHq/oj+y6kKdnj53VyY49zFS4D0//vA5VWT9G6u2efaMhGNHSsKNlpq/H7Mi1ecV/ZFV5wN7+iSuTHAxNraZgxfEHzmjahpxY9V2zx7N4PjhkrCK6tg/aeABCMAYIwR6PQXgQrgAQHgCDGOGiup/0vrIaTH8dWXdy4VJO3dH306Iw3aWFgEtOjTwdbEytTy2PrPo3rmN++MfZORjn0Cn8OZdvC3Upk7zvOSYCxePXLir1paQBhHNAhuE2hrVwJKBEn3CxiMX02LugLVO59e6c5i7tYOJnYvvZd25sOng3YL8IhoQ5hP2XAf3p7kauIxWUkriESFM9YRbBSKDiE0hjHmwQ/aLUhm/QMSB+VcyZws1TMjqBQqkpJCoNCpsnj+SlhSWII1aZa4XkxQXEpUGY1yx7vJDl1OrsJnXo/rCEjC/25MGjJBEa5EMDuYIZPPTIN1OpWPiE2zq3tr5wfaQ+i2w591Ll/fsfTeuk7GNMeP0gt8zrUdZeT6Ivbzr3M8rXKcb3XRvbv9gV2j9VmrPxJjLu/e9e7ur0U3XvMGzTi+am6n5wsr1Qezlfedm/ek6qZptujzthwIAJQSAFTdlaxihgp0niucKzwpiddWoqA+DDbXuzbu6PiMrdvriX04ev12Q56wpTkbr6YT3XgpvZ5ImYkHG+WM7p8yZnV0MJCWn0F/v9SB4RrdgR7UJKwnNuTB755J9y3dR8ELJZxZFDHv71VH92pvy/44Wl9yL/mXOT/tiijJytNYkP3eT7RejWnUIszWhc27y/r1bflsytwB0kJSYW98j7NW6kzp4WZQvZVX9QSlgFQZKCfAQBktK4/OKANVTFg5j84yIIHBZcQy+41LeH7h+C5bRsZ5o0+Jh8L8x+kx6curw1TfP3DOrd3ZJ/Kqh045GxxsvKF72alBScHbakFVnr9/Ul/68ApRAytqPftm/96K5Qi6pWz/8ZceRK9U9D50SvWTDUiYnhLgGOBUWCUjp5zJm1ROKhh8kvXAitO3HUz9tHfpncOxIo6XvPF+eP0H7dcirU2f2D41K+3juy0ZV/6DRyKR2x0JbfjT103ahf4TGftDQaGvzBnd7ee5P2h9CXp0+o39ou7SR81/2NDr4EwhhXhAidlMQIlVsHQMAwQ9FUrYQM1mwVCEVMVvZ3IsXpN8+PGV84isfvrZz97ZNs3ZM1R07eGLvyQSTOuccO3X87KijPafOWbl387Flr0S+tuqbDVcLEyquTUsAbu0Ytz4xM2josc0bN206MOOuFm//aUOGSdfNjMs6MnN85ietR+7Yu3PTsmVf+q9Zef7U1cum9M3YvXnfzWk3Bq1Ys37HpkN/NnV+ceWPK+Mgo1whq6cDnGzHArosnZaKREaQEtJKpZ8hoOUdRCRLlzK9PZmQFalm3mV07+DaTYvCF8WjQP9QW/e6yesmrV7Ze60RaRcAACi+eHDDik/GHinyCwrWOASqjq9fvGrSrFP5FV3twfl5u35t/ds1y5r+dVx8gu/v/nTHn0P/vFHROaUk7uqhFe98uDPHo2agrVuI6sKJbau//OZAVgXdSOql/Svf/3BzpptrTesawRa3Dm9YN+67rRlP9E5UAcQMw6zogcjoAABkYE8hzqiqRrOxnp+uwjZEOJG6+/maM3aECWObObi0NnTxq3Y7LoPM9QcIEAaiJwghJiYKiKuKArd9Qdp9ZQpWlTzSYYx0Ot/E+NyspAfZN498Puu4i4WuhotpMsRaO60u185h990iknLjr0OXNqz3C/Cxw3YVVzgDAAt7W4ekAstD1wrQzfU/L1efueNes4Zpbl61Wm9t7RN7gxSkZd45f2zsnMOBzthZZ/zkJ13W0iHVWnfgVi5KOT975+2ju/wDatqARbUyz8yCxJwCysqM8sgEFlFaxBUtRI0/aUvFoPr4448BICMjY/mBow+NCoaiakjUx6KAMfq4f5//8gn/EdS29upiy9t7Jv2wcN/mdeuvgWVAw1dbBdY2HunAVraWRH3/9Irvfl63e9OalTklvvXb9Kpf28HS+ERSWzlpML13cOKPiw6tWb3uUq6ra0SfF+r62xuf+VhroVHZFkev+2HWms1r1q5NTdMEt369YaiztdFjNlJbWmitCuPWfT937da/1q66mWHj22ZAZIizXfV068zesEGSn0KYSQVhENERSccAxImQvXuna7fHd8tGcWqqy46Gl75rZFF/3J+N9gausfysuXe5jRNXD/yi4Kt1b9jiPn9+UPDF6NiW3UNtyh/75BSXXY0vTWxsEfrVn8/tCVxv/VmkV/mtzRv83urBIws+Xf+GrarPkk8KxnwW27RHaAVS/U8W/ti7na1YvE4GYf4TYCFcJMwIiTEqXsuyNkCwCQDebNfBrKurrWx8G7nvmrbm2NLdZ++SePeQD97u/1J9JytTNiGVlxvNDT/z08QDScdP3yz0aRY4+IuhjR10Fdf5RAB2AY3iYm6e+n3a3pSc5ARVt149er3TzsOkyIDWydKnrue6rw6e2bzqZEpRdkCNz9/p28rfz5SdU+NfMy/O98yvX++9d/XS7aLQLhGDRgwKs9Y+vZvubxs38pwhadZIYvEGaQFECOG5aVhswxRVECWX0nuRUN6T4rrVA5QSC2evoOC3Li16f8sJAADatM3weh08LA3RwUd2Qzpn/8B2dTf9MHT/WQCA2uGfBbbzs4cKuhGNvb9/xCsJyz9ecwgALmYF9HotvE0Na6PdgFKwsfMMebHlwekDdh4DAHByeTWga5BzRZcDC51nSIcWF6a/vuEkUIAirzeGdAz0LJNkXX0g0oUYf5m9oYAwAOHUBIR4HIUCIIIQeqJnY62uC/t6BOSfjXcNDGjqstDXyVhjp2bvva+q63Q03tYnoL7fB//T2xsdu3a3hU6eAXln4l1rBTRzW+hvPF5o3uD2zf73oSrM7ehkO5+AUL/339MbvfEnEEiSeBQlX5g5wlzNiAIhYLBJAIDxCQAAgBCCRC4RMmR9mA5SlJkQPXOfnz7uaIwukTRYePajcLh5bun+oxn24f8L9wAwZrXmRcclJCzO75x/Y9aGF3997aXhExtk3js2bivq7u3/XFNjXgcCJPHYpix04m6j9NxJ8wbt2darXb3M2Av7p0c7Duka4mdrrLofzUtIOTfrYF37mOV71YFOgTN/nVAbsg7/cjjPEYf1b+ZmNKqYffJCUuGK7Ob6+MlLe27+skenj3zj7x4Yc9ByYP2AWnWf0lqlYjrxt4T5SyQSAEUybR+JP08petjSpZzmB8AWP5lYqZTPgdHH/Xr/dw/3T4AQKryfGHd56ZU8K322xi4ktEO4p4+zjaVdDZ0R2xMhmnX/9vWDx1Ms1QVZyCekX/P6fi72FjYuzlZGbEiEUHHmrYQLq6LzLSFHa+kX1r6RY4ibTqPzcjQ24RGC3Oyk6/sPJGq0hbnEzbdz8yYR3rYqazc3GyN/PxGCwqykG/v2J6g1+myqC+ge2bBubRu1laubac6oJw6/btggHDUSe1RoLLMgmxSc01MW7kUIDe/a9fHdslFYOQc7WQDRWLp4BXm5BzsbNTnUOi8vW1SELJ09gnw8vLx0xk/EbGy9xtLVO8jLo4KxzRxcrfPyssXFyNLJI8i74lt58vDHvh0AAAhUKkwJEyFAGCMQVi9W8Tgbs3oN3j8WjMOltAoGmmXp5kXfOPLXG79nhI/87I22th6Zp6clh3X3PDb3j8DxazEAACAASURBVPN/XkDd+9V1KKu+K0f2jd/nbZp3+XKTd38Y4wg79uZczvFoEpw8q8fmonaWPnUblL+B0cL01N3DftpcgBq9NXDYC5Znx671au1REl1yccugva4D2/q72xhZ8bISD+9c9O6q+Je+G9yvTsPizB3z0iP6ukd/PvnUsazcjl0i7MrbdClA+sXvZ2zYnJfWfsikL6xS5m/E+fZOfpYJvw7YoOnv7esTaPzwWD3x68b1QA2JQzyNQsr9kZ3TEMsLp1KIV2bpyoW/DVUTDPE0wxjVLGCYGX3s2s150Pn8n7WmHO30P68dM27ETDqhW/Oyn7FeJbdjLsTtux06fk0bi2naj3qkbN13e8s2VeB7jYwvbjm3dt44tzYz6uDvnj+caTPa5uzHGZdmH7Sf51/baLeSlMTYK2uO+05e9oPVPKs+jVIT7qSsWUVD6roadUuTrNvXLm465fDd8i+0c23ebJN1NSZ505rzQaGe2upp6rLgG9Vzn4zhGZBU/JnKz4VSHtyTDM8mXUwPi9qFdGlsxtheTbuY0dq8wW1COhtlfj3ZwBjp9YQQoS5AKSHM+mCZaVTkogF7xxc7XEabz2zaaN71I7Gnl+tHHmjdxqupU0hwfd3VOQM+2ZVzwWtgg8GtAiroffrgAVV8TuS3ExrVg4aBfSZv27R5Yt/DGdejuswOigw21rMwL/nE6i1uHVc16dijhVNq+NxXvlo0cfaisxaeoT37t/SwNbpuZZ6Nu53ws/azTVFNGvu2yHDZrbmz+IO3NiZGB3Xp3r2ft5G/Y8VQfGLrTge9T4NvvooMgojp/b9et3fBuP5Whak9eg/2rmcWN6H6ACNEKJV2VwoiKVxkWPBPEFBCEZVRPpFMe1mWbSQg/6WpILU88UtcGVC31j27tO6pz6CntkbnpER79fw8woRumvqtutVv1S275PbmK8U+13Hky4OsTbmaY4OhLzQY+kJJwelNMWm1rtaM+ilSBVChv1cdENwy4LeWJZC89nqO82X03AtdHJpVvJxi1/pt+sxsA3BvU1xe+lV9eKuXm7d62YT7fEJBARAhIgIi9lcqbBIpbIJkHRQoeAiEUJHsjZgoFRJZZ1hoQyIMQNjpjSKKCHNHE4pUIsTLoxvmLXlqSyt1njp56rGkwBfAydMvrP2v/deE9D2Z3wGH1/GoqLettfZ8RnbM5ptDa/ohx5c/a6zGJweOmpY+4VUrD+P7F8Zaayt84Hgccs/rFuVqU3fclGY9h22PXXPPc8oEB2sLo521NhqaaJO44UxyIz/fGm4Nm3eYnL2u9oD9fv/LqF/b31hPBBobW+2RmPv521N613KzdB80oUnRh0dWLFyin/y+TlfhA1dfIG4Y8C2VZYETPeWZjSwpXErnpQCYNy63tB/PLhK8Z8m/zLbspE3LH9OTVhqPJ0/X3Ks943m69d4aymXQ2EGRRzmYA1ByOxNeC4E7ddC53+Y8zptW8OSh7ZiRCPNifnzTFYx3YHXWGD9ZViYcoVI6GGytxCpM9GTv+KmPvMqjoc9OOb9zzpgRO/K8CjT2TkX2qvzwJs9f3n7mRhJu+v64H4c/Z12+o7c499RfW/9YOX3TAws/K1AV6vx9Pfx8YO3Sk/oBz48Y9PHQEPdyelJ9fm7Cyl+n/L7rTFqOdQ1rhApqNK9rewWST225Ffzhj/NfiXT3KTc1u7ggdv/JuRPf2UcJVvnY5qstSdNG7eP/3nVFU9P7w89mDQxze/TSQgHyM/fNXb5w24ID2Xa1rAktcAoNcbOzKN6w/oTlewPGvjqkm191owRUjAbDhsj3RUlBT5AJeDRMcqUABaRiZIKHxDEkyGiiBCiS3iIMTzR1pVwgwBqLSnB6kdqiUsoqlbtaZS+HVJW7yycMGCGDJAZG8kgbZ6IiIHoASa8FVQcZSAX/OQxSopTyLFxsqLNGATDGRE9YmXF2huPJu4a3ABRoucXby4fKzr1Bh1G//tLiQl7SAz1S6VSauh2iLHvGXo5Nol4+Wo2xdUFj0+jVDjWaerc4k0ChsLhE5xtUo05dv5ebnbziZl3T2QibHamsbP3feG9kzeev34pJU6lVqNizSeMAtVPRrRfOJtesZWM0MK+xrNW6xdcBP7U+l/YgjwKysLat1+EF3Yvtb6UUpvp52Ja75CMAa/u2b/fya1vnyKW7WFVSXOwYFOFX09O9T7sjV3y9guyrlaqKqUAymQDGAEAECBMUkHFQ5B2onhKgCEBm6Y6fKu3J3MBl7hce6+VrHDsAJm78+7E8qoKnG/WHDWMpkhhjzpcHoIQgjCnlkrnAaQvC/wdwfo5SxF5BKbQb+5Fh1eMeYiSxARBCrP6B5BUEztnj+Rp8t0bcO22epavgGUD4228BAGKBDIwQACVclgoBsPWKrVDMrSJ1lLgpACAmHevEPAmEK9+yxoZYWnU0dBVUC1CKRZlxXhOazWA296R1EEAiDCpQ8CgYnMYIAc/5xiBlPiImjoHF2Q0MX0mfcPU9hTeg4FFAXNoRgAIh1CC3IvJ0EUYYI0JL7ZuodJUhQVGRVjUkKeECiMQNBQqqFAghwIjK1ICkWqiAgALhB0g2dZUJqeDRMNR8pGxNBE57AQA9ryzEvjXw8ihh5TQQVmG2gBI9VWpHKngExBmN7Ytsz5TX8ZPa8PwKWSKk3NKVpEmBfSOfjoiluEnytwoUVAmY34+WMmFFjjklFAgwDj3lCgaKsavg0eBOEUJLe+Z42SoQalMYPeTt4+FgIHqClBLiCh4FSf1dvDDIUokkb8TmGOMTSPRQWopIJWYX70wNabtSOMQQ9FWgoArABfnYGwyI8HovkoifcDtTkFViU6CgLCjo9Xq+FhLEsjUQACFAEUUYMzYpU102VFNjaUWUFyni1rAywRQ8CpxsJ/wlSFq+JIOXVfoDccITcwnLhhBFSkFe8p5/B4JJpZi6CqoQPBcXCLNFpMpC0sxkKyPbgJkfR5mQCh4CVmEsefyw5O0DhBDGmL8lzHsiBEfFCsqVhXilP8WVouBRQFIVIGEPiGgGEmIWbAc2ZF6Ihcuw6VLJnMCGNAxe60AMxx19Vf08Cp5VUEIpoUB5sQ5Uav4CczQbDpJU7tdRoMAAQojwj4gJw3PRKNEzUilvSSnloreY1xeiwnCRPjQfeoCrW7q27oKRyqaGk9uwmYeTzSi7mXk5YXnf0JruWoS0zXuHLb2VW2x65lL03slvv6RS/Z+96w6sqkr6M+e9NCD0LiCh9w4qoKBiwS7Ysfe1l7UXbKuia+9l17ULWBErKKAUadKll0AgIQkhIT1598z3x8ycex/qS6LwKfpmd9143y3nnHvulN+0BvXrmdANNz61ovq9TMmr2PrugDEHJyAmN23T4bS31y3bWe2Ls2ctfum45o0b1jIYOvrKIyft611GqyC1XBHY7cW8yYj7wsFyou5ZMQ+450F0P12j3Zv9WwMAkLxxlKi/OJuL014j5JhSrSUEXKXFiIHiYgyEfLXyr0M1ZPI1O/1vojFbz4Ir0kfKCaUzKQGB9azjlcSlmJmkroEmR0IUP6wmVRakL3riwA+HnXfsrJLilR99d3/uuG/nvrWwen1tYcWSj6bffnHPsZMWbqIV004/4Jjrxn26sSK3WtcW/vDQhYvySo6a7a1bv2nuI58llb767OzqPbZ0a8X8pw/5/Ow21y0sKF0y/41rzRUT505bt70619L8KS/Mf/K+Q19ZtjrdLvy0a6OBNz350XYoqt6T903SuJNAhBR5hAa1Mx9INUjpOCTBAtHRy86by+aDQfe3unK5fWnQ1xunOO1J8jvmAnB/cVCtEYC4tTgAGsO4s0XzlzN0t75//mMLqn/6vEfP/2Db3rr5vkuhcMjBchjomwvAvjhNCgLnqgAXkMqWMaPO1qu5yAWoKMtaN6+gdfP9u3RJSW5Yr3FdjKzYmLMtr1oXb8/YTDnjj+nSvkXTltCyQa2spMKJq7dECsuqvDICsG79pO5law7o0g8aNWrQsgEty9322bqMaj23eOf29XPy0tKaprWvm9ywQcOUhPL5GZm5mdW5NmPjijrFnx7dpVfjxk2gZYOk1VAwadUWKK+s1pP3RWJDFLWkBR9zmLOkDKELb1a2hkjWBi1dFzjPpVgIdqs9heJli8fQ//XoT6JGcVyps3FlE3NlA6slhqxG9SFYa/863o6sSVdc+2Xpfm3TIslQMeWaqyflxDx90bPtX1oFnVqnmVRY+3LH5xbtyZvv62Q9C76JG0WSDGSQgHyfmqYVSSVdV9XP/JZEydp10g4dNXr81OWfvP3OnI8f2f/8T4858rAzD6mq2QFTswHdmoRv/fC8L+ZvfO/RS5788IsXznv9zMHJab9awdFRGKDv8CvXrOvw9ZXPzMiccObI2/cvqzjtqdNbVeu5jVo0P+D4U158N3/Gh+Pfe+3hgde//Y8Leh7ds091rm198CEJWy//8LK352W+f/uJDy3K/PD8Fy4cAI3+ClXyfpk0PJn/lvRc3nEo7Q5Ee7N+RT2JGfhZGUgS9Y8gUJ0AQXmg4bDmP5K88oJtheEWDVLCoZrUWbRQsiOjsl6j2okpNehTRlBRkLErsXG9lOSEGqkatjRna0WdpikpSbF6+v2cIgXbCsJ1a6fUSa5REclI4bYCqFcnpXZSzZqwle3YXp6SmFyrQex66P9fhEQQCnGmuQvfAyBrrTHGAFoLLhCf/7D4V6kDmdp91NBZT4x54pNltGb6iMH/HF0n5un7Dbmt4YyzLnpzZdZ7awYfdsmY/fbkzfd5QjCI1uo+ATJomHNxJqQxaD3QWn7gMtC4UTOzPmPQetb8hkiq2g0bn3rD2OfOH/d60icDbp1R9nJfxKSI51WiSajSZGnUbtAxZzz13WGndkk+5Ymbx018uReAV+FZD7Hq0ur7nfLIqcsfWn7j6JYnPzF59gnHtqtH1lZEIFxlFXhsFG4z6rr7H7zm4fGvNh1128LCoi5QK1zp2QhgOFTFc1v0PWl04a7FRx+6X4dr37/r2dGndQTyKiIYNljT6vP7CKGfEQTBts3sDzNIXiAEVOvZWmL/rE+7hyuTBo1qkQIpAvRHyVwb8QhKC/O2fHbd8z/kFuwEosqIV+Vl5EUslBXl0ZIXb5qUvnx7OYBXFqmSU1vPg0hpXmXW5Oufm7dmSwEAVVRW42m20noVZWUVy1+6btLyTRtLALyyaoRBWGtteWkJ5H5+1yuzZ6/IBYDyCq/KpSZrvYpSD/K+ueOVGQvXbAOAiopIdS6zkeJKC6tee+yzRZ+sLAXwahKssRcJrQWFBHUrI7d/4d4dATzwrxVZWrv9iGPDX7/z9eJlU96dn3LK4e1jF61t2vfiDunvfjhr8exP3s3pcXOfpnvy5vs8EVgiNGitFStC69Gzm42PQzAYXiKoAEBwQy/icOgaUcHOtRMfSDn88+6Hpx0xfETRwlXpFC756oXTHr5k2HtLACKxB77i5TfuHdf7nwdfcW1qcuuM6Rt2QtnWheNqX/bcW68ui31lGWRPuPvQ8z+anjPs5juSJ61Zv8OLlHw//a37ks/5YG52cexBl6ZP+3ZsgxFzTq83sN/5B+TPW5lnw7vm3jv48ZvOfXENxAbZvXn/euCmt497fNi99yRvD29YmFkOO+bOuj/53FdnfLoh9mP3VdKsXN5DBAqIaE1mVuwEVXFwi0EACuTpYoCB6QYFluGKJ0fVS/t/p8qVE16ZvyS77jX3dOyXFG4emfvIXTlJ7fe/9ILhsfnH9ukTZ668IWNQ5lmdB2U37LJlws1TvYWJw745My3WVRVLZny85N2Z9cY93WVAnVCa9/3rz+StK+10280Hxe7wl7fohR++ff6nw1ad1+mAvBbts744f3l2Sd5hEy6J2QsTIutWfjf7gdfrPP16+z4NEzvTwinjcz5Z0PJfj46I2QHaZi+Z+tUT7yQ9+r82PeqldDBrP3/zu6kr6tz18IkNYvo6C9dumvdRp3kjsse0GdSiVce8WV9+tvLctcOzr+sZc5R7nRAMEEn6pJ8UjmgYCiTtLCRp5n8ph27JhmlfRkacdvjOFdT53Ibzpm84Yni7GFs7Z8n/1rc59YSDVm9v1Hlo/htLc87t1WSP3XxfJzTSrF54F6J6aV2aBsN4UayMSIp+i0kCwUDmatP675Z/8/69d0/76oIDDqNJX370waibX0k7c9vMXvXX9k/rABATi/rpi39v3Liw0wc5dxxXe8zg086eOeO8e5PuajE/sf3oZh1axrqysihn8Utnbz/71UFHnntxsxVjmh104settn2/fVDy5lr9T2qWHBNxoyVrZy574rFH//PTZUd3OG/RCxMfv/SK19ufu3PK4IQmXTrtHyNyIgKwdPwt27BW/4/yrhwBY9ofdPKSDZsfOG1ksyXJ3fs3a9U49mLtq6SGKIExnHaGBoEQQwCE1pMQPE3cJcafueK3+aU7MQVK8bmGpobdun8Iq0voPOqMQ45pnXFb2pnPPH5c2+4Tyjrvf9w5Q6vkHE0PPnno0Ncafdxt6A3jLu/fZewyW6fvS6Nj9ogEgMSeQ48cfNkha2/rcsqzj5zQZeDkxWUdT7tuUJU9dRv2vviA4//V6ctOR972+LmD0u6c0iav7yNnd6zqsnD7zgMPvfuc3If6nfPkXSMHHf7Wu/Oan3vvsLpVXGaa9Bh85M1n2Yd6X/PsPUf2G/L4JysTzx57VP2qhFFqhzb9T1sw4PtRZ4y94rQDjrrjjdfW9/z84q5VjXLvE0qYqQAqPnsMZOaqMEZj8K9k6hYsG/9tkxvHjxt1zpMT/tHwiwnLYgd/bpkxNnfYhNevHXXLOxMGZ931XexwmRrefJ8nbXSq8QGSisbYCf/kB0wFPL/WWgl84TONqSmyV7BrU/62GUfVa1AfCFqcMOK0a3/of9XZZ983bUXp6cceVAWqX5GxpTBxc2KrRrUhAm1HTHjt6DEtvj9m8GUf/zO5ec9+MQWYV5m7ebVtaGo1SQKo273PDVkfJ7+4+KGxFz+34cGj+jT59W6CAAC5O3dQ7lfHpiYneQgd+l981lOfdHjgkOPvyousHH3YiGT4VV8XWSjcvL6kXnZK04YAFnqMnvPBAR22TDrljMsn35/WsWXnmEbDvktujxBX0DOCNpNH5JFoaxobwF0mAYgrUwXydF2ncHfXwG/iJLbkelL+PxMRhJMbNm9Tt2L5pvXbs7elV1Q26da6fTj880iJ6OusSUxu1vzgWlkr127dnpW+raR2g1btOyTGTr8jgnBi/aZdWpYuX52ekZ2xrRwTO7bpmRiq8mkYrtW4zcAGOWuXbNienZlRQG1admqbYqq4jCAUTm3etaO3etGaDdlZ2UWlhW3bDKqVEPuDJwKTUKd5jw6hNUsXbcrO2V6YU9K2Vb+UlCr4BBGGwg3S+jTN++GHVTm527dnF+Y06TKgTs3cwXuRCNBaIE6mdBxRujtzRVL3w19H6rY48cVnR6Zs3bAuVAapI194/sQYhisA9Lsm/fKusCZ9nVcI3a5Iv6rvnrz5vk5a80JYFgAgggkZiRKV6t3o0opMSGr1AQJZ54Tjf9SM3dXbr1/LpifMu/7pD7+d/WPBjh15obqd7m3WqhGWZedsy9xVHpMVJHbv02FFw10v/Pu5pStWbcrJS0pq0+aI4+s3DOfkbM3d7sUaSkJyix7D2kz5ZtL/3vtybU7Wpk259fof37pfy1pYkrU5M6845iyatGtdhy6ccc27H/742bK83F0lefU63tGsRVpkV3521sYy71chcQxBao/BHWZUbvzv46+t3rBh0/bc1Ma92hw2rE79hO2ZW/J2/Cl8VnueAmCwEkIgWUjcFrKpJG6Arwy09hv1wBMA2smZEIzGVQXvqR1g/ojWfjZ76ZwVc2euLslfNHleed+TezRO7nFgv86D+6XFFhZFG5auXPbSvK1NNk6bu7FF54Pahzr07dGu5wW9GsR8WuaGJT9NmboSi5d8/F2k45G9Wzbr3qtDlxEHt44dkVe67Ye1C978IbfRpilz19Tr2au916vPgfv1PX1gbJjF7shet/yTyatDJT9++n1pk4Hd2nXq1aFJp+NGto8ZtEhFmWuWfTZ5LZQsmPR9fsvBaW3b9uvUosPIo7rHBgDKc/M2zL1vzo7666YsW5dSt0P7lgN7pjTpd+fQ5jEv2+vU65JLERCMv6mjqvShcETfg4IIBItffPGPG/IeJ7JaG6RaZ5OFGqQT1Ozm+y4Nu+N6ANKUSSIXH6qd+7RRqXTxM2jEy0sQNG55G06//4kaPd0r3pL+/mFXPJs3a42XmJCWlHzpxAn1Pn73PxN/SDrhgfH3D0+tFytuMWPNF28/fM4j35jwzpKi9kePOeKSy46cftrYt4a3O/eyB/41aP9YT6Y1/xnz3OufvLasVq1EU3jwA2NPSuie/8HlDy85+7mZF45o0zFGP95IbsXKCYdf8MzStVkhhPotWl454b1WD4/9dEHR8jPv+vyuoS1jBVOtm/uflx67/uWZtVJKigq7nnPzyOOHDPr6ghveOf3Y+y+68bKufzBb2QvU59KLAbjZKKlMJWOkeo/L7ZZAZgLJ+QagoE+XCAxGF9XT1HLUzA2SHKI/xKdri7NzKkzLHufe0nvbI3XGnVvy4Ye7srMKvCqcJFC+M7sEs5of/twpqffOP+mGtHkfZpYsyq4q680r3JnvFaX0ufqmAemP1b791OIFi3et3VJgoXXs6yoLM0pKi+sPf+66hDsWjbi/0cYnK3JXZJVUNTkqKS4qy6zoduudPbNeqn3mQWVlu3Z9uXRn7JgLAKooKizMiaRdd1eHbS/UvvjwyI5tBTNW50WgChMwUlJWUrAkeei0K0L/W3tIt5SddcLrbtlY5Sj3PhnUMEAEThIKGWOM635KoDJDoZc/crR7hWqWkbdbqv2evfm+SyaEAg+HjLWWHRSM9ZmQX2CZrRPxo2m3A0AEDRcIhYxXddDl7hSq3brdeWu/PC/q4JDBZz1aratbdRp5y39zb4k6dtT6EQ9V51rsdNE7T10ET0UdPH/LVdW4NNw4secV3y+4Iurg2x+eXp3HQocDLnp0wkXR8ztmy9FPVuvifZGkZ5/iKQwGEwFiUOIicHcWhxVbQAykDGnYgHrQAu2dCciAkTAWhD8mfJnCaSNOSgPw8jd+XlYPc6D3qPNTAKAK+ULUqP+IYf1HQBEtKtoFeRuaH35edziPZ/rr11FCp/6Hdup/aJmX8XVJ7RZbwv2GnZA4rBpPq9v5lAM7n3KgLVv6dVFFzsZmg29oXfUggUKt0/q1vrsfQPZnJQmUkdDr4KF1ug6t8nGmYccBR942ACD3m/Kk8gzTc9Dwxj2HVz3K2m1a9j9rWn+AVTNySrK3tOo/umOvTwfEGOD/H7k0NURD1iKRBWsQ1VgxnOBhjPFLG8QpTtGkuZJgrRWnGPcwQCJP1ToXjsfR8qCOXiuRK9zaL77F4vRzIlc5ClSQaMluPoEj9xCdbsccjBDRh5dPvu9xDT0wLmFXr/eBZT629Q+Al+P016del15mDKdXgvZl4w6nKIgLESAQWb9xG8CSl176owcepz8XDb/retDuuUJaiMrPx2UuJ43YhEu6vuEudhlqDi/H6S9PfS+/2O0SCmwerWgR6K2LYkOQtWI3uLtouEGU8YDa7cBaG0Ce/3qYXpz+FIRGBKoknptA4BQfAwIAYyTCyiVZxilOUUSaq8ERVShuMt5F1lWikkNaFZI1OQDgAlUEEDd04/Rr5KIEALRYNziJK+EEGlplrZVyA5aiuwxpboYLrAcAbmCqOmOgvkac4rSnSRik7C8EIusBEISMxMwbRKObm0VvXAOM0y+QVAr14ToNd2EUEEwI0eV/a9iKJWI4GvwEX7B/0fjbOP1eYs1Me2OoSseRU7r9QLQ9V9PHmJ/n6ZKPSrsCpLs/64/J043T34DI7VPlhgYIwHrWOXCdmWJtYGfHKU4BQqPlMILhygCg2USuhR8fFCRPqleJiexHwMQpTrsTgpZbDopM5kco9oBkNRJZdvdy1FR0RSoEPzhFfbp+vStfAseNizjtHXKlckmLTwFoXKAFMKRJQ+KjQ7V34xSnAFlrEY3hulScbks+UiwwsuubES2YffHMkS+/Ua0ry5j02aINm9aF6iUndTz05IHtmtSqbhn2yM6KzPnjp2zMyyvBtl0bDxx+auvkhOpu86KtS378cfqCzeGkSjtw0CFdBvauW92+A+RFNk6Y9mP20nSsXa9euyNOGbBf7YbVzN6vzCrYtGDC1M2lpRXQqd/+/Q48sWXNqs7vaxRlkAZ2FnDWEFeuZUg50NQZAHfPtkHn2+DoPY6wJ6nsDIGCQHGK054nYYDcxU/YpQSiIrh9qOgzSk2YP3TIcfqzEhFZ1c00ezKYnstnsf5mrWWmBwRgARyz09J9NXtyJC9/9SNvvL5qcSZ5jbFia/mXSf+66ph+R1SrIklx3o9zvhz337eMSTDZBVPnlb1f0PP50d0ahkNVX2sLFj41dfycj2bXSmwJmQvG/5R3SWH7c46qTncLqohkLX3s5VfnbbDllYnJFUU7vmp08+2HHN23bjU4/q5tU7+d/OLEt5MSGmLWls+WNepU2PuJY9vEKGW1j5Mapxo8xTk+IbSeBasJRQAAYD1CI7WYOCEoyqcryqCG+fG+tByJEOyRFRe7cdpLxLsXXdYQutwPAjJawE/O1eTxOMVpdwrW7ubQFJfjIQWCpGaQeHSNr8kREKB/8DekNpfmbZ71xCM5p1x51uRPPpj4748frrvg+3nfLdhcrYt3zVu4YMmtS0eNe+qNyeO/fW3UwDM/uW/yqvKMqnvTegAbp9w3JSu/60XTJoyfMOHrcZkhmPLYp9Xr41uwoWDOs4+UXDf06kmTP5r439du2n/y+0sWrVlZnWvzvv1s9uYnt5731lvvfTR+yisD6x32ySMfNTqZmQAAIABJREFUrIf8quoM7LvkJKKTm0hqlCIEYqLAhIyrVMVqX3QTe2VwLgABXaUrBKA4e4vTXibeuKT+EuNXLUAwRIRAyAX7QLZ43NKN08/JOcWYp1mPQiGNYNFQPQ5vIS3LjAY5+dsYlcbkh8rXiMKhcKNGaZs2FO7YnF2wdvo1j85sltqoXfNG1bo4pX5yvdKmSZPTy23GT699u+ijie17pTUwdau2cxGgduNGtbdWmqk/FePaCePeCC/KaNU9dlE7RwmJlFp//59WesVZOzYt/P6fz0zr2iKxaYOYTRaUajdOrZvdIOGrtUW4dd5jn22Y82X7Hp3rQc3ak+5TxJF3EqXsCtMyHiz+WeLAAtCe4LIZgxWpQApOKZYnUQTAEA3IreI8Lk57kSwoekxIYDWqBUCOI0fxkVogf63iy3HaY+TqO8q/haStvSvxKM0igTRNiABcgTPxrPH24wtrRImN0g66/f6Wp731/jvvzxvSufjAS/91zvCDOsSowRighL4De2U+3e3VW2+8plXjxLROZ4w67ZSTOyUnVS3ADEDz4f8avuTlGY9eeBGNbFXR5dZrjznk6Kq7tAAAQO12DYfddN+rx054fuKFjfv1Tzj87CfOO7Z/y/rVuTZp6PEDfqo7+95bLg33aVrZaMgVpw869rhW1Xrsvkt+GQsgP6BKUs4kjkAEKHCxKQkQ3T16GdXGdfWn+F+N8Dz0o5/jFKc9TQoE+uiyZperERzI1yUCSxb+3rH0mfO/WFtFp9S/I0WnXfjBUJbIehy6TK68N2cTccd7rcEXuE+N95etyNs474FJTXHr1vSchfNr33Df2JEdC9b9d+qHjy3YDFBFU+7iJWvWrX1++0hc95/PU3vuPOzKm4Yl7Zx583vfzZsVu5EUWPDSv3s3o2L25oHlO555tedp544+89BQ7qKp/3z9x42FFbEvpuKN2+Y8+FnbpmtWLirIyiq55fY7h+2XuvCx6V+89n1mVShnwez5G3a9ljkkacOz7zU9vt7Icy7vu2vLNze+PmvN0pzYj91XSZqhQXRyGvcE4uB5vz6GZhNJfGiUn9svOwWSMQmBzWpB8onilm6c9hqpP0NxGSKFASVBCKQ4MyERkPkbV8fIX/fFxiLI+eZ/c4ugeOOX6/P/6AH92YgdZBhIfSQAztCVWmYIHFZKgAaRJHGIOJZKDY8aM7yi5et/eOuiuXXrXvXYs8+PPLv7wsv/vTJ309wJ8+Y9MjPdVgHNFKx59aOvn1xWOeKaJ94de1HGxPIXn/w+J7JywpOzl6RviFkc3ZblZX1x6VtL83cd9cDtz910Q5cH7pn302c/zNux7OMnZmYWlcWW9Tu3/jDrP5cvr+x+zx2v/vsf/esvuey5nyoz5j837YcXF66NBW8SQM6Sh9+ZNj6nzmm3vPTWTaNmjMt97/3ZW3etmvDErNX520pjPnafpoBCFvBQoJR+VKGMAfcEs7ZoeNkSqcsXMSrRDV2Mi9nnAb3fBkn+ViDzN14XuzT0nrrMDa5Go/Sv2uNZjNJCEgMZ5kCer1bKAPTBaDRb9+9Haz86a0rfxUenpuVtTJ/+5Wmrjtt145+jevafhUi2EqCzJaKKT4E7qn12AcGga2KvKUM13OHF637YuGhC4pUzhwxuOahh57Tu9Te8cMY1lxet3P/SgRceXEUfb/px5uzw5pKD7ryrd3fo3eH8J7/4+JtHT5yZmz7y5Jc7H9Qp1qUVpVnzP/qm2Yj3B408YWDDHd1fuuS+Vx586bWFpkWf0y88pFmdmH3H8pdu3Lrl2XrXfT68z8A2BxbWn5ac87+rz/5068qOJ40edVbLGMyhEsrnfzm9UaRVr9tu6N8Jejx+2QMffPnGvaNDpQWnjrl4v55tYk94XyWXzw1a39HfUByCR8rCiCRrCESs/oKjYDdbVjM0kKtG0u8OqNKrKyO70mev3FFcsfsPsS+DisLNc1Zll1Z6u/8Q+7oI5a6cu7loR7kvZqpBlorTf1iVk19STRDT3dXLWzlnc96u4ho9DQBKNy9Ysz0rP1LDT71s24I1mTm7ymt4GeavWbold+OumukFWJ6xeG3W5tyKPV83QMPmtTKGQQQ0gMYXukTgSvpxN7a/Jw28aedhs9v2v2rctQe1/U+XjXGJGySBjo2U7GYyBo0x/u5C/W8InSLJdjA70oz5LbHxibVrJ5SlbHpw1pb1BQBNWncf/sRZ+8+fvyGnMNSjU9MqLsa6qck/Fuz68uO1UORB3ZHXDTjh0C4bP5qTNbROctPYTlJjkuukhr6ZtWbO/CLARrU63/zQkMSmhRkzfso/vFtqrVjNBAGSUhNtZoN1/5q/NTcLTGrvAw67/+TOX07bDAmFXdq1iaWRIySl1kuckZEz87OtEKGkRmfcf8CQtFbrps7acmjzOqlVTXhfJQJLrMJZq3lDtJtiB+qfRURiPgYQVQYSFMdzUlYksnQv1Vob8HuNG6Ti/J2FOVszivPnPPbOql0FuYU7C3J2lFYh1pDKduYV7Mjcvit/zuPvrigt3r5rx67cvCJbxWiwsmhnYcGqbbm46cOnZ+RszcrbVZS/fmdFFZdRaVHBrm1bMiOFc554b2VWdnZ54a6s7OKqYirQK80t3LFueyFu/ujx79N3pO/ILduZvqO8qiWj8rLigs2bc6F07ksfLl+5IQvKC7duK6zC/QMQKS3Kz9i8C8oWPP/h4nWbM2xZ0bbMgiov88orinKWZpfBlk/fm71+9rp8KM9bkVNVu0OqqCzNT0/Ph9J5b3y2dN7ybeAVbcnYtSfzAlBdufxPK/BKEOVDjToFcaP8fcnoduyZVr3I2L8Nsf/Muqyy6JwN1disn5whdgp4EcsxqMwif4NOl9D+5L6nPnxLu6v+fd2QHkMHDx129WHXDzj36vPa7Hh33BWXPjSrpChW8k/v42489eRjK74a1m/k4CEHHdj/6vHzC66949r+j7981SO3Prci89evTExtdcCNb52R+OnCsT37Djl46NChAz7sHj787LN7Z915wuHPfZu1Jcb3ndKr7/DRb17Z5Jkrzxrce+jQIcNPPOvBNrfdfZk3e/W9/zz+xUXZv4onJQAMPPvh0w9pt2r8gL7Dhw496MD+d/1YnHTDJVd0v+f2U5969IONO6qzavsgoctvlNa3qPixBkCBCwBFIFLELqq1nyYJQfD/fa7G4ttqXMtvp4ql37y/cvq6Ojfc2aKXqUjY9vXTE0sT9u9/7SV9YmpjkfVfvjd3YUbyJbe06IYGsmY+8d/Cet06XHb+sNgN23fM/er7Fdds7L1p1H69jNdgzcTbNyWsTD30mzPSYl1VuWreV4veml5r7L+b9wzZ2tun/WdC8TbsdsdNB8V+WsFP786e+tTSIctP3693UkLqhs+uXLyLio+YcEnnmJd5mzfMnXnffxMffKFll2TTOO+HD98umLq67UPjDq8X6zK7Y/Wcrx57A8e+2KJjQmL9/OUTX58xJ73h2AdPbBCTXRSnZ8z7oN/soatPbtw1JWX/LdPGb9h01dYROdf2jPm07duXf/PPx8L3P9uifa2Elrt+nPZR/v++bf7Y88c02lM+Bwmf9yNfEAyBVQ1SYpsZ/ANXzeBvSQufbPXtgcu++/d/5/S5sPe3rZ5OyLim3x89pj8N+YEBoOYIgChp6OdRisHLvjmn1XF+pBUbucY9m02txt1HXPfcG4NXluXssmjqhMIdDjk4+ZT0denZ0Kx9YlKs5J9wSq/RI24ftP+hy7cRlEe81JZpLTt0bDlqyJL1jWq1aRGLG5jkWq1PveTGtoduyli3w4RCGGnau1ebcP3KLSOX5bbuVrd+rNpS4cS2gwfe+tKLw37aWVAKgIkptToNG1rnyBFbcyt27Ne6bixLK7nOQReManVIrxPXZGEoEonUS+u2X6umjU8/4vj1LZt3b1S9oO19jbT7IxGJk8uFxYORYHgXa2X9vQUEfmu/UQ886X7wWZ5WJkBNb2ODI/N3tvaLbFz+wSu3nPHQNwmJ5ZUX3fXWNVeO6dKs6svs9kXvvHvHOXd8k1hSUXHqAx9cf+mog6pT5KVw7YrPnxt4/guV5RWRgTfccuc/7jm+Q9XJa5GtG795/aYT7vmSvOLKs69+/Lqbr+9bnTD4km1zZj5/8JinTW5hZbfzH7rh+hsu6lWNimhebt6SiTcecesn+bt22hNPv/b6fz05rH3Vl9ni7B8n33T4zZ8Uby7whp5z6w33PXRyFY4jAAAozyte8FK/MU+sSc+BTqOOueKWN68d1LDqQRYUr/v4liNvnrA5OwdGHHXWDY+/PbJbNZ5WTep1+eWgMaWgNVysJZQAZvS/fXaTIJKlJS++uOeGsM9Q7rK3s9uMgVfGLD7v7WNz3t7SdEyPxn/0mP40NPzO68WhC347P0SUUj8AaMAhz9ZGddlARLBgyaLCy9MfiLf2i1MU9b3sYsk346oYlmSnhdB65Ixd6+3uq43K0w3i0L6I1n9QoATpbyjREiAiQAwn100szwUor6yAtEZNOjRupr/EvMzUSk30cqGkogIgrU6Tds2aQFUxQESAWKtWy3BRaVkFAEC9RvVatEiuztPCKQ1qR3IrKosBoGX9ul2atqpqkEAW0KSkNk0s8XILPQBIrdOkTZvEag0yVLthPZuXt2snADRMCfVo0b7qyQGgqd2oHu7clV0AAA0h3LVl2+qtSVLd2illmZm5AAAJ4cpWbauSuDLI2g2hICN7JwCkJlT2arkHJS4/BFEzKbXHOPpGCUm4KSLrgQIx/y2pcc8xjQG2DDqpdzLU6zYmJiLydyROBOLEXEaVuceBbieGA9GKT06q10uWhjbZ9fMs4xSnILFFS8TamxwzSCpliQDUwEVX2ZsDk/0m9qrNCQitjl0N+5MqLqwn/i5Lt3LlzK9WzJif26N7/gcf2REnN9mS0bhD116jRraPWZjbS5/+6aIfFud06JL38aTIyFMbblzXpEvvTiccWYUZuXPx9B+X/mtJ+PK6Cz//qdPgHuWLk9vWbjno4eHNY10VWb/4+yWfTM0d0H/n+x94Q45qmF/YpGHTbmNO7Ro7IqFw7SdLZ748v86F9ed9+lPrw/aHGU2bt689+PZjYtvI3tb0JQtfHZ9z0IE7Pp1c2blf/YRaTSsjHS65pG9McIZ2rl/4w5sTtw84MPfjSeW9B9cBbAam9fkXDk6NKYxKMjJXTD1rVuqFqfMWr2vepGlSqHW9uWbw+6NiQu42J3fN3Kdfyx50wI6pUyuap9VtvF/TnNy2V1xzQN09JPt6XXYZgIKDAA6x4V1ojK8JgvvLmMXPv7AnHh6nvw4Nv+N6CS7VgHgi39lGltAY9vqCS+NFgVJUHgMRGEQiilu6cdqN+l52MSASWd471pLUXRGvhCuPobngrlhVVEUqsXGJiIzz72rir9Ae8Z9hcp3G7Xod2O6ww/O/WtPgjEPDPy4rL05OqpJrJ6Y2btV7cNqBw3K/3VD/rMMTZ9eqiNSrVeVloZTUJh0H92s2Om3X7IanHtd90/4l3kpbVeMNTKrVYP+uA9KOPCnvqzUNThqWsD2zYlNRcpVPM8n1G6Qd0rvT6PZ50xsdNbp1YZ2kwvydVaLLmJCY2rJj77ZHn5w7M6PuEUOTGiRUzlpbq8oqNOGk1MYde7c66uTc77bUGnlwrcRKb+FGE6pKBJrExHqte/fsfk67/Pz9Dune0HRuuG1nRmx1AgDC4VrN0nrsf9SJOUt31hnaOaVXq8jkeYnVqMNebUKtORVEFIhz3fztC6DZHWRdYfE4xcmRJgIxXuKHubjQd8YDOc3bD1JBvRoN70NuhPAHTSJOf2pS4xUApZMBIoLhUmjo4Ea3AzUDbbdAKgx2shLd0P2qdYB+r1FD4bQ+B6b1geLSjHltOqfkJ3U58DD+ITYmGmrRf2gLACra+l3bzok7Q52HHJVYjcuobuf+vaA/lNKqhi0blxW06DeiLoyoEicOterUp1WnPpV2+6zWHZIKa3XpfmCoezWeVrv1sG6th3WDijUNW9WrzGvRc1SzqgcJZJq26Nj03I4Aed/v1zqhvG7HlmnJp3ar8nGY2qrzwDGdAXbObbO/KavdukPr+m16Vj3K5KaNOh3+ZCeAjY3r1o7YFl33a93+wQ4xBsiDbFC/zcALzgEomN2sWdg2Sqvbts5Z1fEf14A4AIGrqVEwuI/zOCRx3ETFM8cpTruRZm8AEIEDAAmISPESkn4GrrQtIgJYhQGdGzheDihOv0gKoQSzGf1ENSJxhHGvK3H+csmq3QKpiIiTI31oBkChPmXlCJmTfl8gVTT9bjn+//G4eHGMX7hqTxfH6H355cHmfaA7G3x8BsBF43MXQKDFL7y0JwcRp32fDrn9WgeQoLM1gOTfEIDI5exCwOtGRCZkrLXAjDCEXsTOiMPLcYqmfv+4xFVQQbV6xZ5l362FUNhwX0hryY+mjyqOERTXUfIWA+HMfkDzHqT/Z/jmtz3utw7yN173G4VZTYtj/OyPml21F96cC6SS+/N+i465J+eN86MP4hQnnwKN/URJlG1ipPwKaggVABjjN1/jGn6Gs8QteZGq6gDE6W9JasVyoAmCy9o13FsIAcnzLJEG4mk+Btlg9LLVVA2QRElUAxrcVVH5bHGK054ncrEEbl/rD6TZ6CiF1iBeDDxOv0xa4wcNSl1ciVhWjIYA2GVrjNRYds5fqVYfFZgapzjtTuz19zgeXjmRlag9soBIvsXKfl7k0Hgl11PIOTNA2Jp6PrStfdy2iNPeI927tNs24zw4VJvE78v2t80ZitOvE1krWIgFJ2tRssyISMo9qgjW4gZEAGQQPC8ubOMUi1zXUWP8JpIGHaICaFh7Q+m2KzUjAQCiGh5AwEvHIDNhAELU4Oa/b2pknPYykdU4FxMAmQ2QBcN/qbkr2uHfOVE3Tr9OBMINfxatIFgeWUsW0BhpuOYqTxFEIh4iWgID4ugdfuf1wJ45P9iZ47CQrEWBY/zOgBqchcGQe2bTxqDnWR5FIO7Gj2Tw/SagNzASQhi4pY/woOPXkhSl8YaCaJIbmwMtXc4oGvQtfl8vcdFkQEAG0e8Wq98duzNRa/2DgqOk6JNbbV0WebAcA0FipSmAJQYkJI8LyBhjrfQYAySyEAjpUPgVkZP4nQtBxoMAhOKBQtAKJwJkyH1IXfiBt8bJ3JJRxmMmAiPFaH33bZSLlbtVaeSdnxvkgytckpThEz4cLXRtII1X4kX9uD//lce1wDjtJRKOSIBgEIUNMl8AMAgmZDjZgzwgQwjx4NI4/QKxGetMCObgLN4sKUtFCEqy3ayJUKAjG7NEEzKuHAsJGyQj7e5FBgCCCRnrWZXtMhgn7aJSQliw6S7ngZmwceWNZGtbkJIwAFK7AxgFF7sdRAwI27aW0HB3QgmG5SKYgpnLaEGqhbBXGxENWmuJtBKcyzQFAKmjKWoABL84FfkBdF4ABBGl/rlRnYlVBqqEJq25hACW3wsBawMAGEKRTRwDZ6UMlCjh5Hz4rkwsERAa95r4N02DQLBE4Gfy6B34Vaoer9lAAAZl//jaAwTFKqKUXGElAHSFRW/QnwjAoEEDURsLlN+5+4p+E6y2jHHTIk57ixw3ZI4TLH2GAGTJesK3CDXJ8nfVR4vTX5MQ2dmGu9kIBGBCBiCA2EkUS7CTFUKgt67YjBpGr9cKWSKVHcSIItd5FsSRAA1azzqRaC3/FIhFENuYHwzkEVkCC84vbdwOR0TDDdLRHUSDoIIfQfq5ujmL5HAGH0uXkFjARgF2YhnJklyqNPCC+E6eKGe4ihwVnAIt6MTFxDT+A9QCRtd+AnnwJsTzYSXJEjnbFIDAyJKyigSGNSEEa0V9YeFEGlyJRt84gTGGQ+TAic+guuNH24Ea1ADol+HmIblr1SAmVNcsBRU1frqutr8PjS4gIiJasuT9vMsQuhWVW0n0stwZkKos2BCnOP1GstaC9HRG9zED48o+wyOxJKKArDjFySfmj2S1ZRAqvwbQQn2KkZDKApWDxqDjfmoCs8kVkGYOHEa/lZsIafCNbBbwiNLI3BgjzyNARGvJOhkmoLSYPWr8SNFKVKhYhByA9dRaY5mKiCEkAM9jIEhNVRLxgxqvg6jTYznlOpIh+yQFP+VVMUZRd0Qn1UlxWutZHSSStCVxqwNAZD1r2VuOvAjGyRcXjOEgBzdavRrAH7MA5mRFX3GImG+9AgBIRLpBWV45GTReiY+4kGHeFSRv3IRkTKzHW88SEVji/irgwHu3YAiAGNKVAV1wZ+/779VXQQAgmDLkC21/GxgM8VVWd9jft6tLnPY+qVIYcGj5EBoQgLUg4VPsTonL3Tj9IpFvQDKndhxMmuwGTyMiIoMG4eelRgHUaelFPGdRkSb1ktqYIMaTCAm+vyULIlTAEnHWptjfzkBz1pfR8kY8SCtb23rWbXPxtjoeLY/iz4F1C19sADhrWU1DAECy1rfkMATOOCbr1FkCACSyIsJV7gLLc0B+spaJcw5XZ39bspbkQU5bJsvGqO9uJyuKEQn+bxhn5xfBU3OYPCK71f0p8zh5Hs54JkvifRdByMMgNCh+dcaBfYgDOdrO7wXkdH3wkRJSJJvPFORY3c7u9bv3KQpcAGwHCVIOmK3ou8flucH/atize3VxitNeIPWEOa3XRfLx/7HJ6/MmH/2KU5wChL78E8vPecu0y25AX0P1MYJvq7rNpXaYCalIQPQjmwjQGBMyTiSR/QUmSc69p1YQMrgaNoaVANnlOiAGlp21JG1bAVXuokFEw4Aq+Fag+ltJ4G6+m7WWb4UhjSpiZ41lFymxyJfgW7Uv1aZENfKkwgNZAkF9QU1JRINIgm77cvFnX2hAXopWxH+DdDcRZB4RA+A+AHBJTsET/DeMujRqKiMAhpB9yZYItFEPWT4RwUhcsWXVCdhZ628GmS8ASOMfNGqkCiSNqsoIyKyrJGoHsypBIAhI9C6GxC0BYsCn60xdVRsYz1YUQGZq0Oy2n+IUpz1G8qGp/eBHXGpMCincQmBFBYxvxzj9nKRYgYKUoJhogJWjz0khIN5UeJHlwt5yuqDPaAyo4AC2F1VUq4aI4J5A7jxkIwx9hqqFoR2+qrI22JyVyakHJmTYx0nao5AxXifIHdbNwoP/MmFDgreTmo96DjgbEbhWiI1YIHQ1zdkSAwACFBPfSPwXKRwKKKdZz4ZCstgmhAEdA9Rrq6YnSsUbFdHquBU9ifwvH2S5WPg5tFseSrKGLK2sH4PGS62vRMLECAjIs/ruDA9MIuCMD10o2O1MeXnX6sOX8imcZCHYAOsn1ikxgqv4TjICjlKJsnRlcdXK5pcqUVTu9cfh5TjtPRLMihhVUsSOf3KniLLI1kY8kCpOPyd0pqyfiyNwrH+OE0tcT1R9GYgSVSRs2bf85Bxx0hlOwVQPq1V8Bshy6KwVq1kkAYAJISG53CRQsFqktVhr3I5QjFE3ePkPB2LJqHXEauayWDE6KocRsRtbJboFULtf5IoCzuqHRklSUuNaxmkDiybOZhfRLQ8K2PkOgbfWsn1MRAjk/Lpu/dVYBEaetXmA+pf0fZKuj1NBnMyKYgEkMDsih3BLUlYQvSAi9vFzODQnJVpdJQ1VM6IUaXNHy7le6NysCG6bIa8JglHdh+R//HKDTrCoqChnw5IqDxBQB3XygBBnc3Hae8SbVNgck3z+BkACF4nDLAFcXEyc4uQT43gc2QsgmpqodChs3apZhH7pR7EVUYswC9osrkC+tYbjWBfXYw2bv84iEeclW22uzAuR5wSzbxazbAi4dlXOEgFKEDVnqYs40yApVBuJ84jUqAM2Url+DHnWGXY8LtAoYvHjkhjKbJ85oebEHsseQaeNpjM5+JOkNwmPRES1M+1cewmQaiQsxZ3qQ4LPuzmDtTYYq+HbeppqLAAYgbrL+e6oODOQGt+AGpHugAN5NDpnAFn1ExvxIlvSsiqktWYdg0GNvTK6FRwKTMCGvqwJyKsNKkY6uJ+lDIGbaECwWvWT+7shTnHaG0QBSEcPqdUCwI4Z7XLKOukfN9Y4/YkJfVbH1gwEnGd8lNl3KBQCySwi51rj08V+9W1KzlJDRMCQQcN93DTJB0AgTnCWMWnEjXgP+blO6vg+ZvGpAEtWL2LZbwqS9yKDkvgjHpyBAI/WOGYAZ4OScH+uKOPHbKGf2ONGIjanSG9yphuAJghbKwlRLE3YonVYuh94odJOhuL8nbo6AGJQOkg82u6T9+Zr2zJhTVWIAvbdNZIF61zSlpUblYAs+61lBcYCykGXpsx4PmnBO4f2g4pyDXgGRPQiVgERZI1BoIVAy3p50eomjpqYDeb/BPxnsnncLnHMMC5t47Q3KaC3OssBHVDG4le+JpJEzDjsEqdfJJ/pkZqzjKP6aCgCSY6NHtKsHgAueACgoliFhshQaxnp5fs4D5wzYiWsCdwxhkjZwlaY1NNsU2MUhPR9mciDCEhrIjL6LJGTGtfjzF9QVFPwcJkAEBGLIh/LVUNThbNfngI1DA3cDDgA21pEZyfqMjuRKoW3NPBYB8oP4LgtUI8pI7SijbiSTwCSXMUfPpEvwRTeJ/WCB/0DvPTWI4c4W9KzAJCbzLOUJLeWACB5tJLxr5oLWRkN34x/NcYAoPNwgxOMTi9QmU8B3gVq7ovCx7eK2qRBeFnX0WH6P9vVcYrTnibUoAxgD5Dve3IfuiryGu8Q35hx+iVC9DMjRQqCiiiQeCgXQqtJLGQtATdiM8LX0aCzQ2E3me24uOORBC7ECTRjxDWiASI2jOQEw3g3BKKGyHkfedx6Z3L+Yz5N/cRiT4tNa7TSr3xJMi+2U0EZuzZ8VVHHUbUUfB5wRcZoyacWs+CxGPXxccyQdVPX61CluNGGPMQwcsCZ7aPN1ot47DB3ot5aEger+mTZ68qzEV84gAkZziq2olKo6NUREURMd1ZYAAAgAElEQVQJMldwjAJIhiyOw40Dx92dfPc/OW+vyxNyepkMANEImwIwIdEBdqu9rOKZgJD8hvYu5A5k8+x34lmsLrGSRRylRwEMGsEpX0ZBf14yy/V19S2rK5x93fp4xg64/im/KouqtZGGvaO+sIBdb/VFaMVQcInYHr9gDin01VBh4Gh4Rta9Sw7Y2U3h4HvLSGTMJNaYU254W//MBCNRpTXRPrBUJJpmVBFU1CAFH4/yVWc0IJlc5JAbBC1OrDqwD10oiyCGRASt5YcoluXuBuBXIo16ogBK5P9BuiooGIvRsskIUrZNtpZflo2/FI38BP04rRasQWFP4JsXvj4IOi1nCvT9x+WkL8f5xoiIS+rwv7hZyZ7D4IeiIaiWACAUNqDFBwDAhNBaTfYwgJa3i5siD5vLxuomsPIxkO558cUBonOAuTAx9DVx/v7Rn0tgssZ9fgCuai4Rhgwiit9OXH0yKkQgVyxQPj/hd7wZ5FUoYyRXPjdA/DZVcunwkCNFLQZCaYgIDTtByYRCriMFWTIhdGUgZHZGPjfdjfwNAoHULxTzkfyUU9Qvy6rPD1VFc/V1ScOIxKb05MWJY1YFo7PJxBy0hCEE8WhaWUeJWEKDMOOBJyFOcQpQ38suFs5G8vEIqaGAAWwA1HRgXrCbpeu+CQDekb9oR6gccm4DIIdDaKSAmib6T9XeNLabAEDrrhEFw8f1Gudgl5uL0a3VufRj9OF/NzUCJ6DdYnh6UAZNbsYAQdYMAA5t4GOkeqdGPmh5UnDP54ge669eUDv0D/IArCu07Q8cQ/Isw8zVaZ0/W3nBMFTb4qO6SE5d9UUVLxbzZ/81MdtlJRslaD6KKYJ2yRCuHBiMginghKXiWr6GDoo1ueFyphkiq35ihegNRdcGUR8BSIMAd38suV3nNN5AvFXwCmRFLRACLZLGDRhkIwGBJm8CIlrPWs/KWBFdzVYAxbXRzVTUNwXkQMvvgEPhRJzoKjg5RAHHFahsA7cVEQBRVGMesNV3p0GhYhKBj875X4+L19GniOzlWvYG/BeqNV4p8J8gqYRTAy4QIyMt8DzFS1GdoIjWs+D0LZTQHl4Z+fxIrUddDdA3r8vn9Dry3z247qQsXAXMJBXauv3c/yEFyikgqyESNETEHwKrEKwiqHrKKpR8RTZ6ReIUJwCAwHZTfzNyyhAHwzuLRM5lGRydpwv+Z6s3Cnyb/qVRpJ8hAjhYHCRmzElk/1x3T+b4Ip5JzUp0FoSzkgHUrAVCI0KLDS3r+L+ahUBuCO6Zcjf/YICvGLZv9TfB9xXBYMsMHecQya+mh7udFLghZeW6iBhcoKCED5jOOmA9C1kRYYnkD1nDD9X60eQw/2jw7TgOhSLP5N8ZePEriortawkoUJUmOE5mj0AcfQCgRXNAOm8ETnZiAGTq5LNYqQzgg8ayN2ygHltQ1ovgsDoPRXXcdEXFIMvFetxKklaiocAbJ7WWyNm07hf9Wvi2AieAKniaJILB2kN6T1IRaKTbjMsN4F0KXNxHcDGDgGgV7uJ6s3w5+7r8lZRNj7puvkwFtc/4BAFIFfZCTk0R6FISM1CheOeLkoWN+jIhMDN/BzlZBVy/EAG1IoREjAtfcWX29BJx1okyg7roaBBDRl+hTIesTIkrJvpbSJU9SQPVecoKCATK1ekxZAzqxEE5DeoXzU+JksYA/JEJqsHfHum20v0U9ZXFKU5BQmUdurFUOSPgAo5qVZF+DiDbbzdLVzRQ+QpVA/UFRlDpQ4z6zNC3Jpw54ra4u578/6fAARWu6OpkOmOS2SchIFhPoGZ0+DKAgEZyE6P6Pd/VsQOtIO2H0gFoAL0aK4wt+zNwiyRfMSJoCLjI+YCVT8LgADTL29WKc/MUxVmLpLCQtcpEdMjAUkkKo/NSG1Cu4esy6Kz4aMMbXEIbCeQIAfOFdEV1aTUiMRqZUKXGaRqiSNiI9feZ3Ny3HJ0RI9pVlLWqmh86awaiybX34EUKPiFgy+rlWs3cyQW5JkrgOmkuu1H+Ru19pgKb0x5YMSBESfkABbqdtaQKH7ri+Co7wa2hWMBGUFOu4KpJiqLZcIVYkOXXweqW0l3lVzCQd6h7wCrQJC9Z/42nL2JPdQVrLbhEDtmTgQXn5bZqrUabyBqh6qr/W14HExZERpGC3bYE+ECILrW8IRcFahy3EEEr6Itr28IVBtB1wAATCkQbAY/KL7mHENgSRhiig5elyrHfpUqMb6tpJ0TEHmC9t2v3ZqN07DjFSQghGmNTZEwsNsdSnfoIKjECxTF8iSu31O/nZ1+UkEay8Oetm9OFwIl6GxReOpQgCCSsHwEMgTjvVeqSXqItIHjkvrB0fNMCUaDxFoAqFHwfKfrFn5uMXkxTH5WTutbCwhyb9rVyh8UpQyTSaixRnBNUiLrpYoDBgcgM916YHaCalr4t7WQWuQu5jQbzIpJVsi6phpzmoyPX4Sp6SWSdEw9UIsvdKfB+ybFF/yY8cN0S6Mxg0Efyg9ClOBAEjHIEV9UWRb4hONCSAHwFJQAECI8GbWrpFlANPL4fqkmEgaHqe/Z0u6imIkKU/NOcqmG047QvyOV7wuB25KeLEckiNuq9I1lxTrvq+QwwyGoFSupbkgaFIo9cziKobufvK3nDqHiC6hz6Hbm1BN8HrDEpvkHslAkdsnu/7nnkThCeoDvEtzet6yqjctcxEJSK834fOvId8DITrReBblOEZCbowm5l/RFYIRYo2G1schuUv2Q/BcRfannHJsSXoec5/ETqOKDbBLIJo3ZPnOL0aySQIej2c+xC/k1ZujqhQD/CILwsvDvwVbjtHXiS/qHlVjD4A7PR4Mfsx93LzxI0AWpcurwxeRAx3ENs3ZJaIQCELDuNChgnk6xYoaBc1RdTRAAWEVQz9zk3m+dqNQMRmZAIYCJp3OxqgfqcztlGauYSOdWFTRVnMPiSFAKFR+SlWDX7wOehzL0k1oePBfJQndvVPxaUNAok6htnaeEqN4EGSgGBNoUG0Un06VGshsT8d5wOdAtFa/4I4G8VXxDqQgRYurMpnNHLOqBxdycA7TfmFBGdin8PFJ1A0E4L/o7S/p0kKXfgb1i21Bj3UYidzTYIJDUy7w4iojIzDnCT6B55vQ710FXRHxU2cKiSs//lO7VSSV3iSMXTKDok4yr+NlJFkMvjKs7hvyP5bFVi8zisR66GIfrEJp1gIfy3e+18KSKaQCtZnxtIlCMSkRfZrXudxhs6dJ1xYP+LIQoGeZEG3IqINCC1JixBMPaEX5kfgmUtuWJ+uvnAadO8MYiIU3FUYfUNCe5hJZtHBS0rr8Z5EADBhwo1H3dPki3ZvmHBjz9tLfaqPvf3U1nOj+uzy+Ju6T1NQWYABGjAqChxX5T1rBx3XAuRiALRyy50UZgdKQMyQVnFCK7KKuYPTjv0u0bLHVQeEUgQM7MHIj+UlTVqdN+r3gSR3aXKuIgsD16jC3dvlen0ebRGni8HeW4YFV4s37HzAlqZLLMH+Y+siDMOrA1qIS45nL9rY6IjfkFeBv1sw6MG1MjK+J5dQrdKyoHlEtdjcrdJK4/zJYyKCRVyGsDlLkUAZoHiBQdVcNSw0KVzZqAwfffePQpaLaDKHIDWrEAXMquaiDPvAkoakXjE1VhyV6lLX60+GZRfWofFgHgNnGkccH6jYI+y30i7qvG+55g3DfVi6WMEPPA1Vh+QcTID5CqWFFb3Pul6i0bobCdyJf0ACNEQ94IBICATCiLqqinJ3gVj0GqoMFtxoZDCWf5XTOBCxHmvEtuFKJ+maCHEMfNqE0tsMPpxRqqxqSmsihuAVlYSOaTDAwJrZQo2YklhbVkKF1+tm9FZwwCExhXpJ1Z2kQzHmCCA1IHSJUFE65GyNH6DRnEWQmVkaJA4WFI/cX9/6vYTV5SUcJIL/fBsWTSrnzCHvsBvwpe9vDWzXv/sh8oyrzLitR1xxokHdqgjL7rkp4/vO+S+LXd/+MGtB9Sv+Z1rSBs/Hv0Aff3qhR1Twj//sWD1129+sbS4tLy8sv6AI4458qC0XzhJKXf528uSjz20Q3DMtHXexO1NR/Ru2zC0x0f+Jyc1bQPKm253x/GNKPFgAqkZUeVA0HFEYoceqjxFYG+nf0NWY1GZkHIM36zlfa4n8x3E2uJvXyWrhmWqhYLo6qAC+MNXPqEiUcpi8rAl7F90WoO+kNHBIwBYjUNVrBeVtwt7Qq33i3pjh5oCAATSogGINODHD1p2CAPzM76RLpdyMQrcglkuKkioIs04C0Bv4/NlX3/3IQZUORp8iar2O861+4ZB7YvpwnPZDRlYOP9PHoT8N9pA11cAulU0FFl/9hU9As+CM82NsDlQeUzg9i1vIwRVJMmqh9ottVhLvtVj9Yg/V9UM1F5G3gdufqoPAAS2Gjr1j9m6/OLrmWo3yYtVXc1GyS0EROkhoxtK9wYB8S4l0LwUzVAK6JHWhaoRAYEBtF7AepO9ik46uomrGubkqGrSAkWr3AVnv7JsVbeL9TvQgROM6kAR76+Ocnctk5cVXO8acPa608+sx/YroUEj2VlaNgEAEK3n0h+RyzZqjJXIe7KWPeVqWhA7cdEAGuN3Znf7IJB7FoQDRMfltvMku8+38gMqSM2pfNOM9+9/en5Jg/r1E7M/vuPKxz5YXib3qdXp2Ovfef6O4zrW/g33rTElp0BKQvQb8ilz5gt3vbWUUlMb0tbXH33+qc83VP76nTK/vfvVBfnRx3DN+w9/vmJb5W9Zon2erHbrc5+X5viqr81ZQvoBcOJAFLwMfIrVuD3WR3lHoh9ZEzCnWGdXJR0AXIgTf3sqXEVxVVkCKtqcyomovTv4EcYX5QyH+taSu5Xo5NbJXtQMWu1XyfPhbFv95mSieh/X8ZHkFPIcw1KLx62PU+TB/ZMgJEaRxsYI29YsCZmg+3RFzqlUdmqKn3SrtwGSwqok6GQgAguQlRVyd9yNNwhQ5qbG/8I2KDimJHaVUe0LfZDEbRcHawu27Di/O4clvS4xIoBRTi/nOKNHTlM57OQrm/tOgRBNDUQPipqZgNnsNjTqVZXeYoE1F4mFmirm7FdffkbPwkkp9vsCIphQyCXxkpXEcQD0qwmgagayi0RGoYINnnXhbNzHXHFjPs/agLZEqikROMMRddshgHZFJesqTrs9KfNT2z2gqBEQgBeRJCgfieVfNV4MVXlmANtFHpEiT5KsrG5vf+tZK6IXCA1yYDYFwiN4jbXSHoC2Bycr7Vp5LbSShcshdsqQeHkAkDvT+dqefCBEFjTL2SJqVp7GxlsLophTAPr3705oDD/MqE6JiqMF48prQhSxDVqnnXnD5f+48panX7trxMR7PpqeWQZewefjBg459sI3Z8wv8xLcyXmzX+zff0Dfnt3PvOGhVWUAWd+c8/bH/7vtiKOOuP2jz/9z+uCTbv90PQBA+U/PjznxoD59+w4ZdsqE1QAAu34a9/EX4z955dJThvfp2//2LzPlljkLH7nm2O69Bxx43G2ZucWhX0HIKbFug4PPvvWqa64a+8AVh2XNn/bBul0AAOmTbxs4sH/vnsMuuPmDrQCw7oMLTzl09LgtX99xwqD+fXscc9b9P5bDuteuPbPrBf9b/eJ1Zw4ZOGDwESe8vKgMAKBwxb1Xn9a9V6+BA678ZEM5AFRk/vDe/677dMaM+y4/ukvnro9OSfcACtPnTzj3nc8nPTqqU8eOp9wzZUPhb1nmP5CcO1flKQALPnG18C7V0tO+Ao1RtZeFcRIaQDBgtQckHwRAx7IADalhwtEiTo8M6OI6Il9bR3IyT3mwMSB1OiyQWKN6vRU+qV+ubwHr9+iUVwAAo3GbLMFUnyAkx7YULhbDyqEDBK42m9go4DQSnojP+FUYuMXHwPKDe7pDnfUFyTlScR00UskGZQo5TQYIgX1NGrWsvEK1GS5lI5zZBBYd9CZucVThEkFOzgTRUiBOIbCqewQ/UqN2Kl/rFytANcbl6aTKF/rig9SgDwyMADRXEjRxSIZg0Je4AMR9QKPZHqKcpq8JnYkpnUOsJi7r/uSZ+9oDw/66YE5IRz3FCLsn1fD42ar5GbGynV1JYuzySrPQsp51tmxAYdLlQ96JmpBFElKnKwn+A1jHchsApYOYdBj1N6NM1MkrX0QRSBxxwGOjc5IAY2MAXes0AiAyIeO+OzE3/eoZqlcEHs5y1CqmpfqnPxpFkljGy8RJG8eCW1J5+8RClJkIgRS7IPcxKEMjIs+zrBiJ+a5VMgRAQNCJk7xOV0QDNYBA9SfWOVyg324oUfUIAciDygoAAKgz/LCRds3mzUU2VG/EtTM+feHyrrXmrNspp1q78qv1Q76fNXvRrIkHluQ/9u/FkBJZPe6mNX3HndftlXuesmdfc3jSK1PSYdf75125rd9l706d8dlr16bde+7YWeWQDHnj7z/jzcwxj3ww7ekzJ1z21hIAKFnz/P3vrmjwz6/mf//Nqzc1bZASrHT5M5K9lhKGxDAQAuTNmJV81Yzv58z/6rFO5ttH3l4NHU566rXJL1zVcsQtL3325ZRv33zuup6J0PaMh16b/tiYtPPufu6Tz6dMeu+1s3slA2yeeP/b1ObyKQuWznxl4AMnjZvvQRgrl4x/6oR73m939btznjnupWc/XFkaMbTpszfvevmbvs+vmfFg4tRvJk7bYX99jH9GEr6qCBOBfs4AgLyFiFTRR818AwAI+nSBEAldpJOIBiAHQjM2LazHMWuyTlgBqHULzNpYd9W/eah8rl5M6lgCQOfhU0iKAiaRA6uZZ+u3qZFhZMgI8wJyue1+tLEskBU1nI0JF34paLmRp/Js5QFOyLIzzxBYrpGm4JZaZc4p6MxjsQ12qzESSIpw/BANP06VEgDSzGN1j0vpKA28FfiamYYrPg7OShCeyK9D7VPWOQQ10JMDI3NyQa514TxBseGMWDms3j6Ow+YdIjNGrdcIIoX1G9eW1+RZfZcICGB5s+mDXNA1+Pk2oHxZBL7KmaBNotJf9qcDUX0tENwKqeHr6wXg22qWCKzE6ImRigBkDIo1yye7V+naMEQIgAuE8b3Rit9bvegUkI5IgGhChqy11mJgEqILk1Mo1ZDlzea/HD/PVW05JI32FxQ6+EZ4qMHSgMCOEpa+aAxyoT4utEUoCqoowfqNmJCG8avSQw71tUDBZQ2CHNK7DTl2W8+3RMDBjL66SiKrXeq/6ln6herHztM0IdQGbf5WMH6gHAL4RrCsrZW9ZGUK0RHmbsf+HsL67cKhcIQAIDG5TtPG9VJT/GRNY7qeNOzTyR+vNLXKCnfmNEzJKCo0NOSfJw7rVJqePGLUyX3zP1luqHzFZy81O/yaEw5p27gONBp51sNrL56y4N4D6hZ3POmRQ88a1q4RtD3s8spntuZDq/XfFSduvuTaQ1slAjSqFzK/GrFlIFK4cupbHxcnpP/00ectD7lpTNdUABg2ssmkyZ+UJ4Tydq7EBMopHNM5NbV2w7qhlHqNmjRprFen1AqnNKwTrlO/YZMmDZIQAMBuWPxTQnpRYu7cSRMqbOSAus/MXHL3wOZl1L73TUfdeXb3BtDp3H++vYKsV1mR0qn7qSOeGNEcYMiZLaduyi4shkapv3el/1+JVJnztXmxTMTqMcalnImNgUiWospA8qWWtH4NHwUODyYxeqOSZtCZYKiczv8bgJiJ6lkUtGOdCPaDgJQdIGK0/9RdJzgYBJgHAAfUqNZMhg18S85DiX7VN+24oaXgeGVIWCdoFBO4rhUSnkJuLJaMAVfRhkBKdgArEDwc1QxEhrnp+lMSLUUlpapL+ipRZYOTWGK1+MCFMHorqVFEsg5OuOjdfNHuWLh7ZgCR0H+qxx3U8ndS2Re9Tj6p1BIDQZUsXjUJ/TUqeQI7TSbpXmBwu0n1jKAiqTqMf07U7PhniRUi0UHJ3TeANMqrIlECLagkl70g8wm+KgV5yWrhcmvdUeD4nWBdXCICRZRZ1gZsPZ2WAfLIsinJK22JwCp07pJ3CQKwOYD7MH08RkqlkkvCcRFe/ikqhmUMflCegskQgNYFTNfp22hTj7V2EuWNtQ1UUQgQpWaBvganLoHT5lnyyZ4k9N3olkhqEhunyojgRG0hjrpFXAN5FM+SllvhCah+DqDfOwAgY1rGGBJdAhi/4VtZT1oJBXD46G/3N9D2Hz8tglPrhZ2gDcrxolWTb/jHQzt7HbB/ciQjPa9pm5BBB70xtE4ECGShVkpSOMzLVFGUDZL+ZD15ndYqDBUCBRCTEwHLfm1cSFSWuWrud6WRkv1Pv+niUSOaA0DW/HHXPTildpseDcIla7cWp3UXL7f1IByKbgkE1vMoIXCsuDhnx+Z5mzJbwqaKCg9qDb96aGuoKLUtWzSp36EZAEBCz8tf7wlA+Tw5D8D42Q/7EIll6uvv5OSXsy+ArIZssmyWfRmMViNVBJ15ihJ2JQzFOL6iFzALV78ZBL5e5PxRtU0C5i8EJDSHnwoGhJL8p3FOaugBgBXIksCiSrNA9hO6b0stWgKU2BAnpBjyRDXLRKK5yFxWzn0RqKxEPw9B4Rw7RADrbxSf6aLbPr68QJVVqrn4fJBNClDx6nP+wJ3VLAB+PS4iTF6CDUgtt7IKsOpb4QUwYmmJ3LOqhfgS17+x8wMFmDJq7QJ5ljIEvaeT7crZXTRpUJwRaFx6APp28gEc/5bQWQIIBNCDvIQAwMiyzBdp4IBenUVgvQDUZvUhZp6hejcNiseWwyI02dTBsKBB7zJVMUAVmvCHSUB+fUcg0T/1Hvo3y3/DhYsFc7dWaoSRGteqhaHKZIZdxNYMai2qKgnKilGvkc8QloH8LTGPcCan5hQBAFnfePVhD6nuqWofKcsA0fRlY2iaA6nIcBdaz3IRRznZuDGLVCYADqZi8Y76jbA6zaoIgTrWEUGtdtQVQAAMGbLcs52tZw7hJmPAWlUTVf9wbmOQ+4N8rcaFUteIWD01IQAoXzf2pofKj7710PYNZPshhMMh59krWPTu5MRr1z11Rq3i+c9d8o85EYMQcVqR3M5WJqUN7LPwuVlzDx2W1i9UsGrOM1OPf2QcVC6l4GlAQFCnTt10mw8ZcFCDLe/e88qO7BNdU9vdyMNw08OuefbxI4IHN097aXqP/2bdP9zLnv/Aols2K/LSpEnPWfPXlp7SIcU/1zRtkfT+2s2XRHokJQAApDZvn5I0pM/Ii+4Z3cXJ4rJ0sFxZNXqBAm6t6i7rn4iIc8eBN78faEIariwWCjkDQ/idCQZSWcerrfRpVqyKECWlnJkLqMbLW17kJ8lCai9DvkIFkEoSwb8JgPhRpFUC5Y7CO5R5WAIiVHsARHQBxxchGq3BrAzX94IxH1ddWCQoOvahmDYAiX9RuGiAUQWcZarayBMUt/Y5v/6rGFfOjNUFkPGLpuEYi6uqo2PmkwMbERUk0D/A7Vcnz5yso8BPsqgAIPV9AvYmOfVCFRd//P6UWB6FhBepGS0TEZNXC/nKjN2FwgJQ32vghioUAoMBZyvLmqkCEs18AFSvcpvYHy27EyigcrgVQmG7skUJELg+sBuOCF9/GVCFuUFXTtAJeZdcbi25jYa+X5ClNxL6UcEyVbVuAYLlR0QmAUpbNBGLJEsnU3ab3WoCucRVkQNgnXrpIrttdGkt3cWCo7poZNcrlXeLGww7UcRXqlgHhy8FEQjy3xOBch8fbZZwaKcU+tEDxiA/g/P7jTb/8bEukvxdZQ5IJCU2UT4x0qnptw9gyXoRqf/My2KMkdynQL8X8gicthHAOUg13WBboZpQOKVOyZp5Nx7cr2e3zhdndr/7v0+MblsLKnbOeqhHz74n3vb0czNvOqL9aQ99sLUU9jv+0jHr7h3QvfuwC+9ZaQ7pnUQehpOTwiFEk5iSGEIMhxPCtqJ2r0devt2+et0BXbv3G3HBtkveuHtoGCoxISEhQaZjElOS0IOkzked2aXHlyP269Dx4fyhJ5zUrkn4V/QGE0pKDEV2M4T7jB578MSrenTvftxlt+a3OKptgugjrU967OKsGwZ079pxxCl3zs7lk3td8dQJ7409pGfX/sOOfuHHMmgy/L6bz9ny7tXtu3Tv3avXoINeWg1gMBROSApHy300ocTkRE40wnBSUjiM0SfsA0Q+HouAJoTkygiK7kyKT4r+KpWGt23bBgCbNm0ade8ToO4f5JxGki7N+nWhmmwA2gxHea0yWxauqlhJ+SIM4EdBrmo15VE/AfWlqYUsUcdEpCmlDrHicEdQNsP3JdScVPHoip3oT4GM+hyVUyOynuvHRatPzM80ZOFhCR2S60tazsQNmKfKuyiqtIX+5vBMTRJ17E9NUI0SdU5EEM+lYHNRN3PvX+WY8HEi9fK6gaG7KiBbGJjbbZw+nO9f6Oz0wM31bqgiyakrBBxoSi5MDIN39O1bQORYX5bmPh/n9xwSDcsdR7VjnJLMyiMFWs0AyyneOvyy+WrrVDFya66jQtC8awwugMojDZHHwItWQ01WSWL3GOBGV4hVdSVEZFUUteoLOZtS1WTkwDpEIDIh40U8N3HxNTq5ENTJAJBb/cjXAgZRhb28mlDIcJUJt38cdqI6gxGIjC1IFWhuoiDKom7EwFZEQDB+ZJwc4l1hHXLrTlW9MrB/EQO7SwIo3eN0kLKMgalr2F3gu5AFIiCBScjfsUSu4hiL9d3i4pGAQiHjeVbyA1UMf//QU1BDIvIilZURjwhMUmJiiOUieZVlFRE0BpEogqHExIQwAlBFeZln0YQSEhIMABiwHpmQARshCBu01gKGDAJ4FeUVngU0iclJ3CRFaugzG4tYgYA9r7KiopLCyckJyDEov0jW8whDu4PGQOVlZZbQmMTEJKQAf/DKSyssoAklJia6gxXlpZ4FxITEZAbQIxUVlR47khP+j73rjo+qyv7nvkmb9N5JSEgCIajcCugAACAASURBVCR0UEDB3oBF3FURFVHsva64+tO11xXsiIpYEQSk994hCaSRHtJ7LzNJZube3x/33vfehEwmiQJDvN/9LCYzr868vPPOOd/z/Tpq7SQgygmoPiCMCXuNmExEUhxQLgaMfmgBS/BoA4hw9iC/GjGrA8lP1cofu1JeJsAHDVUcH7M/btUL5ZtWnrfTExAQEOgTLnvxSblQp4r0hKlJEwDArJVAVM+ghNd+WPEfkPz41EcgpLF30Nh3fVVjr9XyFx2Ulx0cteYLsiAt0fxQkrj2hKbrkkhVOkaSnbycekcWIi4ASJpuRS2Qo5OyF3Uo1DhqtWctfdbB2zk4mItsIOUEVJvl9QYApNFcRPEWAOSEBQGwaTReLlE04+SLjjEoue4FseuyIV4SZM/mcrWSlRcRyKRdAQEBAdsEIQSp5M1p2wUpySsAK9jR6TuETYRWRbCJp/u0YiFJdhdbPBA4L5DFIJhQLm/eqC4Xwqp3hCnisRqRmQwkD7A0UNPHQfVe+D4upjKAgIDA3xGUeEEQEMwE0wghfCKIUbVpikGLfOxFJsLM2wJmOnQCAgy038im0RTWAgJAGGPE/F4Z21chIYJ50FU4rHxcVkVYIQhJMrW1f9QCAQEBgfMDmtBiQhTdHgBAiGB5/JHe4pRXVE1sxBmDwCYrBAS6gDBOKU1G5fkdQngkBlZixoSPAjLuQtdyPyXDEJY4ExXflXDep4i4AgICtg1eHWZ0OYX6pmLPIQBCMJKQpEFs2IORu9n/eSlapLoCXUH43B3wcR7Cycwy2xRUhWEuGggIoS4NbwDKAQaMEJVokdh4DCN3M6bqeTs3AQEBgb5CHg1g90EmdsPJ6wDAtaYpzR74TBKVX5b4VCFYmHAV+LuDE/hZ0YTJ0YCc7/Iur8KoAj6QYtdlQ0ie5wEqi8GCNVNYlJBchBYQEBCwZfCJOwDg83vyQCC9A1LXEC6JxMesWSuXTnKI8rJAN0AATBWgyyQnAIAcJRVNIaqAhAlIXRSpgLPlCQCVBZAATLz5ARiBhtO1LgSUeG+bkb/Ho+rx4G3zfAQELlLIlFEaPrm8F81pCdOYpD1bzFRZiIkgbjeptNGIyuxPQECGeqiHqyjQ64YJ/9HSM9NzJIo0BDY3PGBCE+yKowPmQAggDdeuw0TJg/t7qP1fG+H67P01HVqHyIkRrt2835K39khabWGdg4dfcMS4aWOC7O3+3N/L2YGym9DZkJWcmlXc7hU/aWqkm3x2uray3KPbk8uQZJKi48bFxg/34tNsCBpzM9LTDmc1Ompd7IZPuXJoYKDz384EWkDg3IFO52ITlod0sYnxRxECYmLDHVQjiDl8y8ofavk2RddDQECBSsWfc+FVERSA68nIg+AqKRkl6CKQuL2tomPESc+8LN3LiEsI6MpPZRXW1LXyPWr8RkweGqh1/lNR0Hj6t2f21IR5P/bHo0O7ebsxfdnqH3I27C1w8veL/2/aj7O93R26WazXIEhXdjLN4ODnHR3pQbeE2itOZ+o7nDxjY72d6FKZP334+Fu/ViR8uDvlqRFcZxxaW4qOrH3/k2OkKjH7yrnPPvn2h1PC5A3XpSVtX/7W98kOhqrcWb+sfe6GWUPOi6O1gMDfA6xfq9zy5HkNwm5wXCeIMOkyri7KZ4Tk9q8IuQLdgKj+y9jLTKSXSUxx4VW6FHM+IADqkSEMWFJGgjAX6Oc6crwsw9laPR9QJ+T+fNesT9NL6/0HedsZOsHYEnzrFwsf+MfMkV52Vle3DDsndydnVycLmxg0a/2SWbAk+/P1q9/+SSP92T8XbIKCn+beWBE29+ZvPpkWSl8s+/2ZuTllQ67+Y8M/htBXfKITLplcUhs7yFV5ICHgHzjpoc8yHwLY+eboYyaTUWWvRWDI7Ltfn3336w1Nax8KSXEh/dO8ERAQ6AHcrAUQYCpbiwgCCWMie2NSeUkiM00pd5TbdHAR2IvM6FXgPIAQtV4Fz1J5WYWqp9N3CBeo4uqp6jldLqZBmVQy2xmbCNLwYEzlh3sTIzQSwvfMe/fWz/4d7woALVv/b9Q/36+oLFr43NPj6U47W2sb29o7jQiBZIfcfQKd7SQEgA2dnR317Xa+Ho52CAFgY3t7e5NB4+uh1SAEgCSCDaCvKGskYMKu7l4ubi5mojENzTpdR3cJtamtpral02gEYm/n6Ozl52YlDUYAkqObh9ZFq6pSS46u7lp3F3sJAEhHW1V9q/uNC97715POWidH1UAg+0wxtLTqjSZzURv+S1NjU5tBBFwBgb8cciuXOx4CzRpAosZaTOyWgGxTDRo7iXqTUfYyxpxDJcrLAmcDUaMt6KYcQn/FzFdAxV1mqt9KNEEguwLwkSP6EuX4YSqa0ZeGLDIa2tta6c9u17++d5Fvft36T3ecAQDSCeVr379+8thBg0JDQ0NjE0Le2Hu6th0AoDH52Or3gu5fl91qAACA6tzVy94b9NiqUtIOkp1kp3FqKj/669vBoTGDQgcNWvDkosSi3hxMZ6Pp0P8umxAfGjoodNDoCdPeXFkE+l4+wpobwwEAAY0GAHcc+XFswuRgfz/voWOveGdzM4hHYgEBGwFzT2Haj4wcirlTi6xegI00EQFswtiEgRDZAYkaGVl0CxD4G4Nggk1cH0M9RSsrJyN+1fH5cPl/6uuJEEyZU2xbrOpClZgRICRhjJgycz/gEzrZrTq6tbQUwNS27+OoOzrnfLWqkRDS2pi8+M33rnnp62P76wAcNZLGTrKX4ztCksbO0U6DAAFo3Z0OLNn92XsZo6tJg4mULs+valg0f2WFtX1X1ib9evvU5Ae/TioihLRsWPmYdFfU+zvrdBb9nVUwi7nssEwmAMlp2kOlNXkkf/dT829vaTP050MREBA4B0CgcqGnVmCEYAycm6zo/pztp0nNqfggphC9FegR5tcHYhR52TWXcPtz+VmvO0UqxTlVKa2otFpIP7kFzmHRLq4RGrvO6vKSdUtfvfrj+KsTLvEAABeP0Gte2PVKUlbOiew6sO9JYFzf3Drh9pmv/fbmzX5gBxAy9dGwrJDypUfyeqx5k4qimoJjsPyz26aGhQGA69j4Gy//buZrKWltlbqeD9rR3Xvl6vemhDlwRD+w+liGt7vCRAawZBEtICBwgUAYbwUbMReyRXJGwgxM+fQk8HkOmhXT2Ey3wqyFBQTOAic70f4uqNwpAbjfK1J5WbJJWwRnKVKpOc+M94eoYTW9cPvvdmCsLm1vK/cAZDRhk0E3aniApwvPZu3tPVxNmJhMVgq0hICdg71WpiwFR47RVhrq2nsOne0ddblJyzd+88eWR8FeAwQhg74JDOS+u4m1eNnZ2njTtQ9c/vr7lwU3dpgAeRT/NOexmqZWdYYs/ioFBGwOSPUfKj8g0TSX+2IDAL8XsoFdSSMhhAi919HYfFZrSUAAOJGKx1ogqgoxXQABwlieBqLrsH9VRCqMEdKwJ0R5KT4wRP8lhICpv5O2Wbt3lmDdoNDH/E2mToOptLnNaGRvYdxWl63Txxkx66WAg9xI0TppnZ3kMShKw5ZDc2NTTqTD6RDfsB4PytDejB1g6n/XPj3OPcQF64yAEGjsHQMjvf2cej5ogrGbu8+gSI9APw8AANAEujs3NQv6k4CAbYNKX8hEFULHgwiNrEAw5jcUAIQkBCaWEmNqCS8/SYs/dYGzgRgDng34YDkmKd6RCnOKUpJlrWZ1eZkLUQErM7PMWAK5H0wLNr0ZGgIAgh2cXDy96C8Vq2bd+WHluPg5T1wz1M7FN3bsJSuePHq8tJy+a0hf++APN04Ye8lwfzDpjdUteGNTi6sDALQd/2L54le+cnImABIAIdjOwcnVk+2iZOXH9bqCYVdN9FTt18vd2dVZcnTzdHdkr7j7RUUNuXnv57sag8eOGDN+woTx48ePHzMqIdjdzh5ZTVMxNhmVfq3BiLtaCnu5O2mdNVo3d16sl2eAkATublqNs1br4aV8LvwHDy8vVwfk7Obm5drlHQEBgT8H5e9atnxhv2KCTRgAYbkqiAk2ER6cWdeX/YOxyHQFLIFgdnlJGjZvC+yioq6SiBLj+dXEIrIq01XLKrPxXLpdQlhbmDVCenU4JqMRr1n+7rqCQ6HaVkzqnRyvffvFu267Ph4AvD0S7vrif5XLvn1u/qeAPFsRmJynvP/0LeMm+AHAyKjxRc8lPPnY9SscjZ2jLgmzC7lqxN7GTgwEwE5CKZuX/W9H7Y/eHdjU6jxk/BXT75h+uQeACSBv5wNvry6oTm/OrCsrLvG86sr3yYg7/3vH9Msu8U+Ivnbht/lLP3zwpo+Iyd/R2Gnwd3K55eXlM0Z5OFgcHCIApvbmRl2rzqhUvXFHS5OuSQcIDMa0FfPeWFvTVll7oqi6xuR5VVKwZuT8dx+9boyfd0Paqa3LXvg+w95YdjKlEVUsX3dyYpjnzf9ZfkOCPSrZ/v6qNVs2ZGFclaRrznzqd5fAqf+cePO8tyb79O07FxAQsAiuEMSLd0hCmMrysX4bbZxJlGZFK3qMfEVYbgISEt0jGQ2FGcbgOL8/pTg0cIAQFZSipVc65kMAAJsIIB4o1RO2XI1ZrUiFAAORZHoyS26pLgsxEbORIyuHYweh1732gVtWQTWYsAkckV3c7MduTvCmehsayS1q9EOvdWrXHMkqrZYkZ8+AuFufmBgO9kAAtMFjrv73u4/4bTfVNXUkXHPDcJ9I6ZIMBx+wAyns2uducbsivBQDQthoDLvuwesmhIU50RNy9Y0fGedT66O9zMnewd7U2tbeGRTq7WUPAA6O4ePnvqzRLdtZWNlsZwfY5OHgFORpj3qaBkASBF/3ygdtbjGRSibtO/WxV0a2eQ72BYLcQkaNGdvQ0qmd4qSxw6ZWkwFHBdMobu/mHhw7caIbQnZTrteAsUPf4uns5e8uIQDQ+g2JjJtwqZ+Lo+NNMzWd+jZdc/jgod72vfuuBQQErIBbFzD7FybXp6H3NSbOJxvXI6ACtwhoygKAMZH1H0XIBYCa5K/yfGf77luRc/3j8YVrW2MeHO5lfa0BDYJN7CJhimcmxt2jaS4QLovBmfLskiOAysvLAaCwsHDmy+8hgqiVFUIIJKJwsQii1roIJJAAgFRtXW3liLpvslp42exty8v0b6P8wbZP2+z6Jt+EuhhgecWedtj38xMQEOgbJj//OM1TAYAPCXFGi8qCjd00KSlGYsKQLM2gCyBEMDn0wacX6DxsBU15m/ftW7H8x4wa32Ez/jVj7szbg7XW1xrASFhwL71GkCRhjBWZZMo+QtyAiBAEssIy6Wpij+QEFxFCMMEYsDInDhgBQhgIxr1SLbQQPKzEFNTzMv3bKPQQAK2srLwpTw33asUeS/B9Pj8BAYG+gj/3Mg8h2UqXGcAgKtVH8w+J1wlNTKiPetrLCrgCHlE3Dmo7vGl/cvKhoz4Jf/eIy4EQkvg0Gh8NJzxz5INqtNwCdFqXgJkiFRAgiCAASTXLy9fGBDBgAoQggtCFsvYTEBAQ6A3orY+PCtFJIVa5QwAAGHO9AVoS5MpBwFQ0CCDAJtz/CcmBhTPr5qaMWXfsu7e/3roh8sSdu8sv9AFdaMhOBiCPCVGDDXnilvAuhoSAKpLykouZny6iNWrqmIAQ9egFDCBRTTRglHohBiEgIGDDoOK3QAADn8plnV2uJA8EVAoEXDCSLQPATO9FV5ci4h8/RwDkNO6PCR8+buRPF/pwLjzo5YEx164gjIsHAIiqjUpmMy6E93oJISr2slLe5NGb8JozkSu/QhVNQEDgIgAllwImgGXJKQIITJhoJPNJQQQIIZbXct4LMXFTBBFzOWKmP3yhD8FmIFtFEkU5imlK8dkfmTnFXiYEIYkQbFZelkEzYkZWpsw/TGjBGgEgoesvICBgw5DtcgFYTAXuoYvoUAcAEMpVZkRTyluWdSK5lJUIuQLdgMZcs8tM5lHRBVTefzQ8UwKfpB4Z4pcXAs7dI1yCGcmUBKCKLSLZFRAQsF3IwVKWmwcMBPEpXACZ4cInDRAA0FFLqjSEAMlOqBfqLARsFwQkVb2EdyyInAGDXC2mNn1KODXTXuau9UQRXCQE0Q4wo/MBEvrfAgICNg6e47JpXeZsigBj1r4lnO4CbGoIy7LyrJvLO7tCfVmgW6jcDhDhHQyF8M5zWD6tK5eZu4wMAX+ZLYbYtYdZbwMLzWEBAYGLATyc8l/pEAYAIJbCSkwNg07oIvktQltpvGOnyOoKCHDw5zbeygXABBMsiyfThQBoVAagvHgaWlV2G1QBnHD1ZUzo6lSvmbaIaUItcl0BAQEbh+ySK5cAleQXuFcpAsphlpeSi8nMwR5EoivQDejFw2RVQNXLxZzwjmRTBESA+frRX8/208WAiWxpQC87opK1QujstQQEBARsCZIsOg/AQiwt1smcFyZGj40YWBkZQBV0mbGZiLoCPYCnoEThKIOqugKUgKyQBhCAWU9XTbXCCBCmhhtUbIMPI7G3z9tJCQgICPQZXSY6AMCc0kwQ0y4AQMBeQVSsj4ITqURZT8AiFIlvAgjJ1swsUFLbAy5OxfQezRSpEC2xSECvN0Rdh1hPmGlDUsqBePQTEBCwaRAABJIkydYuCEkIEJIQkpCkkajulFK2Y0J+LCWhM5OEj/cOZBBjY115fpW+N8vWF6RUdfRiOUNDZlGNvnNA52YIgBkwy4Q8ZcCWNXOxEmkR6+qaE6kwFakyUa1Hvl3E1iC8VE2nhs73GQoICAj0BayATLMJDOx+iAkhhOtg8MSXG6CyACvJygYgcSOEAYmO2rRNWzNKGrP3H83PTE9Jyam3tGR14qeHiqrqDq5ObKw6c+Sz9AYLy5H6xEMpBWWnN+8vqG/MWrcurfUcHfoFB2G1YTb8zWeGkERzVYK42R/BKn4BHdU12xBiysqEdXEJ51xhkB2LBAQEBGwbXOcWgDXTiJJoAJeEpBEXsx+IvAbljiJEMMF4IKcYdo4umqp9nz3wn08Xvv716nJHfxdLS2p9hjXsfPrZr9e99eATq0qC/CwZHiBtoHfLzk+/Xf/hUwv++WuFi3ag+pUqg+Cyt5/sZQVAayucAiVPpnFJFtVmumwWUYIBoa6TLAYTBDLLSkBAQMAWQeiUIydSIV4+BkJdx5UQK09jMLkMNekZIXXwHnjQuIUnDO5I3n3kZFkRiR4yzNPR0pJuEdcE645vP5yaeizRb8QtAU6WFtSGDgsyFWUmpx7datBOnjjY4hYvfjDqMmL6FhgT1rwFwuSXeTeXqKMr6jKnS1hkxTwsY4LlVJkAIghhukkBAQEBW4UkIU5m4dNBcphFnBfK5HARKG05ICZagGY3QEmSBnB5WVe064fEuM8ytv/y+dvXOWZuPWrRPOjM+rvSx2w8seztb7Zvjky+e3eFheVI+cYVGVFP/9+bS3cXLx297tPdDQP1iQUhQgCbGCkeIZAk3tPlWmZs3gdYl1ejYfQBNXuZNW7pVShxWyIiT+piQBIQrqYmICAgYJsgZ8kv8xsbUHN7RAjGhAZUWZMZaRAQpAgTUMe1gZvpOodf++Kz+vzsU9UxUTdM8OthyYiZP0YA5DT6xgwaOib+B4vLoeDpc2ZCe06trt0pLPbllwZqdZnP4wJBksS8qjhfHgFi2StmYRRkYWWECFGNDJl702NCJFDK0LRKg6hixoC9BgUEBAYE2HAktX+RJEl9T6SxF4GkkWjjVmY4U2chSUJgkkc/ZHXIAQqkHTLs0iG9Wzbmpvt7tZxTzJxr/sQhXSyggZS2KjDXn+JdXsZ7J6qZMz5QpOrpIjB7pKOVGcyXlonPA55DLyAgcJFDNcmBgEo5KjLLhMrZEgIYc+s+wmztCSEmI+ZMU6SiVwkImAFJEsimforLAYusiNWJGZcK0QE2MO/pAjcqAgCEEAbupyvvAxBzxxIXoYCAgA2DSfkgQBJrv8nS8bx4x61LaR+XlvqIMhup3PlEkiFwFgjnP4HctGDNWaCT31x6hU/fEsbsI1hlYs/FNfivwLQyEFfaIIC5TZa4DAUEBGwXskmaij+FAIikkXg9kIAksVIz5a+w9JZnFoQPGgkInAU5XCKkylaBM5WR4usHCIiJAEKY0enVRCrgXCukrMZkl+nmgHk7i+tQQEDAxkGlCRQ1ZUwAIZMJs1sYAmzEVKAK+Kgli8G8oMyGiESOIdANCC+WyAG36+QuIMAmwud1QTYT6lpelq9I4NPkaoIV7XAMbGKBgIDAAACvJ7P0lb3EqnxMPAjJIxs02aUsKrXLfVeqi4AAgNykAIJlMUgCsq0GyONDiHUq5DCKzHq6rETNxZqBXpfM6EDOcBGSHwQF/gzEZ/j3hfjuzzUwc3dhdy0aaKl8gSLJx18BYDdRbMIYy0q5RNJIRIRcgW4hu1JJSPUrd/ST1dBkgyEWXYGYKVIxqhTLcQHMWhpEri0PXFG08wReu4LWquw/Pjlc3tLM37hwxyRwnsC/+9rqgkOfbCxo6zR/Q+CvA23M8gaunO8iOalQKVLRxhoym8plrn+irSvQPVQSK0AwAQnJnQhVLVnhCshkve6ccZFKO43IPyFAIB77/gIgVH9qSdKRX/dV+DhX51TauVUmfp5ydOWRalG1H/hA7enbNiXtP5xv8DTmprS4kLSdG4/tO1ZmFF/+XwxVPY4QWrBjBuJc9BGA3dkIrxICrzMzJjO7cV6cNz19dVZZTZNVUyBiaKgrzanQ9WaTdXnJVe29WM5Ql36mWtdhNT8jbdXV5YU1ndaWs0XIAo+Ycu9oAZkQHjyR7OXMl0cASAKQ1OIYVBFNBi/CSEySFNiFSgayRMv5AQLUWrI/JbXo4NHS3NL/ndQkRoy8MS7qQh+WwPkAQe3F6Qfy0/eWFh+WPno5sMY7btI1Yd09/Ar8CRAmqEdpUoAAYzZPiTRI7uMyWxjab5NUVjCI6t9eyDPoPzpr9mYUG1F9cW3AZeGlX1W4PDkp2smum8e6juqUrcdxZGxTUpqPIcJocAwbNcyn201WHfs4239O0KF12dcGD89f0Tr8qQTv7pYj9ccPFnmH6rYfsLvtupptB43X3DLStdtjbCpPP5pucgnqqK6pr9N2aoOHDw+3qOhse6D9fmo4z2yBAACBJNErjS7EeFESc9UFKsaiGhmyIDGqeEEDAgBM8ACXaDnXINhr1ANT3FcUvTTnyd8AYN2I57d8NOX6ib7EfC5aYACCOMVfe4uj6zs/3/2f1fkA6ze/uCRp0swxXiC+/L8UajcDVk9merZsPgNjzKWpWN+NmdsDADBWKsYYLkZrPzu3SG3z4qU/7NyZ+cPo6TMeuc++u4gLAPbOHs716xfd+8OJivAr597/yNNxljbpHDi6ZccT7yw9Xbcq/Z/3zJs/3sJyyHmQv379J1+v3p6+6asbb3trvoOlY3R2dTQV/vzlq5szmsbfsOCBhx+ytKSNAiGmj8wUVAAQSAhhppVBn90YMNfOIBgDm+MF+rs5aUCZbTPjzPMxNoH+AkmdjXmFZWfao8ZeOnxI9OiJ1wbm2tWV1naIj3XgA5kaKnOqKlD45aNjI4dMmPhMONRWltbpxUjAXwvE+Sw0kPJHGkTlqEwmDMBnhPgApaQyRqX+u3TI8uIrL0tOYSH+dlV5qalJ+zq9ro8O0lha0DUkNrQzY39SWk0pxAyOcbcY+NzCpwXoT+5PyshKTvEfPtPPonmQU1CUPy7NSz+dvFvSXjIm1NIWJXv3kEjfuvSjKSl1Opfhg8OcL65iD+JNCubnx0a+VYpShE+fqYNqFxlIxFJgVmRmz4VYUdUgrDcs7g5/FjVH3k0rrtLemrjl1Xkf7z56R/iB5uQleywZdwgMJOiSV6+vqR08/a3jv8x/YOnRlwfrTqRt31tkuNDHNcBAOHMKIS5QQHNcmsPS/JUoCTGXgeQ1QCAEc82Ciy3mgr7kp4M5kfcs/GXT8fzHw/9vc1Kroftz0BXv/eVU3Cend/762bs3OuZu68ll6O7McZuPf/vO0h1bIk/Os3izIuWbVmXGPPPK69/sLVsyduMX+yy5DOlrcw7tqLj5o6TdG7+ZH1dz7GBGW19P84KCIBYxAQC4my69VNigGuINXqS68CQECFB5eTkAFBYWznjxLUBAMAKJuxqwAKywD2Szg5rdG877aQ4YsNKBqbYw8Yc3Smd8cFm0t7/qdYEBDP4dFxWeOvHGviH/e2C0h9bsDYG/BOMeexA4v1Q9v4EQq/WxjJZnwNzzAICrahAqJ4QJATi++MsLcxp/BvVp6/OkUcOGh7n3eGERfUFuambzkJvG+VrdZO7W71ovvXe0h7Xl2nNXHmq/cnysr7tdj8uRmvTTRXVk2NQR3fZ9bRnD754HvHHBIF9MSNXXUN4F7lyAlKA7/cW32JcjD/bSoCtnt+xHAgSqd68/L6cmICAg0GeMf+xBNv9IuJQeY06xWUkAkDijivXnCK/kUcoyJkhDxYTg2KKLMOgKnEsMv3seALD6r8TbuhwIiAkTVeRU5tMQMpOBpLO4CNN+BkIys4MQoMkul4W86AouAgICfyeoq8fAY6/6tsgk+vjPPDYTTBCTjESsWmgStzuBruAuVswpEsmNXACCeSilshZc00xu3arYy8DjqVzpIlyHGQhg2dVP8KgEBARsG4Td9+QXkCy2RwB4QCWYckmZmAFNfDEmGjsNUG6p4LAIdA/apGASj0RWlUJIlsaQzXBBjrgIuopj8Elwwkl7bPaIvsmoByLNFRAQsG1w0jKR810kMZs/SjQFkBmngE1YFowEIAgBwZha7TItKwGBrkDc1I9zByTEBs/4eK55ZYVNgRNQzekSRBBRSsrq5QCBWh+NS20ICAgI2CKQXABEjEfK1QuAICQhhAkmJsVciA5QskRDQmpvIbXji4CACvwyUZoXhI3vgqqXgcwqx0g9p0u7vgRT7Uf+1CeLfxM57xUm9eZmKAAAIABJREFUkwICAjYNOWoihCRJUks/0uEOrlcPICv6cV0/+UbHfrq4BkgFzg9kVQsqg8GMNJiyN6dQqdyH5FlcTFTiGOwNOXgDyFR6ACCAAdN9iTaHgICATYPmCRIAADZx9zXM+FKEMIYL8MavTHKWNBJNTYgsLSRSDIGzoUzfsgc69uSGVTxmxCw0mJcGMJ9cqcuGlHSZio+qGIBq/wMBAQEBmwVXeaRKBcD5KMAjLCvgIV4NlOc0iIkQTACz1ESwRgW6BcGETZphxUaXukkihAjBiAVkZWINmOl9FxN7JiOpWg7knu55Py0BAQGBfoEKJtP5HwA+g0ulpmg05bp9RJVJqHpxdHhSabTZDDrLkvLqTL0wWNVVni6pauyFy1B9TXFWWa/0oGqyT1T0ymWoNjWvsq0XLkOtlVUlBVVWjxEI1lfnnKqyNd02LjPKc1xJkmvKQIl4dNyHulZxiWa19rIi3cIDLCJIMqNTETBz6BUQEBCwRRBGgFIV6kDu7GLMWFRKgsFbvLxDRwiWy9E2Apy/bUNyWWPuhp1FLS0nV63KsRT/Omp2JZ3Ylp16LLuqtijxzb3ZemP3p9FefXLN+tTS5oKjJ/LSkhOTTtdZ2nfl0Q/25lc0HtuY1FCRu++DU/UWliN1x/Yl5hRn7Txc2Fifvuq3ky2WjrGpNHHTloy86qKUjOzjhxIzCi1G8/KD/7f3TFP9iV2n6pKzDq443WRpwfMKzlwG2aEAADO6AKNFESqtovAL2GVplukCAqTho7hI9ZDHB3a5a6CAgICA7QJRB12qRM9SBSZtC5zbggmRJNYyY2kI90HgaTEAgGQrFWbJJya85NdnX1/z0aO333JUM9TX3sKC9u6x7rrtP37/4RN3z3tjo5urq4MFlyEHF2/P1oP/u/PJ9555demGOo8wd0v7dg2dpN/9yMOLf3v1ngfX1I0YZEm2EbkODjXs+eSrlW89OOcfvzUFe1lyRrB39nDRlP/x6T0Pvvzg4rXHkUegRQ8F19DRDVvuWPD+t68+uHhXy7AQF0sLnk8opga0WaEUkFUfNQGMVek+ZjVjNXuZXXNmG1bFXVnSWRCpzICba+obSmqt10i6wtjRUp5X127sc9HE1FhZ21DecFF6Pw80tNdWNzSUtvT1SbSjo60ur6LN2IsyYRfoqwrrGxvbxKNvz1Ddpwhr0AICrhzEb5n0lsjmdIHnIoS7APLyno3AMyLKuTk7PTcvPdEjcGyst0XzIMfgAB+7mqLTmSmHidcVEf4WF3QJjArszD2amtVSrYkJG+JqKYyDa8gk347Tx9OzC05nB8Rc42PRjsgxINwHVxTl5KQedHYdNyLIssuQW0CYV31u8unTbZ0uwwaFOFkMKm6Dpni3Hj6amlmUpwuMGeXRs57zeQOiHVz+Ky+ZYD7pgwB4nRhjTDChD4LIrLxM/YQwQZJqYEjlbI8klv+K8jIAAGBiaKmqaYfmo+t37f1sbT6Avqqqpd1g/T5qbKvUtTdXVVaf/uaFTcW68sbajtbaFuux14Q7Wyur9dBy8KeNB5ZvKQRor6pq7RQydecfxEjaGwqaMZxZu2Hv/i+OtgJuym9ot/5dYF1DY0d7XV5J/vYXvkpr1zW1NrU1tXRa/QqxoU3fWNhkhPwVb+08ejSpCXBzUUMHiMJTt2BsZUKwiU7gclM/5iUk24fzuxlRFIEIJzuDat7XBoBTli833Pzzz/9ZvDnnfaeVnyRa6sPqS34+nB89/9+/bD5R8FjEm9tOWnYZOrAyLWFR5q5fF79zkzZ/+zGLLkOFm+7NGb/l6NK3l2zfEpV6fw8uQ5tX58Q++8qr3+wr+3L81q8P9OAydHRP9ewPk/ds+vre+PrEw6ctdpXz191XemVR8o+ffb56gXfyu0drLC14PiEP03L2O7eSVKswm6WsQAihRHrNs88+CwCNjY0/b9+PAJhlEV1UJZVB2Busr/vCPXPO5xnaInCTsXTTEwtTnaMc7bCbc1llgN2Jx1/Lj5oQHuRp+akNAADKti7Yvm/NMTQzAReXBE5s3TDjSOaZPJ/rErx6XM1U05y36YmFGcHjXQ2Nzr6NpY7648+8VTTyiiG+zvai+HBe0V6lT/5m6G+GEf56H8nPoarSuXJV3DqnW4b7B7j0+CTeuvOLRUcO5DRHjvGtP64fE5z09uL0ojbt6HiL6Qhb78zWY9/fsJrcG9lR2RkYV527snjDw9vcnhzlDw49r/m3xJJNGxBhdrlyJRAhJNGUginQI8ZsQbI1DKg151nfjsCDN824cKciAwWOGh8dpG0u6fAfM3L8ZVOCLWWR9h4JUcPGeBqLOxyDYqcsGBfioOn+9mDvETlpYoihsbHVfei1V4yKCnWztG/PmFkJoV5NVQXusVdMGD8rwtKCyC16RMxgXyjT2Q8ZNu7aK6O0Fm5M9s4+0RPGeega27FXwrVXxYX5WUyevWPnxAeYmmsrvOP/MWHklFCbKC9/tmYtAjMWFB0NAolJWdAYzChQCElIUYVUXIZueuEN5kwkAQBvaNAKs0w04C/W7hHWfgCAoXXbu9c/8/mhrFII9wx4cX3pA5fYSRZrNCq0ZX2/6oP5878DAIh/6ufXHr9jdmRv9miAuvULL3tqWWZpFcQOin1xzem7R6kVtAXOG4gJsr684o739p4qBa8R/nd8dOrTa4J61f9L3/vuey8s/OkESABPfbTj6fuuDrXqlgYAJl31qU9C/vmhsbAO/CbdNv/dX9+7TDxrdY+xjzzAb3mUy0KQpFSKqWU9oUYuhEiShAlW2KcqWxh6A0z64usLdiYCNomhd9wJAIwnpdIvA5At/ujP7KmO6XgjRAgxn9OlTVus2gIrvQBTqRKzQ2aQqEg6BgB3J5gRHtm7iAu0iMDr0FFBvqHWvSyV9YgJYwDwcbW7YVCkiLgXCrRJSMu7blqIDe9dxKVrEtpMhKnhwSEuvYm4AIAkDQL63YOvqzZukPhT7AnqRAEhRHjln4sEARcSUigwjLRCON3KBieGBGwGiGsvy3ktfV2SlEYvklhDlk2EmzB0e8fGBCT5wZDpUhGu3ML49Of+jGweuNFQvOXBVztv/d/7i+uc6nN0102rfvbOX59968ax4R49K8eVbJh7sKS9YW5JxqQlR8Y9HnRk9unfd+RO+2Buz8muqaopZ8ejb5oeXrMkNs3Brql1THzRI3etenXR9GE+lqo4AucG+grdyeWDdo/9bvFbL+qDy2rsLg1a4/zOtOMLRo/wc+ppxZatH39coXOfuTT/7rVfGx+5s27Rt+saxk247/bhFstrdL28DYmr5h++pGzVR79URlzW0nLY67eYD67OeTgBLNNf/t5ACiWlm1sW/4OhMhoKeYWK+bG5XjAnywgIcHCNZdrNZWIsAKASZlEpeDM+PBCEsdrwwCwpBrPyMn9sJExTQ1yFAJKbXfCNr79jH+p88LudugKX6PDR4R++Y/IJcLWq1Ro49Z3pknNrQ3vJkdP2rtrY21ZOs0OdWmuraXxcI2e8855mkOu+I4kdRre4uZNCPxhk9Pd0FN/H+Yajn9Oo+w4M8x5etWxZtr4gaNp9VyScGKUdYnFEgsNl8l2PaLS4oKI6PcMhwi380hcXakwaB6tx0yVs6oT7DyV4BFWk5XR0jAid8vikyTeM14KzKHR0B5ksSn8A4CVj3uWlHTi10Skv5CEsFwyJzB4VEDADu3gIoU7zSJIoF09xO0BACJHYsxvIfHiEuvR06eYQInKOzElZAIAkSU5zRU9XAW6sqjPqiGuEf48pztkw6JsqCjt9ozyd7e0BoEtnoAeY6stqCda4DvK1dosXONfQV1W02XXYew/26NOtub29pflMk3N0sKtdH/X0deW5bU7eTl4+biIWWMboh+4HBBJS7oxqkQxQ3RlBZYRAf5EQYAwI8QkigGTR0xUwB+vpqi4hWcGClUlUGpDYhBXjP9RdeZn1POg8kcpAl64gHvu6gEieAX79WtNe6xEWq/q915+sxjskoF97FPirQbQBQVZLFN3AycnNKdYiV7QnOAdHO/dnvb8XEJ+4RQhRLT6muCzxgh7NZuUHXZYMIyAAEkJI4Z0i0U0TOAv80mKMd2zCXUjHypw3Vgh9NLoqQZePGQFCQBAAofa6ihwV19sQ1n5mEA8hf2eIb982wYdxWUWPiwYxe3EqwsyCr4p9yu5sGIii2yxkCQS6Ab2aaGCkOa55vQSUOgljwisXkpk4hrJF+juWf2V9YMR/PPcnJSAgINBvECSxOxW/+fG7IeL9NaLUAxU9A/4eQgCSbEgkIGAGdmFx8h2SmLUfJxCo6HecUwWACAFJMlOkogsr28Q8aMu6aIpAmoCAgIBtgwkqY4wIYjpTmFBpKmAWbAA8nwB6q+TjXHRhANCcD/ayqaW+8NSZ5l4s2VFyPLu2Vy5D5WlFlQ3WTYEMddWFGSWtvdg1VJ8+WqbvxXKGmpM55W3tJmvLkdaKiuK8il65DFVlJlX0QjC3s/JEVmWnBYOHvxDcmJnnspgQDNTPgAC1PuAm94QgHqAlCRETVpeX+X/5ELl09sUma6MJCAgI2CoIBoIwQkiSJGp0KmtOgUxf5vmKOtMFAMDUdpzpCmHSd4HsvgA3nFqxzThxauvBQ40uus4K3aDLxwd1u2Delg2NIy5p2bzbPca/aNs2l5m3D+uWT9BRvSO1wKBprq4P0OpLFpe5/XvqUG13ngftVUnrD5Jho9pOpjYaKzsNzpHj4rpXDKg8/E6G/7ywxK1ZHmFt2ctbRy4c49PdcqT28J4Cr7COPUcdAlyrN+wz3TRnbLfUhY7G0pQDJ7HnYGNdTUNtTrtLWEJ8RPfsiNL9C7OCngxJ3lfkSepzsyFhbpxndx9Pxc6tpVEJ+u37nCJ9K7btQDfPGdUfukXvIJtmMKtmQoAZR7JclzL4CACSJEKwpJGwCVOKVVfqJMuRASjVilpAc4IWqzuL8rKAgIBNAzFWFMGEMUDV9TlCMMYshVD0fxAhgOVZI3pfxbw0eM4gaQMjtcnvzX5i0UvPv/ttpe/QbqMZAEj+cVHlK55+ddX7D90y+7hTgkUzAQfPBG/D7h++ffvhOXPe2Ojn7WHRZcgtIKDj4Ae3PfLGk698s7nJO6K7YAYAAO6DrzLufnDBRz+9fPeCNU3jLMtAukdHkP2Lvvj1v/Nn37RSH25xaN3B1cvDqXrt4jvvff6+RX+cdPAOtjj74TF4SuuWf97z9lcvL1i0V58QZmHfktfwSP0fr3y08t37bp6xSRMb2PPg+58Ff5IjvE/BI6es5s1kRAnGAAgbscyXMisvE6Kw/pSLkW2BZsmg7oUICAgI2CAUTSAgsnAY980lXHaKB1SmwUeQhCQJsVcJ4uXBc3ysTt4RQVCcmJbfWt0RHRLlbjFYuIeFObUW5BQV5qb7B8ZHulvS3EYOAT4emoby3LzMJDvvS0Mt2xE5+4T5GQuTTud3NtgNDQmzPPStDRzt2Zmfmptfln8mKOoyL4vH6OAX7IFrywsLMpO93UfG+FnaIrJz8Qlyby5Kzc0zYteYoEDLYgMugWPc9adSsnMrSzoCI+PdLJ2NU/AgN31JcWFheoq/9+goi2f910DW51aZFXDGMcLsOU8W/laxBzAxm9MlnI6FkEyVJ0iijpRA+dGIIIJI7d6N5/SMBAQEBPqNUQ8uYKNAEqLlZdY1M3Me5z01wm56tJBM1f246AECgOQvl567Q8XV+z/8oX36rXaHttuPimgpIcNnXz24uwVNqT98Uz7yarv1m50end763Vq/h58Z2634v770lwMn2x2Qtj3oEu/yhQWB394yzqU7SxRd8a6v/sCXX2+Xl6jxd20xBYy5ZmK3lW0o2nTfYb//jMr6LX3ibSEn3zZM+2ZqYHfLkYotq066RNifTHe69dLOHzfA/c9d5dVdONXX5u5btVszdKJDexkxNut9Rl4+eXj3VgZ5f9x8PPSr+Ozf88ZFe6edcpr2wsTuauCmwt9+PB01wX7nHu2C6/Tf/OH46HOXW7L9/fOIvm2uPHom+1NxbwKl18uuJQTABnkJQsgs6Co6GDx0y20PmbNMR4ZE0BUQELBZjHrgPioSBFSdQJZaZtGV0U2VGx0hXEmXjkaymymN2Se/OodBFwAADDXFp45Uhs2cYHUAX3dqxTHPWy4fbG8tkWs4vfWMNCJ6mGXrIAAAIPqi/PTs1shrR1kqayvI3/WzbvzceItW9xzt+X8c77hsTIyPa896aaQ2M7u4nsRMjrUSHYmpKW/fTtOlt3TfxFZBl7XyGJo+KdrZsY+iM31EzO1zAVgBmTMElGc14P1cPpbGXDdIF0WqG59/Q5KQqnRM9ZyZFhVTSeMDbSLoCggI2CxG3n8fcBoKn9HlIgSy3i0XieRyQkSmkcr3Spodn/r62wt4LgI2iOjb58pjuDIoeYqS4TEhiIddTIhyRanndEEe1ZVVl1WRmjZ0FWazAIf4PP7OEN++bUKekyRYUY1HSM5CgGnyARUkwDIXhr2EATCnVwnDA4GzQK8lxC1wORh3mRCCZMIAK6ggxP3uu8vBee+Xzwcxq2fFVXdAQU7tdXDy0+f/yNpd2rf1ke7Qbxs2v7WqsK87xHVFxxc9sDavoYa/0dsttOxesmrbp5vKer1H9t+G08lrHl9yosNo6PLG3xb8AzDU5//x8GeHyhtaurxhDajgt5+3bH33aOdZm+x5h8WFKWse/CylSd/1DSvrAWQv+/eG3TtOdvawcHdr1h05tWf5o1ub5VHHgc6GVDQtmE8fZlRlTlghoCovK/EY0xEhwsTpud6QgIAa2ESQJKk4VNwskgVWAGCzQVxCg2CM6QJK0FU/0BHlB7YlIJjOlau9oAcEEKo5tHnrD2O+OwOD/MK0AcOqd6/f+evlP+ZZWQ83G0r+ePqZzemNyDt4UERHHTRtffLxdSklzVbG+hAq3/bwhhXPrygPjwkKsff1Kl9/16bfX19daO2JxlTTnLv2sSe3FCFnX5/gSEM5rtj8xOMbchvare2x7diit9eu3HLSPmZwkE7rCIc+fG3t79uTOgbgM1TfgDpP//bN6kVL9uIhof7tHsF2KSuWrPviu31t1j6Z9ip94ufDv0rLMjrGBIVGtJTjjG+iP03KqrPymaLWPV8tWvftqgKnuIgQneRBdn3xwZof1mZ3Wtkhaj2z7fDno5Zkgot7WEDosMaczSe/mfxFKrQZe1yPYJT5zc3fH/wkvX3okNDQTmSf9+21S/d8k9IwsPM3OvxDuG8BkRNaTP+ldzPWeGMsZpVChqIaKZSABLoDQkgukABLUQkAISaMCeGPcKxXwd9kjvdqaz+iMJ85qU+tSopoTQYGnCyaZ9yEoejxqvXT5/xeULn4x6hLxkyf8cKNIVbWkpw13qPv+UfS/tc/3nQ0p6A1bPXP11/38vRAfxerHXyfsY8NTV+7Z9WU2evraj/ZF3PZlFkzZl3XPW1QBY2Hc0DCPTedWPvYFxuTiyt0Q35MuPH6l27wdXOwtkenYbNmwJG1O95+fd2hOmnvislXPTNz+IShwqMI7MOnTjMc27z/jWm/bavQ7/lx7OULps+YlWDVUsDByyF82sf1Jz54c0XSqQqTZ9zKK2587rbwIMvzHgza+JuuyTi6YeOr03btrXbe++sVU5+cOWlqmNWZQm3g2MjJT9fvn/HcivzTjd/7JIy5avq/bw8Dp575NAhB6NUvN59cvfaPK3YmNUHY3kuvm3pr2LQoq2SYix4s5cDM1pTp9vE3VL7gXJgemNk4TS0wJoQQSUJCDEjAIhT5UF5BoQ9xKvUV3tngtRNi1tNVKFRAWxoATOkK+Kgv07M6X6d0PkCwvadvRNQ8nzObdiZnph89kd/RFjByepC2xydcAmAnuYSPnOpSe/Dg/pTUrPxja5oDbpocHuCosVK5I9jRN25IeJQ259CelKy0w3vKHKaFxyf4OfZcxiIEHOzch4y7yqFw8+6Daamn81M3GUJmjQvxspN6fhonROMxOD7Mu6Vm79HE3NzjO84YYqdED/d0hb974YwQ5BIYNWSYZ/u+fYeyc5IPZNe4JQyZGOCFev5gCJEcNH5x10U3pOw/nJKWmp58bK00+sHhvh72VjxpiMZ3UFxQCD6z69DJnNxDewodIiYMG+WttfJVEKzR+gaOmhdRtXHzgcy0U4npWU3OY2ZGeYLGSuEJYbfBY2M1LsUnjyVlZCVt2d4y7NZRkVEumoFfXubRFDGfNfYvSyQQIK5kgCQkt+jkwUqEgKpZiS6MQDdQNS8UHQzms0GvJYn6W9GFWBTFhADRPPvsswDQ2Nj48479EmsCq7aJVDuhqTBBCMEL99xxns7tnAOhltzUU4n/Oe19+zgPt5Brbrg63NvTcKTObWpYDzx2BERvqkv88ftyr/iQkNDYQXGT773TP/1ga1Ckj6dzdzNxqh02pn2flH60yPfGcV4uwdfNu9b/qIPJ1OoeG9JTgoUQadFXnPh+WXXY5HA/v7ihEy+Z8w+v1CO6sGH+rg6aHvaIUEf+1rXpJZ04bswQB89x85+OrU0zSlq7oACvc8urt3UgZCo/tiv5SHbbmMsjieOoOU+NdKi3a27DYYN9exp2QMjQ3Fmw/bmDTgnRnkMjRsVMuOqO8e0/FGjHBru79zirgDpO796UnVnvOOaSIRrtpXc9PUR3RmdEzoNC3HpcDXXUpOfsWHjM7faR3u5h46+7dKJ/fPuBIpdpg9ygJ0deQlD5nkUHWysdvKbFhnsNm33vNXhDqcbD1X2wh72VT+dixpfr1zGlAQKSho098uDKJyhlpT2WjPB5DcJHePlw0UMzZl7IkxGwPXyyarXEdTHY9YSYoIokIarDDLIWi+wnSQAhZHZr4UO68ttmbyoGf6YBleqCqbPDzlMbPfqFWfD6qZm3h5W3koafaq2rdQMheruh/7h7kEemQ1m+9pGZnV98b8Am68/Fps5mB/9xcfF3DXV45vis/wzN/bDN2NxhfYeYAOpwjPvXvHCyx8lO73jHVZ2f/2LqhUAYMehMXnFXTvIJG1O73GPhHLzmN72xwyCe4AEb200uwSPHTbk2NvsD99duQ4ePtNfrrX8yxAQEWv0mvTQJUmsj89rCHoxJvuckMVmtHWCDHgdFXRoQO3JS4ecer9xm3LRVb2i3LtCOTR2gcQya+sJV+M3C+FuIe2dY1rLT2GoWRsDU2eQWf/VVPhOdm9/Nvvrf4w+8lIp0hnOrJ2wLoBwUoHcuQgABphIZNKRigjQIGzmXioAsXy/Jo5aUe9WLv2iBvxskhGjaykIrM28GRIDLUYHcqiAmLvQNAGCuSEUvTllKA3joNRPNQACA6vYNmDld+emiE3I3flk1buKwsDHdi35bQGf67sTWMkPEXVP5YDuBnirw8g5bKjO3/VR36QPxIe4e1ldTQZe84bip0ynylkusz7OrN9xWmJO4LjvgkZti7CWpT3scqJApCy1lh5ae8Lj76mhfVyf1G1ZRsWdHkXO1x7i5sRrzTfa8w5rKvMyf0kMeunGIq0NvVlMegUu2fFUSMM5/5Lio3sncsQ23ZOTmlWwyXP7YBKb1d9ZT9YDCyPvvYyGTEMlOQgAmE0b8/khJplRZnt3RzN1duG4Gsx9PWWo7c7odRYfznScO89NYK1K1labUSKGBwT4WRY0BAIB01laXlrf7J4Rbl2+qSj/YOWTKIKs2AoaqE/nG2MGBrlYYB6SlrKKuFYKGBluhlxCsq8pMx9ETgs+toHLvEX3bHcxFgyjDPXI3ViHDAyAArDyLEwDoqkhFHwZldP3L5K66tQMn6HaDPsUieeE+RrD+Bzxlj326b/7tI2yv0N9vsX/XzJ9A33Y4oCNsNxi54D6iqNrKRTpGbUFIYokvpYgqlWVWfCYAkqRENdsIujh34x/18ZN1369xe/JWsmmr6+y5sd27DFVtPZVv1LTUNQZOCdF/V+Lx8pXDLLgMnfhjPx4+Rn8qxWNESLvBJWriCL9u911x4I20gHsjjn6TeeWCmOzv2ka+MrbbzITUHNqV5xlm2H7U4barHHbvNs28a3y3nL2OxuKTe05i30hcX+3iK7W7hY9KiOw+mpfsff508LNhJ34tumJycHYWGn13vEVjhvOG6NvuYM5CWC4Pq0SnQLmQgI8PUXYzId356XapVsr9Dtm4Y8CjT7cndNYP52AnFvbYvwMV6AH9/RbP+1fRtx3+3b58jDFIvD7MxoTYzZEQwNxlSEWH4fdKxClXmA8V2QrdUAocM7x6xRP/+eWd+2fOSvIYH2IpPXTwHueH9/6w9LUF/5z93y1hAV6OFlyGHN1DBuEj79z8wCuP/ee7bbqAaG9L+/aImQ57F8x7b9nCufPXtl4W5WFhOeQ5PEZzYNFny1++a/r1v+OhQZayYgc3Hx+P+rUf3XrXU/cs2pDq7DfIYkLuFX1Nx9Z/zH39kxfnLz5gGB/Zs6zleQKNllTTm0tfAL/CGIeP9TYkkC036DNfN4pU6j9QiWqkqaaRAM4SvxIQEBCwNWCzG5UcbgGAjW9QUSq1bRr7L7sDErV+rg3ANTDIUVdaXFFWnD8oYFiIq6UCM7L39XKTmmsLi/KytN5jAj0tLujoGehprMjILUZtjtGBIY4Wq8Fa76HuhtK8kpLa0oqQiPGWSXj2Xn7upLGmoiQvO9hjeLi3RZchjbOnr0tbRVZhoR1yi/b3s0w+1foOc23PziksbKg2Bg6OdTm37kG9BdPCoN1cAEwIJkiOnkjpxvJHO8QWkMzEMUC+IGVgngzLtgki4goICNg4kITYTZEQhBBt2UoaPlyHAEkIJF7DI4x1RSeGkJJ+KMb3NgCc/utK+OdP3z+/eH3a2y7rl57SWVhQX7oisWT4/Od+3pqU9XDUor0ZbRaYgbqyYxvyRn2UtfvXj96c7la870SFpX0X73iqaOL6/Z+9+fmW9dFZT++rtLDGQ13DAAAgAElEQVQcqdi6qTD+2f+8tOxA3qfj9/58rMnCh6evzT95tHn2u6f2bvx8/siW1BOZbZb2fWbrs9VXZR/97rPFKxf4pX14vNbSgucXiFH0+O+E+i9jQqiMKFtIyVqZZiQ27+nKK5/1bIdAdeUhCdXt23Quz0dAQECg/0i4bz7tixGCafSUnddkTT1mysappyA7qREAROR5IbCVni6FLnVVosesyeFWXYYas7YXSnFRMSE9E6RIe/GZjNzWwVclWGdlntnzq27snDirwiodBesTO6aMjPa25jJUl5Vb0kCiLx3avamfsqCpOf/gbtPEWUN7ZoWdP0T9aw5Rx0XCyAEg+zRLXBJDae8yikHXD4XzCZCyPQSy3QEQzqwXEBAQsFVgTLijHy/4cTU9c69TwnNdnuDSUiAAsKgMtpLoMjgn/OvyXi3oOezaUb1YDDmFRY4N692+I66Y06vlHCNnTu7NcshnWEyvBjCQxj1q6qxe7fs8gQ+jUQIVEDpExJ/sCLvauDqGTGYmYNbTpaEUy/N78g+ESzazK5IMSN8DAQGBAQPF0gAAaHeW86HMzMLptCUtL9N3AQBAJl4xFUkBgS7goo/0Z0CACTfjk+fQaBjGwASqEKtBS+qNyFO58sMdAfNGL7EhWoGAgIBAt1A4KERV/wMghGATZgEYA+ZEKjogxBWpWMwmJsKF7AUEzIDk2W5m4cdbFTSESryOIvGWBeFKj0gVdNUNYVlg+eykVlyFAgICFwG41I9MkmJ9W34To/FWpZpLtYSQYq3GdYUu6GkI2CII8Ckgnr/KpAFAQLAqdspjaZjQ/LgbMrkyqksDuDLKdg7PQUBAQOAvAzH/kav0UY6LrD9Ff2CyQpjIKxJVZixyDIFuwMVpaGNCuUYoC4Cx81SFFqpxhoCYmdgT2RNBLamhAHERSJvGX/EH0qdtkLN+OAc7sbDH/h3on9lj/7dxPvAXHF5/v8Xz9VX0bxt/Rdy4uGIPS1JlfT7aPmNSBkrySkUMCJF7anJPjuXEA1+jWqA/4EKPKj9cXkQB3qtllxcmyqMcBgDoKo7BZVjYZroEcALE1mstiDTm5KVuSVZNnPV8s5BP0QhlBzekV+c29VHsx1B4KiNzZ2qDslavdohAX1+8f1V6rY4PqPX2poY68o6kZB/IbO7td8F32F5Vmrr2aImxqxZAzwcKAKjq6J6MohNVtv7MhUwlmdmntyTXKS9ZOUX+X31t+upDZ5r0BmT+htU91p9KyszaVYzlT6Y3O0TQ1FCeuupQud5o/obVAwWoPrExIzenHPf2q2BEXX1RWd6JNdmKrYaVGKq825y17khuSV2brf/ldwEXBsIEACQN4hMdqtFHeouUBacQlZ+iCS6mlUCqFnkhjl/ApkE4b4C5FSD1yBDITsy0gMJ5UexCMu/pKs+AdJhX/kGmViFbtbAnAPozu3fm11TnFdSWHThSAVCwe1t2cXWdldsTQm0luQUZS5OqoC1pX1Z7c9mZkpLT36fWW9thB27O3rbjTGvLmaySisTEMiBntm3JrmruINZ22JK/KTd736kK+/bkzRkdzhXZG89k7ctstPbBEl1HfdbmbWc6DYUpORUZaSVgPLN1S069VY8a1Fl29FBuXm5ubWfptj2VdlBw4kBOZn6FFbcohDpq64uTP02qg+aTpwqaCgsrOmpSv0is7rQ13xVigNacnbvO1NeeOVNdfuhIGUDhru1ZpbU6a9+FqSbjZHZSYo7Ovnjj7ko7w5nclLzEk0UGa9+Fsc1YfuKLkw26mrTissrknEZoPPXZ8YpavdHKDjsLk47nZ6TnteCyLbsqtcaCU8ezU7PqrBl3oc7G/NLEr5MboOnU/uKaxryqsrqUZYlVYM0uiKDak7+lVaUW5Bkbcrald2oaTv16suhkld5KDEW4uTg3a+/efIO2aNuBSl1jcV1xwf4Dee22Xu2gkM9OkiQECHNuFMseMFEWQgCyJD1ruiFJQnK0ts37ncAFhtx2QCp7A6I8wGGuUSVJoEpkAQgoc7psTV5eATNuvdIxZkbQtoj2iuSDRWUljU1t+pbU05u+t990OmjukAkh/lZGwTqqywtSl6e4BAVUdGTtPFnSUOjhneZz5T0JFpVIAQCIAbcWHNtT01zbVFbSWX8GrTM5byoIDx4d4u9uxTNDX34sp6Aw177Wvwqlbd9QWfmlS/jVYdOmxvas403aDU15h3fWGdqaajIMhga0qsF1V2lE9ORwL6eeh9CNtZlJ2Trc4OHbZsjO3LhMszvX/7IZI6OGBPU8YW9oai47+fORIn+/stozBw32+JtM+Nn+2nkjfXs08D3/MIK+MPFAVWVpU1NTR2sabPxGuyEv7N7owBDfnjyKAXBTYWZ6Wl5DbEIryTNt+VlKq/IOThg+YnR4z26zpnZjddrqA2XErUhfW1PflruyvPEbw3XXx/j49uzBYqzIOVVY0dgYPliPck+v+97+YGnQqCvGxw2zcpEaWysqTi0/XBrkU9ZeojtlOLmxoCNZumF+nC/0dKSEQGPO3sT8Q+0VE1E9Kfxjc3Phl52XPzTNa3SAFbOYturC7N076tv1zcZc46E1qAm76zyjR10W4Qi29eV3B8JHdNm9C7OkQmG7ANBhDJqUEKzS0MAACukUQLL5s+0WrSXJVVJYcIiVC5J0VlcWl7cHjIqwrmlcmbq3M2paWM9/UgDQWXk0zxAXGexmzWWouaS8thWCY0NsRfOij6BJrSy3IkdQmWNFa8x0Mg1JfC5cVqS64bnXqakBW898rLeLEUL9gc3n8dT6gMwvr3/59W1rKgHA6d8HW56fbOdjxWKFYEASruzY9JrTzCUAAJH33P7Ga7/eEd67HW59Y9T9H6WUNoEvBL2XWn5vPKieXSzv0JD/y6+vzJ33KwBA7DPrP3h+xk2BPa/Hz6JjzTMR85dUNOtgsPuId0+m3RZpfY8ACMq3vvD+4x8szgMAuOen7JfnxAyRrHwyBBCCTkh8w23Sm60GAN9pcc99mv7vET1+IBcQez+58uE39mTVggu4vne46dFLJej5y6dvNmf+sOSueS8kAQBc/+ra//5n1gR7Kx8o22j+4onX/fd4fgM4Rdg/8GPH4smsNtTDZwqAIPvQO6/c99KqbACA5z878sJDl/hqenGRAhjT3rCf+hY0dIDbmH8+vnTVW2OsfSR0jw3r33r81Zd/PgUAMGNF4nc3j/V16M3VZmo5/vPsiffsBAIw8rb/vv3d/93o3PMnYyuImzeP8o+Zoamc2RJZ44edI8ZEkti0JJfrkwjGLAADkiSU9t2yC3w+fUJH5ebkXING19gUOCWk7etij9euHt69y1Dlsd/34PjxHSkpbnFB7QbXmEsSuncZKt//aqr//ZHHv8264r4hmUt1Y/473oLL0IEdOZ5hxp3HHG+70m7HLtPN90zs3mWooThpVyIJiMb1Vc7epN0tcsyoIVY9A20HkbNvRxJrUMgSK6BmNXf9Q0EAhGBixl5mdoDqpVR0qouBRWHqbCltsQvyHeLi7hI+OPaRCGORTmfCVixWkAQmY31dos4nJjLIy83L/ZJwH3/S2G7dU54YGhtyDa6RkVFarXNM3NgFAcbSpg5srQCPJGLU1TXWGfx9Qv28PXwDpoQ0e5o6OnHP6yEEhHTU1eSZvIdHR2qdnUcMH32HT0dVayexukdiaq9t0Du5Rnn4ugf4h94X5dBqajOarH0yCLCpqTy7wT0+foiHs6v72OioKLvyFoPtXQwEjC3Nhe0OoeFRzs4uEXFxjwSTwvp2bMXRDiHAhqa6ar3DEP9QHy8Pn38N9XSzb+k0WPtAERCiqy6v1YYMGeyu1XrEx40e5ZRTqzdZC0kIOjtqm5sknxgvdy/f8IB5EW6g0xl6cZFiY0vpiXq3ocMjPbXO7mOG+sY7NDR2WC/2ImNbSzUxeIV6url4h48YNMmjqklnwNaOEwExtdUUVkHE4GFBbi5u18aGDnNv1ul73Uu+8CBM/gLM/z4wn+5gPFMefWkPmPoL0SUlJAGQi6+n6+B7abDmwA9fvTx/5szXtg4N9bXoMuQZHqU5+tb0+QsfWfjdzo5gy+UWr9h/2e279863lz5/27z1HddarMkhr4ThjocWffLdwtuvv+53TcIgS1mxg4dfgG/z2vdvnvPoXR9vzHQPGnwRRVwAxgBgT2kS4v1dluDK3D3VCgQ4bf6skSHWF2bcepV0pEIAssnBNQJQt/PFV3NCH73l3VP7Fi1cffol/x9f3XMwLctgbdXKfesP7J1dMTv7yKK3V+ZkPjJqXPO28ctzrKyFm4xlm596U3/ph2+9u//osoVvn1jQ+sG/N6cUN1slPJZumr83OdF4Z23aF8/9kFk5329Z0fYXfztjbTVTdXPBlifegdkrP3lj45HVr7y48eba/z6zOa++3doeWw+//0Fy7YhLPy7Z9vLz20o+HJm87Ojqzcfbre2xMSPn+O8jk6/avPad5VvTdzx/1/95bB22JL3VYPWJ5PwC66B683NvNkY9u/CjpCOfvbA4/Wnjkte2HDlda+2T6Uj78bsDuxvDF1WtferFfbWf3OBwLGPJkj2t1vaor9Sf/G743pEvfvR/uw8d//a193bF7h759anTtdY+0+Zdn36enek764vKfS88u6byvcDCdXt/WJXZaW2HLfmbEn+ceeyyrJ/efG9PcvqLT0wO2jr26zRo6/nyJhhOL71hmyO+6cmytPUv/W9P8XXpz6898pmaa9Y9jEV7Nu34YofL22eWPfX24fzFD1zdWfze61sbwNYa+pZBJYAINwuSB3aZlhDhNkIgzwvJjmoIAQAmWJEHuoiA7LxctZKuqbysuMjNN9bXzaLLkIOrtxuuKywpdzQ4xfgHOFhaEBw8wpyNNaVVNS31dSFhcc4W21l2Hl7O0NpUV1FSFOEVE+huqb6MJEdXT2173ZmyMhcH9yE+XrbhHdRHMDkpxpNn7GXWp0WIIKIWaVHUv+Xy8o3PvU7YSLjyuC4nu8wykHeKbba8DNCRs35P4s7C6E8eGgPQh2/S2ALJnz2QP2P2xNjrI/tyBbTsWralKVs/4t15MX060PaqguSlL57555dXRPsE9+mSa9z8v3XGDuf4hf+K6MtqxqpTyTs/2j946ZOjneyt9mXMkLLo/7LHBkdf8tDonludFxq6g6t3Vu6tiPv0wdi+rIb1NXnrHl/t/8H9owb59tjJPws5y77J8Drjdd1b0/rypG7Iy0s9/tK2qK+fHOPp0nM/vivSP3soc8iM0Gk3Xdqn1KByT2JK1sdtty+b5WX51todcPna+352fGDGyEuHhfTpQC8oRtxzD3CbelDTU6hKBrC7oHyvBBVXhSiVQUKF69O///58n8Cfgb5s5aHUdges0QdP8ql69Yzfl7PGuHRnnacr2fvtRjz5aik7yT7YvdXoN/Kq8YHdbrJo68PH/F9IyPg149I5oafe75zy5WXdLkgqt61NdYvQnEhxunWSYcUmmP/0tG6z4va6vANr92uGjLNrK0VSm947fvIlw6zYHtgSIm65DQFCjHBHePUYzkpuGUFZsTAAZB50zTq6LLGVu7nKy8iWgy5zV0KavvMfiMlIJAmhPq6JMYb+7JAQgk1Esuv7+DM2YYB+7RGbMLLrOw+GmExEQn3+ZM4/+v3lE2zEoOnPepgAQVIfP1NCCOnvV2EkSEJSH4+UYELABJJdnyIuXdOIQSMhmyxwWULcvHn0hkioEj0Pt9Q5iNAUFgB4POaEF56jYFXBn0DG8osq6FI05ewqQrGR0cHWXIZKCrPyWsOviPeyusnC/at0o/813CrjqqNwU1LHpIQhXlZdhnLyyhogamJ033IAG0DkLbcTTNgNkUpQKQOIZ/VuCADi9gdIxV7mSS7h9WNEizJqGrTyrw2jz/cjZU2Nhd5Hz6C6rf3YHernDkHS9HePkl2/yjhIY/uEVQD4E19+vz+Z/u0QIYT6+1X065pBEjL7a+/Lmv070AsLxD0MlGyDc6cUFzX2PnueUFYh8nwRkszozhcTPGKuSujFYshpUMSoQb3b5ODL/9Wr5RwH3zSpN8shn5joXrkM2SYQ8AuKUCNmoqSnMphpJAIJE0yzVrUiFQBPbIlsCsg1XOAibG0ICAj8XYFANa0LCmuK8184/ZAbDRHqBsh1hYBK1fP7qYCAOXifQkWhIjI9HhQGJ5tDw5h7EJkFXaRsi3c5lMtNDr0CAgIC/9/el8d5XVb7v89nGGaAYR1AtmEVBFxQRLTcKql+2dWyulbmkt6yTdPf7ZfLz7r399LW263U+lnWL7P0ds3UKDMrcxc0F1yQEFcQZQQGGGD2+X6f8/vjLM/zGWDmCylCfU7JzHy/n8+znHOesz3nOc+eDl7swmsNyMVBaSnlWJaAEm+WpSa9H/wonI0CtgOpQSdFlYNzVPJnBNZju+l9ugDszg3JuIr1wQsooIAC9iLQY0ExaCfnMQDYSQ47kcGB5UpdsrpUevmBxp+pkIAFbAtytMcP5xITkgoZyk9+T65saOheBeXDy1IgHHpkjRk9y0/tNWd2CyiggH9kICDKxNSP9YNClGVeCFK35+L+mp30KKRdAdsHK4uhTGIFMZDUqEpCK56QTLlzukTOY/olR2tR+/EHCyiggAL2WBCPwWoXwIsNAACJTAwh6BkPqxbJzGWrjMG5HwUU0BOMZ9RH9U/1X9I4ijJYUMWav9rPoimefcUAMnV+C3VbQAEF7C2gRYKiZMxdi2vRY/1dv9R8ZcmmIkmwAorIXgHbBw0op4d6SPPv4l4G4i0InhifKl1JlLcqVgzLpCdzfqWJN342BRRQQAF/A4jDIAmgHOwIRiyYaru8JtdIDlWpwGRJS7VjG2/SHArY40EvofK6j6Q1RENyfb1vURAh61kGMpY/0xi0VQC3Dd74QAEFFFDAngsc7KJc2XoLfq2f1Qcij+ipvAzBz37oGQ9pac+vTPA3AXetXfPsYy9sqeTZNY/fubKtgue6GhctXbWlfQ8rFvv6AgOIdy1zSO6OTFhGzp75fbmiffN7urqJS5wzBAmyL1Lo2wIKKGCvAHEXAiPTcDEsVxnBPVyThX6ol8hPXZr78fcs9NobH/rZfz36Wvuavz7x7MMP3L/4yXU7evLVey657a+rW5YuenLD6qW3f+nh9Tt4jtfd+4f7n3xhxcNLGlualvzkJw9VpMz3ThBjLsAS7wL7Vi4Ay162jVx/LHdON2E+9XHTI21pmavdA6Fja1tne1ef1wf0hHJnZ/uWtj6vOdgGGN2tmztKnTtrn3FXe0fH1l0w60K5q6W5oxR2eobc2dre2dr3PUjbdFjqbt/c2rULZCy1tnR0tZV29rXurs6OzTv/GsDdrc0d3aWdfpO7Ojo7tuxCj6HU0dzaVd75C2VK7W0dHVt3Gqflcnd7c2v3LlxgU2rb0tHZ2b2zL4au7s625o5d2B0qd2xu7ewu7TSXhs7OzvbNnW9OcDYKPvVwYx5pWtDAKgCxfwJPYPb3/37DywPqp84e8NCl7zr1C2dfdO1dpYn7b/e6PgAYeeDpA+474+RLr/rCB0+9tXziATsqUE71cw8e+OB3Lv/xFz/4juNuHjhv8l5X37FCkHuXvTaq3JVr1c9YzukmZ9NIzxdJbaptmtFN4FgKXN4h3l1ndpkDd3V2oum3X7r6rlsWNQLo6qrkahMud5WAtmdvv+vmi65ZAnR2d4dyBSqNQ5nR2bYZS777rzctv+ulTiB09C1kGFzu6ga23vuL39x26S+ek3GGCnDE5S4Gtr728iPfPvPG55tf7WCE7gpmyMzlrm7G5juuuuH2yxeutB77fBGhuwy0v7Z0yU2fvvIvXV1buYxSuRLMhBDau8t4+gff+PVD1z7RDoT2SsQvl7vLQOuS++/79eevehool0vlSgbKoZu53Nne/uTln7zpsWeeaQNCZ0XyXojf8uCtf/jtRdc8A3B3d7mSS9lCqQx0bG166ZZPfPu+xg1NAEqlCswZRii1B+D5/7r+ttu/en8bUG4vVdAhl0tloO25F5fefNa3H9vS2gEOFZGCy6HcWQaW//hff3PnHX9prYxJAYRSJ4A19z15908/deumUqm7FEKpElqUQyh3lMrrbjvnij8/8uwrALor4VIglDoAvHz7fXf84rzbt4BLneWwC/bM3wQMDgHMIch/gNV+9EJ7AjES6HWYA0u9A9ZLEf5+nd2q2kG1Ycvapo1DMXD6yPodF+auGjiyprxlY/OWztbWhvFTd3xnRtXAATXc0bp1U1PTrPrJIwbuWr3avQAYyGLyEyKDxUTkEAKSKAoAYg6Bq77whS8AaG5uvv5P9+rL5A/JQbe4l+uXH1x01sfeqMmUnltx/62f+7fnj/how5bnh8wZ9NJrLyy+8Bsvv/XE/ep6Y38G1v/+s+csDuO7ho2ZXL2yPLfh4TPPfmTQ9JpJY0f3Xjv2tTtv+eOtx/yp5sIjszUbZ76l40///fD9H32g7vzDtn+fs0Jo7lp1y5nnPjXqkGEDa/YZtnbDvkMXnfa5pycfNmnc8Nrel+nq35x82903PzTgzGOqVzZOf1fXr4++9/GlTw19z8G9X3BTXrv5mYUfP++vMxaMQtvICW2Nw3nRmecvP/Ad00YO3N4dIhG23nfpJXct27hh6vwpLU/0O3bWE1/44oONoWPWzIbeq/E2L11+/7Xjb+z/qbmhXJqxb8vS1c8tnL1wwHnzR9f0Uv2Zu7B+4f/84mMbB1ZPmDEhLG+bP/nBT563JNTXz5g0tPdF2LT4K3/+5bm/qz3vKFq5Zca7Whedv/SOK+6oO+OIfXp9LbSi8eazz3+i35RBI0aNq121+aAxi0//3JPDZ46bvM+gXjHT+eQ1V/z+V/euPvjEyeseGrBg9jPfu3zx3U+tm3vEvv177bGtse3h79VfR0dPCRPqJg/asHH0up8Nu67qg7NH79P7rUFbb//W1xff/0LHge+YtOkvvGDmw1++9OHl6/sfMqcPJt363G8WXf2WG/pfOIfXZtOO2PTizat/+YEba//1kNHo38ubHLD0iqN+0fRsF504Y+TaNcOO7vjh9Ou3hJqRbx3fuxNSWnnnjb/9+tUr5n90/GuPDT1m8st33bbohze8ePi79huA3spNl9rx+HdnXtfKA3D0xLEtr1XPb/nh6J91TRo18sBRtb32+HrC92+5hbLMqyzDj2BIbQLJGI2pUnKyKDPHwjOb9YFzPnDSbhv57oS2xocWPjb2rG+cdvT+Cw4btunlzYOm7OB6hFfuuuDZWZf/r0OGHXrBV6Yt/9qq+uMnbvdBfu3OP7ww6fhjJs7/l//7iXF/urVx1uGTdx/VdyNc8cubJO+YAJbSGAI9tiyyqFH9BFByy9AXL3WlqsnzdjMC69EhdZ6J6I29ZajUtHHZwktOuOTXa9atLS847oOf/8+bTjhoO3f/9gAGtjz+o09fedUN1z6ZDRs1/OwfPf6ZBQ2Te79kQ2DL88/ccfVRn/zh5uaW0pxPnP75c7575py+r3grd4SmO799+r/95E9LVmDWpMnnXv34mccMq63kyrVNS3+08KpPnfPT2q5y98HnXn3B2af+88yavl8rt3S9+sevfOiS6x9Z8RLm7n/wuVc9dOrhNf0qeLPjud9eds23vvafD/av6l8+9Tv3nnPykX3oeIH2tZseueaos6746wtrMf2fjv34BddffPT4vq9FCti86PoLvnH5j36/pN/4ITWf/f4jnzphVv3QCjpsWXXnfT86/l9+QK9t6px1yiWfPv/izx9WwZVfoRub7rnq05f94Kb7n6ap+4w854ePf2LB+MEVEL97zV9+/svLzv73u/q3dHS8/5Jrz/nMGe8YV8FAu1tKy6478XOX37742Wz8/Kkf+vLCr7175sDqvi8HaH/iz1d876sXX7O4Zih3fvKrt332jOOnjK6gw46Nzz5xzVFnX7lp6erSpHec8tH/feVlb+/FOXFgrLr10q9f+e9X31kzdGy24NJffP0D750+ooI7GkubXrzn1i+fdMltXa9s7jrmjIvP/fLXPjStgoGGEl686fNfuuJ7v3youn7aoPf8n1u++b6jxw3epesWdhFmnnpaEloGZbJBBiBJpIKVVrbjvLaJZvzNTBkxY/l1P9+NY9+9wB2vrFrxYuvEY/bv+5ahVQ/8uv3gk2b2uag6V/3xia75B0wZvpPXVu5FMOWkD9uvGg4JIUg15njqli27Ss/pSqClx70jiZVHdv8fZYTAQe8CfMMTCxigfoNGDOfNq9dtAjC8umvu+DkVdUvA0JqwpXUDAG5eP2/sjHEj6tBXNgQziAYOnFDdumFTCwDUDalqmFjRpapVtVl9VeeGjU0AqtsbD2+YIxq3kg5rB2YtaOvsADBq5OSJE2oqytqoqutfT21r128AMKDUNH/iwZVoXAaodkB1qbMJpXJXqX1efcPk0SMqG2jtkOED2hsbNwBAVVXrpGkTKmKADEOr0bZ5PcCljZuPnjBzwtChlXU4YPDImrau1zYBwKABI6ZMGVQRZrJq1PcrNW9qAkBb1x7ecMC4wRUQH6DqgXX9yk1ha3sHMH3giBnjxvX5GgCguq7foO7mDRsBhO72tZOm7z+wuqIOB9TUcut6oKtzMw4e0zB1xOi+X2MQ1Q5tGNi5fu1GAMhC1bR9K9G4YBDVoaqtGUDn5tfQMG3mqKHViZu344H2GzS8Dhta1m4GMJaq92+Y1udAAYCzflTHpS3NALq3NjU3TD9oZF2/Pnt8vYEt+9hidnoMN92kVWdFvBXWK4iImOT6P31o9435TQCqnTB5zoTKnp10VGUef82kdx/+NwxpLwEtNUrqkeqWbQCDSfd4LSPPT+oKq6X36QKmc3N8pvoZFM8Cb3rgDfN0yytffOShb/20/bSzq+74LU9tCHXD+t396Ngvff24UX2Elzfe/eWvrp55RAicrZ6UOEoAACAASURBVHginHQS/t+1NR8557AjZ+/bu721fvEfHn7q/GXjr5+zbOHTBx4+9tUnqfrP4eh7PrZvb2+FLd2v3nnhN7ccczyaGmn96vD24+gnNwz53MUL5kwY3Ps6bbzjnAdXNq0add5BK2549IDTp7xwcWf9MXVHfemkSb2+Fpq2vnDPxd9uOfEj2TNPcWgPh8yruv7Xwy+47J379hHQbn3kyu+uwLDuKfv1u+t35VM/xjfc2H/+/5j9vgWH9B5E3bLi+cf/9M4Hp/34oGVPvjR1eE17Tf2Wr6475uEzZ9f1chM6d2PjHZd9e/24mRg2lB65N5x8Ml1zw4ATPnb0gsPG9u4Iblzy/UcX//cTU74/d9l1T09//7AN1w0Kna1v+/nHZ/T6Grdh7Z8v/o9Nc45EqZOeWxpOOIF+/Iu6M8592xH71feqmLqW/+pnjy97pfNtx/e7+efhIyeH+x7oN3jCpLPOOKb34GvHuvalv5x3z9QLpz3Pm0esbRl02NSVZ71wzO0fO3Bmfa9WUMs9P/7RyxtDmDc/u/WGcMopWPjHmv3mHXrK+2b07nq2rLzjyd+cs2j69Qes+O0rY+aVw/LxTbe98vb7z5iN3twJDljx03++e+iY2q0nDW297dnpp8558uznD/3MsYeeddB2Lxd3KL+y6PeLbr6j/UNnZTf9nI97W1jTWPVK8+jzL3znMPR2z2O5A3+99ri7xxw9Yt1h1bzo5YYPHfj0qSve8h/vPfif9u3zItbXDWaddnoIgWxDjRPB5ocmGcgkpAyXoHH3TT4UQfn37OkWsEsw5QMfTkusOHgWgCfl9bgbl0Pe05UTanZujXpex7F7LNVs5KjpR511Ng7bb8nCkYOHTJvwvvl1E6diSB/5DATUzfrgabP3nbjmnmWr2teOP3T+uKqMx40b0qc3MHj6gYdO+O70/vO6nrl208wRBx3y2dHd87f25evSgKr6eaec1X/OlKdvuL+rMzQcceTIfrXdk0b0vYUxbP/Tjphdd0D3Pp3PrmvY/8BDD/hKXVbb2adzTXW1Yw4/4xPV82Y88cyaDDTh2GNHDBxSGjOoz0hhzZR3njRhxJDNa1uWN48ec+jB4+sGVtXWD+gz9jNgzD6zj7983KgFpecf6ZhUPW7SR2dtHbxuRG3vN7pSFermvO8j1RNHPf/Uqg3NYybMPWxMv9rSyAnD+iTFoEkL5gyfM2XIId3Lv7Nx2uTph180qatxU99hh/4YNvfk0/vvN2H5HU+0tI5tmPeW0VlNd8PYur74td+4+e8YMrdUGjLs8R+Prp99wPgpE2u3hqrebREA1UP6T333N0aMf0/3ul+9OLpz/Py3v3XD5fuOGNvHrd1A7cy3vXdWbXVjiVeuGzX+kIPHjRzFGDikz6B07cgD9nvPd/cZd1hp5XXdY4cPm/3puVsPaRyBmt5xSoSxx55z/OjJHX/pXL+6qXzEIW+d9q0ZgyeM6DOrNBsxfe6RH5+YzZq25CejBkycMeHYI4a+uC4M6nVDF0BWjYbjLjph7CFdd76wpq25/5Fzj5zxnWlDD9hnt27tceCYhMyW7pLs4IrXG8pBqwiByTbPYtEMr0VfQAF5CIFNT8b7H9luYtaYCrQciyrSYLo15+mSMqhvA8eUeUrKuRA2PXD7Gz6t9pUPr6yuHzFy2j4VbFlG4JbVr659tW3YETMqvB7ZzIwy1i9b1NIwafTwCRXsIUYoNz73ctfmMGLetAoNeeuwc8vaZx5rnfyWcUNra9PP+4TuV5atCuXq+oMm7dRA0bVx/eqn1w0+cvaoKq+101uP8euNy5Zsrh84bMzMvvd9UtjY+GrzC1tGHDXLnKoKO+RS09IHtow9aOSoEUMqeC1CWLfqldbGjvojZgyp6HlvuHPziw++POCwGaMG1fTbqR63PLdiU/+W2oZD98l6NNlrhy1bm9Y+2jj0rbNH1lRV8FrydfPyxZsGNwwe3zCysgHqm52vrV/f/Ncw9eiJGqOouMPWVQ+8VDWjYeTooTunNttXv9rU8RJNOWpCv55NvvEw89TTLHHFspGTNGU9khsCZZlXf2SrRy/ORRxt4ekWsA1MPulku3rZDpeJAg7MiaaNjqrGU/KJVO/94mVx41aSpzJzdo0v/cvdoXS9s51ysF+Plb1TbfjDu02m7GKPf8P4dq3H3U6K3SrWe/S4Z2Pm9QhS7SQpdu8Gbk/Y75RTgZiGrDeeymFIvwGGcqanXDbOgbMsXk4uvz9z/XVv3lQK2BNh8kkfJrvGQCFJQ1Z/lxPhkIiJGJxiObtG0SaMLZJZgvHM+e6DnVu7r8fQdq3D3YaUXezxbxjfrvW420nxJoQC9xLMvB76bydJsUeEZeOZIJZ7cxF9ESIgLQ+ZbMLJyySpyz027QooAIDmOSU5UpyUaJBcZdWnGWLAGHmla4+7swwGEIK3TnK57u6qkVFAAQUUsMsg9wXF6hZyfsOL5SaeiF00FG+5l3/0AoQCCtgWYvITAIBAWc6dtQQ9u7yZyJP1sm0b8nwC8iZ9w6NgwQIKKGBvgFS/glxExmxS9isNEL+Saw9gPrEmMBdQQA/w2HJi1al3atdKuir1ApGUZUgLTnD6m//hGfRkxamo0L0FFFDAHg+UFFUOGjomRO/VIsl28y4zW3lIhmvcIq4X4dVH//hCJbcM/SOBmWyA8UzMyBMHN7CkCwDq+Ka1ly3nihLzLhao8oO+BRsWUEABewdoyQLTqQx2l9dCgrr1BsjZIUQdTICnW/1jwyt3Xfi7ZS+3Ln/46fWrn7rtood2dMvQPwzE0ivCV2UOUlfFD6fJdmxaiUW1MufCyxySIAzUqeUkpdlv1S2ggAIK2JPBE6NISkxlGWC+BFnMWTwTEDNrVrNvqYEQ3twU7D0IRs39VN19p33gy1eed9JHfkcfPrjC45h/x2A5Ab7xn1muvJl2FGMt+X2N5Cy/nPJliSJzTGJOT+jaY7tpYgUUUEABuwC202ZBY9L6QXJMI2aKAqZ8uczIxfqSfbt/eKiqHliFjraOTpRLDfuMKSwRNebMakudUXFyLZPAT+zqazlP1073eg60ptmr5SefZmnCVgEFFFDAHgmePpqKK78iPHEbRBkTSEpC+u1sXlm3SGAG0Lj4G01H3nj7ty74zsIbZ63+5qP/8OFlEIKfQ2POpbmb4oTkI2ekAWKNr1C/9EnAQtIZcZnJ3WXzjqnwcQsooIA9Hpg5i3X4SEJ3ek5XXNkQYuFl82gz9V08HZU5oNjTBdDwzssbgJdbDzpg1KQZ77/8zR7Omw+euqyhkZRHLEdATwspF+qtfWCOSldvtpLocciVHZUwDfSobqF3CyiggD0d2LxYEYys9/SxxO0oxpBJCjWLGGU74kGWzlJIPIeJbznxzR7CngOkKU5av0I+I4A56I2Q6blw08DIZS9roRYI08XDQumpIXuxMP0KKKCAPRcIxF7x0R2R/I6tJ74AfhgSmaSeJscmiwIZBWwP7GSQhJatvkV69FZPncnOLkUXNsletqoZfqAIYPNxOV/JqoACCihgDwb3Q9I0FQsvZ5nliRIA4hBL+Il/bG5uoXAL2AFYWl7PjAGyzCdJi6+y8HKSSJCe07WWYgkr82m1hBViRlUBBRRQwJ4KyVnb6H9w0LwoObBrdR/zdxCBKSMGI6OglwAWIq+A7YGZbklJUWW2EFyT+rHbqJ5TT9cKX7B/3eOWoULrFlBAAXsBxANCVldZ9thCyG2OxYvr5eBHYClQJUo508uJ3qxJFLAHA5nrqkFm/ZQ5+ZxhVxWQWnniCcdWRCcj/cDv5kXMPsiIOeyeeRVQQAEF7BpwYKs3YMWnMgLZzUKatuyRQFYBGIK7xZImU3i6BewQNACsbMZ2G1CWxYsL3F9Nymg4EMCaR8DWnu51EGLYWf8uoIACCthDwZJc1NOVMsuh7Je5WGVmk3AeSLY7TK22RuBiX7eAbcHvEIo+qd2NC6SXbcjeLMB6TSRzUpGKAxPp9jAlFa3UVPQTSX7/ZAEFFFDAngn5jbDkanBVtklysv+rBZg9nbQQcwXsCISPTGNyCHZAyA7VxsqNMUVP/03O6SL6w6x50HYw3KLOFJVvAQUUUMAeDZRlsDKQ2PHxC/b68pwKTd2fK4pjFLBdiBfMIx4ZEp/Vflh9SLvZT37PXe3nIem4kZveWx83QgoooIAC9lxQHRo8emyZVPK5/5qc97CDkfK+3fdXZC8XsD3wApCIahfk6tSzBJzFzKGljJLayxmR10hzVzg9Ie41mAvTr4ACCtiDwdWr/OWf+5Uv9rdJTFJxlxNtVr6qgAJ6ABEx2a17eu7HzDPL0RPt6ieANGqS7umq+Ud6ZMgCMub0ZtYSA8Dwo46PPjMhsnUS5o4FTLdR034zL0zHewQ8eZLy/B7bi6kNdnzdjknlP/ZtGQaDM8r8CDJRHIPO21LLNBWc8r/Awk5aQsSHoK1ogyDW8tXWPoOBLItn7c3iZsMWOB6ntr58JAlymUGZPRTirY1GV5ZT/3qXFMeBxU15mQZlCIrruN2fRXZxXEuVAJudH2nM0car5XnCQCQn+Ydyu5qURgNlFAITKEg9eUkZhd5mmucTJj0LRyHEPAVNhMkXK5Xqa0p/uaktvRGLIecvCdF50cHnBLTea5nMMlbulQpHaWqNTJxDYChBtJmMLAfH+EDOFZDR2Rmsx+qwTcekLZ0FZaQhqiwWcGDbhGRwlmWwyFSa/qOslpGFvHo2n/6SW62OPPbKdnA2i+2HXPx2+7HclLNtTHlaI6uSsnlxeSTv6iiFxMI/gkEnIsc2Y2RPagFJIjP8llILBuYRoUzFmocaMTj9w6e4uNBjROnQklMe2i/butO5stLL5Uqi6Tntn5IfyXXokXdMKHHgLFkvnLagE87xFbtwYb2QLikHEqUhxYuViDJwj+c5vpRKY2WPoAOwp6KI9xrXlAwVgJfIdvkSRXuP0QtpoDLQxkl+6EvqnvhbIaE1LGvOfMacEebiMcexji5fE1HnIIRtngQ8euw0FlnHQW7aVeHDPe7TRX6dsAZXGGAO4GDSys4ewWVIwoPJNZXuXfM2bWtvUTsYyXP95x6OVzdYs87hTNsUb7Mv9WG1Jpxn2AbAzn8sZwmiMpYV63vbqXxHADOEy0KQv7xPE/UqIX2txh12gJkYpMVgCQEIAAPBcsaZOchqDVqgM2iHJBMOgcvlwAEhMAcOgcEIZeYgxKdkjnobhtIyKJ50trqwhXLkv2sNM6Wpa2+bpVloCMi8KdiyQ5Q6RLBlpSpYB8wBzBw4lIOKRm888jTp/ylKE2euaAoESzdlbcFlhPMRZdEUVQUJa0WXifYRRQZp+Ef6s0CQLWa24wJs7Oc8Gwv55gsvmMixNiMHe485hk+QSVUucuUSOpX1mZt7hBCCmVyR1/O+nVvmDIDJr7VLHmYjuU2Ioz1kp1qNLZjtRKzVWwTihMyWdQwbO8bDsn5WQhS5LxrVEjYsOOWEmVVnO/V1mmyLS9WzsAFz3kzPyBmWEpTrw06llAddmemxEPQYDAfmYJrNRRFD6cEAk0QjnapZlY8tUl7na/wsyNO56kkn8Yjs7ho51xTVp8kOMMAhWH42K7s67RIDBQAj0+Ugg+McAxKYQkjEr3pWurA4UorVYmRpxLU0k0kWVh5KlnvEiiEvyxltytGu0YMqYPmKjM1cf6Ry3jiYVQUmqzFKA2aRooZCwwADmecQ+zu6gl3/KYMzU+bizmRdQCjH4suK+jS8nBDBrDbVESI7c16FPk7J2XGntbZBkiTtoj+1ccni2IgszjmvpaeGpszO2MH+F79D4tfGZS+jV+Q6GcxRS0Qk3FdRPhVmFXHgEsTVp66T5GWAyWkd177Z58pVJk7YJF6CQ/iLGWVK6kwQ6Hwk/BxECdtJ6WReifnm7qBOgJydPQBBFNEFl1xgo2TEnso4Nj71mEIIgGLLeN7YSd9OSARS5SgbIaZKjCIqi3VpZVZynmwM/pdpQbcV3M1Supr0MNMn2mc20+hPGP+KGWNsRxmMZLIpmAZCbFUqfTlAZa2Lb1LimuNrrCWNZ4R4AoCFJmafRN1gK1lFjmtM9JhRnLeRlEAEWSwmFMhFIbtd78RM7yCT5zOTlOVEeAlz2kLTqIPwWqa/2s9o7riCUaecnbNcuKhGtAt/GBl8tUZLTLSPimOz69nJFeWMP80BwWyRRJQ5HkC2ZAIbQxuuElMhmtb6hyk2Qb4tM13j8pUsJRJhEtgMv9QMJXlS2TsoYlPLU1WBSw9DryruYCg0oRnLehCgosySwxK5LswUVZx+Kg+xGnAx70ysYiszEs0qlYG2qRkFsC1KE9Qsiwkp2cnMNSGVGtCZGc3WCgCRdXChk6ljEO+xIMh0/GSr66Ae7qzIXjPWTMWS2YUJyGoxtklKgTIzCJolYFJXewUR+ReCksiQie6TIfTL9ZcMUrAQymyL2w8cWVdKDCIoISk2Ic/bL1FdwX+XxkwF6rc+tjwe4AJG5QozzMMAQyO6sW9isMZ5GRllHCNGAIgyu1cEEjA0s0H/1NGIB2b8xxJU8hnDzSSAgBCQEXnemTKWa5vYg/lYNl8yr0hVtwUqY9OqodVp1p5jENvZPMWWhxvM9IdykhssIYoagChss31lwzT66BiDdWyM5RI88k4UK4mNw84BqiaziBcfaGRi1yMp7lJZkbxtYzWBqPwpVISr1rzyRa6t1E5wRmQrZm6jYI/w+1jZ5CXyc6Go9RPTIuJL5LorVI5airyRrEokMjMYJvqJ3LcQ9o5TkGRdo4vagWBV7mxIdBkcdQbgPSS8I2tFxSJsuelwQyq6iQMjUxmaxbVmaEw1oiAwKH1s34sT2pDZTEwk2woMsv0FC2YmUp6dVzkEtfzIhD7yEhC6lxFJ5vsUKafZj5zggjInC+nK8E07jbdLd5mROIutZlmMPYZgjldqANmIDBFxqVPCOBpu0X0GJigmXY7FVWQtkzOihWeJFcPOyaptncM8vK9SwUwzVqHlOgLGVcjrLiKpoaQx5wSPBNO1UFGAKGMtCKFYCLbtpaERE/uIr7CbCIltYXo+/YRj2IPU54VZA2RjBkVWlNkFZw4xIHyzyIQDvE21AShY2bN0FTD7ys2Flz0aoyQ0j94ET6oXc6sKxr6USjH/Pbfd6tRMjE0Ya8rnPZru2SGrJLE5mGRJZKoT1fvkeOAYoRzcemJzanWmbGyUGiBqx0bGS8eYmW3sSxaKd4ubMMCgxGfNmZhedFP0KptPYKlx5MXZDacJQeKU4WN3loqGs8ntkJDCh6bBACN30qoZ1KxWH4IYhoJ22xc2brMlaWgUQRmYxRlOeMGCNuyGHLmkSsQvc3oxlk0P5haYck4Vs71O/lzKe0blGOpMMWhtkK0lyiizC6jVeMiUZx35agUmJoHjVk0p75T8L8GmydkcaFMqzc0Z0rmL5JTt/AxZlQoD4bOoPZVcjgEdEBlvACyB8x5DFu2VqAdrPygfevRI98uhg2TbWDX/hs1YdNHDALLMVKWILLdVZPsk4tRxS+qusVcRAKC7y/4gm8A1GWKoNR+Ig6j2yBwu6BB1iM5N/2W9vp7NhZXnzLMT286+cT8+EiBlLBN3JuiNlzIdgPOAyRCTjZHBEp3ouE34LhXOIq5sAVnvOi1SA4Qzs4YFV7azptaVSkVhWzXkVNDBvYlISpVjEPvMtKnahXlcaCfaRTI8o51RMIQQVPQlX0E7pnSEKR8Aun3m606YPolKOMcj2klORPhk4IvAjZ60llkCRJTpA4xgSj1pQ4nloj45MqTcSe57+aMwgpBNL0Gk4yKi1DkTTll7QfWH/RlC+lX8f6p3faEgZURTNYI4EeyRroEV0cqNuebIpVGyZuKshcEDp/3IJxy4bL2YOssFVpSBQnDNpNhil5qMIDuvQiIduf8rSyjKWG+Zol+bgi6TwGCtPQZDiJkG5AK4B0IB2ShO/tRXGGwFVKwHJbJxqq5OleZkSy0n+Jg5S5I9ojJIeIQVk+TbkXDNHcmtEMVxUhXc8SBPZrY7JQOS4K30RM6jZuUk+HAwgS7tBJgFY/rDXMeeNPCApKIbMfggHGk4AcgynqLWNTFhHAgSFagKzC0VR2XyLiUziRtLybwi9tj4XyNsyuBZVSZrglW9xQAPM2dVmRPC5aOlZYGyDHYnj+gVZUhrIMVTnCwDeoUo7BaCKBzEHgiuyWKAnY1AykKURa1pBlBEkvIDUYzHAkRk6Q3OYW7tCHVt39RGA9snSulNhhTnPdO5UXrDVAuRV4HWmXIItlSVilwOLt/krSxxAY15na7WhQ0zMVYsQyTR5/Y266XppByqCMxsibGuTpMhISmulOhYytsR4guzyA2AIfdMUEzXcqps/3d3m1REEGVZmvsLIIbuhV72vSasxOVA+rAMwPaqJEWOcj2S5ki6yrH21dpWZhaRFXIZHtpRFg02ilQWj4QjNW1eMpucp2tkS/089MCaSRg4kRQztrkdH4uDATRuamwS8RlHlmLY/zSBzzolH4wa1Ml+HqfKMA6AOZ1Y6urpnG1Ccezuz7Gpc3nRgloc1JMFoAlKsUcbOqlJ6KadqRqWrCnNgBI2JfjWPGBusVBYtyvsW04RJN4DANs4UU1lBk9cqK4wvBdzBDmwrH/yKXiSQmJ6u5bV/jMT5Gprx9ElO046ehPWrBvzLi6MEY2dkPldziaswJ4bAhuMfpPThTYn1o3SvHXGbF4LAHPSjVvUBnZNTD4AZks4TCSEZTKbZkqoYg2Y9Nf+TRpkmX6hqpRtiZq8MVzBJXbClQzEBG8OzGWzUZzoTm2K00zUleM1+VzUTWBm8pHKvLKMIi+Re3kxMBhREZlEmdAlgz1phHOZSbLfQTZ3R5StR1JlANOpMjTmnMGTkAXJ+LU/14OpsE328wAzh0S3egoXw0jjKDOSpSraZuFTc80r+NehU+5oQCIJneviInVcIJQt/0H2CxP/xJlZGhBpJMMIqoESprB4UmxbNVWkB6efxSF4bySGsKhh0khTtKoIZgfbPGx7SNe15VqbWo0xmISS6qLC31VV7KvYRIyOMVhvFHkIUDPC1j1blNuvqXVxIbsWZNQFEmqIxlHBSBBbPlH5RugkjZmdPsrYLlCi9Jb1nypddikSV3ASScvRAVDuIWNf379LTlykaiKLY8j/9MWZ/BIlSRRrCc95A6y6gXYwSnf5CHY4JK+9cvrS3pY/7RWoMjCjVVUMM4AkVcLGFKcRiafqyWnGynomjVk/Cp6QJR0FcOLTlZlAYsN6oIMZYMl+Zi4zy1dly8OG2IYMMT3ViHBnj+MoHR+mRqFBDqSqxeIHUZsHz+2K+frEefQ6VwgGxPmgLPJ40PxsqJTzAEiqaXRb3fQZEiFrYxMdmdNVydp2uRhVro7SGM2MFVucyEWlCJl4dSFEizfaMZT2pR2ZeNX5mjJKNmJTfaBGVpaZWOsxC9GF6Zx14StZ3UowS6gnOeKqc+VtuMpUq7JlEsLmhuDujpvAEtzLMmMTVgGfWNBuEkksmhUJ0TpTMy5EFRLKjMhFyTqIGE1wlSnKzdGx5xPFESy515deErGkULaDNb7mLNIWlycz1MNJ9rNVTXNixJtLzbmCB/JFsvAZIN1/pUTFmG/LrhXYZqTr1z1r+DpyVZpKlKzKlqfzSeptWk1+c5CIg+npaP35o5FpKJEGzCr3zDzRqSkbRBHodAGAcimYQabBefh7thNjkaAo2GH6UfmdVDdz4BD0GIZvg6o4K8P5Ri1M4ZNEFoFhh1XyrKVbJwh+IIXi6SMZGyeUdD2pRLNzXFED2h6iSmMghGRPV6IuJphgb/ZQklEx59aAk8cNWErcaiEh8q5qTnTnNK4PIP08p/ATuybPJWxb7iYDk6Ci2ZJJOq40HHwNRTAsRvtdnoyNM2I7IYjiCUEPDiSsqL0z+4I2wY64A2pEcbR6iJUBOemlrjOR6nwVNhyQxOF0G3Y7ZmREuFBBV1r+QKcQt4cD18OsEc4LqheZdLPH7A9mf56MLSNT+cIy9RalNCX4SjnACAFTbWQaRsU3M+SguiqazJ1FZo4ngDnVnwAk3ML2i7oUqUEWlYd+G2NWEamEHLZjGNtiFK6X2Loz7ZxytClQV2KJ4elec+RN7ZtSWaxDNL5yHgPATFkGZWAi0TdpijU8kCMKI8myATlaXIvDsKsIMoT7xLXrqDZ9c9r4jRm+KeoTZQ9Kw/FM6bpJRIV52ITMg+pOh4R5AJDFOqFxZnWgiRAjbcp8bM5lrhny5ZOyJcDJOYLAemzI9QbclY8HVUX+sg+LGYFV/dtOjSpmUry5rI86Ao4rp1BkVEephpziy6aBEgYncu5MVQiZojLn3znfPQUkgtHn7KdjjdVVyOTP3hCRHfhw0rumjEqDTFmmikZVS8L6suvMdllyDJV7b6Y+tTk26ZrYUTJ3lWAmG2VB5aRpMNxnlsQQWcRGIgPNjBwmJsyrzpWBjCQ1HPpH5CdcdFSWEW49eAts1FA5Ej0IpLmacRZkllT8JBFJPZ1YnYBpKQBWGDoKBBtkOjadRFKF1WwdrajASTUPP0nFxoDxnIlyMyeIQlyKlPYfF1/ypow00QDs85ARRhMvMnSyXpzHTSTlbqBgp52NNpWWea5m5YP8AH0ibq3BDGqxLwHmciBfyaRCSsacKCSVLG6uGdVsOjYYXcn5UThWxMxMacRRp8TVQgCk5njCxgRyL1nHmbQsh57VQE6TPBHfkFmqvxSM11zuuCyOCoNSuZqyrs5Nr7sJFmt2febki9xA5G3rytL/mVBRASIqJJ5udB9K2CMeE3L8iiIVYsnmbgxgyiC1JeIkVQIm2cXjj6aSdakkz1IUpasXIjqIKJaD8YVsyHH7g1WtJSRzzgVnWcZq+BJbrp7xA9v0VYlHmWHKwRsVQ0QtxYT6cK5whWWKkxR9ZtnYgJ2N2c7Cs8UgkPC8CoOtSAAABnJJREFU4steyxPIF4YLDD92aL04gyQb1YIK1Xkul03OmZInongKNonRRcONTCZEHeaSIkWNzTq6oMawIX3ABU4AEWX9NEcvlM1oVtdCkpjcAdBGg+kRpRoZjs3HNaK7RQpA/YEQgnJAogcVbwwjXmJABLAoSna+sclaipVxeY5WjsQsS4QYR+0YGS0oevPFMWxi8lC0BOLX2pl6XTDBo5QT9BnL21um/xhITQN9w72YnspV2diFNVhyhQyHqkjsyDmzh5h67re5QU1eVyrv1LjOSJ8xmwriOvg6TLQIb2uIufvrIrCHCk71dJpH5jMiZ2y3BOXr5Jh13LNkjhyS0sp1NmzY7HZUYq5wEnykdLyKW7P7gjC6WkiZCVpWzy61Qty61xbMPmPbFFNUW6hYzB8lOtlK9NZSwcS5EL2N0qRsBpCJHjME4BhnOJoim+dRpnrN1bjWeYsbVE58U69JI5REAxlE8ECTvxFJGyntCgIAMiLyolLw3DrJ+zUhb/JeaJoYAGSOS8qlduhZGSDRvhrlc6/OmB1OPobztg1SOg5mVnDgNAfa1h25QGcXmsZz0HpShj/SE9LBeZ2MGG53xEb0dBAzyuWY42N4YMeAjQZqKJlflWVwI9LlMdt5kgSf2pQKdeNOYQfXWPa28BdbBgTc8onLm3I/KcGyG1xuRsMXLEQcqfQ2GcWA5ejCkSwa14egCIj2ilk8UlnFCW42sL1EADjLaYZU4ZuvFUkEm0fMRSANz6bcBWYOJYYejE5sA5uaKmyyuLN1rl0ZC0U5rEIkLihhFbK9DJu2S1GlpxE+2gfG7JJjk85QFVeOmwGWIzDupyVjhCt01qZsJIYH5MPLLiQ4+c8FYZSFBOdNGQf5TPwbNvZIFhyzz9sElGJHl4Q37HaGxNaJIosY/nzYMPVI5jTbKP2nuiTQZWKbOL68k4WKRIaYaYO4GkXBpLgmzmXoCTeYBrcPlMuSnbEQNKGC4staZsWUMxIgX8PCRRKP8rR7wGsUEBBPIpL3p+TgdHrCFplFbD067KECd+MMG/FFXV2+ztQ0SU0cEKiKQFb/IdIiGYoJemY5GGfqRBcQHG3WapQP0d9KVJ6FVfVh8h6BZKgwy4hVdWUWMBDZrTrXODL5nHVEspFh1gMnrSOxCdiUoVPTscpmCNm5W5up0ZFINAQiWWxBuQlFMcxjjwCe9mwdwjUx1CORMXMeOXkprjF5eAKqsq1tBtqucLBNRz9JDPakcSU6KKZsuq1s9pmmzpEF3yI2Ih/q5hTZ4RydRBZ1hjKikIds70UFsiWBywoKklWgUza7LILqGDfmYcSSmbKct+kZF4GkW8NmncjzaDFAtQ5bg8qQgQ0lcZPYJIFiO8uySAekhJPFoB9YpDpuhbDtpsfxmhhi70MNBc1CCIYGn5CTxgIKnGgcNqFnC8C2+L0FWZu+ImwOHF9WOvtSs3Em7OmQ1Is1Jg8hbYoEPyYQNX/TbNGUymqWRfbQV5R7M4oLzbHn4+eYbBuH4/IzLj39CxZqTTxdNvXjVpjEIvzwFTsyHdUc7X2zCaJ+crNOlqAszNzYkQxWP2OzE/Nq1fvUxykBLYbhQofMDmJjXSQsZuo37ZYtIwzuzDlDRbomw45duXHpJwcAkJ9fUt0DW8ZWLAamaiQjwHSwyVXyV50ybikluspUIpk+tsE6jUCSI5MKCEQVG9j2kwAT1qCkIWbPU3DBltLF/ByrrZF2ZEtZ2ZsNS8o2/oCSUTBldhibHQW4wRXpItabtW+ziro/ki8kQ3bm8eWo1ZFjwifi2NRWMx4WrEokUx7T2bIbi8aOwiHyGvsY2YRjRCADdnjajCfXnBI6ixFyo6tUYO4JNlLOW9baatTHMhDTW2lpHtfHKZkV7UmHjn+bccJr2rhVmIkMawwVjVt/20cEUty4xZA8bRIc+SCWsEZeiHAwW4Kgjovl7sm35qSLXQOYECejF4wSLsqMOC6+9S1T+ExGWYqv5mZpuscGSy6eHH+KektZjlSJEocBcFZF+pXuOyZSDvC5A/D8a1f7Mt/gvabnqn2QhkZp0OupmaI1GsW17hZSQgjrGAw5GElmV6kfyFa/yOevs4prJyoX13MukfLGYg8ThIhC8GovcGkc48lZPENsklPoK+IybvaqDRFJZIIo00BoD6s6srfbiPlPANCaNWsArFy5EgUUUEABBRRQwBsJ/x9am5XLGEoKfQAAAABJRU5ErkJggg==)"
      ],
      "metadata": {
        "id": "YX54pLGYMNSB"
      }
    },
    {
      "cell_type": "code",
      "source": [
        "for i in range(0,5):\n",
        "  for j in range(0,i+1): #pattern printing left angled\n",
        "    print(\"*\",end=\" \")\n",
        "  print()"
      ],
      "metadata": {
        "colab": {
          "base_uri": "https://localhost:8080/"
        },
        "id": "iwIXBTz4MsRU",
        "outputId": "4fef2ce3-c338-440c-99fc-2400d7c27c29"
      },
      "execution_count": null,
      "outputs": [
        {
          "output_type": "stream",
          "name": "stdout",
          "text": [
            "* \n",
            "* * \n",
            "* * * \n",
            "* * * * \n",
            "* * * * * \n"
          ]
        }
      ]
    },
    {
      "cell_type": "code",
      "source": [
        "n = 5\n",
        "for i in range(5):\n",
        "    for j in range(1, n - i): #pattern printing right angled\n",
        "        print(\" \", end=\" \")\n",
        "    for k in range(0, i + 1):\n",
        "        print(\"*\", end=\" \")\n",
        "    print()"
      ],
      "metadata": {
        "colab": {
          "base_uri": "https://localhost:8080/"
        },
        "id": "Fi4NorN2Tr5c",
        "outputId": "4a6a2dae-5c74-4629-c272-805aec1500c7"
      },
      "execution_count": null,
      "outputs": [
        {
          "output_type": "stream",
          "name": "stdout",
          "text": [
            "        * \n",
            "      * * \n",
            "    * * * \n",
            "  * * * * \n",
            "* * * * * \n"
          ]
        }
      ]
    },
    {
      "cell_type": "code",
      "source": [
        "n=int(input(\"enter rows:\")) #pattern printing pyramid\n",
        "for i in range(0,n):\n",
        "  print(\" \"*(n-i-1)+\"*\"*(1+2*i))"
      ],
      "metadata": {
        "colab": {
          "base_uri": "https://localhost:8080/"
        },
        "id": "YG-FmqDFQZwj",
        "outputId": "6fcfbb40-55bf-48b2-ff38-b05bc9f04da8"
      },
      "execution_count": null,
      "outputs": [
        {
          "output_type": "stream",
          "name": "stdout",
          "text": [
            "enter rows:5\n",
            "    *\n",
            "   ***\n",
            "  *****\n",
            " *******\n",
            "*********\n"
          ]
        }
      ]
    },
    {
      "cell_type": "code",
      "source": [
        "for i in range(6,0,-1):\n",
        "  for j in range(0,i-1): #pattern printing decreasing triangle\n",
        "    print(\"*\",end=\" \")\n",
        "  print()"
      ],
      "metadata": {
        "colab": {
          "base_uri": "https://localhost:8080/"
        },
        "id": "4JnURD5YYdk0",
        "outputId": "2d708481-76dc-4dbf-9180-811973fbcfa5"
      },
      "execution_count": null,
      "outputs": [
        {
          "output_type": "stream",
          "name": "stdout",
          "text": [
            "* * * * * \n",
            "* * * * \n",
            "* * * \n",
            "* * \n",
            "* \n",
            "\n"
          ]
        }
      ]
    },
    {
      "cell_type": "code",
      "source": [
        "for i in range(0,5):\n",
        "  for j in range(0,5):      #square pattern\n",
        "    print(\"#\",end=\" \")\n",
        "  print()"
      ],
      "metadata": {
        "colab": {
          "base_uri": "https://localhost:8080/"
        },
        "id": "riZKlNQOZQRu",
        "outputId": "e791598b-691e-46df-b2b3-c9e56a567288"
      },
      "execution_count": null,
      "outputs": [
        {
          "output_type": "stream",
          "name": "stdout",
          "text": [
            "# # # # # \n",
            "# # # # # \n",
            "# # # # # \n",
            "# # # # # \n",
            "# # # # # \n"
          ]
        }
      ]
    },
    {
      "cell_type": "code",
      "source": [
        "for i in range(0,5):\n",
        "  for j in range(0,5):      #square pattern\n",
        "    print(\"$\",end=\" \")\n",
        "  print()"
      ],
      "metadata": {
        "colab": {
          "base_uri": "https://localhost:8080/"
        },
        "id": "pZTJT1m0aJJH",
        "outputId": "2a1ad948-28a4-4e4e-8878-0116229c9c27"
      },
      "execution_count": null,
      "outputs": [
        {
          "output_type": "stream",
          "name": "stdout",
          "text": [
            "$ $ $ $ $ \n",
            "$ $ $ $ $ \n",
            "$ $ $ $ $ \n",
            "$ $ $ $ $ \n",
            "$ $ $ $ $ \n"
          ]
        }
      ]
    },
    {
      "cell_type": "code",
      "source": [
        "for i in range(0,5):\n",
        "  for j in range(0,5):      #square pattern\n",
        "    print(\"&\",end=\" \")\n",
        "  print()"
      ],
      "metadata": {
        "colab": {
          "base_uri": "https://localhost:8080/"
        },
        "id": "R_G2BVHKar9u",
        "outputId": "e1a733ec-6b32-42b8-a02e-9efb2b5dbc27"
      },
      "execution_count": null,
      "outputs": [
        {
          "output_type": "stream",
          "name": "stdout",
          "text": [
            "& & & & & \n",
            "& & & & & \n",
            "& & & & & \n",
            "& & & & & \n",
            "& & & & & \n"
          ]
        }
      ]
    },
    {
      "cell_type": "code",
      "source": [
        "n=int(input(\"enter rows:\")) #reverse pyramid\n",
        "for i in range(n-1,-1,-1):\n",
        "  print(\" \"*(n-i-1)+\"*\"*(1+2*i))"
      ],
      "metadata": {
        "id": "LbB7_8GVeIcT",
        "colab": {
          "base_uri": "https://localhost:8080/"
        },
        "outputId": "ead65ed6-fe91-4597-9e56-046e62e9a42e"
      },
      "execution_count": null,
      "outputs": [
        {
          "output_type": "stream",
          "name": "stdout",
          "text": [
            "enter rows:5\n",
            "*********\n",
            " *******\n",
            "  *****\n",
            "   ***\n",
            "    *\n"
          ]
        }
      ]
    },
    {
      "cell_type": "code",
      "source": [
        "n=int(input(\"enter rows:\")) #diamond pyramid\n",
        "n=n//2\n",
        "for i in range(0,n):\n",
        "  print(\" \"*(n-i-1)+\"*\"*(1+2*i))\n",
        "for i in range(n-1,-1,-1):\n",
        "  print(\" \"*(n-i-1)+\"*\"*(1+2*i))"
      ],
      "metadata": {
        "colab": {
          "base_uri": "https://localhost:8080/"
        },
        "id": "Rf3OWl_uRcx2",
        "outputId": "18302b53-6cea-42e3-b37f-776f409124c8"
      },
      "execution_count": null,
      "outputs": [
        {
          "output_type": "stream",
          "name": "stdout",
          "text": [
            "enter rows:8\n",
            "   *\n",
            "  ***\n",
            " *****\n",
            "*******\n",
            "*******\n",
            " *****\n",
            "  ***\n",
            "   *\n"
          ]
        }
      ]
    },
    {
      "cell_type": "code",
      "source": [
        "n=int(input(\"enter rows:\"))  #double hill\n",
        "for i in range(0,n):\n",
        "  print(\" \"*(n-i-1)+\"*\"*(1+2*i)+\"  \"*(n-i-1)+\"*\"*(1+2*i))\n"
      ],
      "metadata": {
        "colab": {
          "base_uri": "https://localhost:8080/"
        },
        "id": "7pwhFEJCSHFv",
        "outputId": "7b6b9786-d0c5-4136-e5c1-c64b830638b5"
      },
      "execution_count": null,
      "outputs": [
        {
          "output_type": "stream",
          "name": "stdout",
          "text": [
            "enter rows:5\n",
            "    *        *\n",
            "   ***      ***\n",
            "  *****    *****\n",
            " *******  *******\n",
            "******************\n"
          ]
        }
      ]
    },
    {
      "cell_type": "code",
      "source": [
        "n=int(input(\"enter rows:\"))  #reverse double hill\n",
        "for i in range(n-1,-1,-1):\n",
        "  print(\" \"*(n-i-1)+\"*\"*(1+2*i)+\"  \"*(n-i-1)+\"*\"*(1+2*i))"
      ],
      "metadata": {
        "colab": {
          "base_uri": "https://localhost:8080/"
        },
        "id": "eqSrn4gBVkF6",
        "outputId": "e4f01eb1-e9b2-4e05-9488-58790384983e"
      },
      "execution_count": null,
      "outputs": [
        {
          "output_type": "stream",
          "name": "stdout",
          "text": [
            "enter rows:5\n",
            "******************\n",
            " *******  *******\n",
            "  *****    *****\n",
            "   ***      ***\n",
            "    *        *\n"
          ]
        }
      ]
    },
    {
      "cell_type": "code",
      "source": [
        "n=int(input(\"enter rows:\")) #\n",
        "for i in range(0,n):\n",
        "  print(\"*\"*(1+i)+\" \"*(n-i-1)+\" \"*(n-i-1)+\"*\"*(1+i))\n"
      ],
      "metadata": {
        "colab": {
          "base_uri": "https://localhost:8080/"
        },
        "id": "0n_UHqqkauL0",
        "outputId": "f6c3d59a-d7ed-4637-98cf-839cf5ad0f1b"
      },
      "execution_count": null,
      "outputs": [
        {
          "output_type": "stream",
          "name": "stdout",
          "text": [
            "enter rows:5\n",
            "*        *\n",
            "**      **\n",
            "***    ***\n",
            "****  ****\n",
            "**********\n"
          ]
        }
      ]
    },
    {
      "cell_type": "code",
      "source": [
        "n=int(input(\"enter rows:\"))\n",
        "for i in range(n-1,-1,-1):\n",
        "  print(\"*\"*(1+i)+\" \"*(n-i-1)+\" \"*(n-i-1)+\"*\"*(1+i))\n",
        "for i in range(0,n):\n",
        "  print(\"*\"*(1+i)+\" \"*(n-i-1)+\" \"*(n-i-1)+\"*\"*(1+i))\n",
        "\n"
      ],
      "metadata": {
        "colab": {
          "base_uri": "https://localhost:8080/"
        },
        "id": "lsCzOcM-ccbv",
        "outputId": "e2ddf9f5-beda-44a0-bfeb-91a9b1936b5b"
      },
      "execution_count": null,
      "outputs": [
        {
          "output_type": "stream",
          "name": "stdout",
          "text": [
            "enter rows:5\n",
            "**********\n",
            "****  ****\n",
            "***    ***\n",
            "**      **\n",
            "*        *\n",
            "*        *\n",
            "**      **\n",
            "***    ***\n",
            "****  ****\n",
            "**********\n"
          ]
        }
      ]
    },
    {
      "cell_type": "code",
      "source": [
        "n=int(input(\"enter rows:\"))\n",
        "for i in range(0,n):\n",
        "  print(\"*\")\n",
        "for i in range(0,n):\n",
        "  print(\"*\",end=' ')"
      ],
      "metadata": {
        "colab": {
          "base_uri": "https://localhost:8080/"
        },
        "id": "XSlkTo1Jd2ik",
        "outputId": "d3bbc1c6-aaf8-4de8-c61c-c4f6b3a60cbd"
      },
      "execution_count": null,
      "outputs": [
        {
          "output_type": "stream",
          "name": "stdout",
          "text": [
            "enter rows:5\n",
            "*\n",
            "*\n",
            "*\n",
            "*\n",
            "*\n",
            "* * * * * "
          ]
        }
      ]
    },
    {
      "cell_type": "code",
      "source": [
        "n=int(input(\"enter rows:\"))\n",
        "for i in range(0,n):\n",
        "  print(\"*\",end=' ')\n",
        "for i in range(0,n):\n",
        "  print(\"*\")\n"
      ],
      "metadata": {
        "colab": {
          "base_uri": "https://localhost:8080/"
        },
        "id": "cjHUjBpYlLPE",
        "outputId": "cdba03e4-636b-4330-f3a0-abbf6a75779b"
      },
      "execution_count": null,
      "outputs": [
        {
          "output_type": "stream",
          "name": "stdout",
          "text": [
            "enter rows:5\n",
            "* * * * * *\n",
            "*\n",
            "*\n",
            "*\n",
            "*\n"
          ]
        }
      ]
    },
    {
      "cell_type": "code",
      "source": [
        "n=int(input(\"enter rows:\"))\n",
        "for i in range(0,n-1):\n",
        "  print(\"*\",end=' ')\n",
        "for i in range(0,n):\n",
        "  print(\"*\")\n",
        "for i in range(0,n):\n",
        "  print(\"*\",end=' ')\n",
        "\n"
      ],
      "metadata": {
        "colab": {
          "base_uri": "https://localhost:8080/"
        },
        "id": "B2fuNhScsN0l",
        "outputId": "251deb5a-9692-47aa-bdeb-3bc562e4981e"
      },
      "execution_count": null,
      "outputs": [
        {
          "output_type": "stream",
          "name": "stdout",
          "text": [
            "enter rows:5\n",
            "* * * * *\n",
            "*\n",
            "*\n",
            "*\n",
            "*\n",
            "* * * * * "
          ]
        }
      ]
    },
    {
      "cell_type": "code",
      "source": [
        "n=int(input(\"enter rows:\"))\n",
        "for i in range(0,n-1):\n",
        "  print(\"*\",end=' ')\n",
        "for i in range(0,n):\n",
        "  print(\"*\")\n",
        "for i in range(0,n-1):\n",
        "  print(\"*\",end=' ')\n",
        "for i in range(0,n):\n",
        "  print(\"*\")\n",
        "for i in range(0,n):\n",
        "  print(\"*\",end=' ')"
      ],
      "metadata": {
        "colab": {
          "base_uri": "https://localhost:8080/"
        },
        "id": "M3xUwpPTshdE",
        "outputId": "2b45760d-23ae-4391-89fc-87a89b93e64a"
      },
      "execution_count": null,
      "outputs": [
        {
          "output_type": "stream",
          "name": "stdout",
          "text": [
            "enter rows:5\n",
            "* * * * *\n",
            "*\n",
            "*\n",
            "*\n",
            "*\n",
            "* * * * *\n",
            "*\n",
            "*\n",
            "*\n",
            "*\n",
            "* * * * * "
          ]
        }
      ]
    },
    {
      "cell_type": "code",
      "source": [
        "n=int(input(\"enter rows:\"))\n",
        "for i in range(0,n):\n",
        "  print(\"*\",end=' ')\n",
        "for i in range(0,n):\n",
        "  print(\"*\")"
      ],
      "metadata": {
        "colab": {
          "base_uri": "https://localhost:8080/"
        },
        "id": "ZixgLthEtbsQ",
        "outputId": "c7dabafc-ff85-414d-e733-38fe626da4d5"
      },
      "execution_count": null,
      "outputs": [
        {
          "output_type": "stream",
          "name": "stdout",
          "text": [
            "enter rows:5\n",
            "* * * * * *\n",
            "*\n",
            "*\n",
            "*\n",
            "*\n"
          ]
        }
      ]
    },
    {
      "cell_type": "code",
      "source": [
        "n=int(input(\"enter rows:\"))\n",
        "for i in range(0,n-1):\n",
        "  print(\"*\",end=' ')\n",
        "for i in range(0,n):\n",
        "  print(\"*\")\n",
        "for i in range(0,n-1):\n",
        "  print(\"*\",end=' ')\n",
        "for i in range(0,n):\n",
        "  print(\"*\")\n"
      ],
      "metadata": {
        "colab": {
          "base_uri": "https://localhost:8080/"
        },
        "id": "NWkX9OCtwTvS",
        "outputId": "aa052cad-7841-4385-9f18-0ac5b5ffd4a1"
      },
      "execution_count": null,
      "outputs": [
        {
          "output_type": "stream",
          "name": "stdout",
          "text": [
            "enter rows:5\n",
            "* * * * *\n",
            "*\n",
            "*\n",
            "*\n",
            "*\n",
            "* * * * *\n",
            "*\n",
            "*\n",
            "*\n",
            "*\n"
          ]
        }
      ]
    },
    {
      "cell_type": "code",
      "source": [
        "n=int(input(\"enter rows:\"))\n",
        "for i in range(0,n):\n",
        "  print(\"*\",end=' ')\n",
        "#for i in range(0,1) :\n",
        "#  print(\" \")\n",
        "print()\n",
        "for i in range(0,n):\n",
        "  print(\"    \"+\"*\")\n"
      ],
      "metadata": {
        "colab": {
          "base_uri": "https://localhost:8080/"
        },
        "id": "g2U4xJ0iw3dS",
        "outputId": "e65e5a79-979a-42b8-f290-4b28d7e05fc5"
      },
      "execution_count": null,
      "outputs": [
        {
          "output_type": "stream",
          "name": "stdout",
          "text": [
            "enter rows:5\n",
            "* * * * * \n",
            "    *\n",
            "    *\n",
            "    *\n",
            "    *\n",
            "    *\n"
          ]
        }
      ]
    },
    {
      "cell_type": "code",
      "source": [
        "n=int(input(\"enter rows:\"))\n",
        "for i in range(0,n):\n",
        "  print(\"*\",end=' ')\n",
        "for i in range(0,n-1):\n",
        "  print(\"*\")\n",
        "for i in range(0,n):\n",
        "  print(\"*\",end=' ')\n",
        "for i in range(0,n+1):\n",
        "  print(\"*\")\n"
      ],
      "metadata": {
        "colab": {
          "base_uri": "https://localhost:8080/"
        },
        "id": "PGOCAaRQxEL8",
        "outputId": "0a8d10b0-6874-41e2-f423-a6fef18c23a8"
      },
      "execution_count": null,
      "outputs": [
        {
          "output_type": "stream",
          "name": "stdout",
          "text": [
            "enter rows:5\n",
            "* * * * * *\n",
            "*\n",
            "*\n",
            "*\n",
            "* * * * * *\n",
            "*\n",
            "*\n",
            "*\n",
            "*\n",
            "*\n"
          ]
        }
      ]
    },
    {
      "cell_type": "code",
      "source": [
        "print(\"    *\")\n",
        "print(\"   * *\")\n",
        "print(\"  *****\")\n",
        "print(\" *     *\")\n",
        "print(\"*       *\")\n",
        "print(\"*       *\")\n",
        "\n",
        "\n",
        "\n",
        "\n",
        "print(\"**********\")\n",
        "print(\"*\")\n",
        "print(\"*******\")\n",
        "print(\"*\")\n",
        "print(\"*\")\n",
        "print(\"*\")\n",
        "\n",
        "\n",
        "\n",
        "print(\"*     *\")\n",
        "print(\"* *   *\")\n",
        "print(\"*  *  *\")\n",
        "print(\"*   * *\")\n",
        "print(\"*    **\")\n",
        "print(\"*     * \")\n",
        "\n",
        "\n",
        "\n",
        "print(\"    *\")\n",
        "print(\"   * *\")\n",
        "print(\"  *****\")\n",
        "print(\" *     *\")\n",
        "print(\"*       *\")\n",
        "print(\"*       *\")\n",
        "\n",
        "\n",
        "\n",
        "print(\"*     *\")\n",
        "print(\"* *   *\")\n",
        "print(\"*  *  *\")\n",
        "print(\"*   * *\")\n",
        "print(\"*    **\")\n",
        "print(\"*     * \")"
      ],
      "metadata": {
        "colab": {
          "base_uri": "https://localhost:8080/"
        },
        "id": "eYMRojWs0tU3",
        "outputId": "a8e3567f-dd09-48a9-db51-8f709f33e5bc"
      },
      "execution_count": null,
      "outputs": [
        {
          "output_type": "stream",
          "name": "stdout",
          "text": [
            "    *\n",
            "   * *\n",
            "  *****\n",
            " *     *\n",
            "*       *\n",
            "*       *\n",
            "**********\n",
            "*\n",
            "*******\n",
            "*\n",
            "*\n",
            "*\n",
            "*     *\n",
            "* *   *\n",
            "*  *  *\n",
            "*   * *\n",
            "*    **\n",
            "*     * \n",
            "    *\n",
            "   * *\n",
            "  *****\n",
            " *     *\n",
            "*       *\n",
            "*       *\n",
            "*     *\n",
            "* *   *\n",
            "*  *  *\n",
            "*   * *\n",
            "*    **\n",
            "*     * \n"
          ]
        }
      ]
    },
    {
      "cell_type": "code",
      "source": [
        " def print_word_in_star_pattern(word):\n",
        "    alphabet_stars = {\n",
        "        'A': [\"  *  \", \" * * \", \"*****\", \"*   *\", \"*   *\"],\n",
        "        'B': [\"**** \", \"*   *\", \"**** \", \"*   *\", \"**** \"],\n",
        "        'C': [\" ****\", \"*    \", \"*    \", \"*    \", \" ****\"],\n",
        "        'D': [\"**** \", \"*   *\", \"*   *\", \"*   *\", \"**** \"],\n",
        "        'E': [\"*****\", \"*    \", \"*****\", \"*    \", \"*****\"],\n",
        "        'F': [\"*****\", \"*    \", \"*****\", \"*    \", \"*    \"],\n",
        "        'G': [\" ****\", \"*    \", \"*  **\", \"*   *\", \" ****\"],\n",
        "        'H': [\"*   *\", \"*   *\", \"*****\", \"*   *\", \"*   *\"],\n",
        "        'I': [\"*****\", \"  *  \", \"  *  \", \"  *  \", \"*****\"],\n",
        "        'J': [\"  ***\", \"    *\", \"    *\", \"*   *\", \" *** \"],\n",
        "        'K': [\"*   *\", \"*  * \", \"***  \", \"*  * \", \"*   *\"],\n",
        "        'L': [\"*    \", \"*    \", \"*    \", \"*    \", \"*****\"],\n",
        "        'M': [\"*   *\", \"** **\", \"* * *\", \"*   *\", \"*   *\"],\n",
        "        'N': [\"*   *\", \"**  *\", \"* * *\", \"*  **\", \"*   *\"],\n",
        "        'O': [\" *** \", \"*   *\", \"*   *\", \"*   *\", \" *** \"],\n",
        "        'P': [\"**** \", \"*   *\", \"**** \", \"*    \", \"*    \"],\n",
        "        'Q': [\" *** \", \"*   *\", \"*   *\", \"*  **\", \" ****\"],\n",
        "        'R': [\"**** \", \"*   *\", \"**** \", \"*  * \", \"*   *\"],\n",
        "        'S': [\" ****\", \"*    \", \" *** \", \"    *\", \"**** \"],\n",
        "        'T': [\"*****\", \"  *  \", \"  *  \", \"  *  \", \"  *  \"],\n",
        "        'U': [\"*   *\", \"*   *\", \"*   *\", \"*   *\", \" *** \"],\n",
        "        'V': [\"*   *\", \"*   *\", \" * * \", \" * * \", \"  *  \"],\n",
        "        'W': [\"*   *\", \"*   *\", \"* * *\", \"** **\", \"*   *\"],\n",
        "        'X': [\"*   *\", \" * * \", \"  *  \", \" * * \", \"*   *\"],\n",
        "        'Y': [\"*   *\", \" * * \", \"  *  \", \"  *  \", \"  *  \"],\n",
        "        'Z': [\"*****\", \"   * \", \"  *  \", \" *   \", \"*****\"],\n",
        "        ' ': [\"     \", \"     \", \"     \", \"     \", \"     \"],\n",
        "    }\n",
        "\n",
        "    for i in range(5):\n",
        "        for char in word.upper():\n",
        "            print(alphabet_stars[char][i], end=\" \")\n",
        "        print()\n",
        "name = \"\"\n",
        "print_word_in_star_pattern(\"PYTHON\")\n",
        "\n"
      ],
      "metadata": {
        "colab": {
          "base_uri": "https://localhost:8080/"
        },
        "id": "UiFHbzDk2Szo",
        "outputId": "79dd4519-33bf-4866-cc14-fcbbd0cd1823"
      },
      "execution_count": null,
      "outputs": [
        {
          "output_type": "stream",
          "name": "stdout",
          "text": [
            "****  *   * ***** *   *  ***  *   * \n",
            "*   *  * *    *   *   * *   * **  * \n",
            "****    *     *   ***** *   * * * * \n",
            "*       *     *   *   * *   * *  ** \n",
            "*       *     *   *   *  ***  *   * \n"
          ]
        }
      ]
    },
    {
      "cell_type": "code",
      "source": [
        "for i in range(0,5):\n",
        "  print(\" \"*(10-i)+\"*\"*1+\"  \"*i+\" *\"*1)\n",
        "for i in range(0,1):\n",
        "  print(\" \"*5+\"* \"*7)\n",
        "for i in range(0,5):\n",
        "  print(\" \"*(4-i)+\"*\"*1+\"  \"*(i+6)+\" *\"*1)"
      ],
      "metadata": {
        "colab": {
          "base_uri": "https://localhost:8080/"
        },
        "id": "XytH634bgr0H",
        "outputId": "6464d690-5695-4fec-cbc1-24a852fd44ea"
      },
      "execution_count": null,
      "outputs": [
        {
          "output_type": "stream",
          "name": "stdout",
          "text": [
            "          * *\n",
            "         *   *\n",
            "        *     *\n",
            "       *       *\n",
            "      *         *\n",
            "     * * * * * * * \n",
            "    *             *\n",
            "   *               *\n",
            "  *                 *\n",
            " *                   *\n",
            "*                     *\n"
          ]
        }
      ]
    },
    {
      "cell_type": "code",
      "source": [
        "for i in range(0,5):\n",
        "  print(\" \"*(10-i)+\"*\"*1+\"  \"*i+\" *\"*1)\n",
        "for i in range(0,5):\n",
        "  print(\" \"*(4-i)+\"*\"*1+\"  \"*(i+6)+\" *\"*1)"
      ],
      "metadata": {
        "colab": {
          "base_uri": "https://localhost:8080/"
        },
        "id": "1r1zU6UpNfML",
        "outputId": "3b36aa22-7b60-45b0-eb55-48da35fc56e0"
      },
      "execution_count": 20,
      "outputs": [
        {
          "output_type": "stream",
          "name": "stdout",
          "text": [
            "          * *\n",
            "         *   *\n",
            "        *     *\n",
            "       *       *\n",
            "      *         *\n",
            "    *             *\n",
            "   *               *\n",
            "  *                 *\n",
            " *                   *\n",
            "*                     *\n"
          ]
        }
      ]
    },
    {
      "cell_type": "code",
      "source": [],
      "metadata": {
        "id": "700g_yE9c9hr"
      },
      "execution_count": null,
      "outputs": []
    }
  ]
}